{
  "cells": [
    {
      "cell_type": "markdown",
      "id": "db34594a",
      "metadata": {
        "id": "db34594a"
      },
      "source": [
        "# **Manipulador robótico con 3 grados de libertad**"
      ]
    },
    {
      "cell_type": "markdown",
      "id": "88430ca1",
      "metadata": {
        "id": "88430ca1"
      },
      "source": [
        "## Taller\n",
        "\n",
        "Suponga un manipulador robotico con 3 grados de libertad. El brazo mide 40cm y el ante brazo mide 50cm. Los angulos de rotación no tienen restricciones. Suponga que la muñeca puede agarrar cualquier objeto que se encuentre a menos de 5cm de ella.\n",
        "\n",
        "* Determine al menos 2 configuraciones de theta1, theta2 y theta3 que permitan alcanzar un objeto en la posición x=45, y=36, z=22. Utilice fuerza bruta para ello o cualquier estrategia objetiva para conseguirlo.\n",
        "\n",
        "## Calificación\n",
        "\n",
        "Los tres grupos con el mejor avance antes de finalizar la clase tendrá puntos extras en la calificación del corte, así:\n",
        "\n",
        "* Mejor avance --> 0.3\n",
        "* Segundo mejor avance --> 0.2\n",
        "* Tercer mejor avance --> 0.1"
      ]
    },
    {
      "cell_type": "markdown",
      "source": [
        "##Suponga un manipulador robotico con 3 grados de libertad. El brazo mide 40cm y el ante brazo mide 50cm. Los angulos de rotación no tienen restricciones. Suponga que la muñeca puede agarrar cualquier objeto que se encuentre a menos de 5cm de ella.\n",
        "\n",
        "Determine al menos 2 configuraciones de theta1, theta2 y theta3 que permitan alcanzar un objeto en la posición x=45, y=36, z=22. Utilice fuerza bruta para ello o cualquier estrategia objetiva para conseguirlo."
      ],
      "metadata": {
        "id": "XboUXAhC7WNm"
      },
      "id": "XboUXAhC7WNm"
    },
    {
      "cell_type": "markdown",
      "source": [
        "Rotación de la base (articulación 1) un angulo theta zobre el eje z\n",
        "\n"
      ],
      "metadata": {
        "id": "y11xlBdoJ1ni"
      },
      "id": "y11xlBdoJ1ni"
    },
    {
      "cell_type": "code",
      "source": [
        "%%time\n",
        "import numpy as np\n",
        "from sympy import *"
      ],
      "metadata": {
        "id": "fJtaMINEZuAE",
        "colab": {
          "base_uri": "https://localhost:8080/"
        },
        "outputId": "f1b77063-b5c6-4e93-9257-952f7bbf653c"
      },
      "id": "fJtaMINEZuAE",
      "execution_count": 15,
      "outputs": [
        {
          "output_type": "stream",
          "name": "stdout",
          "text": [
            "CPU times: user 2.55 ms, sys: 3 µs, total: 2.55 ms\n",
            "Wall time: 2.89 ms\n"
          ]
        }
      ]
    },
    {
      "cell_type": "code",
      "source": [
        "## Variables Simbolicas\n",
        "theta_1 = symbols(\"theta_1\",  real=True)\n",
        "theta_2 = symbols(\"theta_2\",  real=True)\n",
        "theta_3 = symbols(\"theta_3\",  real=True)\n",
        "\n",
        "alpha = symbols(\"alpha\",  real=True)\n",
        "\n",
        "l_1 = symbols(\"l_1\",  real=True)\n",
        "l_2 = symbols(\"l_2\",  real=True)\n",
        "l_3 = symbols(\"l_3\",  real=True)\n",
        "\n",
        "#define posicon\n",
        "x_target = 45\n",
        "y_target = 36\n",
        "z_target = 22\n",
        "\n",
        "# definicon de centimetros\n",
        "tolerance = 5\n"
      ],
      "metadata": {
        "id": "0m7x3LaEe5VF"
      },
      "id": "0m7x3LaEe5VF",
      "execution_count": 16,
      "outputs": []
    },
    {
      "cell_type": "code",
      "source": [
        "_0H1 = Matrix([[cos(theta_1), -sin(theta_1), 0, 0], [sin(theta_1), cos(theta_1), 0, 0], [0, 0, 1, 0], [0, 0, 0, 1]])\n",
        "_0H1"
      ],
      "metadata": {
        "id": "jTH0xSt37ehW",
        "colab": {
          "base_uri": "https://localhost:8080/",
          "height": 98
        },
        "outputId": "b3d7d576-3bad-4ca4-9f0c-bc05355a3676"
      },
      "id": "jTH0xSt37ehW",
      "execution_count": 17,
      "outputs": [
        {
          "output_type": "execute_result",
          "data": {
            "text/plain": [
              "Matrix([\n",
              "[cos(theta_1), -sin(theta_1), 0, 0],\n",
              "[sin(theta_1),  cos(theta_1), 0, 0],\n",
              "[           0,             0, 1, 0],\n",
              "[           0,             0, 0, 1]])"
            ],
            "text/latex": "$\\displaystyle \\left[\\begin{matrix}\\cos{\\left(\\theta_{1} \\right)} & - \\sin{\\left(\\theta_{1} \\right)} & 0 & 0\\\\\\sin{\\left(\\theta_{1} \\right)} & \\cos{\\left(\\theta_{1} \\right)} & 0 & 0\\\\0 & 0 & 1 & 0\\\\0 & 0 & 0 & 1\\end{matrix}\\right]$"
          },
          "metadata": {},
          "execution_count": 17
        }
      ]
    },
    {
      "cell_type": "markdown",
      "source": [
        "Translación l_1 sobre el eje z desde la base hasta la articulación 2"
      ],
      "metadata": {
        "id": "ednT6Fz7J7zL"
      },
      "id": "ednT6Fz7J7zL"
    },
    {
      "cell_type": "code",
      "source": [
        "_1H2 = Matrix([[1, 0, 0, 0], [0, 1, 0, 0], [0, 0, 1, l_1], [0, 0, 0, 1]])\n",
        "_1H2\n"
      ],
      "metadata": {
        "id": "bxEbbdghJ0CK",
        "colab": {
          "base_uri": "https://localhost:8080/",
          "height": 98
        },
        "outputId": "17a7d3ae-5dc5-4ff3-fb76-4074afe50b00"
      },
      "id": "bxEbbdghJ0CK",
      "execution_count": 18,
      "outputs": [
        {
          "output_type": "execute_result",
          "data": {
            "text/plain": [
              "Matrix([\n",
              "[1, 0, 0,   0],\n",
              "[0, 1, 0,   0],\n",
              "[0, 0, 1, l_1],\n",
              "[0, 0, 0,   1]])"
            ],
            "text/latex": "$\\displaystyle \\left[\\begin{matrix}1 & 0 & 0 & 0\\\\0 & 1 & 0 & 0\\\\0 & 0 & 1 & l_{1}\\\\0 & 0 & 0 & 1\\end{matrix}\\right]$"
          },
          "metadata": {},
          "execution_count": 18
        }
      ]
    },
    {
      "cell_type": "markdown",
      "source": [
        "Rotación del sistema de referencia (40 grados sobre el eje X)"
      ],
      "metadata": {
        "id": "GnThV0hxKCeW"
      },
      "id": "GnThV0hxKCeW"
    },
    {
      "cell_type": "code",
      "source": [
        "_2H3 = Matrix([[1, 0, 0, 0], [0, cos(alpha), -sin(alpha), 0], [0, sin(alpha), cos(alpha), 0], [0, 0, 0, 1]])\n",
        "_2H3"
      ],
      "metadata": {
        "id": "qsR_Pa5KJz7T",
        "colab": {
          "base_uri": "https://localhost:8080/",
          "height": 98
        },
        "outputId": "3b148199-5f1a-4dde-fdb2-5a93f340001e"
      },
      "id": "qsR_Pa5KJz7T",
      "execution_count": 19,
      "outputs": [
        {
          "output_type": "execute_result",
          "data": {
            "text/plain": [
              "Matrix([\n",
              "[1,          0,           0, 0],\n",
              "[0, cos(alpha), -sin(alpha), 0],\n",
              "[0, sin(alpha),  cos(alpha), 0],\n",
              "[0,          0,           0, 1]])"
            ],
            "text/latex": "$\\displaystyle \\left[\\begin{matrix}1 & 0 & 0 & 0\\\\0 & \\cos{\\left(\\alpha \\right)} & - \\sin{\\left(\\alpha \\right)} & 0\\\\0 & \\sin{\\left(\\alpha \\right)} & \\cos{\\left(\\alpha \\right)} & 0\\\\0 & 0 & 0 & 1\\end{matrix}\\right]$"
          },
          "metadata": {},
          "execution_count": 19
        }
      ]
    },
    {
      "cell_type": "code",
      "source": [
        "_2H3 = _2H3.subs(alpha, pi/4)\n",
        "_2H3"
      ],
      "metadata": {
        "id": "gCzZ5wIzKGzy",
        "colab": {
          "base_uri": "https://localhost:8080/",
          "height": 105
        },
        "outputId": "0e8ce848-3a6e-4226-9f41-bb48c023d0b4"
      },
      "id": "gCzZ5wIzKGzy",
      "execution_count": 20,
      "outputs": [
        {
          "output_type": "execute_result",
          "data": {
            "text/plain": [
              "Matrix([\n",
              "[1,         0,          0, 0],\n",
              "[0, sqrt(2)/2, -sqrt(2)/2, 0],\n",
              "[0, sqrt(2)/2,  sqrt(2)/2, 0],\n",
              "[0,         0,          0, 1]])"
            ],
            "text/latex": "$\\displaystyle \\left[\\begin{matrix}1 & 0 & 0 & 0\\\\0 & \\frac{\\sqrt{2}}{2} & - \\frac{\\sqrt{2}}{2} & 0\\\\0 & \\frac{\\sqrt{2}}{2} & \\frac{\\sqrt{2}}{2} & 0\\\\0 & 0 & 0 & 1\\end{matrix}\\right]$"
          },
          "metadata": {},
          "execution_count": 20
        }
      ]
    },
    {
      "cell_type": "markdown",
      "source": [
        "Rotación theta_2 sobre el nuevo eje Z en la articulación 2"
      ],
      "metadata": {
        "id": "IEFqjqyxKC4T"
      },
      "id": "IEFqjqyxKC4T"
    },
    {
      "cell_type": "code",
      "source": [
        "_3H4 = Matrix([[cos(theta_2), -sin(theta_2), 0, 0], [sin(theta_2), cos(theta_2), 0, 0], [0, 0, 1, 0], [0, 0, 0, 1]])\n",
        "_3H4\n"
      ],
      "metadata": {
        "id": "Jh-GqOonJz1r",
        "colab": {
          "base_uri": "https://localhost:8080/",
          "height": 98
        },
        "outputId": "2ea004e1-3f7f-48f6-d334-8991ae76374d"
      },
      "id": "Jh-GqOonJz1r",
      "execution_count": 21,
      "outputs": [
        {
          "output_type": "execute_result",
          "data": {
            "text/plain": [
              "Matrix([\n",
              "[cos(theta_2), -sin(theta_2), 0, 0],\n",
              "[sin(theta_2),  cos(theta_2), 0, 0],\n",
              "[           0,             0, 1, 0],\n",
              "[           0,             0, 0, 1]])"
            ],
            "text/latex": "$\\displaystyle \\left[\\begin{matrix}\\cos{\\left(\\theta_{2} \\right)} & - \\sin{\\left(\\theta_{2} \\right)} & 0 & 0\\\\\\sin{\\left(\\theta_{2} \\right)} & \\cos{\\left(\\theta_{2} \\right)} & 0 & 0\\\\0 & 0 & 1 & 0\\\\0 & 0 & 0 & 1\\end{matrix}\\right]$"
          },
          "metadata": {},
          "execution_count": 21
        }
      ]
    },
    {
      "cell_type": "markdown",
      "source": [
        "Translación l_2 sobre el nuevo eje X desde la articulación 2 hasta la articulación 3"
      ],
      "metadata": {
        "id": "b-vk5k1TKVuK"
      },
      "id": "b-vk5k1TKVuK"
    },
    {
      "cell_type": "code",
      "source": [
        "_4H5 = Matrix([[1, 0, 0, l_2], [0, 1, 0, 0], [0, 0, 1, 0], [0, 0, 0, 1]])\n",
        "_4H5\n"
      ],
      "metadata": {
        "id": "HzDA139rKWKS",
        "colab": {
          "base_uri": "https://localhost:8080/",
          "height": 98
        },
        "outputId": "1dd60754-7b25-4065-9470-d15c1cd1fa8d"
      },
      "id": "HzDA139rKWKS",
      "execution_count": 22,
      "outputs": [
        {
          "output_type": "execute_result",
          "data": {
            "text/plain": [
              "Matrix([\n",
              "[1, 0, 0, l_2],\n",
              "[0, 1, 0,   0],\n",
              "[0, 0, 1,   0],\n",
              "[0, 0, 0,   1]])"
            ],
            "text/latex": "$\\displaystyle \\left[\\begin{matrix}1 & 0 & 0 & l_{2}\\\\0 & 1 & 0 & 0\\\\0 & 0 & 1 & 0\\\\0 & 0 & 0 & 1\\end{matrix}\\right]$"
          },
          "metadata": {},
          "execution_count": 22
        }
      ]
    },
    {
      "cell_type": "markdown",
      "source": [
        "Rotación theta_3 sobre el nuevo eje Z para la articulación 3"
      ],
      "metadata": {
        "id": "2YHaRqIONLgz"
      },
      "id": "2YHaRqIONLgz"
    },
    {
      "cell_type": "code",
      "source": [
        "_5H6 = Matrix([[cos(theta_3), -sin(theta_3), 0, 0], [sin(theta_3), cos(theta_3), 0, 0], [0, 0, 1, 0], [0, 0, 0, 1]])\n",
        "_5H6\n"
      ],
      "metadata": {
        "id": "li52MTHyNLWM",
        "colab": {
          "base_uri": "https://localhost:8080/",
          "height": 98
        },
        "outputId": "fa3dd1a5-ec55-4fdd-90be-a7df285e301b"
      },
      "id": "li52MTHyNLWM",
      "execution_count": 23,
      "outputs": [
        {
          "output_type": "execute_result",
          "data": {
            "text/plain": [
              "Matrix([\n",
              "[cos(theta_3), -sin(theta_3), 0, 0],\n",
              "[sin(theta_3),  cos(theta_3), 0, 0],\n",
              "[           0,             0, 1, 0],\n",
              "[           0,             0, 0, 1]])"
            ],
            "text/latex": "$\\displaystyle \\left[\\begin{matrix}\\cos{\\left(\\theta_{3} \\right)} & - \\sin{\\left(\\theta_{3} \\right)} & 0 & 0\\\\\\sin{\\left(\\theta_{3} \\right)} & \\cos{\\left(\\theta_{3} \\right)} & 0 & 0\\\\0 & 0 & 1 & 0\\\\0 & 0 & 0 & 1\\end{matrix}\\right]$"
          },
          "metadata": {},
          "execution_count": 23
        }
      ]
    },
    {
      "cell_type": "markdown",
      "source": [
        "Traslación l_3 desde la articulación 3 hasta el efector final (muñeca)"
      ],
      "metadata": {
        "id": "UJQFxW6dNR5s"
      },
      "id": "UJQFxW6dNR5s"
    },
    {
      "cell_type": "code",
      "source": [
        "_6H7 = Matrix([[1, 0, 0, l_3], [0, 1, 0, 0], [0, 0, 1, 0], [0, 0, 0, 1]])\n",
        "_6H7"
      ],
      "metadata": {
        "id": "9bX7qNsgNLRq",
        "colab": {
          "base_uri": "https://localhost:8080/",
          "height": 98
        },
        "outputId": "2bcd774d-f5f5-4ab3-a8be-df5be5d7cb59"
      },
      "id": "9bX7qNsgNLRq",
      "execution_count": 24,
      "outputs": [
        {
          "output_type": "execute_result",
          "data": {
            "text/plain": [
              "Matrix([\n",
              "[1, 0, 0, l_3],\n",
              "[0, 1, 0,   0],\n",
              "[0, 0, 1,   0],\n",
              "[0, 0, 0,   1]])"
            ],
            "text/latex": "$\\displaystyle \\left[\\begin{matrix}1 & 0 & 0 & l_{3}\\\\0 & 1 & 0 & 0\\\\0 & 0 & 1 & 0\\\\0 & 0 & 0 & 1\\end{matrix}\\right]$"
          },
          "metadata": {},
          "execution_count": 24
        }
      ]
    },
    {
      "cell_type": "markdown",
      "source": [
        "Para encontrar la posición y la orientación del sistema de referencia W3 respecto a W0 se puede realizar la composición de las transformaciones de cada estado, así:"
      ],
      "metadata": {
        "id": "ceUiLYHIOhUk"
      },
      "id": "ceUiLYHIOhUk"
    },
    {
      "cell_type": "code",
      "source": [
        "H = simplify(_0H1@_1H2@_2H3@_3H4@_4H5@_5H6@_6H7)\n",
        "H"
      ],
      "metadata": {
        "id": "o54Z14ISNLHD",
        "colab": {
          "base_uri": "https://localhost:8080/",
          "height": 113
        },
        "outputId": "7db3ff1f-f4dd-4a37-cc87-317ba54c5baf"
      },
      "id": "o54Z14ISNLHD",
      "execution_count": 25,
      "outputs": [
        {
          "output_type": "execute_result",
          "data": {
            "text/plain": [
              "Matrix([\n",
              "[-sqrt(2)*sin(theta_1)*sin(theta_2 + theta_3)/2 + cos(theta_1)*cos(theta_2 + theta_3), -sqrt(2)*sin(theta_1)*cos(theta_2 + theta_3)/2 - sin(theta_2 + theta_3)*cos(theta_1),  sqrt(2)*sin(theta_1)/2, -sqrt(2)*l_2*sin(theta_1)*sin(theta_2)/2 + l_2*cos(theta_1)*cos(theta_2) - sqrt(2)*l_3*sin(theta_1)*sin(theta_2 + theta_3)/2 + l_3*cos(theta_1)*cos(theta_2 + theta_3)],\n",
              "[ sin(theta_1)*cos(theta_2 + theta_3) + sqrt(2)*sin(theta_2 + theta_3)*cos(theta_1)/2, -sin(theta_1)*sin(theta_2 + theta_3) + sqrt(2)*cos(theta_1)*cos(theta_2 + theta_3)/2, -sqrt(2)*cos(theta_1)/2,  l_2*sin(theta_1)*cos(theta_2) + sqrt(2)*l_2*sin(theta_2)*cos(theta_1)/2 + l_3*sin(theta_1)*cos(theta_2 + theta_3) + sqrt(2)*l_3*sin(theta_2 + theta_3)*cos(theta_1)/2],\n",
              "[                                                    sqrt(2)*sin(theta_2 + theta_3)/2,                                                     sqrt(2)*cos(theta_2 + theta_3)/2,               sqrt(2)/2,                                                                                                l_1 + sqrt(2)*l_2*sin(theta_2)/2 + sqrt(2)*l_3*sin(theta_2 + theta_3)/2],\n",
              "[                                                                                   0,                                                                                    0,                       0,                                                                                                                                                                      1]])"
            ],
            "text/latex": "$\\displaystyle \\left[\\begin{matrix}- \\frac{\\sqrt{2} \\sin{\\left(\\theta_{1} \\right)} \\sin{\\left(\\theta_{2} + \\theta_{3} \\right)}}{2} + \\cos{\\left(\\theta_{1} \\right)} \\cos{\\left(\\theta_{2} + \\theta_{3} \\right)} & - \\frac{\\sqrt{2} \\sin{\\left(\\theta_{1} \\right)} \\cos{\\left(\\theta_{2} + \\theta_{3} \\right)}}{2} - \\sin{\\left(\\theta_{2} + \\theta_{3} \\right)} \\cos{\\left(\\theta_{1} \\right)} & \\frac{\\sqrt{2} \\sin{\\left(\\theta_{1} \\right)}}{2} & - \\frac{\\sqrt{2} l_{2} \\sin{\\left(\\theta_{1} \\right)} \\sin{\\left(\\theta_{2} \\right)}}{2} + l_{2} \\cos{\\left(\\theta_{1} \\right)} \\cos{\\left(\\theta_{2} \\right)} - \\frac{\\sqrt{2} l_{3} \\sin{\\left(\\theta_{1} \\right)} \\sin{\\left(\\theta_{2} + \\theta_{3} \\right)}}{2} + l_{3} \\cos{\\left(\\theta_{1} \\right)} \\cos{\\left(\\theta_{2} + \\theta_{3} \\right)}\\\\\\sin{\\left(\\theta_{1} \\right)} \\cos{\\left(\\theta_{2} + \\theta_{3} \\right)} + \\frac{\\sqrt{2} \\sin{\\left(\\theta_{2} + \\theta_{3} \\right)} \\cos{\\left(\\theta_{1} \\right)}}{2} & - \\sin{\\left(\\theta_{1} \\right)} \\sin{\\left(\\theta_{2} + \\theta_{3} \\right)} + \\frac{\\sqrt{2} \\cos{\\left(\\theta_{1} \\right)} \\cos{\\left(\\theta_{2} + \\theta_{3} \\right)}}{2} & - \\frac{\\sqrt{2} \\cos{\\left(\\theta_{1} \\right)}}{2} & l_{2} \\sin{\\left(\\theta_{1} \\right)} \\cos{\\left(\\theta_{2} \\right)} + \\frac{\\sqrt{2} l_{2} \\sin{\\left(\\theta_{2} \\right)} \\cos{\\left(\\theta_{1} \\right)}}{2} + l_{3} \\sin{\\left(\\theta_{1} \\right)} \\cos{\\left(\\theta_{2} + \\theta_{3} \\right)} + \\frac{\\sqrt{2} l_{3} \\sin{\\left(\\theta_{2} + \\theta_{3} \\right)} \\cos{\\left(\\theta_{1} \\right)}}{2}\\\\\\frac{\\sqrt{2} \\sin{\\left(\\theta_{2} + \\theta_{3} \\right)}}{2} & \\frac{\\sqrt{2} \\cos{\\left(\\theta_{2} + \\theta_{3} \\right)}}{2} & \\frac{\\sqrt{2}}{2} & l_{1} + \\frac{\\sqrt{2} l_{2} \\sin{\\left(\\theta_{2} \\right)}}{2} + \\frac{\\sqrt{2} l_{3} \\sin{\\left(\\theta_{2} + \\theta_{3} \\right)}}{2}\\\\0 & 0 & 0 & 1\\end{matrix}\\right]$"
          },
          "metadata": {},
          "execution_count": 25
        }
      ]
    },
    {
      "cell_type": "markdown",
      "source": [
        "Esta será la posición final de la muñeca en función de theta1, theta2, theta3, l1, l2 y l3"
      ],
      "metadata": {
        "id": "L9K8B9rmOtsM"
      },
      "id": "L9K8B9rmOtsM"
    },
    {
      "cell_type": "code",
      "source": [
        "P = H[0:3, 3]\n",
        "P"
      ],
      "metadata": {
        "id": "amjgCEiAOxWk",
        "colab": {
          "base_uri": "https://localhost:8080/",
          "height": 92
        },
        "outputId": "fd13c0a0-ee06-4d9b-de94-59a1f7a9e1c1"
      },
      "id": "amjgCEiAOxWk",
      "execution_count": 26,
      "outputs": [
        {
          "output_type": "execute_result",
          "data": {
            "text/plain": [
              "Matrix([\n",
              "[-sqrt(2)*l_2*sin(theta_1)*sin(theta_2)/2 + l_2*cos(theta_1)*cos(theta_2) - sqrt(2)*l_3*sin(theta_1)*sin(theta_2 + theta_3)/2 + l_3*cos(theta_1)*cos(theta_2 + theta_3)],\n",
              "[ l_2*sin(theta_1)*cos(theta_2) + sqrt(2)*l_2*sin(theta_2)*cos(theta_1)/2 + l_3*sin(theta_1)*cos(theta_2 + theta_3) + sqrt(2)*l_3*sin(theta_2 + theta_3)*cos(theta_1)/2],\n",
              "[                                                                                               l_1 + sqrt(2)*l_2*sin(theta_2)/2 + sqrt(2)*l_3*sin(theta_2 + theta_3)/2]])"
            ],
            "text/latex": "$\\displaystyle \\left[\\begin{matrix}- \\frac{\\sqrt{2} l_{2} \\sin{\\left(\\theta_{1} \\right)} \\sin{\\left(\\theta_{2} \\right)}}{2} + l_{2} \\cos{\\left(\\theta_{1} \\right)} \\cos{\\left(\\theta_{2} \\right)} - \\frac{\\sqrt{2} l_{3} \\sin{\\left(\\theta_{1} \\right)} \\sin{\\left(\\theta_{2} + \\theta_{3} \\right)}}{2} + l_{3} \\cos{\\left(\\theta_{1} \\right)} \\cos{\\left(\\theta_{2} + \\theta_{3} \\right)}\\\\l_{2} \\sin{\\left(\\theta_{1} \\right)} \\cos{\\left(\\theta_{2} \\right)} + \\frac{\\sqrt{2} l_{2} \\sin{\\left(\\theta_{2} \\right)} \\cos{\\left(\\theta_{1} \\right)}}{2} + l_{3} \\sin{\\left(\\theta_{1} \\right)} \\cos{\\left(\\theta_{2} + \\theta_{3} \\right)} + \\frac{\\sqrt{2} l_{3} \\sin{\\left(\\theta_{2} + \\theta_{3} \\right)} \\cos{\\left(\\theta_{1} \\right)}}{2}\\\\l_{1} + \\frac{\\sqrt{2} l_{2} \\sin{\\left(\\theta_{2} \\right)}}{2} + \\frac{\\sqrt{2} l_{3} \\sin{\\left(\\theta_{2} + \\theta_{3} \\right)}}{2}\\end{matrix}\\right]$"
          },
          "metadata": {},
          "execution_count": 26
        }
      ]
    },
    {
      "cell_type": "markdown",
      "source": [
        "Y esta será la orientación final de la muñeca en función theta1, theta2, theta3, l1, l2 y l3"
      ],
      "metadata": {
        "id": "ig9XV-npPXqr"
      },
      "id": "ig9XV-npPXqr"
    },
    {
      "cell_type": "code",
      "source": [
        "R = H[0:3, 0:3]\n",
        "R"
      ],
      "metadata": {
        "id": "HLRnUSq_PX9T",
        "colab": {
          "base_uri": "https://localhost:8080/",
          "height": 92
        },
        "outputId": "96f4a309-3b60-4ff8-d889-ce0b5311d78c"
      },
      "id": "HLRnUSq_PX9T",
      "execution_count": 27,
      "outputs": [
        {
          "output_type": "execute_result",
          "data": {
            "text/plain": [
              "Matrix([\n",
              "[-sqrt(2)*sin(theta_1)*sin(theta_2 + theta_3)/2 + cos(theta_1)*cos(theta_2 + theta_3), -sqrt(2)*sin(theta_1)*cos(theta_2 + theta_3)/2 - sin(theta_2 + theta_3)*cos(theta_1),  sqrt(2)*sin(theta_1)/2],\n",
              "[ sin(theta_1)*cos(theta_2 + theta_3) + sqrt(2)*sin(theta_2 + theta_3)*cos(theta_1)/2, -sin(theta_1)*sin(theta_2 + theta_3) + sqrt(2)*cos(theta_1)*cos(theta_2 + theta_3)/2, -sqrt(2)*cos(theta_1)/2],\n",
              "[                                                    sqrt(2)*sin(theta_2 + theta_3)/2,                                                     sqrt(2)*cos(theta_2 + theta_3)/2,               sqrt(2)/2]])"
            ],
            "text/latex": "$\\displaystyle \\left[\\begin{matrix}- \\frac{\\sqrt{2} \\sin{\\left(\\theta_{1} \\right)} \\sin{\\left(\\theta_{2} + \\theta_{3} \\right)}}{2} + \\cos{\\left(\\theta_{1} \\right)} \\cos{\\left(\\theta_{2} + \\theta_{3} \\right)} & - \\frac{\\sqrt{2} \\sin{\\left(\\theta_{1} \\right)} \\cos{\\left(\\theta_{2} + \\theta_{3} \\right)}}{2} - \\sin{\\left(\\theta_{2} + \\theta_{3} \\right)} \\cos{\\left(\\theta_{1} \\right)} & \\frac{\\sqrt{2} \\sin{\\left(\\theta_{1} \\right)}}{2}\\\\\\sin{\\left(\\theta_{1} \\right)} \\cos{\\left(\\theta_{2} + \\theta_{3} \\right)} + \\frac{\\sqrt{2} \\sin{\\left(\\theta_{2} + \\theta_{3} \\right)} \\cos{\\left(\\theta_{1} \\right)}}{2} & - \\sin{\\left(\\theta_{1} \\right)} \\sin{\\left(\\theta_{2} + \\theta_{3} \\right)} + \\frac{\\sqrt{2} \\cos{\\left(\\theta_{1} \\right)} \\cos{\\left(\\theta_{2} + \\theta_{3} \\right)}}{2} & - \\frac{\\sqrt{2} \\cos{\\left(\\theta_{1} \\right)}}{2}\\\\\\frac{\\sqrt{2} \\sin{\\left(\\theta_{2} + \\theta_{3} \\right)}}{2} & \\frac{\\sqrt{2} \\cos{\\left(\\theta_{2} + \\theta_{3} \\right)}}{2} & \\frac{\\sqrt{2}}{2}\\end{matrix}\\right]$"
          },
          "metadata": {},
          "execution_count": 27
        }
      ]
    },
    {
      "cell_type": "markdown",
      "source": [
        "fuerza bruta"
      ],
      "metadata": {
        "id": "WjK_QJj2PdJk"
      },
      "id": "WjK_QJj2PdJk"
    },
    {
      "cell_type": "code",
      "source": [
        "\n",
        "# rango de theta\n",
        "theta1_range = np.arange(0, 2 * np.pi, 0.1)\n",
        "theta2_range = np.arange(0, 2 * np.pi, 0.1)\n",
        "theta3_range = np.arange(0, 2 * np.pi, 0.1)\n",
        "\n",
        "# iniciacion de validacion\n",
        "valid_configurations = []\n",
        "\n",
        "# posibles combinaciones\n",
        "for theta1_val in theta1_range:\n",
        "    for theta2_val in theta2_range:\n",
        "        for theta3_val in theta3_range:\n",
        "            # susticon de angulos\n",
        "            P_val = P.subs({l_1: 45, l_2: 36, l_3: 22, theta_1: theta1_val, theta_2: theta2_val, theta_3: theta3_val})\n",
        "\n",
        "            #extrae el valor  x y z\n",
        "            x_val = P_val[0]\n",
        "            y_val = P_val[1]\n",
        "            z_val = P_val[2]\n",
        "\n",
        "            #calcular la posicion\n",
        "            if (abs(x_val - x_target) <= tolerance and\n",
        "                abs(y_val - y_target) <= tolerance and\n",
        "                abs(z_val - z_target) <= tolerance):\n",
        "\n",
        "                # lista de configuracion\n",
        "                valid_configurations.append((theta1_val, theta2_val, theta3_val))\n",
        "\n",
        "                print(f\"Valid configuration found:\\ntheta1: {theta1_val:.2f}, theta2: {theta2_val:.2f}, theta3: {theta3_val:.2f}\")\n",
        "                print(f\"Position (x, y, z): ({x_val:.2f}, {y_val:.2f}, {z_val:.2f})\")\n",
        "\n",
        "                # limte\n",
        "                if len(valid_configurations) >= 2:\n",
        "                    break  # Exit the inner loop\n",
        "        if len(valid_configurations) >= 2:\n",
        "            break  # salida\n",
        "    if len(valid_configurations) >= 2:\n",
        "        break #Exit outer loop\n",
        "\n",
        "\n",
        "print(\"\\nValid Configurations (theta1, theta2, theta3):\")\n",
        "for config in valid_configurations:\n",
        "    print(config)\n"
      ],
      "metadata": {
        "id": "NvkdpZ6tPcvD",
        "colab": {
          "base_uri": "https://localhost:8080/"
        },
        "outputId": "9765d394-0f67-457b-e34c-45fd1fc3776e"
      },
      "id": "NvkdpZ6tPcvD",
      "execution_count": 28,
      "outputs": [
        {
          "output_type": "stream",
          "name": "stdout",
          "text": [
            "Valid configuration found:\n",
            "theta1: 1.00, theta2: 5.60, theta3: 0.50\n",
            "Position (x, y, z): (42.68, 31.48, 26.10)\n",
            "Valid configuration found:\n",
            "theta1: 1.00, theta2: 5.70, theta3: 0.20\n",
            "Position (x, y, z): (43.95, 31.74, 25.17)\n",
            "\n",
            "Valid Configurations (theta1, theta2, theta3):\n",
            "(np.float64(1.0), np.float64(5.6000000000000005), np.float64(0.5))\n",
            "(np.float64(1.0), np.float64(5.7), np.float64(0.2))\n"
          ]
        }
      ]
    }
  ],
  "metadata": {
    "colab": {
      "provenance": []
    },
    "kernelspec": {
      "display_name": "Python 3",
      "name": "python3"
    },
    "language_info": {
      "codemirror_mode": {
        "name": "ipython",
        "version": 3
      },
      "file_extension": ".py",
      "mimetype": "text/x-python",
      "name": "python",
      "nbconvert_exporter": "python",
      "pygments_lexer": "ipython3",
      "version": "3.10.12"
    }
  },
  "nbformat": 4,
  "nbformat_minor": 5
}