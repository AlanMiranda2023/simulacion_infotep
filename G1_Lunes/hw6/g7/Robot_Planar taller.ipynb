{
  "cells": [
    {
      "cell_type": "markdown",
      "id": "2f6be8c8",
      "metadata": {
        "id": "2f6be8c8"
      },
      "source": [
        "# **Cinemática de un robot planar**\n",
        "\n",
        "**Docente:** PhD Jorge Rudas\n",
        "\n",
        "**Diseño de prototipos - 2025 I**\n",
        "\n",
        "**INFOTEP**"
      ]
    },
    {
      "cell_type": "markdown",
      "id": "f6913b83",
      "metadata": {
        "id": "f6913b83"
      },
      "source": [
        "## Importar librerias"
      ]
    },
    {
      "cell_type": "code",
      "execution_count": 1,
      "id": "82ae37d8",
      "metadata": {
        "id": "82ae37d8"
      },
      "outputs": [],
      "source": [
        "import numpy as np\n",
        "from sympy import*\n",
        "init_printing()"
      ]
    },
    {
      "cell_type": "markdown",
      "id": "9c4c1f12",
      "metadata": {
        "id": "9c4c1f12"
      },
      "source": [
        "## Se crean variables simbólicas"
      ]
    },
    {
      "cell_type": "code",
      "execution_count": 2,
      "id": "0d328921",
      "metadata": {
        "id": "0d328921"
      },
      "outputs": [],
      "source": [
        "## Variables Simbolicas\n",
        "theta_1 = symbols(\"theta_1\",  real=True)\n",
        "theta_2 = symbols(\"theta_2\",  real=True)\n",
        "l_1 = symbols(\"l_1\",  real=True)\n",
        "l_2 = symbols(\"l_2\",  real=True)"
      ]
    },
    {
      "cell_type": "markdown",
      "id": "a472e104",
      "metadata": {
        "id": "a472e104"
      },
      "source": [
        "## Transformación desde el estado 0 al estado 1"
      ]
    },
    {
      "cell_type": "code",
      "execution_count": 3,
      "id": "2db33fec",
      "metadata": {
        "id": "2db33fec"
      },
      "outputs": [],
      "source": [
        "_0H1 = Matrix([[cos(theta_1), -sin(theta_1), 0, 0], [sin(theta_1), cos(theta_1), 0, 0], [0, 0, 1, 0], [0, 0, 0, 1]])"
      ]
    },
    {
      "cell_type": "code",
      "execution_count": 4,
      "id": "53b4ecc0",
      "metadata": {
        "colab": {
          "base_uri": "https://localhost:8080/",
          "height": 98
        },
        "id": "53b4ecc0",
        "outputId": "e5834a1b-f06b-4857-d625-0d2dd71c7a51"
      },
      "outputs": [
        {
          "data": {
            "text/latex": [
              "$\\displaystyle \\left[\\begin{matrix}\\cos{\\left(\\theta_{1} \\right)} & - \\sin{\\left(\\theta_{1} \\right)} & 0 & 0\\\\\\sin{\\left(\\theta_{1} \\right)} & \\cos{\\left(\\theta_{1} \\right)} & 0 & 0\\\\0 & 0 & 1 & 0\\\\0 & 0 & 0 & 1\\end{matrix}\\right]$"
            ],
            "text/plain": [
              "⎡cos(θ₁)  -sin(θ₁)  0  0⎤\n",
              "⎢                       ⎥\n",
              "⎢sin(θ₁)  cos(θ₁)   0  0⎥\n",
              "⎢                       ⎥\n",
              "⎢   0        0      1  0⎥\n",
              "⎢                       ⎥\n",
              "⎣   0        0      0  1⎦"
            ]
          },
          "execution_count": 4,
          "metadata": {},
          "output_type": "execute_result"
        }
      ],
      "source": [
        "_0H1\n"
      ]
    },
    {
      "cell_type": "markdown",
      "id": "21855c8f",
      "metadata": {
        "id": "21855c8f"
      },
      "source": [
        "## Transformación desde el estado 1 al estado 2"
      ]
    },
    {
      "cell_type": "code",
      "execution_count": 5,
      "id": "d70da5f8",
      "metadata": {
        "id": "d70da5f8"
      },
      "outputs": [],
      "source": [
        "_1H2 = Matrix([[1, 0, 0, l_1], [0, 1, 0, 0], [0, 0, 1, 0], [0, 0, 0, 1]])"
      ]
    },
    {
      "cell_type": "code",
      "execution_count": 6,
      "id": "c1828bac",
      "metadata": {
        "colab": {
          "base_uri": "https://localhost:8080/",
          "height": 98
        },
        "id": "c1828bac",
        "outputId": "e2d3e9ce-995d-4f47-e0b0-0cdc0835a49a"
      },
      "outputs": [
        {
          "data": {
            "text/latex": [
              "$\\displaystyle \\left[\\begin{matrix}1 & 0 & 0 & l_{1}\\\\0 & 1 & 0 & 0\\\\0 & 0 & 1 & 0\\\\0 & 0 & 0 & 1\\end{matrix}\\right]$"
            ],
            "text/plain": [
              "⎡1  0  0  l₁⎤\n",
              "⎢           ⎥\n",
              "⎢0  1  0  0 ⎥\n",
              "⎢           ⎥\n",
              "⎢0  0  1  0 ⎥\n",
              "⎢           ⎥\n",
              "⎣0  0  0  1 ⎦"
            ]
          },
          "execution_count": 6,
          "metadata": {},
          "output_type": "execute_result"
        }
      ],
      "source": [
        "_1H2"
      ]
    },
    {
      "cell_type": "markdown",
      "id": "9bde084c",
      "metadata": {
        "id": "9bde084c"
      },
      "source": [
        "## Transformación desde el estado 2 al estado 3"
      ]
    },
    {
      "cell_type": "code",
      "execution_count": 7,
      "id": "60197018",
      "metadata": {
        "id": "60197018"
      },
      "outputs": [],
      "source": [
        "_2H3 = Matrix([[cos(theta_2), -sin(theta_2), 0, 0], [sin(theta_2), cos(theta_2), 0, 0], [0, 0, 1, 0], [0, 0, 0, 1]])"
      ]
    },
    {
      "cell_type": "code",
      "execution_count": 8,
      "id": "0a4fb170",
      "metadata": {
        "colab": {
          "base_uri": "https://localhost:8080/",
          "height": 98
        },
        "id": "0a4fb170",
        "outputId": "2906ed33-9de5-4bdb-985a-e9ce95c42906"
      },
      "outputs": [
        {
          "data": {
            "text/latex": [
              "$\\displaystyle \\left[\\begin{matrix}\\cos{\\left(\\theta_{2} \\right)} & - \\sin{\\left(\\theta_{2} \\right)} & 0 & 0\\\\\\sin{\\left(\\theta_{2} \\right)} & \\cos{\\left(\\theta_{2} \\right)} & 0 & 0\\\\0 & 0 & 1 & 0\\\\0 & 0 & 0 & 1\\end{matrix}\\right]$"
            ],
            "text/plain": [
              "⎡cos(θ₂)  -sin(θ₂)  0  0⎤\n",
              "⎢                       ⎥\n",
              "⎢sin(θ₂)  cos(θ₂)   0  0⎥\n",
              "⎢                       ⎥\n",
              "⎢   0        0      1  0⎥\n",
              "⎢                       ⎥\n",
              "⎣   0        0      0  1⎦"
            ]
          },
          "execution_count": 8,
          "metadata": {},
          "output_type": "execute_result"
        }
      ],
      "source": [
        "_2H3"
      ]
    },
    {
      "cell_type": "markdown",
      "id": "a53aa5ef",
      "metadata": {
        "id": "a53aa5ef"
      },
      "source": [
        "## Transformación desde el estado 3 al estado 4"
      ]
    },
    {
      "cell_type": "code",
      "execution_count": 9,
      "id": "032e6c76",
      "metadata": {
        "id": "032e6c76"
      },
      "outputs": [],
      "source": [
        "_3H4 = Matrix([[1, 0, 0, l_2], [0, 1, 0, 0], [0, 0, 1, 0], [0, 0, 0, 1]])"
      ]
    },
    {
      "cell_type": "code",
      "execution_count": 10,
      "id": "fcee8c4f",
      "metadata": {
        "colab": {
          "base_uri": "https://localhost:8080/",
          "height": 98
        },
        "id": "fcee8c4f",
        "outputId": "e60efca9-03ac-4dc5-8e01-3e694a87bda4"
      },
      "outputs": [
        {
          "data": {
            "text/latex": [
              "$\\displaystyle \\left[\\begin{matrix}1 & 0 & 0 & l_{2}\\\\0 & 1 & 0 & 0\\\\0 & 0 & 1 & 0\\\\0 & 0 & 0 & 1\\end{matrix}\\right]$"
            ],
            "text/plain": [
              "⎡1  0  0  l₂⎤\n",
              "⎢           ⎥\n",
              "⎢0  1  0  0 ⎥\n",
              "⎢           ⎥\n",
              "⎢0  0  1  0 ⎥\n",
              "⎢           ⎥\n",
              "⎣0  0  0  1 ⎦"
            ]
          },
          "execution_count": 10,
          "metadata": {},
          "output_type": "execute_result"
        }
      ],
      "source": [
        "_3H4\n"
      ]
    },
    {
      "cell_type": "markdown",
      "id": "4fa64a74",
      "metadata": {
        "id": "4fa64a74"
      },
      "source": [
        "## Composición de cada estado de la cinemática"
      ]
    },
    {
      "cell_type": "code",
      "execution_count": 11,
      "id": "15f37bda",
      "metadata": {
        "id": "15f37bda"
      },
      "outputs": [],
      "source": [
        "H = simplify(_0H1@_1H2@_2H3@_3H4)"
      ]
    },
    {
      "cell_type": "code",
      "execution_count": 12,
      "id": "6c2ed8ad",
      "metadata": {
        "colab": {
          "base_uri": "https://localhost:8080/",
          "height": 98
        },
        "id": "6c2ed8ad",
        "outputId": "31e3472e-b265-48a3-d25a-e060e9eb6990"
      },
      "outputs": [
        {
          "data": {
            "text/latex": [
              "$\\displaystyle \\left[\\begin{matrix}\\cos{\\left(\\theta_{1} + \\theta_{2} \\right)} & - \\sin{\\left(\\theta_{1} + \\theta_{2} \\right)} & 0 & l_{1} \\cos{\\left(\\theta_{1} \\right)} + l_{2} \\cos{\\left(\\theta_{1} + \\theta_{2} \\right)}\\\\\\sin{\\left(\\theta_{1} + \\theta_{2} \\right)} & \\cos{\\left(\\theta_{1} + \\theta_{2} \\right)} & 0 & l_{1} \\sin{\\left(\\theta_{1} \\right)} + l_{2} \\sin{\\left(\\theta_{1} + \\theta_{2} \\right)}\\\\0 & 0 & 1 & 0\\\\0 & 0 & 0 & 1\\end{matrix}\\right]$"
            ],
            "text/plain": [
              "⎡cos(θ₁ + θ₂)  -sin(θ₁ + θ₂)  0  l₁⋅cos(θ₁) + l₂⋅cos(θ₁ + θ₂)⎤\n",
              "⎢                                                            ⎥\n",
              "⎢sin(θ₁ + θ₂)  cos(θ₁ + θ₂)   0  l₁⋅sin(θ₁) + l₂⋅sin(θ₁ + θ₂)⎥\n",
              "⎢                                                            ⎥\n",
              "⎢     0              0        1               0              ⎥\n",
              "⎢                                                            ⎥\n",
              "⎣     0              0        0               1              ⎦"
            ]
          },
          "execution_count": 12,
          "metadata": {},
          "output_type": "execute_result"
        }
      ],
      "source": [
        "H"
      ]
    },
    {
      "cell_type": "markdown",
      "id": "98f93492",
      "metadata": {
        "id": "98f93492"
      },
      "source": [
        "## Posición del efector final"
      ]
    },
    {
      "cell_type": "code",
      "execution_count": 13,
      "id": "f8de3b60",
      "metadata": {
        "id": "f8de3b60"
      },
      "outputs": [],
      "source": [
        "P = H[0:2, 3]"
      ]
    },
    {
      "cell_type": "code",
      "execution_count": 14,
      "id": "c9f85211",
      "metadata": {
        "colab": {
          "base_uri": "https://localhost:8080/",
          "height": 58
        },
        "id": "c9f85211",
        "outputId": "dbdd32cd-e188-40fa-a50e-38c7bcf7fe7f"
      },
      "outputs": [
        {
          "data": {
            "text/latex": [
              "$\\displaystyle \\left[\\begin{matrix}l_{1} \\cos{\\left(\\theta_{1} \\right)} + l_{2} \\cos{\\left(\\theta_{1} + \\theta_{2} \\right)}\\\\l_{1} \\sin{\\left(\\theta_{1} \\right)} + l_{2} \\sin{\\left(\\theta_{1} + \\theta_{2} \\right)}\\end{matrix}\\right]$"
            ],
            "text/plain": [
              "⎡l₁⋅cos(θ₁) + l₂⋅cos(θ₁ + θ₂)⎤\n",
              "⎢                            ⎥\n",
              "⎣l₁⋅sin(θ₁) + l₂⋅sin(θ₁ + θ₂)⎦"
            ]
          },
          "execution_count": 14,
          "metadata": {},
          "output_type": "execute_result"
        }
      ],
      "source": [
        "P"
      ]
    },
    {
      "cell_type": "code",
      "execution_count": 15,
      "id": "GNXclDgo83lm",
      "metadata": {
        "id": "GNXclDgo83lm"
      },
      "outputs": [],
      "source": [
        "import matplotlib.pyplot as plt\n",
        "import numpy as np\n",
        "\n",
        "def dibujar_brazo_mecanico(theta1, theta2, l1, l2):\n",
        "  \"\"\"Función para dibujar un brazo mecanico con 2 grados de libertad.\n",
        "\n",
        "  Parametros:\n",
        "    theta1: Angulo de la primera articulacion en radianes.\n",
        "    theta2: Angulo de la segunda articulacion en radianes.\n",
        "    l1: Longitud del primer extremo\n",
        "    l2: Longitud del segundo extremo\n",
        "  \"\"\"\n",
        "\n",
        "  # Calculamos la posición del efector final\n",
        "  x1 = l1 * np.cos(theta1)\n",
        "  y1 = l1 * np.sin(theta1)\n",
        "  x2 = x1 + l2 * np.cos(theta1 + theta2)\n",
        "  y2 = y1 + l2 * np.sin(theta1 + theta2)\n",
        "\n",
        "  # Dibujando el brazo con lineas y puntos\n",
        "  plt.figure(figsize=(6, 6))\n",
        "  plt.plot([0, x1], [0, y1], 'b-', linewidth=5)  # First link\n",
        "  plt.plot([x1, x2], [y1, y2], 'b-', linewidth=5)  # Second link\n",
        "  plt.plot(0, 0, 'ro', markersize=10)  # Base\n",
        "  plt.plot(x2, y2, 'go', markersize=10)  # End-effector\n",
        "\n",
        "  # Se dibujan los límites y los labels\n",
        "  plt.xlim([-l1 - l2, l1 + l2])\n",
        "  plt.ylim([-l1 - l2, l1 + l2])\n",
        "  plt.xlabel('X')\n",
        "  plt.ylabel('Y')\n",
        "  plt.title('Brazo robótico')\n",
        "  plt.grid(True)\n",
        "  plt.show()"
      ]
    },
    {
      "cell_type": "markdown",
      "id": "0LsCvdrkEYqT",
      "metadata": {
        "id": "0LsCvdrkEYqT"
      },
      "source": [
        "## Ejemplo de manipulación del brazo robotico en su estado final"
      ]
    },
    {
      "cell_type": "code",
      "execution_count": 16,
      "id": "yHJG-FLr9DV2",
      "metadata": {
        "colab": {
          "base_uri": "https://localhost:8080/",
          "height": 564
        },
        "id": "yHJG-FLr9DV2",
        "outputId": "ef376e89-f158-457e-aed1-ddea49b169df"
      },
      "outputs": [
        {
          "data": {
            "image/png": "[encoded data removed]",
            "text/plain": [
              "<Figure size 600x600 with 1 Axes>"
            ]
          },
          "metadata": {},
          "output_type": "display_data"
        }
      ],
      "source": [
        "theta1 = np.deg2rad(45)  # 45 grados\n",
        "theta2 = np.deg2rad(-80)  # -30 grados\n",
        "l1 = 1\n",
        "l2 = 1\n",
        "dibujar_brazo_mecanico(theta1, theta2, l1, l2)"
      ]
    },
    {
      "cell_type": "markdown",
      "id": "PXKx1zldEyCV",
      "metadata": {
        "id": "PXKx1zldEyCV"
      },
      "source": [
        "## **Taller**\n",
        "\n",
        "*  Dibujar cada estado del anterior brazo robótico\n",
        "*  Imagine un brazo robótico cuyas extremidades miden 2 unidades cada una. Podría este brazo alcanzar cualquier objeto dentro de la cuadricula de 2 x 2? Explique detalladamente su razonamiento"
      ]
    },
    {
      "cell_type": "code",
      "execution_count": 17,
      "id": "2f910e6c",
      "metadata": {},
      "outputs": [
        {
          "name": "stdout",
          "output_type": "stream",
          "text": [
            "El brazo robótico, ¿puede alcanzar cualquier objeto dentro de la cuadrícula de 2x2?: True\n"
          ]
        },
        {
          "data": {
            "image/png": "[encoded data removed]",
            "text/plain": [
              "<Figure size 600x600 with 1 Axes>"
            ]
          },
          "metadata": {},
          "output_type": "display_data"
        }
      ],
      "source": [
        "def puede_alcanzar(l1, l2, grid_size):\n",
        "  \"\"\"\n",
        "  Determina si un brazo robótico puede alcanzar cualquier punto dentro de una cuadrícula.\n",
        "\n",
        "  Args:\n",
        "    l1: Longitud del primer eslabón.\n",
        "    l2: Longitud del segundo eslabón.\n",
        "    grid_size: La mitad de la longitud del lado de la cuadrícula (la cuadrícula se centra en el origen).\n",
        "\n",
        "  Returns:\n",
        "    True si el brazo puede alcanzar cualquier punto dentro de la cuadrícula, False en caso contrario.\n",
        "  \"\"\"\n",
        "  alcance_maximo = l1 + l2\n",
        "  distancia_maxima_grid = np.sqrt(2 * grid_size**2)  # Distancia de (0,0) a la esquina de la cuadrícula\n",
        "\n",
        "  return alcance_maximo >= distancia_maxima_grid\n",
        "\n",
        "# Parámetros del brazo robótico\n",
        "l1 = 2\n",
        "l2 = 2\n",
        "grid_size = 1  # La cuadrícula es de 2x2, por lo que la mitad de la longitud del lado es 1\n",
        "\n",
        "# Verificar si el brazo puede alcanzar la cuadrícula\n",
        "alcanza = puede_alcanzar(l1, l2, grid_size)\n",
        "\n",
        "print(f\"El brazo robótico, ¿puede alcanzar cualquier objeto dentro de la cuadrícula de 2x2?: {alcanza}\")\n",
        "\n",
        "# Dibujar el brazo en una posición aleatoria dentro de la cuadrícula\n",
        "if alcanza:\n",
        "    theta1 = np.random.uniform(0, 2*np.pi)\n",
        "    theta2 = np.random.uniform(0, 2*np.pi)\n",
        "    dibujar_brazo_mecanico(theta1, theta2, l1, l2)\n",
        "else:\n",
        "    print(\"El brazo no puede alcanzar la cuadrícula, por lo que no se mostrará la visualización.\")"
      ]
    },
    {
      "cell_type": "markdown",
      "id": "c800ece9",
      "metadata": {},
      "source": [
        "### Razonamiento detallado: ###\n",
        "                \n",
        "1. **Alcance máximo del brazo:** El brazo tiene dos eslabones, cada uno de longitud 2. Por lo tanto, el alcance máximo del brazo es la suma de las longitudes de sus eslabones, que es 2 + 2 = 4 unidades.\n",
        "2. **Distancia máxima dentro de la cuadrícula:** La cuadrícula de 2x2 se centra en el origen (0,0). La distancia más lejana que el brazo necesita alcanzar es una de las esquinas de la cuadrícula.  Usando el teorema de Pitágoras, la distancia desde el centro (0,0) hasta una esquina (1,1) es sqrt(1^2 + 1^2) = sqrt(2) ≈ 1.414 unidades.\n",
        "3. **Comparación:** Dado que el alcance máximo del brazo (4 unidades) es mayor que la distancia máxima dentro de la cuadrícula (aproximadamente 1.414 unidades), el brazo puede alcanzar cualquier punto dentro de la cuadrícula de 2x2.\n",
        "4. Por lo tanto, la respuesta es: **Verdadero**, el brazo robótico puede alcanzar cualquier objeto dentro de la cuadrícula de 2x2."
      ]
    }
  ],
  "metadata": {
    "colab": {
      "provenance": []
    },
    "kernelspec": {
      "display_name": "Python 3",
      "language": "python",
      "name": "python3"
    },
    "language_info": {
      "codemirror_mode": {
        "name": "ipython",
        "version": 3
      },
      "file_extension": ".py",
      "mimetype": "text/x-python",
      "name": "python",
      "nbconvert_exporter": "python",
      "pygments_lexer": "ipython3",
      "version": "3.12.1"
    }
  },
  "nbformat": 4,
  "nbformat_minor": 5
}
