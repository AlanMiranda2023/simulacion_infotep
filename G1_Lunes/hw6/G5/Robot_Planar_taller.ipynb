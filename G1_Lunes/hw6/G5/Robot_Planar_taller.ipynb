{
  "cells": [
    {
      "cell_type": "markdown",
      "id": "2f6be8c8",
      "metadata": {
        "id": "2f6be8c8"
      },
      "source": [
        "# **Cinemática de un robot planar**\n",
        "\n",
        "**Docente:** PhD Jorge Rudas\n",
        "\n",
        "**Diseño de prototipos - 2025 I**\n",
        "\n",
        "**INFOTEP**"
      ]
    },
    {
      "cell_type": "markdown",
      "id": "f6913b83",
      "metadata": {
        "id": "f6913b83"
      },
      "source": [
        "## Importar librerias"
      ]
    },
    {
      "cell_type": "code",
      "execution_count": 297,
      "id": "82ae37d8",
      "metadata": {
        "id": "82ae37d8"
      },
      "outputs": [],
      "source": [
        "import numpy as np\n",
        "import math\n",
        "import matplotlib.pyplot as plt\n",
        "from sympy import*\n",
        "init_printing()"
      ]
    },
    {
      "cell_type": "markdown",
      "id": "9c4c1f12",
      "metadata": {
        "id": "9c4c1f12"
      },
      "source": [
        "## Se crean variables simbólicas"
      ]
    },
    {
      "cell_type": "code",
      "execution_count": 298,
      "id": "0d328921",
      "metadata": {
        "id": "0d328921"
      },
      "outputs": [],
      "source": [
        "## Variables Simbolicas\n",
        "theta_1 = symbols(\"theta_1\",  real=True)\n",
        "theta_2 = symbols(\"theta_2\",  real=True)\n",
        "l_1 = symbols(\"l_1\",  real=True)\n",
        "l_2 = symbols(\"l_2\",  real=True)"
      ]
    },
    {
      "cell_type": "markdown",
      "id": "a472e104",
      "metadata": {
        "id": "a472e104"
      },
      "source": [
        "## Transformación desde el estado 0 al estado 1"
      ]
    },
    {
      "cell_type": "code",
      "execution_count": 299,
      "id": "2db33fec",
      "metadata": {
        "id": "2db33fec"
      },
      "outputs": [],
      "source": [
        "_0H1 = Matrix([[cos(theta_1), -sin(theta_1), 0, 0], [sin(theta_1), cos(theta_1), 0, 0], [0, 0, 1, 0], [0, 0, 0, 1]])"
      ]
    },
    {
      "cell_type": "code",
      "execution_count": 300,
      "id": "53b4ecc0",
      "metadata": {
        "colab": {
          "base_uri": "https://localhost:8080/",
          "height": 98
        },
        "id": "53b4ecc0",
        "outputId": "828099e1-f147-4995-de79-4cb73077715b"
      },
      "outputs": [
        {
          "output_type": "execute_result",
          "data": {
            "text/plain": [
              "⎡cos(θ₁)  -sin(θ₁)  0  0⎤\n",
              "⎢                       ⎥\n",
              "⎢sin(θ₁)  cos(θ₁)   0  0⎥\n",
              "⎢                       ⎥\n",
              "⎢   0        0      1  0⎥\n",
              "⎢                       ⎥\n",
              "⎣   0        0      0  1⎦"
            ],
            "text/latex": "$\\displaystyle \\left[\\begin{matrix}\\cos{\\left(\\theta_{1} \\right)} & - \\sin{\\left(\\theta_{1} \\right)} & 0 & 0\\\\\\sin{\\left(\\theta_{1} \\right)} & \\cos{\\left(\\theta_{1} \\right)} & 0 & 0\\\\0 & 0 & 1 & 0\\\\0 & 0 & 0 & 1\\end{matrix}\\right]$"
          },
          "metadata": {},
          "execution_count": 300
        }
      ],
      "source": [
        "_0H1"
      ]
    },
    {
      "cell_type": "markdown",
      "id": "21855c8f",
      "metadata": {
        "id": "21855c8f"
      },
      "source": [
        "## Transformación desde el estado 1 al estado 2"
      ]
    },
    {
      "cell_type": "code",
      "execution_count": 301,
      "id": "d70da5f8",
      "metadata": {
        "id": "d70da5f8"
      },
      "outputs": [],
      "source": [
        "_1H2 = Matrix([[1, 0, 0, l_1], [0, 1, 0, 0], [0, 0, 1, 0], [0, 0, 0, 1]])"
      ]
    },
    {
      "cell_type": "code",
      "execution_count": 302,
      "id": "c1828bac",
      "metadata": {
        "colab": {
          "base_uri": "https://localhost:8080/",
          "height": 98
        },
        "id": "c1828bac",
        "outputId": "b4c50570-cca9-4b7c-d94e-3d5d8af58372"
      },
      "outputs": [
        {
          "output_type": "execute_result",
          "data": {
            "text/plain": [
              "⎡1  0  0  l₁⎤\n",
              "⎢           ⎥\n",
              "⎢0  1  0  0 ⎥\n",
              "⎢           ⎥\n",
              "⎢0  0  1  0 ⎥\n",
              "⎢           ⎥\n",
              "⎣0  0  0  1 ⎦"
            ],
            "text/latex": "$\\displaystyle \\left[\\begin{matrix}1 & 0 & 0 & l_{1}\\\\0 & 1 & 0 & 0\\\\0 & 0 & 1 & 0\\\\0 & 0 & 0 & 1\\end{matrix}\\right]$"
          },
          "metadata": {},
          "execution_count": 302
        }
      ],
      "source": [
        "_1H2"
      ]
    },
    {
      "cell_type": "markdown",
      "id": "9bde084c",
      "metadata": {
        "id": "9bde084c"
      },
      "source": [
        "## Transformación desde el estado 2 al estado 3"
      ]
    },
    {
      "cell_type": "code",
      "execution_count": 303,
      "id": "60197018",
      "metadata": {
        "id": "60197018"
      },
      "outputs": [],
      "source": [
        "_2H3 = Matrix([[cos(theta_2), -sin(theta_2), 0, 0], [sin(theta_2), cos(theta_2), 0, 0], [0, 0, 1, 0], [0, 0, 0, 1]])"
      ]
    },
    {
      "cell_type": "code",
      "execution_count": 304,
      "id": "0a4fb170",
      "metadata": {
        "colab": {
          "base_uri": "https://localhost:8080/",
          "height": 98
        },
        "id": "0a4fb170",
        "outputId": "495ee88a-cfeb-4557-8cc1-c3efb3a53086"
      },
      "outputs": [
        {
          "output_type": "execute_result",
          "data": {
            "text/plain": [
              "⎡cos(θ₂)  -sin(θ₂)  0  0⎤\n",
              "⎢                       ⎥\n",
              "⎢sin(θ₂)  cos(θ₂)   0  0⎥\n",
              "⎢                       ⎥\n",
              "⎢   0        0      1  0⎥\n",
              "⎢                       ⎥\n",
              "⎣   0        0      0  1⎦"
            ],
            "text/latex": "$\\displaystyle \\left[\\begin{matrix}\\cos{\\left(\\theta_{2} \\right)} & - \\sin{\\left(\\theta_{2} \\right)} & 0 & 0\\\\\\sin{\\left(\\theta_{2} \\right)} & \\cos{\\left(\\theta_{2} \\right)} & 0 & 0\\\\0 & 0 & 1 & 0\\\\0 & 0 & 0 & 1\\end{matrix}\\right]$"
          },
          "metadata": {},
          "execution_count": 304
        }
      ],
      "source": [
        "_2H3"
      ]
    },
    {
      "cell_type": "markdown",
      "id": "a53aa5ef",
      "metadata": {
        "id": "a53aa5ef"
      },
      "source": [
        "## Transformación desde el estado 3 al estado 4"
      ]
    },
    {
      "cell_type": "code",
      "execution_count": 305,
      "id": "032e6c76",
      "metadata": {
        "id": "032e6c76"
      },
      "outputs": [],
      "source": [
        "_3H4 = Matrix([[1, 0, 0, l_2], [0, 1, 0, 0], [0, 0, 1, 0], [0, 0, 0, 1]])"
      ]
    },
    {
      "cell_type": "code",
      "execution_count": 306,
      "id": "fcee8c4f",
      "metadata": {
        "colab": {
          "base_uri": "https://localhost:8080/",
          "height": 98
        },
        "id": "fcee8c4f",
        "outputId": "df61af66-a0f9-4e52-83eb-3fd5f50d281f"
      },
      "outputs": [
        {
          "output_type": "execute_result",
          "data": {
            "text/plain": [
              "⎡1  0  0  l₂⎤\n",
              "⎢           ⎥\n",
              "⎢0  1  0  0 ⎥\n",
              "⎢           ⎥\n",
              "⎢0  0  1  0 ⎥\n",
              "⎢           ⎥\n",
              "⎣0  0  0  1 ⎦"
            ],
            "text/latex": "$\\displaystyle \\left[\\begin{matrix}1 & 0 & 0 & l_{2}\\\\0 & 1 & 0 & 0\\\\0 & 0 & 1 & 0\\\\0 & 0 & 0 & 1\\end{matrix}\\right]$"
          },
          "metadata": {},
          "execution_count": 306
        }
      ],
      "source": [
        "_3H4"
      ]
    },
    {
      "cell_type": "markdown",
      "id": "4fa64a74",
      "metadata": {
        "id": "4fa64a74"
      },
      "source": [
        "## Composición de cada estado de la cinemática"
      ]
    },
    {
      "cell_type": "code",
      "execution_count": 307,
      "id": "15f37bda",
      "metadata": {
        "id": "15f37bda"
      },
      "outputs": [],
      "source": [
        "H = simplify(_0H1@_1H2@_2H3@_3H4)"
      ]
    },
    {
      "cell_type": "code",
      "execution_count": 308,
      "id": "6c2ed8ad",
      "metadata": {
        "colab": {
          "base_uri": "https://localhost:8080/",
          "height": 98
        },
        "id": "6c2ed8ad",
        "outputId": "2a741425-95fd-4eca-d51f-f1b20a880451"
      },
      "outputs": [
        {
          "output_type": "execute_result",
          "data": {
            "text/plain": [
              "⎡cos(θ₁ + θ₂)  -sin(θ₁ + θ₂)  0  l₁⋅cos(θ₁) + l₂⋅cos(θ₁ + θ₂)⎤\n",
              "⎢                                                            ⎥\n",
              "⎢sin(θ₁ + θ₂)  cos(θ₁ + θ₂)   0  l₁⋅sin(θ₁) + l₂⋅sin(θ₁ + θ₂)⎥\n",
              "⎢                                                            ⎥\n",
              "⎢     0              0        1               0              ⎥\n",
              "⎢                                                            ⎥\n",
              "⎣     0              0        0               1              ⎦"
            ],
            "text/latex": "$\\displaystyle \\left[\\begin{matrix}\\cos{\\left(\\theta_{1} + \\theta_{2} \\right)} & - \\sin{\\left(\\theta_{1} + \\theta_{2} \\right)} & 0 & l_{1} \\cos{\\left(\\theta_{1} \\right)} + l_{2} \\cos{\\left(\\theta_{1} + \\theta_{2} \\right)}\\\\\\sin{\\left(\\theta_{1} + \\theta_{2} \\right)} & \\cos{\\left(\\theta_{1} + \\theta_{2} \\right)} & 0 & l_{1} \\sin{\\left(\\theta_{1} \\right)} + l_{2} \\sin{\\left(\\theta_{1} + \\theta_{2} \\right)}\\\\0 & 0 & 1 & 0\\\\0 & 0 & 0 & 1\\end{matrix}\\right]$"
          },
          "metadata": {},
          "execution_count": 308
        }
      ],
      "source": [
        "H"
      ]
    },
    {
      "cell_type": "markdown",
      "id": "98f93492",
      "metadata": {
        "id": "98f93492"
      },
      "source": [
        "## Posición del efector final"
      ]
    },
    {
      "cell_type": "code",
      "execution_count": 309,
      "id": "f8de3b60",
      "metadata": {
        "id": "f8de3b60"
      },
      "outputs": [],
      "source": [
        "P = H[0:2, 3]"
      ]
    },
    {
      "cell_type": "code",
      "execution_count": 310,
      "id": "c9f85211",
      "metadata": {
        "colab": {
          "base_uri": "https://localhost:8080/",
          "height": 58
        },
        "id": "c9f85211",
        "outputId": "06af8b30-4c6b-428e-b4ee-adc6bc66808b"
      },
      "outputs": [
        {
          "output_type": "execute_result",
          "data": {
            "text/plain": [
              "⎡l₁⋅cos(θ₁) + l₂⋅cos(θ₁ + θ₂)⎤\n",
              "⎢                            ⎥\n",
              "⎣l₁⋅sin(θ₁) + l₂⋅sin(θ₁ + θ₂)⎦"
            ],
            "text/latex": "$\\displaystyle \\left[\\begin{matrix}l_{1} \\cos{\\left(\\theta_{1} \\right)} + l_{2} \\cos{\\left(\\theta_{1} + \\theta_{2} \\right)}\\\\l_{1} \\sin{\\left(\\theta_{1} \\right)} + l_{2} \\sin{\\left(\\theta_{1} + \\theta_{2} \\right)}\\end{matrix}\\right]$"
          },
          "metadata": {},
          "execution_count": 310
        }
      ],
      "source": [
        "P"
      ]
    },
    {
      "cell_type": "code",
      "source": [
        "# Matriz homogénea de rotación para theta1\n",
        "H_z_theta1 = Matrix([\n",
        "    [cos(theta_1), -sin(theta_1), 0, 0],\n",
        "    [sin(theta_1), cos(theta_1), 0, 0],\n",
        "    [0, 0, 1, 0],\n",
        "    [0, 0, 0, 1]\n",
        "])\n",
        "\n",
        "H_z_theta1"
      ],
      "metadata": {
        "colab": {
          "base_uri": "https://localhost:8080/",
          "height": 98
        },
        "id": "0MfK8DZ-dUaN",
        "outputId": "ac1ccd7d-32c6-45cc-a5a4-d38c159e2e6b"
      },
      "id": "0MfK8DZ-dUaN",
      "execution_count": 311,
      "outputs": [
        {
          "output_type": "execute_result",
          "data": {
            "text/plain": [
              "⎡cos(θ₁)  -sin(θ₁)  0  0⎤\n",
              "⎢                       ⎥\n",
              "⎢sin(θ₁)  cos(θ₁)   0  0⎥\n",
              "⎢                       ⎥\n",
              "⎢   0        0      1  0⎥\n",
              "⎢                       ⎥\n",
              "⎣   0        0      0  1⎦"
            ],
            "text/latex": "$\\displaystyle \\left[\\begin{matrix}\\cos{\\left(\\theta_{1} \\right)} & - \\sin{\\left(\\theta_{1} \\right)} & 0 & 0\\\\\\sin{\\left(\\theta_{1} \\right)} & \\cos{\\left(\\theta_{1} \\right)} & 0 & 0\\\\0 & 0 & 1 & 0\\\\0 & 0 & 0 & 1\\end{matrix}\\right]$"
          },
          "metadata": {},
          "execution_count": 311
        }
      ]
    },
    {
      "cell_type": "code",
      "source": [
        "# Matriz homogénea de rotación para theta2\n",
        "H_z_theta2 = Matrix([\n",
        "    [cos(theta_2), -sin(theta_2), 0, 0],\n",
        "    [sin(theta_2), cos(theta_2), 0, 0],\n",
        "    [0, 0, 1, 0],\n",
        "    [0, 0, 0, 1]\n",
        "])\n",
        "H_z_theta2"
      ],
      "metadata": {
        "colab": {
          "base_uri": "https://localhost:8080/",
          "height": 98
        },
        "id": "kUtlJafBei6B",
        "outputId": "f1388ca2-922d-45fe-c2bc-fb4e97f8c740"
      },
      "id": "kUtlJafBei6B",
      "execution_count": 312,
      "outputs": [
        {
          "output_type": "execute_result",
          "data": {
            "text/plain": [
              "⎡cos(θ₂)  -sin(θ₂)  0  0⎤\n",
              "⎢                       ⎥\n",
              "⎢sin(θ₂)  cos(θ₂)   0  0⎥\n",
              "⎢                       ⎥\n",
              "⎢   0        0      1  0⎥\n",
              "⎢                       ⎥\n",
              "⎣   0        0      0  1⎦"
            ],
            "text/latex": "$\\displaystyle \\left[\\begin{matrix}\\cos{\\left(\\theta_{2} \\right)} & - \\sin{\\left(\\theta_{2} \\right)} & 0 & 0\\\\\\sin{\\left(\\theta_{2} \\right)} & \\cos{\\left(\\theta_{2} \\right)} & 0 & 0\\\\0 & 0 & 1 & 0\\\\0 & 0 & 0 & 1\\end{matrix}\\right]$"
          },
          "metadata": {},
          "execution_count": 312
        }
      ]
    },
    {
      "cell_type": "code",
      "source": [
        "def obtener_posicion_y_rotacion(H):\n",
        "    \"\"\"\n",
        "    Extrae la posición y el ángulo de rotación de una matriz de transformación homogénea.\n",
        "\n",
        "    Esta función toma una matriz homogénea 4x4, que contiene la información de la posición y la\n",
        "    orientación de un brazo robótico (o cualquier otro sistema en 2D). La matriz debe ser de la\n",
        "\n",
        "    Donde (x, y) son las coordenadas del extremo del brazo y (a11, a21) son elementos de la\n",
        "    submatriz de rotación 2x2 que representan la orientación del brazo.\n",
        "\n",
        "    Parámetros:\n",
        "    H (numpy.ndarray): Matriz homogénea 4x4 que representa la transformación del brazo.\n",
        "\n",
        "    Retorna:\n",
        "    tuple: Una tupla con tres valores:\n",
        "        - x (float): La coordenada x del extremo del brazo.\n",
        "        - y (float): La coordenada y del extremo del brazo.\n",
        "        - theta_deg (float): El ángulo de rotación en grados.\n",
        "    \"\"\"\n",
        "    # Extraer las coordenadas x y y del extremo del brazo\n",
        "    x = H[0, 3]\n",
        "    y = H[1, 3]\n",
        "\n",
        "    # Extraer la submatriz de rotación (2x2) de la matriz homogénea\n",
        "    a11 = H[0, 0]\n",
        "    a21 = H[1, 0]\n",
        "\n",
        "    # Calcular el ángulo de rotación usando atan2\n",
        "    theta = math.atan2(a21, a11)\n",
        "\n",
        "    # Convertir el ángulo a grados (si lo prefieres en grados)\n",
        "    theta_deg = math.degrees(theta)\n",
        "\n",
        "    # Devolver la posición y el ángulo de rotación\n",
        "    return x, y, theta_deg\n"
      ],
      "metadata": {
        "id": "LqcgG433S-t5"
      },
      "id": "LqcgG433S-t5",
      "execution_count": 313,
      "outputs": []
    },
    {
      "cell_type": "markdown",
      "source": [
        "# **Se ajusto la funcion para que dibujara tambien el punto nuevo donde se va a mover el brazo y ademas se ajusto para que en caso no reciba un parametro tome el valor anterior.**"
      ],
      "metadata": {
        "id": "WGv8NKLjzzde"
      },
      "id": "WGv8NKLjzzde"
    },
    {
      "cell_type": "code",
      "execution_count": 314,
      "id": "GNXclDgo83lm",
      "metadata": {
        "id": "GNXclDgo83lm"
      },
      "outputs": [],
      "source": [
        "# Variables globales para almacenar el estado del brazo mecánico y del punto\n",
        "estado_brazo = {\"theta1\": None, \"theta2\": None, \"l1\": None, \"l2\": None, \"x_random\": None, \"y_random\": None}\n",
        "\n",
        "def dibujar_brazo_mecanico(theta1=None, theta2=None, l1=None, l2=None, x_random=None, y_random=None, H_evaluada=None):\n",
        "    \"\"\"\n",
        "    Dibuja el brazo mecánico 2D con los parámetros dados o los valores almacenados en el estado global.\n",
        "\n",
        "    Esta función dibuja un brazo robótico de dos articulaciones basado en los ángulos y longitudes de los segmentos.\n",
        "    También puede mostrar un punto de referencia y, opcionalmente, la orientación final del brazo si se proporciona\n",
        "    la matriz de transformación homogénea H_evaluada.\n",
        "\n",
        "    Parámetros:\n",
        "    theta1 (float, opcional): Ángulo de la primera articulación en radianes. Si no se proporciona, se usa el valor almacenado en el estado.\n",
        "    theta2 (float, opcional): Ángulo de la segunda articulación en radianes. Si no se proporciona, se usa el valor almacenado en el estado.\n",
        "    l1 (float, opcional): Longitud del primer brazo. Si no se proporciona, se usa el valor almacenado en el estado.\n",
        "    l2 (float, opcional): Longitud del segundo brazo. Si no se proporciona, se usa el valor almacenado en el estado.\n",
        "    x_random (float, opcional): Coordenada X del punto de referencia a dibujar. Si no se proporciona, se usa el valor almacenado en el estado.\n",
        "    y_random (float, opcional): Coordenada Y del punto de referencia a dibujar. Si no se proporciona, se usa el valor almacenado en el estado.\n",
        "    H_evaluada (numpy.ndarray, opcional): Matriz de transformación homogénea 4x4 para obtener la orientación del brazo.\n",
        "\n",
        "    Retorna:\n",
        "    None: La función dibuja la representación gráfica del brazo en su estado actual.\n",
        "\n",
        "    \"\"\"\n",
        "    global estado_brazo\n",
        "\n",
        "    # Si se pasan nuevos valores, actualizamos el estado\n",
        "    if theta1 is not None:\n",
        "        estado_brazo[\"theta1\"] = theta1\n",
        "    if theta2 is not None:\n",
        "        estado_brazo[\"theta2\"] = theta2\n",
        "    if l1 is not None:\n",
        "        estado_brazo[\"l1\"] = l1\n",
        "    if l2 is not None:\n",
        "        estado_brazo[\"l2\"] = l2\n",
        "    if x_random is not None:\n",
        "        estado_brazo[\"x_random\"] = x_random\n",
        "    if y_random is not None:\n",
        "        estado_brazo[\"y_random\"] = y_random\n",
        "\n",
        "    # Verificamos que los valores necesarios existan\n",
        "    if None in [estado_brazo[\"theta1\"], estado_brazo[\"theta2\"], estado_brazo[\"l1\"], estado_brazo[\"l2\"], estado_brazo[\"x_random\"], estado_brazo[\"y_random\"]]:\n",
        "        print(\"Faltan valores iniciales. Por favor proporciónalos todos en la primera llamada.\")\n",
        "        return\n",
        "\n",
        "    # Usamos los valores almacenados\n",
        "    theta1 = estado_brazo[\"theta1\"]\n",
        "    theta2 = estado_brazo[\"theta2\"]\n",
        "    l1 = estado_brazo[\"l1\"]\n",
        "    l2 = estado_brazo[\"l2\"]\n",
        "    x_random = estado_brazo[\"x_random\"]\n",
        "    y_random = estado_brazo[\"y_random\"]\n",
        "\n",
        "    # Calculamos la posición del efector final\n",
        "    x1 = l1 * np.cos(theta1)\n",
        "    y1 = l1 * np.sin(theta1)\n",
        "    x2 = x1 + l2 * np.cos(theta1 + theta2)\n",
        "    y2 = y1 + l2 * np.sin(theta1 + theta2)\n",
        "\n",
        "    # Dibujando el brazo\n",
        "    plt.figure(figsize=(6, 6))\n",
        "    plt.plot([0, x1], [0, y1], 'b-', linewidth=5)  # Primer enlace\n",
        "    plt.plot([x1, x2], [y1, y2], 'b-', linewidth=5)  # Segundo enlace\n",
        "    plt.plot(0, 0, 'ro', markersize=10)  # Base\n",
        "    plt.plot(x2, y2, 'go', markersize=10)  # Efector final\n",
        "\n",
        "    # Dibujar el punto\n",
        "    plt.plot(x_random, y_random, 'mo', markersize=10, label=\"Punto de referencia\")\n",
        "\n",
        "    # Si se pasa la matriz H_evaluada, dibujar la orientación\n",
        "    if H_evaluada is not None:\n",
        "        theta_final = np.arctan2(H_evaluada[1, 0], H_evaluada[0, 0])  # Ángulo de rotación\n",
        "        arrow_length = 0.5\n",
        "        dx = arrow_length * np.cos(theta_final)\n",
        "        dy = arrow_length * np.sin(theta_final)\n",
        "        plt.quiver(x2, y2, dx, dy, angles='xy', scale_units='xy', scale=1, color='r', width=0.005, label='Orientación')\n",
        "\n",
        "    # Configuraciones del gráfico\n",
        "    plt.xlim([-3, 3])\n",
        "    plt.ylim([-3, 3])\n",
        "    plt.xlabel(\"X\")\n",
        "    plt.ylabel(\"Y\")\n",
        "    plt.title(\"Brazo Mecánico 2\")\n",
        "    plt.grid(True)\n",
        "    plt.legend()\n",
        "    plt.show()"
      ]
    },
    {
      "cell_type": "code",
      "source": [
        "def calcular_movimiento_brazo(x_objetivo, y_objetivo, l1, l2, theta1_actual, theta2_actual):\n",
        "    \"\"\"\n",
        "    Calcula los nuevos ángulos de las articulaciones de un brazo robótico para alcanzar un objetivo 2D.\n",
        "\n",
        "    Utiliza el método de la ley de cosenos para calcular los ángulos necesarios de las articulaciones\n",
        "    para que el efector final del brazo alcance el punto objetivo (x_objetivo, y_objetivo).\n",
        "\n",
        "    Parámetros:\n",
        "    x_objetivo (float): Coordenada X del objetivo que se quiere alcanzar.\n",
        "    y_objetivo (float): Coordenada Y del objetivo que se quiere alcanzar.\n",
        "    l1 (float): Longitud del primer brazo del manipulador.\n",
        "    l2 (float): Longitud del segundo brazo del manipulador.\n",
        "    theta1_actual (float): Ángulo actual de la primera articulación en grados.\n",
        "    theta2_actual (float): Ángulo actual de la segunda articulación en grados.\n",
        "\n",
        "    Retorna:\n",
        "    dict: Un diccionario con los nuevos ángulos de las articulaciones en grados:\n",
        "          'theta1_nuevo': Ángulo de la primera articulación en grados.\n",
        "          'theta2_nuevo': Ángulo de la segunda articulación en grados.\n",
        "\n",
        "    Excepción:\n",
        "    Lanza un ValueError si el objetivo está fuera del alcance del brazo.\n",
        "    \"\"\"\n",
        "\n",
        "    # Calcular la distancia al objetivo (distancia euclidiana entre el origen y el objetivo)\n",
        "    distancia_objetivo = np.hypot(x_objetivo, y_objetivo)\n",
        "\n",
        "    # Verificar si el objetivo está dentro del alcance del brazo (la distancia no puede ser mayor que la suma de los brazos ni menor que la diferencia)\n",
        "    if distancia_objetivo > (l1 + l2) or distancia_objetivo < abs(l1 - l2):\n",
        "        raise ValueError(\"El punto objetivo está fuera del alcance del brazo.\")\n",
        "\n",
        "    # Ley de cosenos para calcular el ángulo de la segunda articulación (theta2)\n",
        "    cos_theta2 = (x_objetivo**2 + y_objetivo**2 - l1**2 - l2**2) / (2 * l1 * l2)\n",
        "    theta2_nuevo = np.arccos(np.clip(cos_theta2, -1.0, 1.0))  # Aplicar un 'clipping' por seguridad para evitar valores fuera del rango válido de arccos\n",
        "\n",
        "    # Calcular el ángulo de la primera articulación (theta1) utilizando el ángulo calculado de la segunda articulación (theta2)\n",
        "    k1 = l1 + l2 * np.cos(theta2_nuevo)\n",
        "    k2 = l2 * np.sin(theta2_nuevo)\n",
        "\n",
        "    # Ángulo de la primera articulación, calculado con la función arctan2\n",
        "    theta1_nuevo = np.arctan2(y_objetivo, x_objetivo) - np.arctan2(k2, k1)\n",
        "\n",
        "    # Convertir los resultados de radianes a grados\n",
        "    theta1_nuevo_grados = np.degrees(theta1_nuevo)\n",
        "    theta2_nuevo_grados = np.degrees(theta2_nuevo)\n",
        "\n",
        "    # Retornar los resultados como un diccionario con los nuevos ángulos en grados\n",
        "    return {\n",
        "        'theta1_nuevo': theta1_nuevo_grados,\n",
        "        'theta2_nuevo': theta2_nuevo_grados,\n",
        "    }\n"
      ],
      "metadata": {
        "id": "a2vs_AUh18pj"
      },
      "id": "a2vs_AUh18pj",
      "execution_count": 315,
      "outputs": []
    },
    {
      "cell_type": "markdown",
      "id": "0LsCvdrkEYqT",
      "metadata": {
        "id": "0LsCvdrkEYqT"
      },
      "source": [
        "## Ejemplo de manipulación del brazo robotico en su estado final"
      ]
    },
    {
      "cell_type": "markdown",
      "source": [
        "# **Se le pasa el punto nuevo, de referencia por parametros**"
      ],
      "metadata": {
        "id": "e8LNjNL8zvlg"
      },
      "id": "e8LNjNL8zvlg"
    },
    {
      "cell_type": "code",
      "execution_count": 316,
      "id": "yHJG-FLr9DV2",
      "metadata": {
        "colab": {
          "base_uri": "https://localhost:8080/",
          "height": 564
        },
        "id": "yHJG-FLr9DV2",
        "outputId": "3fc8adc1-506c-4d3d-86f4-6cfd96c90eb6"
      },
      "outputs": [
        {
          "output_type": "display_data",
          "data": {
            "text/plain": [
              "<Figure size 600x600 with 1 Axes>"
            ],
            "image/png": "[encoded data removed]"
          },
          "metadata": {}
        }
      ],
      "source": [
        "theta1_valor = np.radians (45)\n",
        "theta2_valor = np.radians(-120)\n",
        "x_objetivo = 1.5\n",
        "y_objetivo = -1.2\n",
        "\n",
        "l1_valor = 2\n",
        "l2_valor = 2\n",
        "dibujar_brazo_mecanico(theta1_valor, theta2_valor, l1_valor, l2_valor, x_objetivo, y_objetivo)"
      ]
    },
    {
      "cell_type": "markdown",
      "id": "PXKx1zldEyCV",
      "metadata": {
        "id": "PXKx1zldEyCV"
      },
      "source": [
        "## **Taller**\n",
        "\n",
        "*  Dibujar cada estado del anterior brazo robótico\n",
        "*  Imagine un brazo robótico cuyas extremidades miden 2 unidades cada una. Podría este brazo alcanzar cualquier objeto dentro de la cuadricula de 2 x 2? Explique detalladamente su razonamiento"
      ]
    },
    {
      "cell_type": "markdown",
      "source": [
        "# **EXPERIMENTO 1**"
      ],
      "metadata": {
        "id": "6yuAeB635PCr"
      },
      "id": "6yuAeB635PCr"
    },
    {
      "cell_type": "markdown",
      "source": [
        "**Usamos el vector la matriz homogenea que nos permite obtener la posicion final del brazo robotico y la rotacion de este mismo.**"
      ],
      "metadata": {
        "id": "WVcZXVqy0Q1G"
      },
      "id": "WVcZXVqy0Q1G"
    },
    {
      "cell_type": "code",
      "source": [
        "H_evaluada = np.array(H.subs({theta_1: theta1_valor, theta_2: theta2_valor, l_1: l1_valor, l_2: l2_valor})).astype(np.float64)\n",
        "\n",
        "# Llamar a la función\n",
        "x_inicial, y_inicial, angulo = obtener_posicion_y_rotacion(H_evaluada)\n",
        "\n",
        "# Mostrar resultados\n",
        "print(H_evaluada)\n",
        "print(f\"Posición final: x = {x_inicial}, y = {y_inicial}\")\n",
        "print(f\"Ángulo de rotación: {angulo} grados\")"
      ],
      "metadata": {
        "colab": {
          "base_uri": "https://localhost:8080/"
        },
        "id": "1MZhO6KDOO5X",
        "outputId": "18542f47-58c1-4024-dcfe-f634e8178b58"
      },
      "id": "1MZhO6KDOO5X",
      "execution_count": 317,
      "outputs": [
        {
          "output_type": "stream",
          "name": "stdout",
          "text": [
            "[[ 0.25881905  0.96592583  0.          1.93185165]\n",
            " [-0.96592583  0.25881905  0.         -0.51763809]\n",
            " [ 0.          0.          1.          0.        ]\n",
            " [ 0.          0.          0.          1.        ]]\n",
            "Posición final: x = 1.931851652578137, y = -0.5176380902050415\n",
            "Ángulo de rotación: -74.99999999999999 grados\n"
          ]
        }
      ]
    },
    {
      "cell_type": "code",
      "source": [
        "resultados = calcular_movimiento_brazo(x_objetivo, y_objetivo, l1_valor, l2_valor, theta1_valor, theta2_valor)\n",
        "\n",
        "print(f\"Nuevo theta1: {resultados['theta1_nuevo']:.2f} grados\")\n",
        "print(f\"Nuevo theta2: {resultados['theta2_nuevo']:.2f} grados\")\n",
        "\n",
        "new_theta1 = np.radians(resultados['theta1_nuevo'])\n",
        "new_theta2 = np.radians(resultados['theta2_nuevo'])"
      ],
      "metadata": {
        "colab": {
          "base_uri": "https://localhost:8080/"
        },
        "id": "AxNCOmaD2BPR",
        "outputId": "6a574e83-d292-4e61-a666-52a09cd5cd58"
      },
      "id": "AxNCOmaD2BPR",
      "execution_count": 318,
      "outputs": [
        {
          "output_type": "stream",
          "name": "stdout",
          "text": [
            "Nuevo theta1: -99.96 grados\n",
            "Nuevo theta2: 122.60 grados\n"
          ]
        }
      ]
    },
    {
      "cell_type": "code",
      "source": [
        "# Llamamos a la función para dibujar el movimiento del brazo\n",
        "print (\"Ubicacion inicial del brazo\")\n",
        "dibujar_brazo_mecanico(theta1_valor, theta2_valor, l1_valor, l2_valor)\n",
        "print (\"Ubicacion Final del brazo\")\n",
        "dibujar_brazo_mecanico(new_theta1, new_theta2, l1_valor, l2_valor)"
      ],
      "metadata": {
        "colab": {
          "base_uri": "https://localhost:8080/",
          "height": 1000
        },
        "id": "NuSDTCSMsYZq",
        "outputId": "b535c125-ec9c-46f8-e332-c0cdb5ab390b"
      },
      "id": "NuSDTCSMsYZq",
      "execution_count": 319,
      "outputs": [
        {
          "output_type": "stream",
          "name": "stdout",
          "text": [
            "Ubicacion inicial del brazo\n"
          ]
        },
        {
          "output_type": "display_data",
          "data": {
            "text/plain": [
              "<Figure size 600x600 with 1 Axes>"
            ],
            "image/png": "[encoded data removed]"
          },
          "metadata": {}
        },
        {
          "output_type": "stream",
          "name": "stdout",
          "text": [
            "Ubicacion Final del brazo\n"
          ]
        },
        {
          "output_type": "display_data",
          "data": {
            "text/plain": [
              "<Figure size 600x600 with 1 Axes>"
            ],
            "image/png": "[encoded data removed]"
          },
          "metadata": {}
        }
      ]
    },
    {
      "cell_type": "code",
      "source": [
        "H_evaluada = np.array(H.subs({theta_1: new_theta1, theta_2: new_theta2, l_1: l1_valor, l_2: l2_valor})).astype(np.float64)\n",
        "\n",
        "# Llamar a la función\n",
        "x, y, angulo = obtener_posicion_y_rotacion(H_evaluada)\n",
        "\n",
        "# Mostrar resultados\n",
        "print(H_evaluada)\n",
        "print(f\"Posición final: x = {x}, y = {y}\")\n",
        "print(f\"Ángulo de rotación: {angulo} grados\")"
      ],
      "metadata": {
        "colab": {
          "base_uri": "https://localhost:8080/"
        },
        "id": "s2xOHgCzyeoN",
        "outputId": "b55dbd2b-4f44-4409-b09a-3ab391790d0b"
      },
      "id": "s2xOHgCzyeoN",
      "execution_count": 320,
      "outputs": [
        {
          "output_type": "stream",
          "name": "stdout",
          "text": [
            "[[ 0.92294516 -0.38493145  0.          1.5       ]\n",
            " [ 0.38493145  0.92294516  0.         -1.2       ]\n",
            " [ 0.          0.          1.          0.        ]\n",
            " [ 0.          0.          0.          1.        ]]\n",
            "Posición final: x = 1.5000000000000002, y = -1.2000000000000002\n",
            "Ángulo de rotación: 22.63948495002465 grados\n"
          ]
        }
      ]
    },
    {
      "cell_type": "markdown",
      "source": [
        "# **EXPERIMENTO 2**"
      ],
      "metadata": {
        "id": "UUpTK6oR5QXr"
      },
      "id": "UUpTK6oR5QXr"
    },
    {
      "cell_type": "code",
      "source": [
        "theta1_valor = np.radians (120)\n",
        "theta2_valor = np.radians(-100)\n",
        "x_objetivo = 2\n",
        "y_objetivo = -1\n",
        "\n",
        "l1_valor = 2\n",
        "l2_valor = 2\n",
        "\n",
        "dibujar_brazo_mecanico(theta1_valor, theta2_valor, l1_valor, l2_valor, x_objetivo, y_objetivo)"
      ],
      "metadata": {
        "colab": {
          "base_uri": "https://localhost:8080/",
          "height": 564
        },
        "id": "lc_o_OgZ5Ti6",
        "outputId": "e74fae08-fa7a-4530-dd35-f6c1f8120543"
      },
      "id": "lc_o_OgZ5Ti6",
      "execution_count": 326,
      "outputs": [
        {
          "output_type": "display_data",
          "data": {
            "text/plain": [
              "<Figure size 600x600 with 1 Axes>"
            ],
            "image/png": "[encoded data removed]"
          },
          "metadata": {}
        }
      ]
    },
    {
      "cell_type": "code",
      "source": [
        "H_evaluada = np.array(H.subs({theta_1: theta1_valor, theta_2: theta2_valor, l_1: l1_valor, l_2: l2_valor})).astype(np.float64)\n",
        "\n",
        "# Llamar a la función\n",
        "x_inicial, y_inicial, angulo = obtener_posicion_y_rotacion(H_evaluada)\n",
        "\n",
        "# Mostrar resultados\n",
        "print(H_evaluada)\n",
        "print(f\"Posición final: x = {x_inicial}, y = {y_inicial}\")\n",
        "print(f\"Ángulo de rotación: {angulo} grados\")"
      ],
      "metadata": {
        "colab": {
          "base_uri": "https://localhost:8080/"
        },
        "id": "ojtBLFQ15kVu",
        "outputId": "16b95d9f-d6d1-490b-e234-59548e363957"
      },
      "id": "ojtBLFQ15kVu",
      "execution_count": 327,
      "outputs": [
        {
          "output_type": "stream",
          "name": "stdout",
          "text": [
            "[[ 0.93969262 -0.34202014  0.          0.87938524]\n",
            " [ 0.34202014  0.93969262  0.          2.41609109]\n",
            " [ 0.          0.          1.          0.        ]\n",
            " [ 0.          0.          0.          1.        ]]\n",
            "Posición final: x = 0.8793852415718173, y = 2.4160910942202145\n",
            "Ángulo de rotación: 19.99999999999999 grados\n"
          ]
        }
      ]
    },
    {
      "cell_type": "code",
      "source": [
        "resultados = calcular_movimiento_brazo(x_objetivo, y_objetivo, l1_valor, l2_valor, theta1_valor, theta2_valor)\n",
        "\n",
        "print(f\"Nuevo theta1: {resultados['theta1_nuevo']:.2f} grados\")\n",
        "print(f\"Nuevo theta2: {resultados['theta2_nuevo']:.2f} grados\")\n",
        "\n",
        "new_theta1 = np.radians(resultados['theta1_nuevo'])\n",
        "new_theta2 = np.radians(resultados['theta2_nuevo'])"
      ],
      "metadata": {
        "colab": {
          "base_uri": "https://localhost:8080/"
        },
        "id": "8zHCrpia5ygq",
        "outputId": "a8c72763-3f44-4136-aabc-2426be097d09"
      },
      "id": "8zHCrpia5ygq",
      "execution_count": 328,
      "outputs": [
        {
          "output_type": "stream",
          "name": "stdout",
          "text": [
            "Nuevo theta1: -82.58 grados\n",
            "Nuevo theta2: 112.02 grados\n"
          ]
        }
      ]
    },
    {
      "cell_type": "code",
      "source": [
        "# Llamamos a la función para dibujar el movimiento del brazo\n",
        "print (\"Ubicacion inicial del brazo\")\n",
        "dibujar_brazo_mecanico(theta1_valor, theta2_valor, l1_valor, l2_valor)\n",
        "print (\"Ubicacion Final del brazo\")\n",
        "dibujar_brazo_mecanico(new_theta1, new_theta2, l1_valor, l2_valor)"
      ],
      "metadata": {
        "colab": {
          "base_uri": "https://localhost:8080/",
          "height": 1000
        },
        "id": "BoO-jVa952ZC",
        "outputId": "47887f99-5ef9-4fec-bd1d-a08b401892ac"
      },
      "id": "BoO-jVa952ZC",
      "execution_count": 329,
      "outputs": [
        {
          "output_type": "stream",
          "name": "stdout",
          "text": [
            "Ubicacion inicial del brazo\n"
          ]
        },
        {
          "output_type": "display_data",
          "data": {
            "text/plain": [
              "<Figure size 600x600 with 1 Axes>"
            ],
            "image/png": "[encoded data removed]"
          },
          "metadata": {}
        },
        {
          "output_type": "stream",
          "name": "stdout",
          "text": [
            "Ubicacion Final del brazo\n"
          ]
        },
        {
          "output_type": "display_data",
          "data": {
            "text/plain": [
              "<Figure size 600x600 with 1 Axes>"
            ],
            "image/png": "[encoded data removed]"
          },
          "metadata": {}
        }
      ]
    },
    {
      "cell_type": "markdown",
      "source": [
        "**Conclusión**"
      ],
      "metadata": {
        "id": "gUwee8M-CHZQ"
      },
      "id": "gUwee8M-CHZQ"
    },
    {
      "cell_type": "markdown",
      "source": [
        "**En un sistema 2x2 y en el un brazo robotico con dos extremidades, pusimos de manera alazar puntos dentro de este mismo y ubicamos el final de la mano del robot en ese punto. Como imaginamos inicialmente hemos visto que sin importar donde ubiquemos el punto, el brazo proda llegar hasta el.**"
      ],
      "metadata": {
        "id": "Zihf67OnBQUG"
      },
      "id": "Zihf67OnBQUG"
    }
  ],
  "metadata": {
    "colab": {
      "provenance": []
    },
    "kernelspec": {
      "display_name": "Python 3 (ipykernel)",
      "language": "python",
      "name": "python3"
    },
    "language_info": {
      "codemirror_mode": {
        "name": "ipython",
        "version": 3
      },
      "file_extension": ".py",
      "mimetype": "text/x-python",
      "name": "python",
      "nbconvert_exporter": "python",
      "pygments_lexer": "ipython3",
      "version": "3.10.12"
    }
  },
  "nbformat": 4,
  "nbformat_minor": 5
}