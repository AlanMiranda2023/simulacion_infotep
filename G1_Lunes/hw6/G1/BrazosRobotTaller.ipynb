{
  "cells": [
    {
      "cell_type": "markdown",
      "id": "2f6be8c8",
      "metadata": {
        "id": "2f6be8c8"
      },
      "source": [
        "# **Cinemática de un robot planar**\n",
        "\n",
        "**Docente:** PhD Jorge Rudas\n",
        "\n",
        "**Diseño de prototipos - 2025 I**\n",
        "\n",
        "**INFOTEP**"
      ]
    },
    {
      "cell_type": "markdown",
      "id": "f6913b83",
      "metadata": {
        "id": "f6913b83"
      },
      "source": [
        "## Importar librerias"
      ]
    },
    {
      "cell_type": "code",
      "execution_count": 1,
      "id": "82ae37d8",
      "metadata": {
        "id": "82ae37d8"
      },
      "outputs": [],
      "source": [
        "import numpy as np\n",
        "from sympy import*\n",
        "init_printing()"
      ]
    },
    {
      "cell_type": "markdown",
      "id": "9c4c1f12",
      "metadata": {
        "id": "9c4c1f12"
      },
      "source": [
        "## Se crean variables simbólicas"
      ]
    },
    {
      "cell_type": "code",
      "execution_count": 2,
      "id": "0d328921",
      "metadata": {
        "id": "0d328921"
      },
      "outputs": [],
      "source": [
        "## Variables Simbolicas\n",
        "theta_1 = symbols(\"theta_1\",  real=True)\n",
        "theta_2 = symbols(\"theta_2\",  real=True)\n",
        "l_1 = symbols(\"l_1\",  real=True)\n",
        "l_2 = symbols(\"l_2\",  real=True)"
      ]
    },
    {
      "cell_type": "markdown",
      "id": "a472e104",
      "metadata": {
        "id": "a472e104"
      },
      "source": [
        "## Transformación desde el estado 0 al estado 1"
      ]
    },
    {
      "cell_type": "code",
      "execution_count": 3,
      "id": "2db33fec",
      "metadata": {
        "id": "2db33fec"
      },
      "outputs": [],
      "source": [
        "_0H1 = Matrix([[cos(theta_1), -sin(theta_1), 0, 0], [sin(theta_1), cos(theta_1), 0, 0], [0, 0, 1, 0], [0, 0, 0, 1]])"
      ]
    },
    {
      "cell_type": "code",
      "execution_count": 4,
      "id": "53b4ecc0",
      "metadata": {
        "colab": {
          "base_uri": "https://localhost:8080/",
          "height": 98
        },
        "id": "53b4ecc0",
        "outputId": "951513ab-1306-45cc-d36b-6b64dc863647"
      },
      "outputs": [
        {
          "output_type": "execute_result",
          "data": {
            "text/plain": [
              "⎡cos(θ₁)  -sin(θ₁)  0  0⎤\n",
              "⎢                       ⎥\n",
              "⎢sin(θ₁)  cos(θ₁)   0  0⎥\n",
              "⎢                       ⎥\n",
              "⎢   0        0      1  0⎥\n",
              "⎢                       ⎥\n",
              "⎣   0        0      0  1⎦"
            ],
            "text/latex": "$\\displaystyle \\left[\\begin{matrix}\\cos{\\left(\\theta_{1} \\right)} & - \\sin{\\left(\\theta_{1} \\right)} & 0 & 0\\\\\\sin{\\left(\\theta_{1} \\right)} & \\cos{\\left(\\theta_{1} \\right)} & 0 & 0\\\\0 & 0 & 1 & 0\\\\0 & 0 & 0 & 1\\end{matrix}\\right]$"
          },
          "metadata": {},
          "execution_count": 4
        }
      ],
      "source": [
        "_0H1\n"
      ]
    },
    {
      "cell_type": "markdown",
      "id": "21855c8f",
      "metadata": {
        "id": "21855c8f"
      },
      "source": [
        "## Transformación desde el estado 1 al estado 2"
      ]
    },
    {
      "cell_type": "code",
      "execution_count": 5,
      "id": "d70da5f8",
      "metadata": {
        "id": "d70da5f8"
      },
      "outputs": [],
      "source": [
        "_1H2 = Matrix([[1, 0, 0, l_1], [0, 1, 0, 0], [0, 0, 1, 0], [0, 0, 0, 1]])"
      ]
    },
    {
      "cell_type": "code",
      "execution_count": 6,
      "id": "c1828bac",
      "metadata": {
        "colab": {
          "base_uri": "https://localhost:8080/",
          "height": 98
        },
        "id": "c1828bac",
        "outputId": "6130f1ad-48f1-48c6-90b8-dfc0b0c50b9b"
      },
      "outputs": [
        {
          "output_type": "execute_result",
          "data": {
            "text/plain": [
              "⎡1  0  0  l₁⎤\n",
              "⎢           ⎥\n",
              "⎢0  1  0  0 ⎥\n",
              "⎢           ⎥\n",
              "⎢0  0  1  0 ⎥\n",
              "⎢           ⎥\n",
              "⎣0  0  0  1 ⎦"
            ],
            "text/latex": "$\\displaystyle \\left[\\begin{matrix}1 & 0 & 0 & l_{1}\\\\0 & 1 & 0 & 0\\\\0 & 0 & 1 & 0\\\\0 & 0 & 0 & 1\\end{matrix}\\right]$"
          },
          "metadata": {},
          "execution_count": 6
        }
      ],
      "source": [
        "_1H2"
      ]
    },
    {
      "cell_type": "markdown",
      "id": "9bde084c",
      "metadata": {
        "id": "9bde084c"
      },
      "source": [
        "## Transformación desde el estado 2 al estado 3"
      ]
    },
    {
      "cell_type": "code",
      "execution_count": 7,
      "id": "60197018",
      "metadata": {
        "id": "60197018"
      },
      "outputs": [],
      "source": [
        "_2H3 = Matrix([[cos(theta_2), -sin(theta_2), 0, 0], [sin(theta_2), cos(theta_2), 0, 0], [0, 0, 1, 0], [0, 0, 0, 1]])"
      ]
    },
    {
      "cell_type": "code",
      "execution_count": 8,
      "id": "0a4fb170",
      "metadata": {
        "colab": {
          "base_uri": "https://localhost:8080/",
          "height": 98
        },
        "id": "0a4fb170",
        "outputId": "5fc431c3-803e-45bc-c752-f7fde0fd7c13"
      },
      "outputs": [
        {
          "output_type": "execute_result",
          "data": {
            "text/plain": [
              "⎡cos(θ₂)  -sin(θ₂)  0  0⎤\n",
              "⎢                       ⎥\n",
              "⎢sin(θ₂)  cos(θ₂)   0  0⎥\n",
              "⎢                       ⎥\n",
              "⎢   0        0      1  0⎥\n",
              "⎢                       ⎥\n",
              "⎣   0        0      0  1⎦"
            ],
            "text/latex": "$\\displaystyle \\left[\\begin{matrix}\\cos{\\left(\\theta_{2} \\right)} & - \\sin{\\left(\\theta_{2} \\right)} & 0 & 0\\\\\\sin{\\left(\\theta_{2} \\right)} & \\cos{\\left(\\theta_{2} \\right)} & 0 & 0\\\\0 & 0 & 1 & 0\\\\0 & 0 & 0 & 1\\end{matrix}\\right]$"
          },
          "metadata": {},
          "execution_count": 8
        }
      ],
      "source": [
        "_2H3"
      ]
    },
    {
      "cell_type": "markdown",
      "id": "a53aa5ef",
      "metadata": {
        "id": "a53aa5ef"
      },
      "source": [
        "## Transformación desde el estado 3 al estado 4"
      ]
    },
    {
      "cell_type": "code",
      "execution_count": 9,
      "id": "032e6c76",
      "metadata": {
        "id": "032e6c76"
      },
      "outputs": [],
      "source": [
        "_3H4 = Matrix([[1, 0, 0, l_2], [0, 1, 0, 0], [0, 0, 1, 0], [0, 0, 0, 1]])"
      ]
    },
    {
      "cell_type": "code",
      "execution_count": 10,
      "id": "fcee8c4f",
      "metadata": {
        "colab": {
          "base_uri": "https://localhost:8080/",
          "height": 98
        },
        "id": "fcee8c4f",
        "outputId": "ea8cf29b-df1b-4c22-f147-5d6102530e6c"
      },
      "outputs": [
        {
          "output_type": "execute_result",
          "data": {
            "text/plain": [
              "⎡1  0  0  l₂⎤\n",
              "⎢           ⎥\n",
              "⎢0  1  0  0 ⎥\n",
              "⎢           ⎥\n",
              "⎢0  0  1  0 ⎥\n",
              "⎢           ⎥\n",
              "⎣0  0  0  1 ⎦"
            ],
            "text/latex": "$\\displaystyle \\left[\\begin{matrix}1 & 0 & 0 & l_{2}\\\\0 & 1 & 0 & 0\\\\0 & 0 & 1 & 0\\\\0 & 0 & 0 & 1\\end{matrix}\\right]$"
          },
          "metadata": {},
          "execution_count": 10
        }
      ],
      "source": [
        "_3H4\n"
      ]
    },
    {
      "cell_type": "markdown",
      "id": "4fa64a74",
      "metadata": {
        "id": "4fa64a74"
      },
      "source": [
        "## Composición de cada estado de la cinemática"
      ]
    },
    {
      "cell_type": "code",
      "execution_count": 11,
      "id": "15f37bda",
      "metadata": {
        "id": "15f37bda"
      },
      "outputs": [],
      "source": [
        "H = simplify(_0H1@_1H2@_2H3@_3H4)"
      ]
    },
    {
      "cell_type": "code",
      "execution_count": 12,
      "id": "6c2ed8ad",
      "metadata": {
        "colab": {
          "base_uri": "https://localhost:8080/",
          "height": 98
        },
        "id": "6c2ed8ad",
        "outputId": "9ed2a022-49e8-4bca-a14f-0a129ab3383e"
      },
      "outputs": [
        {
          "output_type": "execute_result",
          "data": {
            "text/plain": [
              "⎡cos(θ₁ + θ₂)  -sin(θ₁ + θ₂)  0  l₁⋅cos(θ₁) + l₂⋅cos(θ₁ + θ₂)⎤\n",
              "⎢                                                            ⎥\n",
              "⎢sin(θ₁ + θ₂)  cos(θ₁ + θ₂)   0  l₁⋅sin(θ₁) + l₂⋅sin(θ₁ + θ₂)⎥\n",
              "⎢                                                            ⎥\n",
              "⎢     0              0        1               0              ⎥\n",
              "⎢                                                            ⎥\n",
              "⎣     0              0        0               1              ⎦"
            ],
            "text/latex": "$\\displaystyle \\left[\\begin{matrix}\\cos{\\left(\\theta_{1} + \\theta_{2} \\right)} & - \\sin{\\left(\\theta_{1} + \\theta_{2} \\right)} & 0 & l_{1} \\cos{\\left(\\theta_{1} \\right)} + l_{2} \\cos{\\left(\\theta_{1} + \\theta_{2} \\right)}\\\\\\sin{\\left(\\theta_{1} + \\theta_{2} \\right)} & \\cos{\\left(\\theta_{1} + \\theta_{2} \\right)} & 0 & l_{1} \\sin{\\left(\\theta_{1} \\right)} + l_{2} \\sin{\\left(\\theta_{1} + \\theta_{2} \\right)}\\\\0 & 0 & 1 & 0\\\\0 & 0 & 0 & 1\\end{matrix}\\right]$"
          },
          "metadata": {},
          "execution_count": 12
        }
      ],
      "source": [
        "H"
      ]
    },
    {
      "cell_type": "markdown",
      "id": "98f93492",
      "metadata": {
        "id": "98f93492"
      },
      "source": [
        "## Posición del efector final"
      ]
    },
    {
      "cell_type": "code",
      "execution_count": 13,
      "id": "f8de3b60",
      "metadata": {
        "id": "f8de3b60"
      },
      "outputs": [],
      "source": [
        "P = H[0:2, 3]"
      ]
    },
    {
      "cell_type": "code",
      "execution_count": 14,
      "id": "c9f85211",
      "metadata": {
        "colab": {
          "base_uri": "https://localhost:8080/",
          "height": 58
        },
        "id": "c9f85211",
        "outputId": "9fdc6881-1dc9-4f6a-acce-eff604998c27"
      },
      "outputs": [
        {
          "output_type": "execute_result",
          "data": {
            "text/plain": [
              "⎡l₁⋅cos(θ₁) + l₂⋅cos(θ₁ + θ₂)⎤\n",
              "⎢                            ⎥\n",
              "⎣l₁⋅sin(θ₁) + l₂⋅sin(θ₁ + θ₂)⎦"
            ],
            "text/latex": "$\\displaystyle \\left[\\begin{matrix}l_{1} \\cos{\\left(\\theta_{1} \\right)} + l_{2} \\cos{\\left(\\theta_{1} + \\theta_{2} \\right)}\\\\l_{1} \\sin{\\left(\\theta_{1} \\right)} + l_{2} \\sin{\\left(\\theta_{1} + \\theta_{2} \\right)}\\end{matrix}\\right]$"
          },
          "metadata": {},
          "execution_count": 14
        }
      ],
      "source": [
        "P"
      ]
    },
    {
      "cell_type": "code",
      "execution_count": 15,
      "id": "GNXclDgo83lm",
      "metadata": {
        "id": "GNXclDgo83lm"
      },
      "outputs": [],
      "source": [
        "import matplotlib.pyplot as plt\n",
        "import numpy as np\n",
        "\n",
        "def dibujar_brazo_mecanico(theta1, theta2, l1, l2):\n",
        "  \"\"\"Función para dibujar un brazo mecanico con 2 grados de libertad.\n",
        "\n",
        "  Parametros:\n",
        "    theta1: Angulo de la primera articulacion en radianes.\n",
        "    theta2: Angulo de la segunda articulacion en radianes.\n",
        "    l1: Longitud del primer extremo\n",
        "    l2: Longitud del segundo extremo\n",
        "  \"\"\"\n",
        "\n",
        "  # Calculamos la posición del efector final\n",
        "  x1 = l1 * np.cos(theta1)\n",
        "  y1 = l1 * np.sin(theta1)\n",
        "  x2 = x1 + l2 * np.cos(theta1 + theta2)\n",
        "  y2 = y1 + l2 * np.sin(theta1 + theta2)\n",
        "\n",
        "  # Dibujando el brazo con lineas y puntos\n",
        "  plt.figure(figsize=(6, 6))\n",
        "  plt.plot([0, x1], [0, y1], 'b-', linewidth=5)  # First link\n",
        "  plt.plot([x1, x2], [y1, y2], 'b-', linewidth=5)  # Second link\n",
        "  plt.plot(0, 0, 'ro', markersize=10)  # Base\n",
        "  plt.plot(x2, y2, 'go', markersize=10)  # End-effector\n",
        "\n",
        "  # Se dibujan los límites y los labels\n",
        "  plt.xlim([-l1 - l2, l1 + l2])\n",
        "  plt.ylim([-l1 - l2, l1 + l2])\n",
        "  plt.xlabel('X')\n",
        "  plt.ylabel('Y')\n",
        "  plt.title('Brazo robótico')\n",
        "  plt.grid(True)\n",
        "  plt.show()"
      ]
    },
    {
      "cell_type": "markdown",
      "id": "0LsCvdrkEYqT",
      "metadata": {
        "id": "0LsCvdrkEYqT"
      },
      "source": [
        "## Ejemplo de manipulación del brazo robotico en su estado final"
      ]
    },
    {
      "cell_type": "code",
      "execution_count": 20,
      "id": "yHJG-FLr9DV2",
      "metadata": {
        "colab": {
          "base_uri": "https://localhost:8080/",
          "height": 564
        },
        "id": "yHJG-FLr9DV2",
        "outputId": "ee36268f-6ac1-4ec7-a62c-1d174bf07d8b"
      },
      "outputs": [
        {
          "output_type": "display_data",
          "data": {
            "text/plain": [
              "<Figure size 600x600 with 1 Axes>"
            ],
            "image/png": "[encoded data removed]"
          },
          "metadata": {}
        }
      ],
      "source": [
        "theta1 = np.deg2rad(45)  # 45 grados\n",
        "theta2 = np.deg2rad(-30)  # -30 grados\n",
        "l1 = 1\n",
        "l2 = 1\n",
        "dibujar_brazo_mecanico(theta1, theta2, l1, l2)"
      ]
    },
    {
      "cell_type": "markdown",
      "id": "PXKx1zldEyCV",
      "metadata": {
        "id": "PXKx1zldEyCV"
      },
      "source": [
        "## **Taller**\n",
        "\n",
        "*  Dibujar cada estado del anterior brazo robótico\n",
        "*  Imagine un brazo robótico cuyas extremidades miden 2 unidades cada una. Podría este brazo alcanzar cualquier objeto dentro de la cuadricula de 2 x 2? Explique detalladamente su razonamiento"
      ]
    },
    {
      "cell_type": "markdown",
      "source": [
        "Grafica de alcance maximo del brazo robotico:"
      ],
      "metadata": {
        "id": "euWy0LpjUMVZ"
      },
      "id": "euWy0LpjUMVZ"
    },
    {
      "cell_type": "code",
      "source": [
        "import matplotlib.pyplot as plt\n",
        "import numpy as np\n",
        "\n",
        "# Parametros del brazo\n",
        "l1 = 2\n",
        "l2 = 2\n",
        "\n",
        "# Dibujar el circulo de alcance maximo\n",
        "theta = np.linspace(0, 2 * np.pi, 100)\n",
        "x = (l1 + l2) * np.cos(theta)\n",
        "y = (l1 + l2) * np.sin(theta)\n",
        "\n",
        "# Dibujar la cuadricula de 2x2\n",
        "square_x = [-1, 1, 1, -1, -1]\n",
        "square_y = [-1, -1, 1, 1, -1]\n",
        "\n",
        "# Grafica\n",
        "plt.figure(figsize=(6, 6))\n",
        "plt.plot(x, y, 'b--', label=\"Alcance maximo del brazo\")  # Circulo de alcance\n",
        "plt.plot(square_x, square_y, 'r-', label=\"Cuadricula 2x2\")  # Cuadricula\n",
        "\n",
        "# Configuracion de los ejes\n",
        "plt.xlim([-4, 4])\n",
        "plt.ylim([-4, 4])\n",
        "plt.gca().set_aspect('equal', adjustable='box')\n",
        "plt.title(\"Alcance del brazo robotico y cuadricula 2x2\")\n",
        "plt.xlabel(\"X\")\n",
        "plt.ylabel(\"Y\")\n",
        "plt.grid(True)\n",
        "plt.legend()\n",
        "plt.show()"
      ],
      "metadata": {
        "colab": {
          "base_uri": "https://localhost:8080/",
          "height": 565
        },
        "id": "CIBBSKxhQ9Wg",
        "outputId": "8ca2c29c-a829-41d9-d811-77d14ed9c2cb"
      },
      "id": "CIBBSKxhQ9Wg",
      "execution_count": 22,
      "outputs": [
        {
          "output_type": "display_data",
          "data": {
            "text/plain": [
              "<Figure size 600x600 with 1 Axes>"
            ],
            "image/png": "[encoded data removed]"
          },
          "metadata": {}
        }
      ]
    },
    {
      "cell_type": "markdown",
      "source": [
        "---\n",
        "El brazo robótico compuesto de dos segmentos de una longitud de 2 unidades\n",
        "puede extenderse hasta una longitud máxima de 4 unidades (al estar completamente extendido); Esto significa que puede alcanzar cualquier punto dentro de un círculo de radio 4 centrado en la base del brazo. una cuadrícula de 2 x 2 (que sería un cuadrado con lados de longitud 2) está completamente contenida dentro de este círculo de alcance.\n",
        "Lo que quiere decir que ***el brazo robótico sí puede alcanzar cualquier objeto dentro de la cuadrícula de 2 x 2***, ya que su capacidad de alcance (4 unidades) es mayor que cualquier distancia posible dentro de dicha cuadrícula\n",
        "\n",
        "---\n",
        "\n",
        "\n"
      ],
      "metadata": {
        "id": "-NJfAWTNTzaD"
      },
      "id": "-NJfAWTNTzaD"
    },
    {
      "cell_type": "markdown",
      "source": [
        "Modificacion del primer codigo (Dibujo de brazos)"
      ],
      "metadata": {
        "id": "bhw875OpYg-j"
      },
      "id": "bhw875OpYg-j"
    },
    {
      "cell_type": "code",
      "source": [
        "import matplotlib.pyplot as plt\n",
        "import numpy as np\n",
        "\n",
        "def dibujar_brazo_mecanico(theta1, theta2, l1, l2):\n",
        "    \"\"\"Dibujar un brazo mecánico con 2 grados de libertad y el alcance máximo.\"\"\"\n",
        "\n",
        "    # Circulo que representa el alcance máximo del brazo\n",
        "    theta = np.linspace(0, 2 * np.pi, 100)\n",
        "    x_alcance = (l1 + l2) * np.cos(theta)\n",
        "    y_alcance = (l1 + l2) * np.sin(theta)\n",
        "\n",
        "    # Coordenadas de las articulaciones y el efector final\n",
        "    x1 = l1 * np.cos(theta1)\n",
        "    y1 = l1 * np.sin(theta1)\n",
        "    x2 = x1 + l2 * np.cos(theta1 + theta2)\n",
        "    y2 = y1 + l2 * np.sin(theta1 + theta2)\n",
        "\n",
        "    # Crear la figura\n",
        "    plt.figure(figsize=(6, 6))\n",
        "\n",
        "    # Dibujar el alcance maximo\n",
        "    plt.plot(x_alcance, y_alcance, 'b--')\n",
        "\n",
        "    # Dibujar la cuadricula de 2x2\n",
        "    square_x = [-1, 1, 1, -1, -1]\n",
        "    square_y = [-1, -1, 1, 1, -1]\n",
        "    plt.plot(square_x, square_y, 'r-')  # Cuadricula\n",
        "\n",
        "    # Dibujar el brazo robótico\n",
        "    plt.plot([0, x1], [0, y1], 'r-', linewidth=5)\n",
        "    plt.plot([x1, x2], [y1, y2], 'g-', linewidth=5)\n",
        "\n",
        "    # Dibujar los puntos\n",
        "    plt.plot(0, 0, 'ko', markersize=10)\n",
        "    plt.plot(x2, y2, 'bo', markersize=10)\n",
        "\n",
        "    # Configuración de la grafica\n",
        "    plt.xlim([-4, 4])\n",
        "    plt.ylim([-4, 4])\n",
        "    plt.gca().set_aspect('equal', adjustable='box')\n",
        "    plt.title(\"Brazo robotico con alcance maximo\")\n",
        "    plt.xlabel(\"X\")\n",
        "    plt.ylabel(\"Y\")\n",
        "    plt.grid(True)\n",
        "    plt.show()\n",
        "\n",
        "# Ejemplo de uso del brazo\n",
        "# AQUI SE PUEDE MODIFICAR EL MOVIMIENTO DE LOS BRAZOS\n",
        "theta1 = np.deg2rad(45)  # Angulo de la primera articulación\n",
        "theta2 = np.deg2rad(-165)  # Angulo de la segunda articulación\n",
        "l1 = 2  # Longitud del primer segmento\n",
        "l2 = 2  # Longitud del segundo segmento\n",
        "\n",
        "dibujar_brazo_mecanico(theta1, theta2, l1, l2)"
      ],
      "metadata": {
        "colab": {
          "base_uri": "https://localhost:8080/",
          "height": 564
        },
        "id": "arDRWxkHVcD4",
        "outputId": "dbf879d8-4ac5-4f1c-bd68-b1e51f99f557"
      },
      "id": "arDRWxkHVcD4",
      "execution_count": 44,
      "outputs": [
        {
          "output_type": "display_data",
          "data": {
            "text/plain": [
              "<Figure size 600x600 with 1 Axes>"
            ],
            "image/png": "[encoded data removed]"
          },
          "metadata": {}
        }
      ]
    }
  ],
  "metadata": {
    "colab": {
      "provenance": []
    },
    "kernelspec": {
      "display_name": "Python 3",
      "language": "python",
      "name": "python3"
    },
    "language_info": {
      "codemirror_mode": {
        "name": "ipython",
        "version": 3
      },
      "file_extension": ".py",
      "mimetype": "text/x-python",
      "name": "python",
      "nbconvert_exporter": "python",
      "pygments_lexer": "ipython3",
      "version": "3.12.1"
    }
  },
  "nbformat": 4,
  "nbformat_minor": 5
}