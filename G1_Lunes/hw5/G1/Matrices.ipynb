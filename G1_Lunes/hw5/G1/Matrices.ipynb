{
  "cells": [
    {
      "cell_type": "markdown",
      "id": "a7e43564",
      "metadata": {
        "id": "a7e43564"
      },
      "source": [
        "# **Matrices Homogeneas en un espacio tridimensional**"
      ]
    },
    {
      "cell_type": "code",
      "execution_count": null,
      "id": "558fe4b4",
      "metadata": {
        "id": "558fe4b4"
      },
      "outputs": [],
      "source": [
        "import numpy as np\n",
        "from sympy import*\n",
        "init_printing()"
      ]
    },
    {
      "cell_type": "markdown",
      "id": "7bb73297",
      "metadata": {
        "id": "7bb73297"
      },
      "source": [
        "### Declaración de variables simbolicas"
      ]
    },
    {
      "cell_type": "code",
      "execution_count": null,
      "id": "1e352206",
      "metadata": {
        "id": "1e352206"
      },
      "outputs": [],
      "source": [
        "## Variables Simbolicas\n",
        "theta = symbols(\"theta\",  real=True)\n",
        "phi = symbols(\"phi\",  real=True)\n",
        "psi = symbols(\"psi\",  real=True)\n",
        "tx  = symbols(\"tx\", real=True)\n",
        "ty = symbols(\"ty\", real=True)\n",
        "tz = symbols(\"ty\", real=True)"
      ]
    },
    {
      "cell_type": "markdown",
      "id": "f95c974c",
      "metadata": {
        "id": "f95c974c"
      },
      "source": [
        "### Rotacion eje x"
      ]
    },
    {
      "cell_type": "code",
      "execution_count": null,
      "id": "ff5b4884",
      "metadata": {
        "colab": {
          "base_uri": "https://localhost:8080/",
          "height": 98
        },
        "id": "ff5b4884",
        "outputId": "05354e22-1ff3-4840-cf60-7a782de5bcb8"
      },
      "outputs": [
        {
          "output_type": "execute_result",
          "data": {
            "text/plain": [
              "⎡1    0        0     0⎤\n",
              "⎢                     ⎥\n",
              "⎢0  cos(φ)  -sin(φ)  0⎥\n",
              "⎢                     ⎥\n",
              "⎢0  sin(φ)  cos(φ)   0⎥\n",
              "⎢                     ⎥\n",
              "⎣0    0        0     1⎦"
            ],
            "text/latex": "$\\displaystyle \\left[\\begin{matrix}1 & 0 & 0 & 0\\\\0 & \\cos{\\left(\\phi \\right)} & - \\sin{\\left(\\phi \\right)} & 0\\\\0 & \\sin{\\left(\\phi \\right)} & \\cos{\\left(\\phi \\right)} & 0\\\\0 & 0 & 0 & 1\\end{matrix}\\right]$"
          },
          "metadata": {},
          "execution_count": 3
        }
      ],
      "source": [
        "H_x = Matrix([[1, 0, 0, 0], [0, cos(phi), -sin(phi), 0], [0, sin(phi), cos(phi), 0], [0, 0, 0, 1]])\n",
        "H_x"
      ]
    },
    {
      "cell_type": "markdown",
      "id": "300908ee",
      "metadata": {
        "id": "300908ee"
      },
      "source": [
        "### Rotacion eje y"
      ]
    },
    {
      "cell_type": "code",
      "execution_count": null,
      "id": "3c9c6277",
      "metadata": {
        "colab": {
          "base_uri": "https://localhost:8080/",
          "height": 98
        },
        "id": "3c9c6277",
        "outputId": "22b1197a-fcb1-4938-8653-81c4ff2306fa"
      },
      "outputs": [
        {
          "output_type": "execute_result",
          "data": {
            "text/plain": [
              "⎡cos(θ)   0  sin(θ)  0⎤\n",
              "⎢                     ⎥\n",
              "⎢   0     1    0     0⎥\n",
              "⎢                     ⎥\n",
              "⎢-sin(θ)  0  cos(θ)  0⎥\n",
              "⎢                     ⎥\n",
              "⎣   0     0    0     1⎦"
            ],
            "text/latex": "$\\displaystyle \\left[\\begin{matrix}\\cos{\\left(\\theta \\right)} & 0 & \\sin{\\left(\\theta \\right)} & 0\\\\0 & 1 & 0 & 0\\\\- \\sin{\\left(\\theta \\right)} & 0 & \\cos{\\left(\\theta \\right)} & 0\\\\0 & 0 & 0 & 1\\end{matrix}\\right]$"
          },
          "metadata": {},
          "execution_count": 4
        }
      ],
      "source": [
        "H_y = Matrix([[cos(theta), 0, sin(theta), 0], [0, 1, 0, 0], [-sin(theta), 0, cos(theta), 0], [0, 0, 0, 1]])\n",
        "H_y\n"
      ]
    },
    {
      "cell_type": "markdown",
      "id": "5ed24efc",
      "metadata": {
        "id": "5ed24efc"
      },
      "source": [
        "### Rotacion eje z"
      ]
    },
    {
      "cell_type": "code",
      "execution_count": null,
      "id": "46751e12",
      "metadata": {
        "colab": {
          "base_uri": "https://localhost:8080/",
          "height": 98
        },
        "id": "46751e12",
        "outputId": "26fc1d92-2d70-4b21-c769-40996da6f7b2"
      },
      "outputs": [
        {
          "output_type": "execute_result",
          "data": {
            "text/plain": [
              "⎡cos(ψ)  -sin(ψ)  0  0⎤\n",
              "⎢                     ⎥\n",
              "⎢sin(ψ)  cos(ψ)   0  0⎥\n",
              "⎢                     ⎥\n",
              "⎢  0        0     1  0⎥\n",
              "⎢                     ⎥\n",
              "⎣  0        0     0  1⎦"
            ],
            "text/latex": "$\\displaystyle \\left[\\begin{matrix}\\cos{\\left(\\psi \\right)} & - \\sin{\\left(\\psi \\right)} & 0 & 0\\\\\\sin{\\left(\\psi \\right)} & \\cos{\\left(\\psi \\right)} & 0 & 0\\\\0 & 0 & 1 & 0\\\\0 & 0 & 0 & 1\\end{matrix}\\right]$"
          },
          "metadata": {},
          "execution_count": 5
        }
      ],
      "source": [
        "H_z = Matrix([[cos(psi), -sin(psi), 0, 0], [sin(psi), cos(psi), 0, 0], [0, 0, 1, 0], [0, 0, 0, 1]])\n",
        "H_z"
      ]
    },
    {
      "cell_type": "markdown",
      "source": [
        "composicion de rotacion de matrices  para transaciones"
      ],
      "metadata": {
        "id": "WqrgxhNZOOYV"
      },
      "id": "WqrgxhNZOOYV"
    },
    {
      "cell_type": "markdown",
      "source": [
        " traslacion X de *T*"
      ],
      "metadata": {
        "id": "UoGt_5InBPGV"
      },
      "id": "UoGt_5InBPGV"
    },
    {
      "cell_type": "code",
      "source": [
        "H_tx = Matrix([[1, 0, 0, tx], [0, cos(phi), -sin(phi), ty], [0, sin(phi), cos(phi), tz], [0, 0, 0, 1]])\n",
        "\n",
        "\n",
        "H_tx"
      ],
      "metadata": {
        "colab": {
          "base_uri": "https://localhost:8080/",
          "height": 98
        },
        "id": "M48faALSA53k",
        "outputId": "b62d33ba-3232-496b-a032-f4993763ed64"
      },
      "id": "M48faALSA53k",
      "execution_count": null,
      "outputs": [
        {
          "output_type": "execute_result",
          "data": {
            "text/plain": [
              "⎡1    0        0     tx⎤\n",
              "⎢                      ⎥\n",
              "⎢0  cos(φ)  -sin(φ)  ty⎥\n",
              "⎢                      ⎥\n",
              "⎢0  sin(φ)  cos(φ)   ty⎥\n",
              "⎢                      ⎥\n",
              "⎣0    0        0     1 ⎦"
            ],
            "text/latex": "$\\displaystyle \\left[\\begin{matrix}1 & 0 & 0 & tx\\\\0 & \\cos{\\left(\\phi \\right)} & - \\sin{\\left(\\phi \\right)} & ty\\\\0 & \\sin{\\left(\\phi \\right)} & \\cos{\\left(\\phi \\right)} & ty\\\\0 & 0 & 0 & 1\\end{matrix}\\right]$"
          },
          "metadata": {},
          "execution_count": 6
        }
      ]
    },
    {
      "cell_type": "markdown",
      "source": [
        "traslacion Y de *T*"
      ],
      "metadata": {
        "id": "qLvuEf-8mFq4"
      },
      "id": "qLvuEf-8mFq4"
    },
    {
      "cell_type": "code",
      "source": [
        "H_ty = Matrix([[cos(theta), 0, sin(theta), tx], [0, 1, 0, ty], [-sin(theta), 0, cos(theta), tz], [0, 0, 0, 1]])\n",
        "H_ty\n"
      ],
      "metadata": {
        "colab": {
          "base_uri": "https://localhost:8080/",
          "height": 98
        },
        "id": "l6CSz6rrlvIG",
        "outputId": "3451ca84-2e51-45f4-8f53-6abcd88a6be6"
      },
      "id": "l6CSz6rrlvIG",
      "execution_count": null,
      "outputs": [
        {
          "output_type": "execute_result",
          "data": {
            "text/plain": [
              "⎡cos(θ)   0  sin(θ)  tx⎤\n",
              "⎢                      ⎥\n",
              "⎢   0     1    0     ty⎥\n",
              "⎢                      ⎥\n",
              "⎢-sin(θ)  0  cos(θ)  ty⎥\n",
              "⎢                      ⎥\n",
              "⎣   0     0    0     1 ⎦"
            ],
            "text/latex": "$\\displaystyle \\left[\\begin{matrix}\\cos{\\left(\\theta \\right)} & 0 & \\sin{\\left(\\theta \\right)} & tx\\\\0 & 1 & 0 & ty\\\\- \\sin{\\left(\\theta \\right)} & 0 & \\cos{\\left(\\theta \\right)} & ty\\\\0 & 0 & 0 & 1\\end{matrix}\\right]$"
          },
          "metadata": {},
          "execution_count": 7
        }
      ]
    },
    {
      "cell_type": "markdown",
      "source": [
        "traslacion  Z de T"
      ],
      "metadata": {
        "id": "nfDOte5dJde_"
      },
      "id": "nfDOte5dJde_"
    },
    {
      "cell_type": "code",
      "source": [
        "H_tz = Matrix([[cos(psi), -sin(psi), 0, tx], [sin(psi), cos(psi), 0, ty], [0, 0, 1, tz], [0, 0, 0, 1]])\n",
        "H_tz"
      ],
      "metadata": {
        "colab": {
          "base_uri": "https://localhost:8080/",
          "height": 98
        },
        "id": "AEK6FEpEJdSf",
        "outputId": "4795af41-da8e-46f4-eea4-7249eb708725"
      },
      "id": "AEK6FEpEJdSf",
      "execution_count": null,
      "outputs": [
        {
          "output_type": "execute_result",
          "data": {
            "text/plain": [
              "⎡cos(ψ)  -sin(ψ)  0  tx⎤\n",
              "⎢                      ⎥\n",
              "⎢sin(ψ)  cos(ψ)   0  ty⎥\n",
              "⎢                      ⎥\n",
              "⎢  0        0     1  ty⎥\n",
              "⎢                      ⎥\n",
              "⎣  0        0     0  1 ⎦"
            ],
            "text/latex": "$\\displaystyle \\left[\\begin{matrix}\\cos{\\left(\\psi \\right)} & - \\sin{\\left(\\psi \\right)} & 0 & tx\\\\\\sin{\\left(\\psi \\right)} & \\cos{\\left(\\psi \\right)} & 0 & ty\\\\0 & 0 & 1 & ty\\\\0 & 0 & 0 & 1\\end{matrix}\\right]$"
          },
          "metadata": {},
          "execution_count": 8
        }
      ]
    },
    {
      "cell_type": "markdown",
      "id": "4280e6af",
      "metadata": {
        "id": "4280e6af"
      },
      "source": [
        "### Composicion de Matrices Homogeneas"
      ]
    },
    {
      "cell_type": "markdown",
      "id": "3c3fea59",
      "metadata": {
        "id": "3c3fea59"
      },
      "source": [
        "Probando la conmutatividad de las matrices homogeneas"
      ]
    },
    {
      "cell_type": "code",
      "execution_count": null,
      "id": "8cdcb123",
      "metadata": {
        "colab": {
          "base_uri": "https://localhost:8080/",
          "height": 98
        },
        "id": "8cdcb123",
        "outputId": "9c135ea1-0514-408d-ec43-fc11df4adad0"
      },
      "outputs": [
        {
          "output_type": "execute_result",
          "data": {
            "text/plain": [
              "⎡cos(ψ)⋅cos(θ)  sin(φ)⋅sin(θ)⋅cos(ψ) - sin(ψ)⋅cos(φ)  sin(φ)⋅sin(ψ) + sin(θ)⋅cos(φ)⋅cos(ψ)   0⎤\n",
              "⎢                                                                                             ⎥\n",
              "⎢sin(ψ)⋅cos(θ)  sin(φ)⋅sin(ψ)⋅sin(θ) + cos(φ)⋅cos(ψ)  -sin(φ)⋅cos(ψ) + sin(ψ)⋅sin(θ)⋅cos(φ)  0⎥\n",
              "⎢                                                                                             ⎥\n",
              "⎢   -sin(θ)                sin(φ)⋅cos(θ)                          cos(φ)⋅cos(θ)              0⎥\n",
              "⎢                                                                                             ⎥\n",
              "⎣      0                         0                                      0                    1⎦"
            ],
            "text/latex": "$\\displaystyle \\left[\\begin{matrix}\\cos{\\left(\\psi \\right)} \\cos{\\left(\\theta \\right)} & \\sin{\\left(\\phi \\right)} \\sin{\\left(\\theta \\right)} \\cos{\\left(\\psi \\right)} - \\sin{\\left(\\psi \\right)} \\cos{\\left(\\phi \\right)} & \\sin{\\left(\\phi \\right)} \\sin{\\left(\\psi \\right)} + \\sin{\\left(\\theta \\right)} \\cos{\\left(\\phi \\right)} \\cos{\\left(\\psi \\right)} & 0\\\\\\sin{\\left(\\psi \\right)} \\cos{\\left(\\theta \\right)} & \\sin{\\left(\\phi \\right)} \\sin{\\left(\\psi \\right)} \\sin{\\left(\\theta \\right)} + \\cos{\\left(\\phi \\right)} \\cos{\\left(\\psi \\right)} & - \\sin{\\left(\\phi \\right)} \\cos{\\left(\\psi \\right)} + \\sin{\\left(\\psi \\right)} \\sin{\\left(\\theta \\right)} \\cos{\\left(\\phi \\right)} & 0\\\\- \\sin{\\left(\\theta \\right)} & \\sin{\\left(\\phi \\right)} \\cos{\\left(\\theta \\right)} & \\cos{\\left(\\phi \\right)} \\cos{\\left(\\theta \\right)} & 0\\\\0 & 0 & 0 & 1\\end{matrix}\\right]$"
          },
          "metadata": {},
          "execution_count": 9
        }
      ],
      "source": [
        "H = H_z@H_y@H_x\n",
        "H"
      ]
    },
    {
      "cell_type": "code",
      "execution_count": null,
      "id": "663950aa",
      "metadata": {
        "colab": {
          "base_uri": "https://localhost:8080/",
          "height": 98
        },
        "id": "663950aa",
        "outputId": "8aede1e1-8f20-4c61-f602-7324da056caa"
      },
      "outputs": [
        {
          "output_type": "execute_result",
          "data": {
            "text/plain": [
              "⎡           cos(ψ)⋅cos(θ)                         -sin(ψ)⋅cos(θ)                  sin(θ)      0⎤\n",
              "⎢                                                                                              ⎥\n",
              "⎢sin(φ)⋅sin(θ)⋅cos(ψ) + sin(ψ)⋅cos(φ)  -sin(φ)⋅sin(ψ)⋅sin(θ) + cos(φ)⋅cos(ψ)  -sin(φ)⋅cos(θ)  0⎥\n",
              "⎢                                                                                              ⎥\n",
              "⎢sin(φ)⋅sin(ψ) - sin(θ)⋅cos(φ)⋅cos(ψ)  sin(φ)⋅cos(ψ) + sin(ψ)⋅sin(θ)⋅cos(φ)   cos(φ)⋅cos(θ)   0⎥\n",
              "⎢                                                                                              ⎥\n",
              "⎣                 0                                      0                          0         1⎦"
            ],
            "text/latex": "$\\displaystyle \\left[\\begin{matrix}\\cos{\\left(\\psi \\right)} \\cos{\\left(\\theta \\right)} & - \\sin{\\left(\\psi \\right)} \\cos{\\left(\\theta \\right)} & \\sin{\\left(\\theta \\right)} & 0\\\\\\sin{\\left(\\phi \\right)} \\sin{\\left(\\theta \\right)} \\cos{\\left(\\psi \\right)} + \\sin{\\left(\\psi \\right)} \\cos{\\left(\\phi \\right)} & - \\sin{\\left(\\phi \\right)} \\sin{\\left(\\psi \\right)} \\sin{\\left(\\theta \\right)} + \\cos{\\left(\\phi \\right)} \\cos{\\left(\\psi \\right)} & - \\sin{\\left(\\phi \\right)} \\cos{\\left(\\theta \\right)} & 0\\\\\\sin{\\left(\\phi \\right)} \\sin{\\left(\\psi \\right)} - \\sin{\\left(\\theta \\right)} \\cos{\\left(\\phi \\right)} \\cos{\\left(\\psi \\right)} & \\sin{\\left(\\phi \\right)} \\cos{\\left(\\psi \\right)} + \\sin{\\left(\\psi \\right)} \\sin{\\left(\\theta \\right)} \\cos{\\left(\\phi \\right)} & \\cos{\\left(\\phi \\right)} \\cos{\\left(\\theta \\right)} & 0\\\\0 & 0 & 0 & 1\\end{matrix}\\right]$"
          },
          "metadata": {},
          "execution_count": 10
        }
      ],
      "source": [
        "H = H_x@H_y@H_z\n",
        "H"
      ]
    },
    {
      "cell_type": "code",
      "source": [
        "H = H_ty@H_x@H_ty\n",
        "H"
      ],
      "metadata": {
        "colab": {
          "base_uri": "https://localhost:8080/",
          "height": 99
        },
        "id": "HV-hzM-vv3Qz",
        "outputId": "6e1971b9-e83b-4e38-d5ad-dc21f897b75c"
      },
      "id": "HV-hzM-vv3Qz",
      "execution_count": null,
      "outputs": [
        {
          "output_type": "execute_result",
          "data": {
            "text/plain": [
              "⎡          2                2                                                                      ↪\n",
              "⎢     - sin (θ)⋅cos(φ) + cos (θ)        sin(φ)⋅sin(θ)  sin(θ)⋅cos(φ)⋅cos(θ) + sin(θ)⋅cos(θ)  tx⋅co ↪\n",
              "⎢                                                                                                  ↪\n",
              "⎢            sin(φ)⋅sin(θ)                 cos(φ)                 -sin(φ)⋅cos(θ)                   ↪\n",
              "⎢                                                                                                  ↪\n",
              "⎢                                                                2                2                ↪\n",
              "⎢-sin(θ)⋅cos(φ)⋅cos(θ) - sin(θ)⋅cos(θ)  sin(φ)⋅cos(θ)       - sin (θ) + cos(φ)⋅cos (θ)       -tx⋅s ↪\n",
              "⎢                                                                                                  ↪\n",
              "⎣                  0                          0                         0                          ↪\n",
              "\n",
              "↪                                                 ⎤\n",
              "↪ s(θ) + tx + ty⋅sin(φ)⋅sin(θ) + ty⋅sin(θ)⋅cos(φ) ⎥\n",
              "↪                                                 ⎥\n",
              "↪         -ty⋅sin(φ) + ty⋅cos(φ) + ty             ⎥\n",
              "↪                                                 ⎥\n",
              "↪                                                 ⎥\n",
              "↪ in(θ) + ty⋅sin(φ)⋅cos(θ) + ty⋅cos(φ)⋅cos(θ) + ty⎥\n",
              "↪                                                 ⎥\n",
              "↪                      1                          ⎦"
            ],
            "text/latex": "$\\displaystyle \\left[\\begin{matrix}- \\sin^{2}{\\left(\\theta \\right)} \\cos{\\left(\\phi \\right)} + \\cos^{2}{\\left(\\theta \\right)} & \\sin{\\left(\\phi \\right)} \\sin{\\left(\\theta \\right)} & \\sin{\\left(\\theta \\right)} \\cos{\\left(\\phi \\right)} \\cos{\\left(\\theta \\right)} + \\sin{\\left(\\theta \\right)} \\cos{\\left(\\theta \\right)} & tx \\cos{\\left(\\theta \\right)} + tx + ty \\sin{\\left(\\phi \\right)} \\sin{\\left(\\theta \\right)} + ty \\sin{\\left(\\theta \\right)} \\cos{\\left(\\phi \\right)}\\\\\\sin{\\left(\\phi \\right)} \\sin{\\left(\\theta \\right)} & \\cos{\\left(\\phi \\right)} & - \\sin{\\left(\\phi \\right)} \\cos{\\left(\\theta \\right)} & - ty \\sin{\\left(\\phi \\right)} + ty \\cos{\\left(\\phi \\right)} + ty\\\\- \\sin{\\left(\\theta \\right)} \\cos{\\left(\\phi \\right)} \\cos{\\left(\\theta \\right)} - \\sin{\\left(\\theta \\right)} \\cos{\\left(\\theta \\right)} & \\sin{\\left(\\phi \\right)} \\cos{\\left(\\theta \\right)} & - \\sin^{2}{\\left(\\theta \\right)} + \\cos{\\left(\\phi \\right)} \\cos^{2}{\\left(\\theta \\right)} & - tx \\sin{\\left(\\theta \\right)} + ty \\sin{\\left(\\phi \\right)} \\cos{\\left(\\theta \\right)} + ty \\cos{\\left(\\phi \\right)} \\cos{\\left(\\theta \\right)} + ty\\\\0 & 0 & 0 & 1\\end{matrix}\\right]$"
          },
          "metadata": {},
          "execution_count": 11
        }
      ]
    },
    {
      "cell_type": "code",
      "source": [],
      "metadata": {
        "id": "SHLHYRG2v3A8"
      },
      "id": "SHLHYRG2v3A8",
      "execution_count": null,
      "outputs": []
    },
    {
      "cell_type": "markdown",
      "id": "49b4f754",
      "metadata": {
        "id": "49b4f754"
      },
      "source": [
        "# **Experimento 1**\n",
        "#### Comprobar que una secuencia de rotaciones produce el mismo resultado que una composición de matrices homogeneas"
      ]
    },
    {
      "cell_type": "code",
      "execution_count": null,
      "id": "a6d54389",
      "metadata": {
        "id": "a6d54389"
      },
      "outputs": [],
      "source": [
        "P0 = np.array([1, 1, 0])"
      ]
    },
    {
      "cell_type": "markdown",
      "id": "001bc638",
      "metadata": {
        "id": "001bc638"
      },
      "source": [
        "1. Probando solo con matrices de rotación en 3D"
      ]
    },
    {
      "cell_type": "code",
      "execution_count": null,
      "id": "2fef220f",
      "metadata": {
        "colab": {
          "base_uri": "https://localhost:8080/",
          "height": 78
        },
        "id": "2fef220f",
        "outputId": "21ecf840-3ec4-44b2-fb5f-0a6a73763f70"
      },
      "outputs": [
        {
          "output_type": "execute_result",
          "data": {
            "text/plain": [
              "⎡1    0        0   ⎤\n",
              "⎢                  ⎥\n",
              "⎢0  cos(θ)  -sin(θ)⎥\n",
              "⎢                  ⎥\n",
              "⎣0  sin(θ)  cos(θ) ⎦"
            ],
            "text/latex": "$\\displaystyle \\left[\\begin{matrix}1 & 0 & 0\\\\0 & \\cos{\\left(\\theta \\right)} & - \\sin{\\left(\\theta \\right)}\\\\0 & \\sin{\\left(\\theta \\right)} & \\cos{\\left(\\theta \\right)}\\end{matrix}\\right]$"
          },
          "metadata": {},
          "execution_count": 13
        }
      ],
      "source": [
        "#Matriz de rotacion 3D sobre el eje x\n",
        "R_x = Matrix([[1, 0, 0], [0, cos(theta), -sin(theta)], [0, sin(theta), cos(theta)]])\n",
        "R_x"
      ]
    },
    {
      "cell_type": "code",
      "execution_count": null,
      "id": "0b784156",
      "metadata": {
        "colab": {
          "base_uri": "https://localhost:8080/",
          "height": 78
        },
        "id": "0b784156",
        "outputId": "9afe0536-f1ca-435e-b8ff-0188dd7fd56c"
      },
      "outputs": [
        {
          "output_type": "execute_result",
          "data": {
            "text/plain": [
              "⎡cos(θ)   0  sin(θ)⎤\n",
              "⎢                  ⎥\n",
              "⎢   0     1    0   ⎥\n",
              "⎢                  ⎥\n",
              "⎣-sin(θ)  0  cos(θ)⎦"
            ],
            "text/latex": "$\\displaystyle \\left[\\begin{matrix}\\cos{\\left(\\theta \\right)} & 0 & \\sin{\\left(\\theta \\right)}\\\\0 & 1 & 0\\\\- \\sin{\\left(\\theta \\right)} & 0 & \\cos{\\left(\\theta \\right)}\\end{matrix}\\right]$"
          },
          "metadata": {},
          "execution_count": 14
        }
      ],
      "source": [
        "#Matriz de rotacion 3D sobre el eje y\n",
        "R_y = Matrix([[cos(theta), 0, sin(theta)], [0, 1, 0], [-sin(theta), 0, cos(theta)]])\n",
        "R_y"
      ]
    },
    {
      "cell_type": "code",
      "execution_count": null,
      "id": "dd57ffb9",
      "metadata": {
        "colab": {
          "base_uri": "https://localhost:8080/"
        },
        "id": "dd57ffb9",
        "outputId": "de2c1ec1-38ef-4bc9-b1c6-cd542a7d836f"
      },
      "outputs": [
        {
          "output_type": "stream",
          "name": "stdout",
          "text": [
            "[ 1.0566704   0.93969262 -0.02062634]\n"
          ]
        }
      ],
      "source": [
        "theta_val = np.pi/9 # 20 grados en radianes\n",
        "R_x_p0 = np.array(R_x.subs({theta: theta_val})).astype(np.float64) #Se convierte theta simbolico a un valor concreto Rx\n",
        "R_y_p0 = np.array(R_y.subs({theta: theta_val})).astype(np.float64) #Se convierte theta simbolico a un valor concreto Ry\n",
        "\n",
        "P0_rotado_x = np.dot(R_x_p0, P0) #Producto punto entre la matrix de rotación y el vector de posición del punto\n",
        "P0_rotado_y = np.dot(R_y_p0, P0_rotado_x) #Producto punto entre la matrix de rotación y el vector de posición del punto\n",
        "\n",
        "print(P0_rotado_y)"
      ]
    },
    {
      "cell_type": "markdown",
      "id": "8ed1acdf",
      "metadata": {
        "id": "8ed1acdf"
      },
      "source": [
        "2. Ahora probamos con la composición de matrices homogeneas"
      ]
    },
    {
      "cell_type": "code",
      "execution_count": null,
      "id": "54f56d28",
      "metadata": {
        "colab": {
          "base_uri": "https://localhost:8080/"
        },
        "id": "54f56d28",
        "outputId": "1cfcdb4f-c880-43fa-f561-9a2961379e25"
      },
      "outputs": [
        {
          "output_type": "stream",
          "name": "stdout",
          "text": [
            "[1 1 0]\n",
            "[[1]\n",
            " [1]\n",
            " [0]\n",
            " [1]]\n"
          ]
        }
      ],
      "source": [
        "#Se convierte el punto 3D a un punto de coordenadas homogeneas\n",
        "\n",
        "P0_homogeneo = np.append(P0, 1)\n",
        "P0_homogeneo = np.reshape(P0_homogeneo, (4, 1))\n",
        "print(P0)\n",
        "print(P0_homogeneo)"
      ]
    },
    {
      "cell_type": "code",
      "execution_count": null,
      "id": "bf656be2",
      "metadata": {
        "colab": {
          "base_uri": "https://localhost:8080/",
          "height": 98
        },
        "id": "bf656be2",
        "outputId": "283b9250-81e0-419b-b379-ed2d9aabf691"
      },
      "outputs": [
        {
          "output_type": "execute_result",
          "data": {
            "text/plain": [
              "⎡cos(θ)   sin(φ)⋅sin(θ)  sin(θ)⋅cos(φ)  0⎤\n",
              "⎢                                        ⎥\n",
              "⎢   0        cos(φ)         -sin(φ)     0⎥\n",
              "⎢                                        ⎥\n",
              "⎢-sin(θ)  sin(φ)⋅cos(θ)  cos(φ)⋅cos(θ)  0⎥\n",
              "⎢                                        ⎥\n",
              "⎣   0           0              0        1⎦"
            ],
            "text/latex": "$\\displaystyle \\left[\\begin{matrix}\\cos{\\left(\\theta \\right)} & \\sin{\\left(\\phi \\right)} \\sin{\\left(\\theta \\right)} & \\sin{\\left(\\theta \\right)} \\cos{\\left(\\phi \\right)} & 0\\\\0 & \\cos{\\left(\\phi \\right)} & - \\sin{\\left(\\phi \\right)} & 0\\\\- \\sin{\\left(\\theta \\right)} & \\sin{\\left(\\phi \\right)} \\cos{\\left(\\theta \\right)} & \\cos{\\left(\\phi \\right)} \\cos{\\left(\\theta \\right)} & 0\\\\0 & 0 & 0 & 1\\end{matrix}\\right]$"
          },
          "metadata": {},
          "execution_count": 17
        }
      ],
      "source": [
        "#Se realiza la composición de las matrices homogeneas para x y y\n",
        "Hxy = H_y@H_x\n",
        "Hxy"
      ]
    },
    {
      "cell_type": "code",
      "execution_count": null,
      "id": "a6a89f36",
      "metadata": {
        "colab": {
          "base_uri": "https://localhost:8080/"
        },
        "id": "a6a89f36",
        "outputId": "91755543-2b1b-4243-f39c-e41942eeca7f"
      },
      "outputs": [
        {
          "output_type": "execute_result",
          "data": {
            "text/plain": [
              "array([[ 0.93969262,  0.11697778,  0.3213938 ,  0.        ],\n",
              "       [ 0.        ,  0.93969262, -0.34202014,  0.        ],\n",
              "       [-0.34202014,  0.3213938 ,  0.88302222,  0.        ],\n",
              "       [ 0.        ,  0.        ,  0.        ,  1.        ]])"
            ]
          },
          "metadata": {},
          "execution_count": 18
        }
      ],
      "source": [
        "theta_val = np.pi/9 # 20 grados en radianes\n",
        "phi_val = np.pi/9 # 20 grados en radianes\n",
        "\n",
        "Hxy_p0 = np.array(Hxy.subs({phi: phi_val, theta: theta_val})).astype(np.float64) #Se convierte theta simbolico a un valor concreto Rx\n",
        "Hxy_p0"
      ]
    },
    {
      "cell_type": "code",
      "execution_count": null,
      "id": "dff1369b",
      "metadata": {
        "colab": {
          "base_uri": "https://localhost:8080/"
        },
        "id": "dff1369b",
        "outputId": "7c6cf766-c8dc-442b-bba3-f1d042a6918a"
      },
      "outputs": [
        {
          "output_type": "execute_result",
          "data": {
            "text/plain": [
              "array([[ 1.0566704 ],\n",
              "       [ 0.93969262],\n",
              "       [-0.02062634],\n",
              "       [ 1.        ]])"
            ]
          },
          "metadata": {},
          "execution_count": 19
        }
      ],
      "source": [
        "P0_rotado_Hxy = np.dot(Hxy_p0, P0_homogeneo)\n",
        "P0_rotado_Hxy"
      ]
    },
    {
      "cell_type": "markdown",
      "id": "f03001f3",
      "metadata": {
        "id": "f03001f3"
      },
      "source": [
        "# **Actividad**\n",
        "\n",
        "* Calcule las siguientes matrices homogeneas"
      ]
    },
    {
      "cell_type": "code",
      "execution_count": null,
      "id": "b1097fd7",
      "metadata": {
        "colab": {
          "resources": {
            "http://localhost:8080/1.png": {
              "data": "",
              "ok": false,
              "headers": [
                [
                  "content-length",
                  "0"
                ]
              ],
              "status": 404,
              "status_text": ""
            }
          },
          "base_uri": "https://localhost:8080/",
          "height": 38
        },
        "id": "b1097fd7",
        "outputId": "0f6dcebf-8c7d-4007-b5ed-272f32ce3517"
      },
      "outputs": [
        {
          "output_type": "execute_result",
          "data": {
            "text/html": [
              "<img src=\"1.png\"/>"
            ],
            "text/plain": [
              "<IPython.core.display.Image object>"
            ]
          },
          "metadata": {},
          "execution_count": 20
        }
      ],
      "source": [
        "from IPython.display import Image\n",
        "\n",
        "Image(url='1.png')"
      ]
    },
    {
      "cell_type": "markdown",
      "id": "6bd60533",
      "metadata": {
        "id": "6bd60533"
      },
      "source": [
        "## Donde:"
      ]
    },
    {
      "cell_type": "code",
      "execution_count": null,
      "id": "683b1094",
      "metadata": {
        "colab": {
          "resources": {
            "http://localhost:8080/2.png": {
              "data": "",
              "ok": false,
              "headers": [
                [
                  "content-length",
                  "0"
                ]
              ],
              "status": 404,
              "status_text": ""
            }
          },
          "base_uri": "https://localhost:8080/",
          "height": 38
        },
        "id": "683b1094",
        "outputId": "ae9dd90a-c2bb-4f4d-a93e-54b86ce313a4"
      },
      "outputs": [
        {
          "output_type": "execute_result",
          "data": {
            "text/html": [
              "<img src=\"2.png\"/>"
            ],
            "text/plain": [
              "<IPython.core.display.Image object>"
            ]
          },
          "metadata": {},
          "execution_count": 21
        }
      ],
      "source": [
        "Image(url='2.png')"
      ]
    },
    {
      "cell_type": "markdown",
      "id": "419c1575",
      "metadata": {
        "id": "419c1575"
      },
      "source": [
        "# **Resultados aquí debajo**"
      ]
    },
    {
      "cell_type": "code",
      "execution_count": null,
      "id": "0cbf4a20",
      "metadata": {
        "colab": {
          "base_uri": "https://localhost:8080/"
        },
        "id": "0cbf4a20",
        "outputId": "24ba0681-f724-46a2-9156-5ff1c14d0786"
      },
      "outputs": [
        {
          "output_type": "execute_result",
          "data": {
            "text/plain": [
              "array([[ 0.33653069, -0.78073669,  0.52649531,  0.        ],\n",
              "       [ 0.44659131,  0.62455533,  0.64069247,  0.        ],\n",
              "       [-0.82903757,  0.01951555,  0.55885226,  0.        ],\n",
              "       [ 0.        ,  0.        ,  0.        ,  1.        ]])"
            ]
          },
          "metadata": {},
          "execution_count": 22
        }
      ],
      "source": [
        "H = H_z@H_y@H_x\n",
        "theta_val = np.pi*56/180 # 20 grados en radianes\n",
        "phi_val = np.pi*2/180\n",
        "psi_val = np.pi*53/180\n",
        "\n",
        "Hzyx = np.array(H.subs({phi: phi_val, theta: theta_val, psi: psi_val})).astype(np.float64) #Se convierte theta simbolico a un valor concreto Rx\n",
        "\n",
        "Hzyx"
      ]
    },
    {
      "cell_type": "code",
      "execution_count": null,
      "id": "31eb6a91",
      "metadata": {
        "colab": {
          "base_uri": "https://localhost:8080/"
        },
        "id": "31eb6a91",
        "outputId": "d3282735-aa77-4c3b-f050-229e9ed881a3"
      },
      "outputs": [
        {
          "output_type": "execute_result",
          "data": {
            "text/plain": [
              "array([[-0.444206  ],\n",
              "       [ 1.07114664],\n",
              "       [-0.80952202],\n",
              "       [ 1.        ]])"
            ]
          },
          "metadata": {},
          "execution_count": 23
        }
      ],
      "source": [
        "np.dot(Hzyx, P0_homogeneo)"
      ]
    },
    {
      "cell_type": "code",
      "source": [
        "H = H_y@H_x@H_y\n",
        "t1_val =np.pi*3,0,0/180\n",
        "theta1_val = np.pi*6/180 # 20 grados en radianes\n",
        "phi_val = np.pi*2/180\n",
        "t2_val =np.pi*1,1,0/180\n",
        "theta2_val= np.pi*-6/180\n",
        "\n",
        "Htyxty = np.array(H.subs({ty: t1_val,theta: theta1_val, phi: phi_val, theta: theta2_val,tz: t2_val})).astype(np.float64) #Se convierte theta simbolico a un valor concreto Rx\n",
        "\n",
        "Htyxty"
      ],
      "metadata": {
        "colab": {
          "base_uri": "https://localhost:8080/"
        },
        "id": "196a9dEKDgwS",
        "outputId": "26fc1830-3cc6-4ac4-a128-27eea2155ae7"
      },
      "id": "196a9dEKDgwS",
      "execution_count": null,
      "outputs": [
        {
          "output_type": "execute_result",
          "data": {
            "text/plain": [
              "array([[ 0.97815426, -0.00364799, -0.20784836,  0.        ],\n",
              "       [-0.00364799,  0.99939083, -0.03470831,  0.        ],\n",
              "       [ 0.20784836,  0.03470831,  0.97754508,  0.        ],\n",
              "       [ 0.        ,  0.        ,  0.        ,  1.        ]])"
            ]
          },
          "metadata": {},
          "execution_count": 24
        }
      ]
    },
    {
      "cell_type": "code",
      "source": [
        "np.dot(Htyxty, P0_homogeneo)"
      ],
      "metadata": {
        "colab": {
          "base_uri": "https://localhost:8080/"
        },
        "id": "_9pF5ZT2DjwX",
        "outputId": "23335673-c1dc-4d70-faf5-897a07b4169e"
      },
      "id": "_9pF5ZT2DjwX",
      "execution_count": null,
      "outputs": [
        {
          "output_type": "execute_result",
          "data": {
            "text/plain": [
              "array([[0.97450627],\n",
              "       [0.99574284],\n",
              "       [0.24255668],\n",
              "       [1.        ]])"
            ]
          },
          "metadata": {},
          "execution_count": 25
        }
      ]
    },
    {
      "cell_type": "code",
      "source": [
        "H = H_z@H_y@H_z\n",
        "psi_val = np.pi*53/180 # 20 grados en radianes\n",
        "t1_val =np.pi*3,0,0/180,\n",
        "theta_val = np.pi*56/180\n",
        "t2_val =np.pi*1,1,0/180\n",
        "psi_val = np.pi*53/180\n",
        "\n",
        "Hzytzz = np.array(H.subs({psi: psi_val, tz: t1_val, theta: theta_val, tz: t2_val,})).astype(np.float64) #Se convierte theta simbolico a un valor concreto Rx\n",
        "\n",
        "Hzytzz"
      ],
      "metadata": {
        "colab": {
          "base_uri": "https://localhost:8080/"
        },
        "id": "VpJ5c3NcXTjn",
        "outputId": "85b976ba-f274-4456-8427-ffd49b7d2d57"
      },
      "id": "VpJ5c3NcXTjn",
      "execution_count": null,
      "outputs": [
        {
          "output_type": "execute_result",
          "data": {
            "text/plain": [
              "array([[-0.43528945, -0.74939621,  0.49892727,  0.        ],\n",
              "       [ 0.74939621,  0.00551764,  0.66209884,  0.        ],\n",
              "       [-0.49892727,  0.66209884,  0.5591929 ,  0.        ],\n",
              "       [ 0.        ,  0.        ,  0.        ,  1.        ]])"
            ]
          },
          "metadata": {},
          "execution_count": 26
        }
      ]
    },
    {
      "cell_type": "code",
      "source": [
        "np.dot(Hzytzz, P0_homogeneo)"
      ],
      "metadata": {
        "colab": {
          "base_uri": "https://localhost:8080/"
        },
        "id": "0GXyQk5OXU03",
        "outputId": "e0b30d87-52dd-4187-e4cc-9eac8619d002"
      },
      "id": "0GXyQk5OXU03",
      "execution_count": null,
      "outputs": [
        {
          "output_type": "execute_result",
          "data": {
            "text/plain": [
              "array([[-1.18468566],\n",
              "       [ 0.75491385],\n",
              "       [ 0.16317158],\n",
              "       [ 1.        ]])"
            ]
          },
          "metadata": {},
          "execution_count": 27
        }
      ]
    },
    {
      "cell_type": "code",
      "source": [
        "H = H_y@H_z@H_z@H_x@H_z\n",
        "theta_val = np.pi*56/180 # 20 grados en radianes\n",
        "psi1_val = np.pi*11/180\n",
        "t1_val =np.pi*3,0,0/180\n",
        "psi2_val = np.pi*-3/180\n",
        "phi_val = np.pi*2/180\n",
        "psi3_val = np.pi*278/180\n",
        "\n",
        "Hytzzxz = np.array(H.subs({theta: theta_val, phi: psi1_val, tz: t1_val, psi: psi2_val, phi: psi_val, psi: psi3_val })).astype(np.float64) #Se convierte theta simbolico a un valor concreto Rx\n",
        "\n",
        "Hytzzxz"
      ],
      "metadata": {
        "colab": {
          "base_uri": "https://localhost:8080/"
        },
        "id": "kYN22F5kXTff",
        "outputId": "85ab7d3d-d5e8-4dd4-e150-997612469fd8"
      },
      "id": "kYN22F5kXTff",
      "execution_count": null,
      "outputs": [
        {
          "output_type": "execute_result",
          "data": {
            "text/plain": [
              "array([[-0.82232285, -0.4272434 ,  0.37583002,  0.        ],\n",
              "       [ 0.53451049, -0.35346675,  0.76769772,  0.        ],\n",
              "       [-0.19515037,  0.83218047,  0.51902986,  0.        ],\n",
              "       [ 0.        ,  0.        ,  0.        ,  1.        ]])"
            ]
          },
          "metadata": {},
          "execution_count": 28
        }
      ]
    },
    {
      "cell_type": "code",
      "source": [
        "np.dot(Hytzzxz, P0_homogeneo)"
      ],
      "metadata": {
        "colab": {
          "base_uri": "https://localhost:8080/"
        },
        "id": "HE6gl8Z3XTVI",
        "outputId": "f9dc98f3-d257-4766-f7fe-200bc768e60b"
      },
      "id": "HE6gl8Z3XTVI",
      "execution_count": null,
      "outputs": [
        {
          "output_type": "execute_result",
          "data": {
            "text/plain": [
              "array([[-1.24956625],\n",
              "       [ 0.18104373],\n",
              "       [ 0.6370301 ],\n",
              "       [ 1.        ]])"
            ]
          },
          "metadata": {},
          "execution_count": 29
        }
      ]
    }
  ],
  "metadata": {
    "kernelspec": {
      "display_name": "Python 3 (ipykernel)",
      "language": "python",
      "name": "python3"
    },
    "language_info": {
      "codemirror_mode": {
        "name": "ipython",
        "version": 3
      },
      "file_extension": ".py",
      "mimetype": "text/x-python",
      "name": "python",
      "nbconvert_exporter": "python",
      "pygments_lexer": "ipython3",
      "version": "3.10.12"
    },
    "colab": {
      "provenance": []
    }
  },
  "nbformat": 4,
  "nbformat_minor": 5
}