{
  "nbformat": 4,
  "nbformat_minor": 0,
  "metadata": {
    "colab": {
      "provenance": []
    },
    "kernelspec": {
      "name": "python3",
      "display_name": "Python 3"
    },
    "language_info": {
      "name": "python"
    }
  },
  "cells": [
    {
      "cell_type": "code",
      "execution_count": 7,
      "metadata": {
        "id": "tlmaGQr_VfgL"
      },
      "outputs": [],
      "source": [
        "import numpy as np\n",
        "from sympy import *\n",
        "from IPython.display import Image\n",
        "\n",
        "init_printing()\n"
      ]
    },
    {
      "cell_type": "code",
      "source": [
        "Image(url='../Examples/3.png')"
      ],
      "metadata": {
        "colab": {
          "resources": {
            "http://localhost:8080/Examples/3.png": {
              "data": "",
              "ok": false,
              "headers": [
                [
                  "content-length",
                  "0"
                ]
              ],
              "status": 404,
              "status_text": ""
            }
          },
          "base_uri": "https://localhost:8080/",
          "height": 37
        },
        "id": "id3BZkSGVlYV",
        "outputId": "c5fc1ff1-8467-4663-cc45-656d9866fef4"
      },
      "execution_count": 8,
      "outputs": [
        {
          "output_type": "execute_result",
          "data": {
            "text/html": [
              "<img src=\"../Examples/3.png\"/>"
            ],
            "text/plain": [
              "<IPython.core.display.Image object>"
            ]
          },
          "metadata": {},
          "execution_count": 8
        }
      ]
    },
    {
      "cell_type": "code",
      "source": [
        "Image(url='../Examples/4.png')"
      ],
      "metadata": {
        "colab": {
          "resources": {
            "http://localhost:8080/Examples/4.png": {
              "data": "",
              "ok": false,
              "headers": [
                [
                  "content-length",
                  "0"
                ]
              ],
              "status": 404,
              "status_text": ""
            }
          },
          "base_uri": "https://localhost:8080/",
          "height": 37
        },
        "id": "p-a5YCNfV0YP",
        "outputId": "46964be9-34df-44b2-88ca-dc2573c393db"
      },
      "execution_count": 9,
      "outputs": [
        {
          "output_type": "execute_result",
          "data": {
            "text/html": [
              "<img src=\"../Examples/4.png\"/>"
            ],
            "text/plain": [
              "<IPython.core.display.Image object>"
            ]
          },
          "metadata": {},
          "execution_count": 9
        }
      ]
    },
    {
      "cell_type": "code",
      "source": [
        "# Definimos los ángulos de las articulaciones como variables simbólicas\n",
        "theta_1 = symbols(\"theta_1\", real=True)\n",
        "theta_2 = symbols(\"theta_2\", real=True)\n",
        "theta_3 = symbols(\"theta_3\", real=True)\n",
        "alpha = symbols(\"alpha\", real=True)\n",
        "\n",
        "# Definimos las longitudes de los eslabones como variables simbólicas\n",
        "l_1 = symbols(\"l_1\", real=True)\n",
        "l_2 = symbols(\"l_2\", real=True)\n",
        "l_3 = symbols(\"l_3\", real=True)\n"
      ],
      "metadata": {
        "id": "751CIzpbV1q-"
      },
      "execution_count": 10,
      "outputs": []
    },
    {
      "cell_type": "code",
      "source": [
        "# Matriz de transformación desde el sistema 0 al 1\n",
        "_0H1 = Matrix([\n",
        "    [cos(theta_1), -sin(theta_1), 0, 0],\n",
        "    [sin(theta_1), cos(theta_1),  0, 0],\n",
        "    [0,             0,            1, 0],\n",
        "    [0,             0,            0, 1]\n",
        "])\n",
        "_0H1\n"
      ],
      "metadata": {
        "colab": {
          "base_uri": "https://localhost:8080/",
          "height": 98
        },
        "id": "szkacRodZZOj",
        "outputId": "9ead6ed4-1476-4ea0-bdf8-08e0b475664c"
      },
      "execution_count": 11,
      "outputs": [
        {
          "output_type": "execute_result",
          "data": {
            "text/plain": [
              "⎡cos(θ₁)  -sin(θ₁)  0  0⎤\n",
              "⎢                       ⎥\n",
              "⎢sin(θ₁)  cos(θ₁)   0  0⎥\n",
              "⎢                       ⎥\n",
              "⎢   0        0      1  0⎥\n",
              "⎢                       ⎥\n",
              "⎣   0        0      0  1⎦"
            ],
            "text/latex": "$\\displaystyle \\left[\\begin{matrix}\\cos{\\left(\\theta_{1} \\right)} & - \\sin{\\left(\\theta_{1} \\right)} & 0 & 0\\\\\\sin{\\left(\\theta_{1} \\right)} & \\cos{\\left(\\theta_{1} \\right)} & 0 & 0\\\\0 & 0 & 1 & 0\\\\0 & 0 & 0 & 1\\end{matrix}\\right]$"
          },
          "metadata": {},
          "execution_count": 11
        }
      ]
    },
    {
      "cell_type": "code",
      "source": [
        "# Matriz de transformación del sistema 1 al 2 (traslación en z)\n",
        "_1H2 = Matrix([\n",
        "    [1, 0, 0, 0],\n",
        "    [0, 1, 0, 0],\n",
        "    [0, 0, 1, l_1],\n",
        "    [0, 0, 0, 1]\n",
        "])\n",
        "_1H2\n"
      ],
      "metadata": {
        "colab": {
          "base_uri": "https://localhost:8080/",
          "height": 98
        },
        "id": "nX1XhKk6ZciT",
        "outputId": "1d12d049-3120-4374-d197-be924a85ec01"
      },
      "execution_count": 12,
      "outputs": [
        {
          "output_type": "execute_result",
          "data": {
            "text/plain": [
              "⎡1  0  0  0 ⎤\n",
              "⎢           ⎥\n",
              "⎢0  1  0  0 ⎥\n",
              "⎢           ⎥\n",
              "⎢0  0  1  l₁⎥\n",
              "⎢           ⎥\n",
              "⎣0  0  0  1 ⎦"
            ],
            "text/latex": "$\\displaystyle \\left[\\begin{matrix}1 & 0 & 0 & 0\\\\0 & 1 & 0 & 0\\\\0 & 0 & 1 & l_{1}\\\\0 & 0 & 0 & 1\\end{matrix}\\right]$"
          },
          "metadata": {},
          "execution_count": 12
        }
      ]
    },
    {
      "cell_type": "code",
      "source": [
        "# Matriz de transformación del sistema 2 al 3 (rotación en x)\n",
        "_2H3 = Matrix([\n",
        "    [1,          0,           0, 0],\n",
        "    [0, cos(alpha), -sin(alpha), 0],\n",
        "    [0, sin(alpha),  cos(alpha), 0],\n",
        "    [0,          0,           0, 1]\n",
        "])\n",
        "# Sustituimos alpha = pi/2 para el modelo\n",
        "_2H3 = _2H3.subs(alpha, pi/2)\n",
        "_2H3\n"
      ],
      "metadata": {
        "colab": {
          "base_uri": "https://localhost:8080/",
          "height": 98
        },
        "id": "LBqtO5PTZfJK",
        "outputId": "d96f11d8-6ce6-4e2f-f12b-364c6efbeffb"
      },
      "execution_count": 13,
      "outputs": [
        {
          "output_type": "execute_result",
          "data": {
            "text/plain": [
              "⎡1  0  0   0⎤\n",
              "⎢           ⎥\n",
              "⎢0  0  -1  0⎥\n",
              "⎢           ⎥\n",
              "⎢0  1  0   0⎥\n",
              "⎢           ⎥\n",
              "⎣0  0  0   1⎦"
            ],
            "text/latex": "$\\displaystyle \\left[\\begin{matrix}1 & 0 & 0 & 0\\\\0 & 0 & -1 & 0\\\\0 & 1 & 0 & 0\\\\0 & 0 & 0 & 1\\end{matrix}\\right]$"
          },
          "metadata": {},
          "execution_count": 13
        }
      ]
    },
    {
      "cell_type": "code",
      "source": [
        "# Matriz de transformación del sistema 3 al 4 (rotación en z)\n",
        "_3H4 = Matrix([\n",
        "    [cos(theta_2), -sin(theta_2), 0, 0],\n",
        "    [sin(theta_2), cos(theta_2),  0, 0],\n",
        "    [0,             0,            1, 0],\n",
        "    [0,             0,            0, 1]\n",
        "])\n",
        "_3H4\n"
      ],
      "metadata": {
        "colab": {
          "base_uri": "https://localhost:8080/",
          "height": 98
        },
        "id": "GdpqpR7kZoN2",
        "outputId": "fe8ec113-2743-47e8-8722-2a551af280bd"
      },
      "execution_count": 14,
      "outputs": [
        {
          "output_type": "execute_result",
          "data": {
            "text/plain": [
              "⎡cos(θ₂)  -sin(θ₂)  0  0⎤\n",
              "⎢                       ⎥\n",
              "⎢sin(θ₂)  cos(θ₂)   0  0⎥\n",
              "⎢                       ⎥\n",
              "⎢   0        0      1  0⎥\n",
              "⎢                       ⎥\n",
              "⎣   0        0      0  1⎦"
            ],
            "text/latex": "$\\displaystyle \\left[\\begin{matrix}\\cos{\\left(\\theta_{2} \\right)} & - \\sin{\\left(\\theta_{2} \\right)} & 0 & 0\\\\\\sin{\\left(\\theta_{2} \\right)} & \\cos{\\left(\\theta_{2} \\right)} & 0 & 0\\\\0 & 0 & 1 & 0\\\\0 & 0 & 0 & 1\\end{matrix}\\right]$"
          },
          "metadata": {},
          "execution_count": 14
        }
      ]
    },
    {
      "cell_type": "code",
      "source": [
        "# Matriz de transformación del sistema 4 al 5 (traslación en x)\n",
        "_4H5 = Matrix([\n",
        "    [1, 0, 0, l_2],\n",
        "    [0, 1, 0, 0],\n",
        "    [0, 0, 1, 0],\n",
        "    [0, 0, 0, 1]\n",
        "])\n",
        "_4H5\n"
      ],
      "metadata": {
        "colab": {
          "base_uri": "https://localhost:8080/",
          "height": 98
        },
        "id": "xuLN7ZLoZrYs",
        "outputId": "e6b205fd-8aea-4b0f-9ef6-de0210b90476"
      },
      "execution_count": 15,
      "outputs": [
        {
          "output_type": "execute_result",
          "data": {
            "text/plain": [
              "⎡1  0  0  l₂⎤\n",
              "⎢           ⎥\n",
              "⎢0  1  0  0 ⎥\n",
              "⎢           ⎥\n",
              "⎢0  0  1  0 ⎥\n",
              "⎢           ⎥\n",
              "⎣0  0  0  1 ⎦"
            ],
            "text/latex": "$\\displaystyle \\left[\\begin{matrix}1 & 0 & 0 & l_{2}\\\\0 & 1 & 0 & 0\\\\0 & 0 & 1 & 0\\\\0 & 0 & 0 & 1\\end{matrix}\\right]$"
          },
          "metadata": {},
          "execution_count": 15
        }
      ]
    },
    {
      "cell_type": "code",
      "source": [
        "# Matriz de transformación del sistema 5 al 6 (rotación en z)\n",
        "_5H6 = Matrix([\n",
        "    [cos(theta_3), -sin(theta_3), 0, 0],\n",
        "    [sin(theta_3), cos(theta_3),  0, 0],\n",
        "    [0,             0,            1, 0],\n",
        "    [0,             0,            0, 1]\n",
        "])\n",
        "_5H6\n"
      ],
      "metadata": {
        "colab": {
          "base_uri": "https://localhost:8080/",
          "height": 98
        },
        "id": "XS-q-KIqZs5J",
        "outputId": "69712710-7c9d-4147-a4f5-a711517f997c"
      },
      "execution_count": 16,
      "outputs": [
        {
          "output_type": "execute_result",
          "data": {
            "text/plain": [
              "⎡cos(θ₃)  -sin(θ₃)  0  0⎤\n",
              "⎢                       ⎥\n",
              "⎢sin(θ₃)  cos(θ₃)   0  0⎥\n",
              "⎢                       ⎥\n",
              "⎢   0        0      1  0⎥\n",
              "⎢                       ⎥\n",
              "⎣   0        0      0  1⎦"
            ],
            "text/latex": "$\\displaystyle \\left[\\begin{matrix}\\cos{\\left(\\theta_{3} \\right)} & - \\sin{\\left(\\theta_{3} \\right)} & 0 & 0\\\\\\sin{\\left(\\theta_{3} \\right)} & \\cos{\\left(\\theta_{3} \\right)} & 0 & 0\\\\0 & 0 & 1 & 0\\\\0 & 0 & 0 & 1\\end{matrix}\\right]$"
          },
          "metadata": {},
          "execution_count": 16
        }
      ]
    },
    {
      "cell_type": "code",
      "source": [
        "# Matriz de transformación del sistema 6 al 7 (traslación en x)\n",
        "_6H7 = Matrix([\n",
        "    [1, 0, 0, l_3],\n",
        "    [0, 1, 0, 0],\n",
        "    [0, 0, 1, 0],\n",
        "    [0, 0, 0, 1]\n",
        "])\n",
        "_6H7\n"
      ],
      "metadata": {
        "colab": {
          "base_uri": "https://localhost:8080/",
          "height": 98
        },
        "id": "aOnKHRKEZxT5",
        "outputId": "ebe0b031-ae7f-4cf5-ffec-b0f765b48785"
      },
      "execution_count": 17,
      "outputs": [
        {
          "output_type": "execute_result",
          "data": {
            "text/plain": [
              "⎡1  0  0  l₃⎤\n",
              "⎢           ⎥\n",
              "⎢0  1  0  0 ⎥\n",
              "⎢           ⎥\n",
              "⎢0  0  1  0 ⎥\n",
              "⎢           ⎥\n",
              "⎣0  0  0  1 ⎦"
            ],
            "text/latex": "$\\displaystyle \\left[\\begin{matrix}1 & 0 & 0 & l_{3}\\\\0 & 1 & 0 & 0\\\\0 & 0 & 1 & 0\\\\0 & 0 & 0 & 1\\end{matrix}\\right]$"
          },
          "metadata": {},
          "execution_count": 17
        }
      ]
    },
    {
      "cell_type": "markdown",
      "source": [
        "**Multiplicacion de transformacion**"
      ],
      "metadata": {
        "id": "BbrpgUCLZzyu"
      }
    },
    {
      "cell_type": "code",
      "source": [
        "# Multiplicamos todas las matrices de transformación\n",
        "Hs = _0H1 @ _1H2 @ _2H3 @ _3H4 @ _4H5 @ _5H6 @ _6H7\n",
        "Hs\n"
      ],
      "metadata": {
        "colab": {
          "base_uri": "https://localhost:8080/",
          "height": 118
        },
        "id": "E4sTl9BcaGLp",
        "outputId": "cd7a78bc-c216-4677-b87d-2b11ea88ef23"
      },
      "execution_count": 18,
      "outputs": [
        {
          "output_type": "execute_result",
          "data": {
            "text/plain": [
              "⎡-sin(θ₂)⋅sin(θ₃)⋅cos(θ₁) + cos(θ₁)⋅cos(θ₂)⋅cos(θ₃)  -sin(θ₂)⋅cos(θ₁)⋅cos(θ₃)  ↪\n",
              "⎢                                                                              ↪\n",
              "⎢-sin(θ₁)⋅sin(θ₂)⋅sin(θ₃) + sin(θ₁)⋅cos(θ₂)⋅cos(θ₃)  -sin(θ₁)⋅sin(θ₂)⋅cos(θ₃)  ↪\n",
              "⎢                                                                              ↪\n",
              "⎢        sin(θ₂)⋅cos(θ₃) + sin(θ₃)⋅cos(θ₂)                   -sin(θ₂)⋅sin(θ₃)  ↪\n",
              "⎢                                                                              ↪\n",
              "⎣                        0                                                   0 ↪\n",
              "\n",
              "↪ - sin(θ₃)⋅cos(θ₁)⋅cos(θ₂)  sin(θ₁)   l₂⋅cos(θ₁)⋅cos(θ₂) + l₃⋅(-sin(θ₂)⋅sin(θ ↪\n",
              "↪                                                                              ↪\n",
              "↪ - sin(θ₁)⋅sin(θ₃)⋅cos(θ₂)  -cos(θ₁)  l₂⋅sin(θ₁)⋅cos(θ₂) + l₃⋅(-sin(θ₁)⋅sin(θ ↪\n",
              "↪                                                                              ↪\n",
              "↪ + cos(θ₂)⋅cos(θ₃)             0                l₁ + l₂⋅sin(θ₂) + l₃⋅(sin(θ₂) ↪\n",
              "↪                                                                              ↪\n",
              "↪                               0                                           1  ↪\n",
              "\n",
              "↪ ₃)⋅cos(θ₁) + cos(θ₁)⋅cos(θ₂)⋅cos(θ₃))⎤\n",
              "↪                                      ⎥\n",
              "↪ ₂)⋅sin(θ₃) + sin(θ₁)⋅cos(θ₂)⋅cos(θ₃))⎥\n",
              "↪                                      ⎥\n",
              "↪ ⋅cos(θ₃) + sin(θ₃)⋅cos(θ₂))          ⎥\n",
              "↪                                      ⎥\n",
              "↪                                      ⎦"
            ],
            "text/latex": "$\\displaystyle \\left[\\begin{matrix}- \\sin{\\left(\\theta_{2} \\right)} \\sin{\\left(\\theta_{3} \\right)} \\cos{\\left(\\theta_{1} \\right)} + \\cos{\\left(\\theta_{1} \\right)} \\cos{\\left(\\theta_{2} \\right)} \\cos{\\left(\\theta_{3} \\right)} & - \\sin{\\left(\\theta_{2} \\right)} \\cos{\\left(\\theta_{1} \\right)} \\cos{\\left(\\theta_{3} \\right)} - \\sin{\\left(\\theta_{3} \\right)} \\cos{\\left(\\theta_{1} \\right)} \\cos{\\left(\\theta_{2} \\right)} & \\sin{\\left(\\theta_{1} \\right)} & l_{2} \\cos{\\left(\\theta_{1} \\right)} \\cos{\\left(\\theta_{2} \\right)} + l_{3} \\left(- \\sin{\\left(\\theta_{2} \\right)} \\sin{\\left(\\theta_{3} \\right)} \\cos{\\left(\\theta_{1} \\right)} + \\cos{\\left(\\theta_{1} \\right)} \\cos{\\left(\\theta_{2} \\right)} \\cos{\\left(\\theta_{3} \\right)}\\right)\\\\- \\sin{\\left(\\theta_{1} \\right)} \\sin{\\left(\\theta_{2} \\right)} \\sin{\\left(\\theta_{3} \\right)} + \\sin{\\left(\\theta_{1} \\right)} \\cos{\\left(\\theta_{2} \\right)} \\cos{\\left(\\theta_{3} \\right)} & - \\sin{\\left(\\theta_{1} \\right)} \\sin{\\left(\\theta_{2} \\right)} \\cos{\\left(\\theta_{3} \\right)} - \\sin{\\left(\\theta_{1} \\right)} \\sin{\\left(\\theta_{3} \\right)} \\cos{\\left(\\theta_{2} \\right)} & - \\cos{\\left(\\theta_{1} \\right)} & l_{2} \\sin{\\left(\\theta_{1} \\right)} \\cos{\\left(\\theta_{2} \\right)} + l_{3} \\left(- \\sin{\\left(\\theta_{1} \\right)} \\sin{\\left(\\theta_{2} \\right)} \\sin{\\left(\\theta_{3} \\right)} + \\sin{\\left(\\theta_{1} \\right)} \\cos{\\left(\\theta_{2} \\right)} \\cos{\\left(\\theta_{3} \\right)}\\right)\\\\\\sin{\\left(\\theta_{2} \\right)} \\cos{\\left(\\theta_{3} \\right)} + \\sin{\\left(\\theta_{3} \\right)} \\cos{\\left(\\theta_{2} \\right)} & - \\sin{\\left(\\theta_{2} \\right)} \\sin{\\left(\\theta_{3} \\right)} + \\cos{\\left(\\theta_{2} \\right)} \\cos{\\left(\\theta_{3} \\right)} & 0 & l_{1} + l_{2} \\sin{\\left(\\theta_{2} \\right)} + l_{3} \\left(\\sin{\\left(\\theta_{2} \\right)} \\cos{\\left(\\theta_{3} \\right)} + \\sin{\\left(\\theta_{3} \\right)} \\cos{\\left(\\theta_{2} \\right)}\\right)\\\\0 & 0 & 0 & 1\\end{matrix}\\right]$"
          },
          "metadata": {},
          "execution_count": 18
        }
      ]
    },
    {
      "cell_type": "code",
      "source": [
        "# Simplificamos la transformación completa\n",
        "H = simplify(Hs)\n",
        "H\n"
      ],
      "metadata": {
        "colab": {
          "base_uri": "https://localhost:8080/",
          "height": 98
        },
        "id": "Q5KYD3TEaHsY",
        "outputId": "29c763fe-51ff-4157-f96e-1f5e6927a2c0"
      },
      "execution_count": 19,
      "outputs": [
        {
          "output_type": "execute_result",
          "data": {
            "text/plain": [
              "⎡cos(θ₁)⋅cos(θ₂ + θ₃)  -sin(θ₂ + θ₃)⋅cos(θ₁)  sin(θ₁)   (l₂⋅cos(θ₂) + l₃⋅cos(θ ↪\n",
              "⎢                                                                              ↪\n",
              "⎢sin(θ₁)⋅cos(θ₂ + θ₃)  -sin(θ₁)⋅sin(θ₂ + θ₃)  -cos(θ₁)  (l₂⋅cos(θ₂) + l₃⋅cos(θ ↪\n",
              "⎢                                                                              ↪\n",
              "⎢    sin(θ₂ + θ₃)          cos(θ₂ + θ₃)          0        l₁ + l₂⋅sin(θ₂) + l₃ ↪\n",
              "⎢                                                                              ↪\n",
              "⎣         0                      0               0                        1    ↪\n",
              "\n",
              "↪ ₂ + θ₃))⋅cos(θ₁)⎤\n",
              "↪                 ⎥\n",
              "↪ ₂ + θ₃))⋅sin(θ₁)⎥\n",
              "↪                 ⎥\n",
              "↪ ⋅sin(θ₂ + θ₃)   ⎥\n",
              "↪                 ⎥\n",
              "↪                 ⎦"
            ],
            "text/latex": "$\\displaystyle \\left[\\begin{matrix}\\cos{\\left(\\theta_{1} \\right)} \\cos{\\left(\\theta_{2} + \\theta_{3} \\right)} & - \\sin{\\left(\\theta_{2} + \\theta_{3} \\right)} \\cos{\\left(\\theta_{1} \\right)} & \\sin{\\left(\\theta_{1} \\right)} & \\left(l_{2} \\cos{\\left(\\theta_{2} \\right)} + l_{3} \\cos{\\left(\\theta_{2} + \\theta_{3} \\right)}\\right) \\cos{\\left(\\theta_{1} \\right)}\\\\\\sin{\\left(\\theta_{1} \\right)} \\cos{\\left(\\theta_{2} + \\theta_{3} \\right)} & - \\sin{\\left(\\theta_{1} \\right)} \\sin{\\left(\\theta_{2} + \\theta_{3} \\right)} & - \\cos{\\left(\\theta_{1} \\right)} & \\left(l_{2} \\cos{\\left(\\theta_{2} \\right)} + l_{3} \\cos{\\left(\\theta_{2} + \\theta_{3} \\right)}\\right) \\sin{\\left(\\theta_{1} \\right)}\\\\\\sin{\\left(\\theta_{2} + \\theta_{3} \\right)} & \\cos{\\left(\\theta_{2} + \\theta_{3} \\right)} & 0 & l_{1} + l_{2} \\sin{\\left(\\theta_{2} \\right)} + l_{3} \\sin{\\left(\\theta_{2} + \\theta_{3} \\right)}\\\\0 & 0 & 0 & 1\\end{matrix}\\right]$"
          },
          "metadata": {},
          "execution_count": 19
        }
      ]
    },
    {
      "cell_type": "markdown",
      "source": [
        "**Posición y Orientación Final**"
      ],
      "metadata": {
        "id": "OKcNuFxyaLKM"
      }
    },
    {
      "cell_type": "code",
      "source": [
        "# Extraemos el vector de posición final (Px, Py, Pz)\n",
        "P = H[0:3, 3]\n",
        "P\n"
      ],
      "metadata": {
        "colab": {
          "base_uri": "https://localhost:8080/",
          "height": 78
        },
        "id": "6IOXrifoaJXP",
        "outputId": "7c196f58-f059-4225-c663-058d74346edc"
      },
      "execution_count": 20,
      "outputs": [
        {
          "output_type": "execute_result",
          "data": {
            "text/plain": [
              "⎡(l₂⋅cos(θ₂) + l₃⋅cos(θ₂ + θ₃))⋅cos(θ₁)⎤\n",
              "⎢                                      ⎥\n",
              "⎢(l₂⋅cos(θ₂) + l₃⋅cos(θ₂ + θ₃))⋅sin(θ₁)⎥\n",
              "⎢                                      ⎥\n",
              "⎣  l₁ + l₂⋅sin(θ₂) + l₃⋅sin(θ₂ + θ₃)   ⎦"
            ],
            "text/latex": "$\\displaystyle \\left[\\begin{matrix}\\left(l_{2} \\cos{\\left(\\theta_{2} \\right)} + l_{3} \\cos{\\left(\\theta_{2} + \\theta_{3} \\right)}\\right) \\cos{\\left(\\theta_{1} \\right)}\\\\\\left(l_{2} \\cos{\\left(\\theta_{2} \\right)} + l_{3} \\cos{\\left(\\theta_{2} + \\theta_{3} \\right)}\\right) \\sin{\\left(\\theta_{1} \\right)}\\\\l_{1} + l_{2} \\sin{\\left(\\theta_{2} \\right)} + l_{3} \\sin{\\left(\\theta_{2} + \\theta_{3} \\right)}\\end{matrix}\\right]$"
          },
          "metadata": {},
          "execution_count": 20
        }
      ]
    },
    {
      "cell_type": "code",
      "source": [
        "# Extraemos la matriz de orientación final\n",
        "R = H[0:3, 0:3]\n",
        "R\n"
      ],
      "metadata": {
        "colab": {
          "base_uri": "https://localhost:8080/",
          "height": 78
        },
        "id": "vi47SpiIaOqx",
        "outputId": "b419a67e-74b1-4bac-8df3-358bf5a53452"
      },
      "execution_count": 21,
      "outputs": [
        {
          "output_type": "execute_result",
          "data": {
            "text/plain": [
              "⎡cos(θ₁)⋅cos(θ₂ + θ₃)  -sin(θ₂ + θ₃)⋅cos(θ₁)  sin(θ₁) ⎤\n",
              "⎢                                                     ⎥\n",
              "⎢sin(θ₁)⋅cos(θ₂ + θ₃)  -sin(θ₁)⋅sin(θ₂ + θ₃)  -cos(θ₁)⎥\n",
              "⎢                                                     ⎥\n",
              "⎣    sin(θ₂ + θ₃)          cos(θ₂ + θ₃)          0    ⎦"
            ],
            "text/latex": "$\\displaystyle \\left[\\begin{matrix}\\cos{\\left(\\theta_{1} \\right)} \\cos{\\left(\\theta_{2} + \\theta_{3} \\right)} & - \\sin{\\left(\\theta_{2} + \\theta_{3} \\right)} \\cos{\\left(\\theta_{1} \\right)} & \\sin{\\left(\\theta_{1} \\right)}\\\\\\sin{\\left(\\theta_{1} \\right)} \\cos{\\left(\\theta_{2} + \\theta_{3} \\right)} & - \\sin{\\left(\\theta_{1} \\right)} \\sin{\\left(\\theta_{2} + \\theta_{3} \\right)} & - \\cos{\\left(\\theta_{1} \\right)}\\\\\\sin{\\left(\\theta_{2} + \\theta_{3} \\right)} & \\cos{\\left(\\theta_{2} + \\theta_{3} \\right)} & 0\\end{matrix}\\right]$"
          },
          "metadata": {},
          "execution_count": 21
        }
      ]
    },
    {
      "cell_type": "markdown",
      "source": [
        "**Encontrar las configuraciones de θ₁, θ₂ y θ₃ para alcanzar (x=45, y=36, z=22)**"
      ],
      "metadata": {
        "id": "8N_eZ1MoazOg"
      }
    },
    {
      "cell_type": "markdown",
      "source": [],
      "metadata": {
        "id": "ofKvQsJuboS9"
      }
    },
    {
      "cell_type": "code",
      "source": [
        "# Asignamos los valores reales de los eslabones\n",
        "l1_val = 40\n",
        "l2_val = 50\n",
        "l3_val = 5\n",
        "\n",
        "# Definimos la posición objetivo\n",
        "Px = 45\n",
        "Py = 36\n",
        "Pz = 22\n",
        "\n",
        "# Definimos variables simbólicas para resolver el sistema\n",
        "theta1, theta2, theta3 = symbols('theta1 theta2 theta3', real=True)\n",
        "\n",
        "# A partir del modelo simplificado sacamos relaciones:\n",
        "\n",
        "# Relación en XY (plano horizontal)\n",
        "eq1 = Eq(sqrt(Px**2 + Py**2), (l2_val*cos(theta2) + l3_val*cos(theta2 + theta3)))\n",
        "\n",
        "# Relación en Z\n",
        "eq2 = Eq(Pz - l1_val, (l2_val*sin(theta2) + l3_val*sin(theta2 + theta3)))\n",
        "\n",
        "# Theta1 se puede calcular como\n",
        "theta1_solution = atan2(Py, Px)\n",
        "theta1_solution\n"
      ],
      "metadata": {
        "colab": {
          "base_uri": "https://localhost:8080/",
          "height": 58
        },
        "id": "r5_v_LlAa2iV",
        "outputId": "fa0ab4fa-3d0e-4d42-8f6a-af09d3cca198"
      },
      "execution_count": 22,
      "outputs": [
        {
          "output_type": "execute_result",
          "data": {
            "text/plain": [
              "atan(4/5)"
            ],
            "text/latex": "$\\displaystyle \\operatorname{atan}{\\left(\\frac{4}{5} \\right)}$"
          },
          "metadata": {},
          "execution_count": 22
        }
      ]
    },
    {
      "cell_type": "markdown",
      "source": [
        "**Resolver θ₂ y θ₃**"
      ],
      "metadata": {
        "id": "BDEVsBpva83H"
      }
    },
    {
      "cell_type": "code",
      "source": [
        "# Resolvemos el sistema de ecuaciones para encontrar theta2 y theta3\n",
        "sol = solve((eq1, eq2), (theta2, theta3), dict=True)\n",
        "sol\n"
      ],
      "metadata": {
        "colab": {
          "base_uri": "https://localhost:8080/",
          "height": 37
        },
        "id": "HCqdkvIUa-n_",
        "outputId": "1edc6dbc-def0-4311-a0be-22accdd1a8e0"
      },
      "execution_count": 23,
      "outputs": [
        {
          "output_type": "execute_result",
          "data": {
            "text/plain": [
              "[]"
            ],
            "text/latex": "$\\displaystyle \\left[ \\right]$"
          },
          "metadata": {},
          "execution_count": 23
        }
      ]
    },
    {
      "cell_type": "code",
      "source": [
        "# Calculamos valores numéricos aproximados para cada solución\n",
        "solutions = []\n",
        "for s in sol:\n",
        "    theta2_val = s[theta2].evalf()\n",
        "    theta3_val = s[theta3].evalf()\n",
        "    theta1_val = theta1_solution.evalf()\n",
        "    solutions.append((theta1_val, theta2_val, theta3_val))\n",
        "\n",
        "# Mostramos las soluciones\n",
        "for idx, (t1, t2, t3) in enumerate(solutions):\n",
        "    print(f\"Configuración {idx+1}:\")\n",
        "    print(f\"Theta1 = {np.degrees(t1):.2f} grados\")\n",
        "    print(f\"Theta2 = {np.degrees(t2):.2f} grados\")\n",
        "    print(f\"Theta3 = {np.degrees(t3):.2f} grados\")\n",
        "    print(\"-------------------------------------------------\")\n"
      ],
      "metadata": {
        "id": "i4Bk2uhNa_y9"
      },
      "execution_count": 24,
      "outputs": []
    }
  ]
}