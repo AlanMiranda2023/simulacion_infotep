{
  "cells": [
    {
      "cell_type": "markdown",
      "id": "a7e43564",
      "metadata": {
        "id": "a7e43564"
      },
      "source": [
        "# **Matrices Homogeneas en un espacio tridimensional**"
      ]
    },
    {
      "cell_type": "markdown",
      "id": "30407b78",
      "metadata": {
        "id": "30407b78"
      },
      "source": [
        "**Docente:** PhD Jorge Rudas\n",
        "\n",
        "**Diseño de prototipos - 2025 I**\n",
        "\n",
        "**INFOTEP**"
      ]
    },
    {
      "cell_type": "code",
      "execution_count": 44,
      "id": "558fe4b4",
      "metadata": {
        "id": "558fe4b4"
      },
      "outputs": [],
      "source": [
        "import numpy as np\n",
        "import math\n",
        "from sympy import*\n",
        "init_printing()"
      ]
    },
    {
      "cell_type": "code",
      "source": [
        "class GradosARadianes:\n",
        "    \"\"\"\n",
        "    Convierte un valor en grados a radianes.\n",
        "\n",
        "    Parametros:\n",
        "        grados: Un número que representa el valor en grados a convertir.\n",
        "\n",
        "    Métodos:\n",
        "        convertir_a_radianes(): Convierte el valor en grados a radianes y lo retorna.\n",
        "    \"\"\"\n",
        "\n",
        "    def __init__(self, grados):\n",
        "        \"\"\"\n",
        "        Inicializa la clase con el valor en grados.\n",
        "\n",
        "        Parametros:\n",
        "            grados: Un número que representa el valor en grados.\n",
        "        \"\"\"\n",
        "        self.grados = grados\n",
        "\n",
        "    def convertir_a_radianes(self):\n",
        "        \"\"\"\n",
        "        Convierte el valor almacenado en grados a radianes.\n",
        "\n",
        "        Retorna:\n",
        "            float: El valor equivalente en radianes.\n",
        "        \"\"\"\n",
        "        return math.radians(self.grados)"
      ],
      "metadata": {
        "id": "uUi5XBjKfYZA"
      },
      "id": "uUi5XBjKfYZA",
      "execution_count": 45,
      "outputs": []
    },
    {
      "cell_type": "markdown",
      "id": "7bb73297",
      "metadata": {
        "id": "7bb73297"
      },
      "source": [
        "### Declaración de variables simbolicas"
      ]
    },
    {
      "cell_type": "code",
      "execution_count": 46,
      "id": "1e352206",
      "metadata": {
        "id": "1e352206"
      },
      "outputs": [],
      "source": [
        "## Variables Simbolicas\n",
        "theta = symbols(\"theta\",  real=True)\n",
        "phi = symbols(\"phi\",  real=True)\n",
        "psi = symbols(\"psi\",  real=True)\n",
        "t_x, t_y, t_z = symbols(\"t_x t_y t_z\", real=True)"
      ]
    },
    {
      "cell_type": "markdown",
      "id": "f95c974c",
      "metadata": {
        "id": "f95c974c"
      },
      "source": [
        "### Rotacion eje x"
      ]
    },
    {
      "cell_type": "code",
      "execution_count": 47,
      "id": "ff5b4884",
      "metadata": {
        "colab": {
          "base_uri": "https://localhost:8080/",
          "height": 98
        },
        "id": "ff5b4884",
        "outputId": "f593b012-aaad-421d-e9d4-74cf384723e7"
      },
      "outputs": [
        {
          "output_type": "execute_result",
          "data": {
            "text/plain": [
              "⎡1    0        0     0⎤\n",
              "⎢                     ⎥\n",
              "⎢0  cos(φ)  -sin(φ)  0⎥\n",
              "⎢                     ⎥\n",
              "⎢0  sin(φ)  cos(φ)   0⎥\n",
              "⎢                     ⎥\n",
              "⎣0    0        0     1⎦"
            ],
            "text/latex": "$\\displaystyle \\left[\\begin{matrix}1 & 0 & 0 & 0\\\\0 & \\cos{\\left(\\phi \\right)} & - \\sin{\\left(\\phi \\right)} & 0\\\\0 & \\sin{\\left(\\phi \\right)} & \\cos{\\left(\\phi \\right)} & 0\\\\0 & 0 & 0 & 1\\end{matrix}\\right]$"
          },
          "metadata": {},
          "execution_count": 47
        }
      ],
      "source": [
        "H_x = Matrix([[1, 0, 0, 0], [0, cos(phi), -sin(phi), 0], [0, sin(phi), cos(phi), 0], [0, 0, 0, 1]])\n",
        "H_x"
      ]
    },
    {
      "cell_type": "markdown",
      "id": "300908ee",
      "metadata": {
        "id": "300908ee"
      },
      "source": [
        "### Rotacion eje y"
      ]
    },
    {
      "cell_type": "code",
      "execution_count": 48,
      "id": "3c9c6277",
      "metadata": {
        "colab": {
          "base_uri": "https://localhost:8080/",
          "height": 98
        },
        "id": "3c9c6277",
        "outputId": "e9cc4388-f9c6-416c-e960-804bb507f278"
      },
      "outputs": [
        {
          "output_type": "execute_result",
          "data": {
            "text/plain": [
              "⎡cos(θ)   0  sin(θ)  0⎤\n",
              "⎢                     ⎥\n",
              "⎢   0     1    0     0⎥\n",
              "⎢                     ⎥\n",
              "⎢-sin(θ)  0  cos(θ)  0⎥\n",
              "⎢                     ⎥\n",
              "⎣   0     0    0     1⎦"
            ],
            "text/latex": "$\\displaystyle \\left[\\begin{matrix}\\cos{\\left(\\theta \\right)} & 0 & \\sin{\\left(\\theta \\right)} & 0\\\\0 & 1 & 0 & 0\\\\- \\sin{\\left(\\theta \\right)} & 0 & \\cos{\\left(\\theta \\right)} & 0\\\\0 & 0 & 0 & 1\\end{matrix}\\right]$"
          },
          "metadata": {},
          "execution_count": 48
        }
      ],
      "source": [
        "H_y = Matrix([[cos(theta), 0, sin(theta), 0], [0, 1, 0, 0], [-sin(theta), 0, cos(theta), 0], [0, 0, 0, 1]])\n",
        "H_y\n"
      ]
    },
    {
      "cell_type": "markdown",
      "id": "5ed24efc",
      "metadata": {
        "id": "5ed24efc"
      },
      "source": [
        "### Rotacion eje z"
      ]
    },
    {
      "cell_type": "code",
      "execution_count": 49,
      "id": "46751e12",
      "metadata": {
        "colab": {
          "base_uri": "https://localhost:8080/",
          "height": 98
        },
        "id": "46751e12",
        "outputId": "03837f71-f5e3-43b1-db92-9650ce974ed3"
      },
      "outputs": [
        {
          "output_type": "execute_result",
          "data": {
            "text/plain": [
              "⎡cos(ψ)  -sin(ψ)  0  0⎤\n",
              "⎢                     ⎥\n",
              "⎢sin(ψ)  cos(ψ)   0  0⎥\n",
              "⎢                     ⎥\n",
              "⎢  0        0     1  0⎥\n",
              "⎢                     ⎥\n",
              "⎣  0        0     0  1⎦"
            ],
            "text/latex": "$\\displaystyle \\left[\\begin{matrix}\\cos{\\left(\\psi \\right)} & - \\sin{\\left(\\psi \\right)} & 0 & 0\\\\\\sin{\\left(\\psi \\right)} & \\cos{\\left(\\psi \\right)} & 0 & 0\\\\0 & 0 & 1 & 0\\\\0 & 0 & 0 & 1\\end{matrix}\\right]$"
          },
          "metadata": {},
          "execution_count": 49
        }
      ],
      "source": [
        "H_z = Matrix([[cos(psi), -sin(psi), 0, 0], [sin(psi), cos(psi), 0, 0], [0, 0, 1, 0], [0, 0, 0, 1]])\n",
        "H_z"
      ]
    },
    {
      "cell_type": "markdown",
      "source": [
        "# **H para rotacion y luego traslaciones**"
      ],
      "metadata": {
        "id": "1IOprfpj4rNF"
      },
      "id": "1IOprfpj4rNF"
    },
    {
      "cell_type": "code",
      "source": [
        "# Matriz para traslación y luego rotación\n",
        "H_xt = Matrix([[1, 0, 0, t_x], [0, cos(phi), -sin(phi), t_y], [0, sin(phi), cos(phi), t_z], [0, 0, 0, 1]])\n",
        "H_xt"
      ],
      "metadata": {
        "colab": {
          "base_uri": "https://localhost:8080/",
          "height": 98
        },
        "id": "z3kahm4H5Gzd",
        "outputId": "e0113f6b-69c5-4fbd-9741-637de91fadf9"
      },
      "id": "z3kahm4H5Gzd",
      "execution_count": 50,
      "outputs": [
        {
          "output_type": "execute_result",
          "data": {
            "text/plain": [
              "⎡1    0        0     tₓ ⎤\n",
              "⎢                       ⎥\n",
              "⎢0  cos(φ)  -sin(φ)  t_y⎥\n",
              "⎢                       ⎥\n",
              "⎢0  sin(φ)  cos(φ)   t_z⎥\n",
              "⎢                       ⎥\n",
              "⎣0    0        0      1 ⎦"
            ],
            "text/latex": "$\\displaystyle \\left[\\begin{matrix}1 & 0 & 0 & t_{x}\\\\0 & \\cos{\\left(\\phi \\right)} & - \\sin{\\left(\\phi \\right)} & t_{y}\\\\0 & \\sin{\\left(\\phi \\right)} & \\cos{\\left(\\phi \\right)} & t_{z}\\\\0 & 0 & 0 & 1\\end{matrix}\\right]$"
          },
          "metadata": {},
          "execution_count": 50
        }
      ]
    },
    {
      "cell_type": "code",
      "source": [
        "# Matriz para traslación y luego rotación\n",
        "H_yt = Matrix([[cos(theta), 0, sin(theta), t_x], [0, 1, 0, t_y], [-sin(theta), 0, cos(theta), t_z], [0, 0, 0, 1]])\n",
        "H_yt"
      ],
      "metadata": {
        "colab": {
          "base_uri": "https://localhost:8080/",
          "height": 98
        },
        "id": "gx7HV4AG74UO",
        "outputId": "fe7d82e3-0323-4999-ee14-7464e42eafc5"
      },
      "id": "gx7HV4AG74UO",
      "execution_count": 51,
      "outputs": [
        {
          "output_type": "execute_result",
          "data": {
            "text/plain": [
              "⎡cos(θ)   0  sin(θ)  tₓ ⎤\n",
              "⎢                       ⎥\n",
              "⎢   0     1    0     t_y⎥\n",
              "⎢                       ⎥\n",
              "⎢-sin(θ)  0  cos(θ)  t_z⎥\n",
              "⎢                       ⎥\n",
              "⎣   0     0    0      1 ⎦"
            ],
            "text/latex": "$\\displaystyle \\left[\\begin{matrix}\\cos{\\left(\\theta \\right)} & 0 & \\sin{\\left(\\theta \\right)} & t_{x}\\\\0 & 1 & 0 & t_{y}\\\\- \\sin{\\left(\\theta \\right)} & 0 & \\cos{\\left(\\theta \\right)} & t_{z}\\\\0 & 0 & 0 & 1\\end{matrix}\\right]$"
          },
          "metadata": {},
          "execution_count": 51
        }
      ]
    },
    {
      "cell_type": "code",
      "source": [
        "H_zt = Matrix([[cos(psi), -sin(psi), 0, t_x], [sin(psi), cos(psi), 0, t_y], [0, 0, 1, t_z],[0, 0, 0, 1]])\n",
        "H_zt"
      ],
      "metadata": {
        "colab": {
          "base_uri": "https://localhost:8080/",
          "height": 98
        },
        "id": "kiUsxJnu8kQb",
        "outputId": "fc7684d8-f71e-4274-b36d-0e79e2ee7d1c"
      },
      "id": "kiUsxJnu8kQb",
      "execution_count": 52,
      "outputs": [
        {
          "output_type": "execute_result",
          "data": {
            "text/plain": [
              "⎡cos(ψ)  -sin(ψ)  0  tₓ ⎤\n",
              "⎢                       ⎥\n",
              "⎢sin(ψ)  cos(ψ)   0  t_y⎥\n",
              "⎢                       ⎥\n",
              "⎢  0        0     1  t_z⎥\n",
              "⎢                       ⎥\n",
              "⎣  0        0     0   1 ⎦"
            ],
            "text/latex": "$\\displaystyle \\left[\\begin{matrix}\\cos{\\left(\\psi \\right)} & - \\sin{\\left(\\psi \\right)} & 0 & t_{x}\\\\\\sin{\\left(\\psi \\right)} & \\cos{\\left(\\psi \\right)} & 0 & t_{y}\\\\0 & 0 & 1 & t_{z}\\\\0 & 0 & 0 & 1\\end{matrix}\\right]$"
          },
          "metadata": {},
          "execution_count": 52
        }
      ]
    },
    {
      "cell_type": "markdown",
      "source": [
        "# **H para Trasladación y luego rotación**"
      ],
      "metadata": {
        "id": "PexacFns85HN"
      },
      "id": "PexacFns85HN"
    },
    {
      "cell_type": "code",
      "source": [
        "H_tx = Matrix([[1, 0, 0, t_x],[0, cos(phi), -sin(phi), t_y * cos(phi) - t_z * sin(phi)],[0, sin(phi), cos(phi), t_y * sin(phi) + t_z * cos(phi)], [0, 0, 0, 1]])\n",
        "H_tx"
      ],
      "metadata": {
        "colab": {
          "base_uri": "https://localhost:8080/",
          "height": 98
        },
        "id": "bcvXpcxa9IbJ",
        "outputId": "25730c56-cfeb-4959-8a9e-bca318391d92"
      },
      "id": "bcvXpcxa9IbJ",
      "execution_count": 53,
      "outputs": [
        {
          "output_type": "execute_result",
          "data": {
            "text/plain": [
              "⎡1    0        0               tₓ           ⎤\n",
              "⎢                                           ⎥\n",
              "⎢0  cos(φ)  -sin(φ)  t_y⋅cos(φ) - t_z⋅sin(φ)⎥\n",
              "⎢                                           ⎥\n",
              "⎢0  sin(φ)  cos(φ)   t_y⋅sin(φ) + t_z⋅cos(φ)⎥\n",
              "⎢                                           ⎥\n",
              "⎣0    0        0                1           ⎦"
            ],
            "text/latex": "$\\displaystyle \\left[\\begin{matrix}1 & 0 & 0 & t_{x}\\\\0 & \\cos{\\left(\\phi \\right)} & - \\sin{\\left(\\phi \\right)} & t_{y} \\cos{\\left(\\phi \\right)} - t_{z} \\sin{\\left(\\phi \\right)}\\\\0 & \\sin{\\left(\\phi \\right)} & \\cos{\\left(\\phi \\right)} & t_{y} \\sin{\\left(\\phi \\right)} + t_{z} \\cos{\\left(\\phi \\right)}\\\\0 & 0 & 0 & 1\\end{matrix}\\right]$"
          },
          "metadata": {},
          "execution_count": 53
        }
      ]
    },
    {
      "cell_type": "code",
      "source": [
        "H_ty = Matrix([[cos(theta), 0, sin(theta), t_x * cos(theta) + t_z * sin(theta)], [0, 1, 0, t_y], [-sin(theta), 0, cos(theta), t_z * cos(theta) - t_x * sin(theta)], [0, 0, 0, 1]])\n",
        "H_ty"
      ],
      "metadata": {
        "colab": {
          "base_uri": "https://localhost:8080/",
          "height": 98
        },
        "id": "olk1dBaz9UBf",
        "outputId": "0f3afb4d-7aa9-41a6-8e75-5d7a4b11d105"
      },
      "id": "olk1dBaz9UBf",
      "execution_count": 54,
      "outputs": [
        {
          "output_type": "execute_result",
          "data": {
            "text/plain": [
              "⎡cos(θ)   0  sin(θ)  tₓ⋅cos(θ) + t_z⋅sin(θ) ⎤\n",
              "⎢                                           ⎥\n",
              "⎢   0     1    0               t_y          ⎥\n",
              "⎢                                           ⎥\n",
              "⎢-sin(θ)  0  cos(θ)  -tₓ⋅sin(θ) + t_z⋅cos(θ)⎥\n",
              "⎢                                           ⎥\n",
              "⎣   0     0    0                1           ⎦"
            ],
            "text/latex": "$\\displaystyle \\left[\\begin{matrix}\\cos{\\left(\\theta \\right)} & 0 & \\sin{\\left(\\theta \\right)} & t_{x} \\cos{\\left(\\theta \\right)} + t_{z} \\sin{\\left(\\theta \\right)}\\\\0 & 1 & 0 & t_{y}\\\\- \\sin{\\left(\\theta \\right)} & 0 & \\cos{\\left(\\theta \\right)} & - t_{x} \\sin{\\left(\\theta \\right)} + t_{z} \\cos{\\left(\\theta \\right)}\\\\0 & 0 & 0 & 1\\end{matrix}\\right]$"
          },
          "metadata": {},
          "execution_count": 54
        }
      ]
    },
    {
      "cell_type": "code",
      "source": [
        "H_tz = Matrix([[cos(psi), -sin(psi), 0, t_x * cos(psi) - t_y * sin(psi)], [sin(psi), cos(psi), 0, t_x * sin(psi) + t_y * cos(psi)], [0, 0, 1, t_z], [0, 0, 0, 1]])\n",
        "H_tz"
      ],
      "metadata": {
        "colab": {
          "base_uri": "https://localhost:8080/",
          "height": 98
        },
        "id": "H6VvFKh59gvb",
        "outputId": "002bdf6a-d8e1-4b16-feb0-3799a35e277a"
      },
      "id": "H6VvFKh59gvb",
      "execution_count": 55,
      "outputs": [
        {
          "output_type": "execute_result",
          "data": {
            "text/plain": [
              "⎡cos(ψ)  -sin(ψ)  0  tₓ⋅cos(ψ) - t_y⋅sin(ψ)⎤\n",
              "⎢                                          ⎥\n",
              "⎢sin(ψ)  cos(ψ)   0  tₓ⋅sin(ψ) + t_y⋅cos(ψ)⎥\n",
              "⎢                                          ⎥\n",
              "⎢  0        0     1           t_z          ⎥\n",
              "⎢                                          ⎥\n",
              "⎣  0        0     0            1           ⎦"
            ],
            "text/latex": "$\\displaystyle \\left[\\begin{matrix}\\cos{\\left(\\psi \\right)} & - \\sin{\\left(\\psi \\right)} & 0 & t_{x} \\cos{\\left(\\psi \\right)} - t_{y} \\sin{\\left(\\psi \\right)}\\\\\\sin{\\left(\\psi \\right)} & \\cos{\\left(\\psi \\right)} & 0 & t_{x} \\sin{\\left(\\psi \\right)} + t_{y} \\cos{\\left(\\psi \\right)}\\\\0 & 0 & 1 & t_{z}\\\\0 & 0 & 0 & 1\\end{matrix}\\right]$"
          },
          "metadata": {},
          "execution_count": 55
        }
      ]
    },
    {
      "cell_type": "markdown",
      "id": "4280e6af",
      "metadata": {
        "id": "4280e6af"
      },
      "source": [
        "### Composicion de Matrices Homogeneas"
      ]
    },
    {
      "cell_type": "markdown",
      "id": "3c3fea59",
      "metadata": {
        "id": "3c3fea59"
      },
      "source": [
        "Probando la conmutatividad de las matrices homogeneas"
      ]
    },
    {
      "cell_type": "code",
      "execution_count": 56,
      "id": "8cdcb123",
      "metadata": {
        "colab": {
          "base_uri": "https://localhost:8080/",
          "height": 98
        },
        "id": "8cdcb123",
        "outputId": "3ad0f5d2-9518-44ee-d38f-f7442d2e9455"
      },
      "outputs": [
        {
          "output_type": "execute_result",
          "data": {
            "text/plain": [
              "⎡cos(ψ)⋅cos(θ)  sin(φ)⋅sin(θ)⋅cos(ψ) - sin(ψ)⋅cos(φ)  sin(φ)⋅sin(ψ) + sin(θ)⋅cos(φ)⋅cos(ψ)   0⎤\n",
              "⎢                                                                                             ⎥\n",
              "⎢sin(ψ)⋅cos(θ)  sin(φ)⋅sin(ψ)⋅sin(θ) + cos(φ)⋅cos(ψ)  -sin(φ)⋅cos(ψ) + sin(ψ)⋅sin(θ)⋅cos(φ)  0⎥\n",
              "⎢                                                                                             ⎥\n",
              "⎢   -sin(θ)                sin(φ)⋅cos(θ)                          cos(φ)⋅cos(θ)              0⎥\n",
              "⎢                                                                                             ⎥\n",
              "⎣      0                         0                                      0                    1⎦"
            ],
            "text/latex": "$\\displaystyle \\left[\\begin{matrix}\\cos{\\left(\\psi \\right)} \\cos{\\left(\\theta \\right)} & \\sin{\\left(\\phi \\right)} \\sin{\\left(\\theta \\right)} \\cos{\\left(\\psi \\right)} - \\sin{\\left(\\psi \\right)} \\cos{\\left(\\phi \\right)} & \\sin{\\left(\\phi \\right)} \\sin{\\left(\\psi \\right)} + \\sin{\\left(\\theta \\right)} \\cos{\\left(\\phi \\right)} \\cos{\\left(\\psi \\right)} & 0\\\\\\sin{\\left(\\psi \\right)} \\cos{\\left(\\theta \\right)} & \\sin{\\left(\\phi \\right)} \\sin{\\left(\\psi \\right)} \\sin{\\left(\\theta \\right)} + \\cos{\\left(\\phi \\right)} \\cos{\\left(\\psi \\right)} & - \\sin{\\left(\\phi \\right)} \\cos{\\left(\\psi \\right)} + \\sin{\\left(\\psi \\right)} \\sin{\\left(\\theta \\right)} \\cos{\\left(\\phi \\right)} & 0\\\\- \\sin{\\left(\\theta \\right)} & \\sin{\\left(\\phi \\right)} \\cos{\\left(\\theta \\right)} & \\cos{\\left(\\phi \\right)} \\cos{\\left(\\theta \\right)} & 0\\\\0 & 0 & 0 & 1\\end{matrix}\\right]$"
          },
          "metadata": {},
          "execution_count": 56
        }
      ],
      "source": [
        "H = H_z@H_y@H_x\n",
        "H"
      ]
    },
    {
      "cell_type": "code",
      "execution_count": 57,
      "id": "663950aa",
      "metadata": {
        "colab": {
          "base_uri": "https://localhost:8080/",
          "height": 98
        },
        "id": "663950aa",
        "outputId": "edb1eb53-aff4-4baa-ab45-7706c7828b75"
      },
      "outputs": [
        {
          "output_type": "execute_result",
          "data": {
            "text/plain": [
              "⎡           cos(ψ)⋅cos(θ)                         -sin(ψ)⋅cos(θ)                  sin(θ)      0⎤\n",
              "⎢                                                                                              ⎥\n",
              "⎢sin(φ)⋅sin(θ)⋅cos(ψ) + sin(ψ)⋅cos(φ)  -sin(φ)⋅sin(ψ)⋅sin(θ) + cos(φ)⋅cos(ψ)  -sin(φ)⋅cos(θ)  0⎥\n",
              "⎢                                                                                              ⎥\n",
              "⎢sin(φ)⋅sin(ψ) - sin(θ)⋅cos(φ)⋅cos(ψ)  sin(φ)⋅cos(ψ) + sin(ψ)⋅sin(θ)⋅cos(φ)   cos(φ)⋅cos(θ)   0⎥\n",
              "⎢                                                                                              ⎥\n",
              "⎣                 0                                      0                          0         1⎦"
            ],
            "text/latex": "$\\displaystyle \\left[\\begin{matrix}\\cos{\\left(\\psi \\right)} \\cos{\\left(\\theta \\right)} & - \\sin{\\left(\\psi \\right)} \\cos{\\left(\\theta \\right)} & \\sin{\\left(\\theta \\right)} & 0\\\\\\sin{\\left(\\phi \\right)} \\sin{\\left(\\theta \\right)} \\cos{\\left(\\psi \\right)} + \\sin{\\left(\\psi \\right)} \\cos{\\left(\\phi \\right)} & - \\sin{\\left(\\phi \\right)} \\sin{\\left(\\psi \\right)} \\sin{\\left(\\theta \\right)} + \\cos{\\left(\\phi \\right)} \\cos{\\left(\\psi \\right)} & - \\sin{\\left(\\phi \\right)} \\cos{\\left(\\theta \\right)} & 0\\\\\\sin{\\left(\\phi \\right)} \\sin{\\left(\\psi \\right)} - \\sin{\\left(\\theta \\right)} \\cos{\\left(\\phi \\right)} \\cos{\\left(\\psi \\right)} & \\sin{\\left(\\phi \\right)} \\cos{\\left(\\psi \\right)} + \\sin{\\left(\\psi \\right)} \\sin{\\left(\\theta \\right)} \\cos{\\left(\\phi \\right)} & \\cos{\\left(\\phi \\right)} \\cos{\\left(\\theta \\right)} & 0\\\\0 & 0 & 0 & 1\\end{matrix}\\right]$"
          },
          "metadata": {},
          "execution_count": 57
        }
      ],
      "source": [
        "H = H_x@H_y@H_z\n",
        "H"
      ]
    },
    {
      "cell_type": "markdown",
      "id": "49b4f754",
      "metadata": {
        "id": "49b4f754"
      },
      "source": [
        "# **Experimento 1**\n",
        "#### Comprobar que una secuencia de rotaciones produce el mismo resultado que una composición de matrices homogeneas"
      ]
    },
    {
      "cell_type": "code",
      "execution_count": 58,
      "id": "a6d54389",
      "metadata": {
        "id": "a6d54389"
      },
      "outputs": [],
      "source": [
        "P0 = np.array([1, 1, 0])"
      ]
    },
    {
      "cell_type": "markdown",
      "id": "001bc638",
      "metadata": {
        "id": "001bc638"
      },
      "source": [
        "1. Probando solo con matrices de rotación en 3D"
      ]
    },
    {
      "cell_type": "code",
      "execution_count": 59,
      "id": "2fef220f",
      "metadata": {
        "colab": {
          "base_uri": "https://localhost:8080/",
          "height": 78
        },
        "id": "2fef220f",
        "outputId": "88811016-b65e-4a53-e480-33090dd54fa8"
      },
      "outputs": [
        {
          "output_type": "execute_result",
          "data": {
            "text/plain": [
              "⎡1    0        0   ⎤\n",
              "⎢                  ⎥\n",
              "⎢0  cos(θ)  -sin(θ)⎥\n",
              "⎢                  ⎥\n",
              "⎣0  sin(θ)  cos(θ) ⎦"
            ],
            "text/latex": "$\\displaystyle \\left[\\begin{matrix}1 & 0 & 0\\\\0 & \\cos{\\left(\\theta \\right)} & - \\sin{\\left(\\theta \\right)}\\\\0 & \\sin{\\left(\\theta \\right)} & \\cos{\\left(\\theta \\right)}\\end{matrix}\\right]$"
          },
          "metadata": {},
          "execution_count": 59
        }
      ],
      "source": [
        "#Matriz de rotacion 3D sobre el eje x\n",
        "R_x = Matrix([[1, 0, 0], [0, cos(theta), -sin(theta)], [0, sin(theta), cos(theta)]])\n",
        "R_x"
      ]
    },
    {
      "cell_type": "code",
      "execution_count": 60,
      "id": "0b784156",
      "metadata": {
        "colab": {
          "base_uri": "https://localhost:8080/",
          "height": 78
        },
        "id": "0b784156",
        "outputId": "23709416-f55b-46cb-b1a1-9544f8ec624c"
      },
      "outputs": [
        {
          "output_type": "execute_result",
          "data": {
            "text/plain": [
              "⎡cos(θ)   0  sin(θ)⎤\n",
              "⎢                  ⎥\n",
              "⎢   0     1    0   ⎥\n",
              "⎢                  ⎥\n",
              "⎣-sin(θ)  0  cos(θ)⎦"
            ],
            "text/latex": "$\\displaystyle \\left[\\begin{matrix}\\cos{\\left(\\theta \\right)} & 0 & \\sin{\\left(\\theta \\right)}\\\\0 & 1 & 0\\\\- \\sin{\\left(\\theta \\right)} & 0 & \\cos{\\left(\\theta \\right)}\\end{matrix}\\right]$"
          },
          "metadata": {},
          "execution_count": 60
        }
      ],
      "source": [
        "#Matriz de rotacion 3D sobre el eje y\n",
        "R_y = Matrix([[cos(theta), 0, sin(theta)], [0, 1, 0], [-sin(theta), 0, cos(theta)]])\n",
        "R_y"
      ]
    },
    {
      "cell_type": "code",
      "execution_count": 61,
      "id": "dd57ffb9",
      "metadata": {
        "colab": {
          "base_uri": "https://localhost:8080/"
        },
        "id": "dd57ffb9",
        "outputId": "d3e9a601-8494-4ba5-a7e8-20ca21dac90a"
      },
      "outputs": [
        {
          "output_type": "stream",
          "name": "stdout",
          "text": [
            "[ 1.0566704   0.93969262 -0.02062634]\n"
          ]
        }
      ],
      "source": [
        "theta_val = np.pi/9 # 20 grados en radianes\n",
        "R_x_p0 = np.array(R_x.subs({theta: theta_val})).astype(np.float64) #Se convierte theta simbolico a un valor concreto Rx\n",
        "R_y_p0 = np.array(R_y.subs({theta: theta_val})).astype(np.float64) #Se convierte theta simbolico a un valor concreto Ry\n",
        "\n",
        "P0_rotado_x = np.dot(R_x_p0, P0) #Producto punto entre la matrix de rotación y el vector de posición del punto\n",
        "P0_rotado_y = np.dot(R_y_p0, P0_rotado_x) #Producto punto entre la matrix de rotación y el vector de posición del punto\n",
        "\n",
        "print(P0_rotado_y)"
      ]
    },
    {
      "cell_type": "markdown",
      "id": "8ed1acdf",
      "metadata": {
        "id": "8ed1acdf"
      },
      "source": [
        "2. Ahora probamos con la composición de matrices homogeneas"
      ]
    },
    {
      "cell_type": "code",
      "execution_count": 62,
      "id": "54f56d28",
      "metadata": {
        "colab": {
          "base_uri": "https://localhost:8080/"
        },
        "id": "54f56d28",
        "outputId": "675a2c4f-7c5d-45aa-cbf5-459b78bf21ee"
      },
      "outputs": [
        {
          "output_type": "stream",
          "name": "stdout",
          "text": [
            "[1 1 0]\n",
            "[[1]\n",
            " [1]\n",
            " [0]\n",
            " [1]]\n"
          ]
        }
      ],
      "source": [
        "#Se convierte el punto 3D a un punto de coordenadas homogeneas\n",
        "\n",
        "P0_homogeneo = np.append(P0, 1)\n",
        "P0_homogeneo = np.reshape(P0_homogeneo, (4, 1))\n",
        "print(P0)\n",
        "print(P0_homogeneo)"
      ]
    },
    {
      "cell_type": "code",
      "execution_count": 63,
      "id": "bf656be2",
      "metadata": {
        "colab": {
          "base_uri": "https://localhost:8080/",
          "height": 98
        },
        "id": "bf656be2",
        "outputId": "b6d5e408-6617-4cd2-bf3b-176bc5342263"
      },
      "outputs": [
        {
          "output_type": "execute_result",
          "data": {
            "text/plain": [
              "⎡cos(θ)   sin(φ)⋅sin(θ)  sin(θ)⋅cos(φ)  0⎤\n",
              "⎢                                        ⎥\n",
              "⎢   0        cos(φ)         -sin(φ)     0⎥\n",
              "⎢                                        ⎥\n",
              "⎢-sin(θ)  sin(φ)⋅cos(θ)  cos(φ)⋅cos(θ)  0⎥\n",
              "⎢                                        ⎥\n",
              "⎣   0           0              0        1⎦"
            ],
            "text/latex": "$\\displaystyle \\left[\\begin{matrix}\\cos{\\left(\\theta \\right)} & \\sin{\\left(\\phi \\right)} \\sin{\\left(\\theta \\right)} & \\sin{\\left(\\theta \\right)} \\cos{\\left(\\phi \\right)} & 0\\\\0 & \\cos{\\left(\\phi \\right)} & - \\sin{\\left(\\phi \\right)} & 0\\\\- \\sin{\\left(\\theta \\right)} & \\sin{\\left(\\phi \\right)} \\cos{\\left(\\theta \\right)} & \\cos{\\left(\\phi \\right)} \\cos{\\left(\\theta \\right)} & 0\\\\0 & 0 & 0 & 1\\end{matrix}\\right]$"
          },
          "metadata": {},
          "execution_count": 63
        }
      ],
      "source": [
        "#Se realiza la composición de las matrices homogeneas para x y y\n",
        "Hxy = H_y@H_x\n",
        "Hxy"
      ]
    },
    {
      "cell_type": "code",
      "execution_count": 64,
      "id": "a6a89f36",
      "metadata": {
        "colab": {
          "base_uri": "https://localhost:8080/"
        },
        "id": "a6a89f36",
        "outputId": "e7bd0847-fb79-4f37-c669-733c789164cd"
      },
      "outputs": [
        {
          "output_type": "execute_result",
          "data": {
            "text/plain": [
              "array([[ 0.93969262,  0.11697778,  0.3213938 ,  0.        ],\n",
              "       [ 0.        ,  0.93969262, -0.34202014,  0.        ],\n",
              "       [-0.34202014,  0.3213938 ,  0.88302222,  0.        ],\n",
              "       [ 0.        ,  0.        ,  0.        ,  1.        ]])"
            ]
          },
          "metadata": {},
          "execution_count": 64
        }
      ],
      "source": [
        "theta_val = np.pi/9 # 20 grados en radianes\n",
        "phi_val = np.pi/9 # 20 grados en radianes\n",
        "\n",
        "Hxy_p0 = np.array(Hxy.subs({phi: phi_val, theta: theta_val})).astype(np.float64) #Se convierte theta simbolico a un valor concreto Rx\n",
        "Hxy_p0"
      ]
    },
    {
      "cell_type": "code",
      "execution_count": 65,
      "id": "dff1369b",
      "metadata": {
        "colab": {
          "base_uri": "https://localhost:8080/"
        },
        "id": "dff1369b",
        "outputId": "2bc67caf-0b14-44d6-d8a5-d67ae965d72a"
      },
      "outputs": [
        {
          "output_type": "execute_result",
          "data": {
            "text/plain": [
              "array([[ 1.0566704 ],\n",
              "       [ 0.93969262],\n",
              "       [-0.02062634],\n",
              "       [ 1.        ]])"
            ]
          },
          "metadata": {},
          "execution_count": 65
        }
      ],
      "source": [
        "P0_rotado_Hxy = np.dot(Hxy_p0, P0_homogeneo)\n",
        "P0_rotado_Hxy"
      ]
    },
    {
      "cell_type": "markdown",
      "id": "f03001f3",
      "metadata": {
        "id": "f03001f3"
      },
      "source": [
        "# **Actividad**\n",
        "\n",
        "* Calcule las siguientes matrices homogeneas"
      ]
    },
    {
      "cell_type": "code",
      "execution_count": 66,
      "id": "b1097fd7",
      "metadata": {
        "colab": {
          "resources": {
            "http://localhost:8080/1.png": {
              "data": "",
              "ok": false,
              "headers": [
                [
                  "content-length",
                  "0"
                ]
              ],
              "status": 404,
              "status_text": ""
            }
          },
          "base_uri": "https://localhost:8080/",
          "height": 37
        },
        "id": "b1097fd7",
        "outputId": "24960f1b-f768-4f7a-8f6e-7dd3cc5cdb4b"
      },
      "outputs": [
        {
          "output_type": "execute_result",
          "data": {
            "text/html": [
              "<img src=\"1.png\"/>"
            ],
            "text/plain": [
              "<IPython.core.display.Image object>"
            ]
          },
          "metadata": {},
          "execution_count": 66
        }
      ],
      "source": [
        "from IPython.display import Image\n",
        "\n",
        "Image(url='1.png')"
      ]
    },
    {
      "cell_type": "markdown",
      "id": "6bd60533",
      "metadata": {
        "id": "6bd60533"
      },
      "source": [
        "## Donde:"
      ]
    },
    {
      "cell_type": "code",
      "execution_count": 67,
      "id": "683b1094",
      "metadata": {
        "colab": {
          "resources": {
            "http://localhost:8080/2.png": {
              "data": "",
              "ok": false,
              "headers": [
                [
                  "content-length",
                  "0"
                ]
              ],
              "status": 404,
              "status_text": ""
            }
          },
          "base_uri": "https://localhost:8080/",
          "height": 37
        },
        "id": "683b1094",
        "outputId": "e864e5cc-f6bf-4d2f-b3ee-9611c3de475c"
      },
      "outputs": [
        {
          "output_type": "execute_result",
          "data": {
            "text/html": [
              "<img src=\"2.png\"/>"
            ],
            "text/plain": [
              "<IPython.core.display.Image object>"
            ]
          },
          "metadata": {},
          "execution_count": 67
        }
      ],
      "source": [
        "Image(url='2.png')"
      ]
    },
    {
      "cell_type": "markdown",
      "id": "419c1575",
      "metadata": {
        "id": "419c1575"
      },
      "source": [
        "# **Resultados aquí debajo**"
      ]
    },
    {
      "cell_type": "code",
      "execution_count": 68,
      "id": "0cbf4a20",
      "metadata": {
        "colab": {
          "base_uri": "https://localhost:8080/"
        },
        "id": "0cbf4a20",
        "outputId": "f48fb698-dca6-44b3-b560-3aa19471ce6e"
      },
      "outputs": [
        {
          "output_type": "execute_result",
          "data": {
            "text/plain": [
              "array([[ 0.33653069, -0.78073669,  0.52649531,  0.        ],\n",
              "       [ 0.44659131,  0.62455533,  0.64069247,  0.        ],\n",
              "       [-0.82903757,  0.01951555,  0.55885226,  0.        ],\n",
              "       [ 0.        ,  0.        ,  0.        ,  1.        ]])"
            ]
          },
          "metadata": {},
          "execution_count": 68
        }
      ],
      "source": [
        "H = H_z@H_y@H_x\n",
        "theta_val = np.pi*56/180 # 20 grados en radianes\n",
        "phi_val = np.pi*2/180\n",
        "psi_val = np.pi*53/180\n",
        "\n",
        "Hzyx = np.array(H.subs({phi: phi_val, theta: theta_val, psi: psi_val})).astype(np.float64) #Se convierte theta simbolico a un valor concreto Rx\n",
        "\n",
        "Hzyx"
      ]
    },
    {
      "cell_type": "code",
      "execution_count": 69,
      "id": "31eb6a91",
      "metadata": {
        "colab": {
          "base_uri": "https://localhost:8080/"
        },
        "id": "31eb6a91",
        "outputId": "91e3d717-06d4-4992-c604-3d10daf80286"
      },
      "outputs": [
        {
          "output_type": "execute_result",
          "data": {
            "text/plain": [
              "array([[-0.444206  ],\n",
              "       [ 1.07114664],\n",
              "       [-0.80952202],\n",
              "       [ 1.        ]])"
            ]
          },
          "metadata": {},
          "execution_count": 69
        }
      ],
      "source": [
        "np.dot(Hzyx, P0_homogeneo)"
      ]
    },
    {
      "cell_type": "markdown",
      "id": "6267ac60",
      "metadata": {
        "id": "6267ac60"
      },
      "source": [
        "**Punto 2**"
      ]
    },
    {
      "cell_type": "markdown",
      "source": [
        "**para poder reaizar la actividad se realizo por paso:**"
      ],
      "metadata": {
        "id": "2oRP_OCQlft4"
      },
      "id": "2oRP_OCQlft4"
    },
    {
      "cell_type": "code",
      "source": [
        "#Primero realizamos la matriz h_ty con valores 1\n",
        "\n",
        "t1_x = 3\n",
        "t1_y = 0\n",
        "t1_z = 0\n",
        "\n",
        "convertidor = GradosARadianes(6)\n",
        "radianes = convertidor.convertir_a_radianes()\n",
        "theta_val = radianes\n",
        "\n",
        "H_ty1_subs = np.array(H_ty.subs({theta: theta_val, t_x: t1_x, t_y: t1_y, t_z: t1_z, psi: 0, phi: 0}))\n",
        "\n",
        "\n",
        "#Segundo realizamos la matriz h_x\n",
        "phi_val = np.pi*2/180\n",
        "\n",
        "H_x_sub = np.array(H_x.subs({phi: phi_val})).astype(np.float64)\n",
        "\n",
        "# Tercero realizamos la matriz h_ty con valores 2\n",
        "t2_x = 1\n",
        "t2_y = 1\n",
        "t2_z = 0\n",
        "\n",
        "convertidor = GradosARadianes(-16)\n",
        "radianes = convertidor.convertir_a_radianes()\n",
        "theta_val = radianes\n",
        "\n",
        "H_ty2_subs = np.array(H_ty.subs({theta: theta_val, t_x: t2_x, t_y: t2_y, t_z: t2_z, psi: 0, phi: 0}))\n",
        "\n",
        "# Multiplicación de las matrices\n",
        "H_final = H_ty1_subs @ H_x_sub @H_ty2_subs\n",
        "\n",
        "# Multiplicación de las matrices final y el punto\n",
        "H_final = H_final.astype(np.float64) #convertimos a float64\n",
        "resultado = np.dot(H_final, P0_homogeneo)\n",
        "print(resultado)"
      ],
      "metadata": {
        "id": "r35jXIlr9PmF",
        "colab": {
          "base_uri": "https://localhost:8080/"
        },
        "outputId": "0ac3f954-4a92-431f-fe44-cfe6e0f26c76"
      },
      "id": "r35jXIlr9PmF",
      "execution_count": 117,
      "outputs": [
        {
          "output_type": "stream",
          "name": "stdout",
          "text": [
            "[[4.96044207]\n",
            " [1.97954244]\n",
            " [0.10279361]\n",
            " [1.        ]]\n"
          ]
        }
      ]
    },
    {
      "cell_type": "markdown",
      "source": [
        "**Punto 3**"
      ],
      "metadata": {
        "id": "0L2gPi2QuYCK"
      },
      "id": "0L2gPi2QuYCK"
    },
    {
      "cell_type": "code",
      "source": [
        "#primera parte rotacion en el eje z: h_z y luego trasladacion\n",
        "convertidor = GradosARadianes(53)\n",
        "psi_val = convertidor.convertir_a_radianes()\n",
        "t1_x = 3\n",
        "t1_y = 0\n",
        "t1_z = 0\n",
        "\n",
        "H_zt_subs = np.array(H_zt.subs({psi: psi_val, t_x: t1_x, t_y: t1_y, t_z: t1_z,theta: 0, phi: 0})).astype(np.float64)\n",
        "\n",
        "#Segunda parte, rotación en el eje y\n",
        "convertidor = GradosARadianes(56)\n",
        "theta_val = convertidor.convertir_a_radianes()\n",
        "\n",
        "H_y_subs = np.array(H_y.subs({theta: theta_val})).astype(np.float64)\n",
        "\n",
        "#tercera parte h(t2)\n",
        "t2_x = 1\n",
        "t2_y = 1\n",
        "t2_z = 0\n",
        "H_t2_subs = np.array(H.subs({t_x: t2_x, t_y: t2_y, t_z: t2_z, theta: 0, psi: 0, phi: 0})).astype(np.float64)\n",
        "\n",
        "#cuarta parte, rotacion en el eje z\n",
        "convertidor = GradosARadianes(53)\n",
        "psi_val = convertidor.convertir_a_radianes()\n",
        "\n",
        "H_z_subs = np.array(H_z.subs({psi: psi_val})).astype(np.float64)\n",
        "\n",
        "\n",
        "# Multiplicación de las matrices\n",
        "H_final = H_zt_subs @ H_y_subs @ H_t2_subs @ H_z_subs\n",
        "\n",
        "resultado = np.dot(H_final, P0_homogeneo)\n",
        "print(resultado)"
      ],
      "metadata": {
        "colab": {
          "base_uri": "https://localhost:8080/"
        },
        "id": "wFnauAaR1Fgw",
        "outputId": "a1a252cb-d097-49be-94a5-7ad6598b78f1"
      },
      "id": "wFnauAaR1Fgw",
      "execution_count": 118,
      "outputs": [
        {
          "output_type": "stream",
          "name": "stdout",
          "text": [
            "[[1.81531434]\n",
            " [0.75491385]\n",
            " [0.16317158]\n",
            " [1.        ]]\n"
          ]
        }
      ]
    },
    {
      "cell_type": "markdown",
      "source": [
        "**Observación: No encontramos matris (H), en la presetación para representar h(t2), asi que usamos la que dejo arriba en el codigo.**"
      ],
      "metadata": {
        "id": "V5BL2k7E3EGH"
      },
      "id": "V5BL2k7E3EGH"
    },
    {
      "cell_type": "markdown",
      "source": [
        "**Punto 4**"
      ],
      "metadata": {
        "id": "EIVcsAjHuazB"
      },
      "id": "EIVcsAjHuazB"
    },
    {
      "cell_type": "markdown",
      "source": [
        "**Realizada paso por paso**"
      ],
      "metadata": {
        "id": "9mAIUDZhvi-l"
      },
      "id": "9mAIUDZhvi-l"
    },
    {
      "cell_type": "code",
      "source": [
        "#Primera parte, rotacion en eje y: H_Y\n",
        "convertidor = GradosARadianes(56)\n",
        "theta_val = convertidor.convertir_a_radianes()\n",
        "\n",
        "H_y_subs = np.array(H_y.subs({theta: theta_val, t_x: 0, t_y: 0, t_z: 0, psi: 0, phi: 0})).astype(np.float64)\n",
        "\n",
        "#Segunda parte rotacion en eje z: h_z y luego trasladación\n",
        "convertidor = GradosARadianes(11)\n",
        "psi1_val = convertidor.convertir_a_radianes()\n",
        "t1_x = 3\n",
        "t1_y = 0\n",
        "t1_z = 0\n",
        "\n",
        "H_zt_subs1 = np.array(H_tz.subs({psi: psi1_val, t_x: t1_x, t_y: t1_y, t_z: t1_z, theta: 0, phi: 0})).astype(np.float64)\n",
        "\n",
        "\n",
        "#Tercera parte, rotacion en el eje z: h_z\n",
        "convertidor = GradosARadianes(-3)\n",
        "psi2_val = convertidor.convertir_a_radianes()\n",
        "\n",
        "H_z_subs1 = np.array(H_z.subs({psi: psi2_val})).astype(np.float64)\n",
        "\n",
        "#Cuarta parte, rotación en el eje x: h_x\n",
        "convertidor = GradosARadianes(2)\n",
        "phi_val = convertidor.convertir_a_radianes()\n",
        "\n",
        "H_x_subs = np.array(H_x.subs({phi: phi_val})).astype(np.float64)\n",
        "\n",
        "#quinta parte: rotacion en el eje z: h_z\n",
        "convertidor = GradosARadianes(278)\n",
        "psi3_val = convertidor.convertir_a_radianes()\n",
        "\n",
        "H_z_subs2 = np.array(H_z.subs({psi: psi3_val, theta: 0, phi: 0})).astype(np.float64)\n",
        "\n",
        "H_final = H_y_subs @ H_zt_subs1 @ H_z_subs1 @ H_x_subs @ H_z_subs2\n",
        "\n",
        "resultado = np.dot(H_final, P0_homogeneo)\n",
        "print(resultado)"
      ],
      "metadata": {
        "colab": {
          "base_uri": "https://localhost:8080/"
        },
        "id": "3cujILZEuZZR",
        "outputId": "17dd9534-546d-42d6-e623-806245a18952"
      },
      "id": "3cujILZEuZZR",
      "execution_count": 121,
      "outputs": [
        {
          "output_type": "stream",
          "name": "stdout",
          "text": [
            "[[ 2.31375696]\n",
            " [-0.11268394]\n",
            " [-3.48340301]\n",
            " [ 1.        ]]\n"
          ]
        }
      ]
    }
  ],
  "metadata": {
    "kernelspec": {
      "display_name": "Python 3 (ipykernel)",
      "language": "python",
      "name": "python3"
    },
    "language_info": {
      "codemirror_mode": {
        "name": "ipython",
        "version": 3
      },
      "file_extension": ".py",
      "mimetype": "text/x-python",
      "name": "python",
      "nbconvert_exporter": "python",
      "pygments_lexer": "ipython3",
      "version": "3.10.12"
    },
    "colab": {
      "provenance": []
    }
  },
  "nbformat": 4,
  "nbformat_minor": 5
}