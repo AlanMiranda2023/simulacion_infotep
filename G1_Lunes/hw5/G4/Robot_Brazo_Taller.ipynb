{
  "cells": [
    {
      "cell_type": "markdown",
      "id": "2f6be8c8",
      "metadata": {
        "id": "2f6be8c8"
      },
      "source": [
        "# **Cinemática de un robot planar**\n",
        "\n",
        "**Docente:** PhD Jorge Rudas\n",
        "\n",
        "**Diseño de prototipos - 2025 I**\n",
        "\n",
        "**INFOTEP**"
      ]
    },
    {
      "cell_type": "markdown",
      "id": "f6913b83",
      "metadata": {
        "id": "f6913b83"
      },
      "source": [
        "## Importar librerias"
      ]
    },
    {
      "cell_type": "code",
      "execution_count": null,
      "id": "82ae37d8",
      "metadata": {
        "id": "82ae37d8"
      },
      "outputs": [],
      "source": [
        "import numpy as np\n",
        "from sympy import*\n",
        "init_printing()"
      ]
    },
    {
      "cell_type": "markdown",
      "id": "9c4c1f12",
      "metadata": {
        "id": "9c4c1f12"
      },
      "source": [
        "## Se crean variables simbólicas"
      ]
    },
    {
      "cell_type": "code",
      "execution_count": null,
      "id": "0d328921",
      "metadata": {
        "id": "0d328921"
      },
      "outputs": [],
      "source": [
        "## Variables Simbolicas\n",
        "theta_1 = symbols(\"theta_1\",  real=True)\n",
        "theta_2 = symbols(\"theta_2\",  real=True)\n",
        "l_1 = symbols(\"l_1\",  real=True)\n",
        "l_2 = symbols(\"l_2\",  real=True)"
      ]
    },
    {
      "cell_type": "markdown",
      "id": "a472e104",
      "metadata": {
        "id": "a472e104"
      },
      "source": [
        "## Transformación desde el estado 0 al estado 1"
      ]
    },
    {
      "cell_type": "code",
      "execution_count": null,
      "id": "2db33fec",
      "metadata": {
        "id": "2db33fec"
      },
      "outputs": [],
      "source": [
        "_0H1 = Matrix([[cos(theta_1), -sin(theta_1), 0, 0], [sin(theta_1), cos(theta_1), 0, 0], [0, 0, 1, 0], [0, 0, 0, 1]])"
      ]
    },
    {
      "cell_type": "code",
      "execution_count": null,
      "id": "53b4ecc0",
      "metadata": {
        "colab": {
          "base_uri": "https://localhost:8080/"
        },
        "id": "53b4ecc0",
        "outputId": "f9b49ee0-981e-4bed-db09-9b806dfddca1"
      },
      "outputs": [
        {
          "output_type": "execute_result",
          "data": {
            "text/plain": [
              "⎡cos(θ₁)  -sin(θ₁)  0  0⎤\n",
              "⎢                       ⎥\n",
              "⎢sin(θ₁)  cos(θ₁)   0  0⎥\n",
              "⎢                       ⎥\n",
              "⎢   0        0      1  0⎥\n",
              "⎢                       ⎥\n",
              "⎣   0        0      0  1⎦"
            ],
            "text/latex": "$\\displaystyle \\left[\\begin{matrix}\\cos{\\left(\\theta_{1} \\right)} & - \\sin{\\left(\\theta_{1} \\right)} & 0 & 0\\\\\\sin{\\left(\\theta_{1} \\right)} & \\cos{\\left(\\theta_{1} \\right)} & 0 & 0\\\\0 & 0 & 1 & 0\\\\0 & 0 & 0 & 1\\end{matrix}\\right]$"
          },
          "metadata": {},
          "execution_count": 123
        }
      ],
      "source": [
        "_0H1\n"
      ]
    },
    {
      "cell_type": "markdown",
      "id": "21855c8f",
      "metadata": {
        "id": "21855c8f"
      },
      "source": [
        "## Transformación desde el estado 1 al estado 2"
      ]
    },
    {
      "cell_type": "code",
      "execution_count": null,
      "id": "d70da5f8",
      "metadata": {
        "id": "d70da5f8"
      },
      "outputs": [],
      "source": [
        "_1H2 = Matrix([[1, 0, 0, l_1], [0, 1, 0, 0], [0, 0, 1, 0], [0, 0, 0, 1]])"
      ]
    },
    {
      "cell_type": "code",
      "execution_count": null,
      "id": "c1828bac",
      "metadata": {
        "colab": {
          "base_uri": "https://localhost:8080/"
        },
        "id": "c1828bac",
        "outputId": "1930e99b-dc86-4ff5-9f0f-ae762ef637c5"
      },
      "outputs": [
        {
          "output_type": "execute_result",
          "data": {
            "text/plain": [
              "⎡1  0  0  l₁⎤\n",
              "⎢           ⎥\n",
              "⎢0  1  0  0 ⎥\n",
              "⎢           ⎥\n",
              "⎢0  0  1  0 ⎥\n",
              "⎢           ⎥\n",
              "⎣0  0  0  1 ⎦"
            ],
            "text/latex": "$\\displaystyle \\left[\\begin{matrix}1 & 0 & 0 & l_{1}\\\\0 & 1 & 0 & 0\\\\0 & 0 & 1 & 0\\\\0 & 0 & 0 & 1\\end{matrix}\\right]$"
          },
          "metadata": {},
          "execution_count": 125
        }
      ],
      "source": [
        "_1H2"
      ]
    },
    {
      "cell_type": "markdown",
      "id": "9bde084c",
      "metadata": {
        "id": "9bde084c"
      },
      "source": [
        "## Transformación desde el estado 2 al estado 3"
      ]
    },
    {
      "cell_type": "code",
      "execution_count": null,
      "id": "60197018",
      "metadata": {
        "id": "60197018"
      },
      "outputs": [],
      "source": [
        "_2H3 = Matrix([[cos(theta_2), -sin(theta_2), 0, 0], [sin(theta_2), cos(theta_2), 0, 0], [0, 0, 1, 0], [0, 0, 0, 1]])"
      ]
    },
    {
      "cell_type": "code",
      "execution_count": null,
      "id": "0a4fb170",
      "metadata": {
        "colab": {
          "base_uri": "https://localhost:8080/"
        },
        "id": "0a4fb170",
        "outputId": "fc92c610-79fa-46e1-ea83-d272bf598f76"
      },
      "outputs": [
        {
          "output_type": "execute_result",
          "data": {
            "text/plain": [
              "⎡cos(θ₂)  -sin(θ₂)  0  0⎤\n",
              "⎢                       ⎥\n",
              "⎢sin(θ₂)  cos(θ₂)   0  0⎥\n",
              "⎢                       ⎥\n",
              "⎢   0        0      1  0⎥\n",
              "⎢                       ⎥\n",
              "⎣   0        0      0  1⎦"
            ],
            "text/latex": "$\\displaystyle \\left[\\begin{matrix}\\cos{\\left(\\theta_{2} \\right)} & - \\sin{\\left(\\theta_{2} \\right)} & 0 & 0\\\\\\sin{\\left(\\theta_{2} \\right)} & \\cos{\\left(\\theta_{2} \\right)} & 0 & 0\\\\0 & 0 & 1 & 0\\\\0 & 0 & 0 & 1\\end{matrix}\\right]$"
          },
          "metadata": {},
          "execution_count": 127
        }
      ],
      "source": [
        "_2H3"
      ]
    },
    {
      "cell_type": "markdown",
      "id": "a53aa5ef",
      "metadata": {
        "id": "a53aa5ef"
      },
      "source": [
        "## Transformación desde el estado 3 al estado 4"
      ]
    },
    {
      "cell_type": "code",
      "execution_count": null,
      "id": "032e6c76",
      "metadata": {
        "id": "032e6c76"
      },
      "outputs": [],
      "source": [
        "_3H4 = Matrix([[1, 0, 0, l_2], [0, 1, 0, 0], [0, 0, 1, 0], [0, 0, 0, 1]])"
      ]
    },
    {
      "cell_type": "code",
      "execution_count": null,
      "id": "fcee8c4f",
      "metadata": {
        "colab": {
          "base_uri": "https://localhost:8080/"
        },
        "id": "fcee8c4f",
        "outputId": "bfc9ddac-5bf2-4148-f818-8ec88e018532"
      },
      "outputs": [
        {
          "output_type": "execute_result",
          "data": {
            "text/plain": [
              "⎡1  0  0  l₂⎤\n",
              "⎢           ⎥\n",
              "⎢0  1  0  0 ⎥\n",
              "⎢           ⎥\n",
              "⎢0  0  1  0 ⎥\n",
              "⎢           ⎥\n",
              "⎣0  0  0  1 ⎦"
            ],
            "text/latex": "$\\displaystyle \\left[\\begin{matrix}1 & 0 & 0 & l_{2}\\\\0 & 1 & 0 & 0\\\\0 & 0 & 1 & 0\\\\0 & 0 & 0 & 1\\end{matrix}\\right]$"
          },
          "metadata": {},
          "execution_count": 129
        }
      ],
      "source": [
        "_3H4\n"
      ]
    },
    {
      "cell_type": "markdown",
      "id": "4fa64a74",
      "metadata": {
        "id": "4fa64a74"
      },
      "source": [
        "## Composición de cada estado de la cinemática"
      ]
    },
    {
      "cell_type": "code",
      "execution_count": null,
      "id": "15f37bda",
      "metadata": {
        "id": "15f37bda"
      },
      "outputs": [],
      "source": [
        "H = simplify(_0H1@_1H2@_2H3@_3H4)"
      ]
    },
    {
      "cell_type": "code",
      "execution_count": null,
      "id": "6c2ed8ad",
      "metadata": {
        "colab": {
          "base_uri": "https://localhost:8080/"
        },
        "id": "6c2ed8ad",
        "outputId": "0667fee8-37ac-48a9-adfb-430bc75218cb"
      },
      "outputs": [
        {
          "output_type": "execute_result",
          "data": {
            "text/plain": [
              "⎡cos(θ₁ + θ₂)  -sin(θ₁ + θ₂)  0  l₁⋅cos(θ₁) + l₂⋅cos(θ₁ + θ₂)⎤\n",
              "⎢                                                            ⎥\n",
              "⎢sin(θ₁ + θ₂)  cos(θ₁ + θ₂)   0  l₁⋅sin(θ₁) + l₂⋅sin(θ₁ + θ₂)⎥\n",
              "⎢                                                            ⎥\n",
              "⎢     0              0        1               0              ⎥\n",
              "⎢                                                            ⎥\n",
              "⎣     0              0        0               1              ⎦"
            ],
            "text/latex": "$\\displaystyle \\left[\\begin{matrix}\\cos{\\left(\\theta_{1} + \\theta_{2} \\right)} & - \\sin{\\left(\\theta_{1} + \\theta_{2} \\right)} & 0 & l_{1} \\cos{\\left(\\theta_{1} \\right)} + l_{2} \\cos{\\left(\\theta_{1} + \\theta_{2} \\right)}\\\\\\sin{\\left(\\theta_{1} + \\theta_{2} \\right)} & \\cos{\\left(\\theta_{1} + \\theta_{2} \\right)} & 0 & l_{1} \\sin{\\left(\\theta_{1} \\right)} + l_{2} \\sin{\\left(\\theta_{1} + \\theta_{2} \\right)}\\\\0 & 0 & 1 & 0\\\\0 & 0 & 0 & 1\\end{matrix}\\right]$"
          },
          "metadata": {},
          "execution_count": 131
        }
      ],
      "source": [
        "H"
      ]
    },
    {
      "cell_type": "markdown",
      "id": "98f93492",
      "metadata": {
        "id": "98f93492"
      },
      "source": [
        "## Posición del efector final"
      ]
    },
    {
      "cell_type": "code",
      "execution_count": null,
      "id": "f8de3b60",
      "metadata": {
        "id": "f8de3b60"
      },
      "outputs": [],
      "source": [
        "P = H[0:2, 3]"
      ]
    },
    {
      "cell_type": "code",
      "execution_count": null,
      "id": "c9f85211",
      "metadata": {
        "colab": {
          "base_uri": "https://localhost:8080/"
        },
        "id": "c9f85211",
        "outputId": "295fbd55-2000-42fe-f7e2-c05bc20ce0d5"
      },
      "outputs": [
        {
          "output_type": "execute_result",
          "data": {
            "text/plain": [
              "⎡l₁⋅cos(θ₁) + l₂⋅cos(θ₁ + θ₂)⎤\n",
              "⎢                            ⎥\n",
              "⎣l₁⋅sin(θ₁) + l₂⋅sin(θ₁ + θ₂)⎦"
            ],
            "text/latex": "$\\displaystyle \\left[\\begin{matrix}l_{1} \\cos{\\left(\\theta_{1} \\right)} + l_{2} \\cos{\\left(\\theta_{1} + \\theta_{2} \\right)}\\\\l_{1} \\sin{\\left(\\theta_{1} \\right)} + l_{2} \\sin{\\left(\\theta_{1} + \\theta_{2} \\right)}\\end{matrix}\\right]$"
          },
          "metadata": {},
          "execution_count": 133
        }
      ],
      "source": [
        "P"
      ]
    },
    {
      "cell_type": "code",
      "execution_count": null,
      "id": "GNXclDgo83lm",
      "metadata": {
        "id": "GNXclDgo83lm"
      },
      "outputs": [],
      "source": [
        "import matplotlib.pyplot as plt\n",
        "import numpy as np\n",
        "\n",
        "def dibujar_brazo_mecanico(theta1, theta2, l1, l2):\n",
        "  \"\"\"Función para dibujar un brazo mecanico con 2 grados de libertad.\n",
        "\n",
        "  Parametros:\n",
        "    theta1: Angulo de la primera articulacion en radianes.\n",
        "    theta2: Angulo de la segunda articulacion en radianes.\n",
        "    l1: Longitud del primer extremo\n",
        "    l2: Longitud del segundo extremo\n",
        "  \"\"\"\n",
        "\n",
        "  # Calculamos la posición del efector final\n",
        "  x1 = l1 * np.cos(theta1)\n",
        "  y1 = l1 * np.sin(theta1)\n",
        "  x2 = x1 + l2 * np.cos(theta1 + theta2)\n",
        "  y2 = y1 + l2 * np.sin(theta1 + theta2)\n",
        "\n",
        "  # Dibujando el brazo con lineas y puntos\n",
        "  plt.figure(figsize=(6, 6))\n",
        "  plt.plot([0, x1], [0, y1], 'b-', linewidth=5)  # First link\n",
        "  plt.plot([x1, x2], [y1, y2], 'b-', linewidth=5)  # Second link\n",
        "  plt.plot(0, 0, 'ro', markersize=10)  # Base\n",
        "  plt.plot(x2, y2, 'go', markersize=10)  # End-effector\n",
        "\n",
        "  # Se dibujan los límites y los labels\n",
        "  plt.xlim([-l1 - l2, l1 + l2])\n",
        "  plt.ylim([-l1 - l2, l1 + l2])\n",
        "  plt.xlabel('X')\n",
        "  plt.ylabel('Y')\n",
        "  plt.title('Brazo robótico')\n",
        "  plt.grid(True)\n",
        "  plt.show()"
      ]
    },
    {
      "cell_type": "markdown",
      "id": "0LsCvdrkEYqT",
      "metadata": {
        "id": "0LsCvdrkEYqT"
      },
      "source": [
        "## Ejemplo de manipulación del brazo robotico en su estado final"
      ]
    },
    {
      "cell_type": "code",
      "execution_count": null,
      "id": "yHJG-FLr9DV2",
      "metadata": {
        "colab": {
          "base_uri": "https://localhost:8080/"
        },
        "id": "yHJG-FLr9DV2",
        "outputId": "94aa3e3e-d4b7-4d73-d60c-60a31dc096af"
      },
      "outputs": [
        {
          "output_type": "display_data",
          "data": {
            "text/plain": [
              "<Figure size 600x600 with 1 Axes>"
            ],
            "image/png": "[encoded data removed]"
          },
          "metadata": {}
        }
      ],
      "source": [
        "theta1 = np.deg2rad(45)  # 45 grados\n",
        "theta2 = np.deg2rad(-80)  # -30 grados\n",
        "l1 = 1\n",
        "l2 = 1\n",
        "dibujar_brazo_mecanico(theta1, theta2, l1, l2)"
      ]
    },
    {
      "cell_type": "markdown",
      "id": "PXKx1zldEyCV",
      "metadata": {
        "id": "PXKx1zldEyCV"
      },
      "source": [
        "## **Taller**\n",
        "\n",
        "*  Dibujar cada estado del anterior brazo robótico\n",
        "*  Imagine un brazo robótico cuyas extremidades miden 2 unidades cada una. Podría este brazo alcanzar cualquier objeto dentro de la cuadricula de 2 x 2? Explique detalladamente su razonamiento"
      ]
    },
    {
      "cell_type": "markdown",
      "source": [
        "## Parametros del brazo"
      ],
      "metadata": {
        "id": "0b2F9rhBG6hi"
      },
      "id": "0b2F9rhBG6hi"
    },
    {
      "cell_type": "code",
      "source": [
        "# Parámetros del brazo para que mida 2 unidades\n",
        "l1 = 2\n",
        "l2 = 2\n",
        "\n"
      ],
      "metadata": {
        "id": "faXD_8gvmK_R"
      },
      "id": "faXD_8gvmK_R",
      "execution_count": null,
      "outputs": []
    },
    {
      "cell_type": "markdown",
      "source": [
        "## Parámetros de los ángulos"
      ],
      "metadata": {
        "id": "F_aDZFRJG_TL"
      },
      "id": "F_aDZFRJG_TL"
    },
    {
      "cell_type": "code",
      "source": [
        "# Angulos modificables\n",
        "theta1 = np.deg2rad(90)\n",
        "theta2 = np.deg2rad(-120)\n",
        "\n"
      ],
      "metadata": {
        "id": "aD-7cwtxD6Al"
      },
      "id": "aD-7cwtxD6Al",
      "execution_count": null,
      "outputs": []
    },
    {
      "cell_type": "markdown",
      "source": [
        "## Función\n",
        "\n",
        "* Se calculan posiciones\n",
        "* Se dibuja el brazo y las cuadrículas 2x2\n",
        "* Se crean los limites del gráfico"
      ],
      "metadata": {
        "id": "IzNxxQbBGAqS"
      },
      "id": "IzNxxQbBGAqS"
    },
    {
      "cell_type": "code",
      "source": [
        "# Se define la función\n",
        "\n",
        "def brazom_cuadricula(theta1, theta2, l1, l2):\n",
        "\n",
        "    # Se calculan las posiciones\n",
        "    x1 = l1 * np.cos(theta1)\n",
        "    y1 = l1 * np.sin(theta1)\n",
        "    x2 = x1 + l2 * np.cos(theta1 + theta2)\n",
        "    y2 = y1 + l2 * np.sin(theta1 + theta2)\n",
        "\n",
        "    # Dibujo del brazo\n",
        "    plt.figure(figsize=(6, 6))\n",
        "    plt.plot([0, x1], [0, y1], 'b-', linewidth=5)\n",
        "    plt.plot([x1, x2], [y1, y2], 'b-', linewidth=5)\n",
        "    plt.plot(0, 0, 'ro', markersize=10)\n",
        "    plt.plot(x2, y2, 'go', markersize=10)\n",
        "\n",
        "    # cuadrículas 2x2\n",
        "    rect = plt.Rectangle((0, 0), 2, 2, linewidth=2, edgecolor='orange', facecolor='none', linestyle='--') # Cuadrícula #1\n",
        "\n",
        "    rect2 = plt.Rectangle((-2, 0), 2, 2, linewidth=2, edgecolor='red', facecolor='none', linestyle='--') # Cuadrícula #2\n",
        "\n",
        "    rect3 = plt.Rectangle((0, 0), -2, -2, linewidth=2, edgecolor='violet', facecolor='none', linestyle='--') # Cuadrícula #3\n",
        "\n",
        "    rect4 = plt.Rectangle((0, -2), 2, 2, linewidth=2, edgecolor='green', facecolor='none', linestyle='--') # Cuadrícula #4\n",
        "\n",
        "    # vista de las cuadriculas 2x2\n",
        "\n",
        "    plt.gca().add_patch(rect) #1\n",
        "    plt.gca().add_patch(rect2) #2\n",
        "    plt.gca().add_patch(rect3) #3\n",
        "    plt.gca().add_patch(rect4) #4\n",
        "\n",
        "\n",
        "   # Se establecen los límites del gráfico\n",
        "    alcance_total = l1 + l2\n",
        "    plt.xlim([-alcance_total, alcance_total])\n",
        "    plt.ylim([-alcance_total, alcance_total])\n",
        "    plt.xlabel('X')\n",
        "    plt.ylabel('Y')\n",
        "    plt.title('Brazo robótico con cuadrícula 2x2')\n",
        "    plt.grid(True)\n",
        "    plt.gca().set_aspect('equal')\n",
        "    plt.show()\n",
        "\n",
        "# Llamado de función\n",
        "brazom_cuadricula(theta1, theta2, l1, l2)"
      ],
      "metadata": {
        "colab": {
          "base_uri": "https://localhost:8080/"
        },
        "id": "vh3k3LioD8H1",
        "outputId": "e00a8fe8-5636-45ae-ad03-d57098f61a7b"
      },
      "id": "vh3k3LioD8H1",
      "execution_count": null,
      "outputs": [
        {
          "output_type": "display_data",
          "data": {
            "text/plain": [
              "<Figure size 600x600 with 1 Axes>"
            ],
            "image/png": "[encoded data removed]"
          },
          "metadata": {}
        }
      ]
    },
    {
      "cell_type": "markdown",
      "source": [
        "## Razonamiento\n",
        "\n",
        "* Luego de estar probando y jugando con la combinación de los ángulos de las dos extensiones de los brazos, se llegó a la siguiente concusión:\n",
        "\n",
        "  * Suponiendo que el brazo robótico tiene su base fija en el punto (0, 0) y que este punto no se puede mover, podemos decir que el primer segmento del brazo (l1) puede girar en cualquier dirección: hacia la izquierda, derecha, arriba, abajo e incluso en diagonal. Por eso, podemos imaginar 4 cuadrículas de 2x2 alrededor del origen que representa todo el espacio que puede cubrir ese primer movimiento.\n",
        "\n",
        "    Teniendo eso en cuenta, el segundo segmento del brazo (l2), que se extiende desde el final de l1, puede alcanzar cualquier objeto que esté dentro de alguna de esas cuadrículas\n",
        "  \n",
        "  * El brazo podría alcanzar algún objeto que se encuentre dentro de la cuadricula 2x2 central, donde está ubicado el punto (0, 0) del brazo\n",
        "\n",
        "  * El alcance máximo del brazo es de 4 unidades en cualquier dirección (Estando totalmente recto)"
      ],
      "metadata": {
        "id": "GNYiXyD0HO0z"
      },
      "id": "GNYiXyD0HO0z"
    },
    {
      "cell_type": "markdown",
      "source": [
        "## Ejemplos visuales"
      ],
      "metadata": {
        "id": "Mf21UnzGKvOY"
      },
      "id": "Mf21UnzGKvOY"
    },
    {
      "cell_type": "markdown",
      "source": [
        "### Cuadricula 1"
      ],
      "metadata": {
        "id": "UyJOLThkLMBr"
      },
      "id": "UyJOLThkLMBr"
    },
    {
      "cell_type": "code",
      "source": [
        "# Se define la función\n",
        "\n",
        "def cuadricula_1(theta1, theta2, l1, l2):\n",
        "\n",
        "    # Angulos modificables\n",
        "    theta1 = np.deg2rad(90)\n",
        "    theta2 = np.deg2rad(-120)\n",
        "\n",
        "    # Se calculan las posiciones\n",
        "    x1 = l1 * np.cos(theta1)\n",
        "    y1 = l1 * np.sin(theta1)\n",
        "    x2 = x1 + l2 * np.cos(theta1 + theta2)\n",
        "    y2 = y1 + l2 * np.sin(theta1 + theta2)\n",
        "\n",
        "    # Dibujo del brazo\n",
        "    plt.figure(figsize=(6, 6))\n",
        "    plt.plot([0, x1], [0, y1], 'b-', linewidth=5)\n",
        "    plt.plot([x1, x2], [y1, y2], 'b-', linewidth=5)\n",
        "    plt.plot(0, 0, 'ro', markersize=10)\n",
        "    plt.plot(x2, y2, 'go', markersize=10)\n",
        "\n",
        "    # cuadrículas 2x2\n",
        "    rect = plt.Rectangle((0, 0), 2, 2, linewidth=2, edgecolor='orange', facecolor='none', linestyle='--') # Cuadrícula #1\n",
        "\n",
        "    # vista de las cuadriculas 2x2\n",
        "    plt.gca().add_patch(rect) #1\n",
        "\n",
        "   # Se establecen los límites del gráfico\n",
        "    alcance_total = l1 + l2\n",
        "    plt.xlim([-alcance_total, alcance_total])\n",
        "    plt.ylim([-alcance_total, alcance_total])\n",
        "    plt.xlabel('X')\n",
        "    plt.ylabel('Y')\n",
        "    plt.title('Brazo robótico con cuadrícula 2x2')\n",
        "    plt.grid(True)\n",
        "    plt.gca().set_aspect('equal')\n",
        "    plt.show()\n",
        "\n",
        "# Llamado de función\n",
        "cuadricula_1(theta1, theta2, l1, l2)"
      ],
      "metadata": {
        "colab": {
          "base_uri": "https://localhost:8080/"
        },
        "id": "szjITXAHKzO3",
        "outputId": "fdbaf79e-5e14-4283-eb19-1f127bccf274"
      },
      "id": "szjITXAHKzO3",
      "execution_count": null,
      "outputs": [
        {
          "output_type": "display_data",
          "data": {
            "text/plain": [
              "<Figure size 600x600 with 1 Axes>"
            ],
            "image/png": "[encoded data removed]"
          },
          "metadata": {}
        }
      ]
    },
    {
      "cell_type": "markdown",
      "source": [
        "### Cuadricula 2"
      ],
      "metadata": {
        "id": "o5WLmVgwLOrc"
      },
      "id": "o5WLmVgwLOrc"
    },
    {
      "cell_type": "code",
      "source": [
        "# Se define la función\n",
        "\n",
        "def cuadricula_2(theta1, theta2, l1, l2):\n",
        "\n",
        "    # Angulos modificables\n",
        "    theta1 = np.deg2rad(90)\n",
        "    theta2 = np.deg2rad(120)\n",
        "\n",
        "    # Se calculan las posiciones\n",
        "    x1 = l1 * np.cos(theta1)\n",
        "    y1 = l1 * np.sin(theta1)\n",
        "    x2 = x1 + l2 * np.cos(theta1 + theta2)\n",
        "    y2 = y1 + l2 * np.sin(theta1 + theta2)\n",
        "\n",
        "    # Dibujo del brazo\n",
        "    plt.figure(figsize=(6, 6))\n",
        "    plt.plot([0, x1], [0, y1], 'b-', linewidth=5)\n",
        "    plt.plot([x1, x2], [y1, y2], 'b-', linewidth=5)\n",
        "    plt.plot(0, 0, 'ro', markersize=10)\n",
        "    plt.plot(x2, y2, 'go', markersize=10)\n",
        "\n",
        "    # cuadrículas 2x2\n",
        "    rect2 = plt.Rectangle((-2, 0), 2, 2, linewidth=2, edgecolor='red', facecolor='none', linestyle='--') # Cuadrícula #2\n",
        "\n",
        "    # vista de las cuadriculas 2x2\n",
        "    plt.gca().add_patch(rect2) #2\n",
        "\n",
        "\n",
        "   # Se establecen los límites del gráfico\n",
        "    alcance_total = l1 + l2\n",
        "    plt.xlim([-alcance_total, alcance_total])\n",
        "    plt.ylim([-alcance_total, alcance_total])\n",
        "    plt.xlabel('X')\n",
        "    plt.ylabel('Y')\n",
        "    plt.title('Brazo robótico con cuadrícula 2x2')\n",
        "    plt.grid(True)\n",
        "    plt.gca().set_aspect('equal')\n",
        "    plt.show()\n",
        "\n",
        "# Llamado de función\n",
        "cuadricula_2(theta1, theta2, l1, l2)"
      ],
      "metadata": {
        "colab": {
          "base_uri": "https://localhost:8080/"
        },
        "id": "nUxPivNOLQxd",
        "outputId": "88f80b96-dfe4-4ad7-f2b8-3ec2d7d013b5"
      },
      "id": "nUxPivNOLQxd",
      "execution_count": null,
      "outputs": [
        {
          "output_type": "display_data",
          "data": {
            "text/plain": [
              "<Figure size 600x600 with 1 Axes>"
            ],
            "image/png": "[encoded data removed]"
          },
          "metadata": {}
        }
      ]
    },
    {
      "cell_type": "markdown",
      "source": [
        "### Cuadrícula 3"
      ],
      "metadata": {
        "id": "z_1QkkyjMHw2"
      },
      "id": "z_1QkkyjMHw2"
    },
    {
      "cell_type": "code",
      "source": [
        "# Se define la función\n",
        "\n",
        "def cuadricula_3(theta1, theta2, l1, l2):\n",
        "\n",
        "     # Angulos modificables\n",
        "    theta1 = np.deg2rad(-90)\n",
        "    theta2 = np.deg2rad(-120)\n",
        "\n",
        "    # Se calculan las posiciones\n",
        "    x1 = l1 * np.cos(theta1)\n",
        "    y1 = l1 * np.sin(theta1)\n",
        "    x2 = x1 + l2 * np.cos(theta1 + theta2)\n",
        "    y2 = y1 + l2 * np.sin(theta1 + theta2)\n",
        "\n",
        "    # Dibujo del brazo\n",
        "    plt.figure(figsize=(6, 6))\n",
        "    plt.plot([0, x1], [0, y1], 'b-', linewidth=5)\n",
        "    plt.plot([x1, x2], [y1, y2], 'b-', linewidth=5)\n",
        "    plt.plot(0, 0, 'ro', markersize=10)\n",
        "    plt.plot(x2, y2, 'go', markersize=10)\n",
        "\n",
        "    # cuadrículas 2x2\n",
        "    rect3 = plt.Rectangle((0, 0), -2, -2, linewidth=2, edgecolor='violet', facecolor='none', linestyle='--') # Cuadrícula #3\n",
        "\n",
        "    # vista de las cuadriculas 2x2\n",
        "    plt.gca().add_patch(rect3) #3\n",
        "\n",
        "\n",
        "   # Se establecen los límites del gráfico\n",
        "    alcance_total = l1 + l2\n",
        "    plt.xlim([-alcance_total, alcance_total])\n",
        "    plt.ylim([-alcance_total, alcance_total])\n",
        "    plt.xlabel('X')\n",
        "    plt.ylabel('Y')\n",
        "    plt.title('Brazo robótico con cuadrícula 2x2')\n",
        "    plt.grid(True)\n",
        "    plt.gca().set_aspect('equal')\n",
        "    plt.show()\n",
        "\n",
        "# Llamado de función\n",
        "cuadricula_3(theta1, theta2, l1, l2)"
      ],
      "metadata": {
        "colab": {
          "base_uri": "https://localhost:8080/"
        },
        "id": "TBfOfduSMLvG",
        "outputId": "c97ce10f-1848-4fda-a8aa-8017ecd47fd5"
      },
      "id": "TBfOfduSMLvG",
      "execution_count": null,
      "outputs": [
        {
          "output_type": "display_data",
          "data": {
            "text/plain": [
              "<Figure size 600x600 with 1 Axes>"
            ],
            "image/png": "[encoded data removed]"
          },
          "metadata": {}
        }
      ]
    },
    {
      "cell_type": "markdown",
      "source": [
        "### Cuadrícula 4"
      ],
      "metadata": {
        "id": "fRFoHRrHMi1J"
      },
      "id": "fRFoHRrHMi1J"
    },
    {
      "cell_type": "code",
      "source": [
        "# Se define la función\n",
        "\n",
        "def cuadricula_3(theta1, theta2, l1, l2):\n",
        "\n",
        "     # Angulos modificables\n",
        "    theta1 = np.deg2rad(-90)\n",
        "    theta2 = np.deg2rad(120)\n",
        "\n",
        "    # Se calculan las posiciones\n",
        "    x1 = l1 * np.cos(theta1)\n",
        "    y1 = l1 * np.sin(theta1)\n",
        "    x2 = x1 + l2 * np.cos(theta1 + theta2)\n",
        "    y2 = y1 + l2 * np.sin(theta1 + theta2)\n",
        "\n",
        "    # Dibujo del brazo\n",
        "    plt.figure(figsize=(6, 6))\n",
        "    plt.plot([0, x1], [0, y1], 'b-', linewidth=5)\n",
        "    plt.plot([x1, x2], [y1, y2], 'b-', linewidth=5)\n",
        "    plt.plot(0, 0, 'ro', markersize=10)\n",
        "    plt.plot(x2, y2, 'go', markersize=10)\n",
        "\n",
        "    # cuadrículas 2x2\n",
        "    rect4 = plt.Rectangle((0, -2), 2, 2, linewidth=2, edgecolor='green', facecolor='none', linestyle='--') # Cuadrícula #4\n",
        "\n",
        "    # vista de las cuadriculas 2x2\n",
        "    plt.gca().add_patch(rect4) #4\n",
        "\n",
        "\n",
        "   # Se establecen los límites del gráfico\n",
        "    alcance_total = l1 + l2\n",
        "    plt.xlim([-alcance_total, alcance_total])\n",
        "    plt.ylim([-alcance_total, alcance_total])\n",
        "    plt.xlabel('X')\n",
        "    plt.ylabel('Y')\n",
        "    plt.title('Brazo robótico con cuadrícula 2x2')\n",
        "    plt.grid(True)\n",
        "    plt.gca().set_aspect('equal')\n",
        "    plt.show()\n",
        "\n",
        "# Llamado de función\n",
        "cuadricula_3(theta1, theta2, l1, l2)"
      ],
      "metadata": {
        "colab": {
          "base_uri": "https://localhost:8080/"
        },
        "id": "Ch_ZfsA0Mk_K",
        "outputId": "aa373ce9-84b3-4e30-b527-55194d74a886"
      },
      "id": "Ch_ZfsA0Mk_K",
      "execution_count": null,
      "outputs": [
        {
          "output_type": "display_data",
          "data": {
            "text/plain": [
              "<Figure size 600x600 with 1 Axes>"
            ],
            "image/png": "[encoded data removed]"
          },
          "metadata": {}
        }
      ]
    },
    {
      "cell_type": "markdown",
      "source": [
        "### Como se puede apreciar, en cada cuadrícula el brazo puede alcanzar cualquier objeto dentro de alguna de estas.\n",
        "\n",
        "### Este ejemplo se realizó con la combinación de los ángulos:\n",
        "\n",
        "### * 90 para L1\n",
        "### * 120 para L2\n",
        "\n",
        "### (En positivos y negativos)"
      ],
      "metadata": {
        "id": "bXhXW2dKNB_n"
      },
      "id": "bXhXW2dKNB_n"
    }
  ],
  "metadata": {
    "colab": {
      "provenance": [],
      "collapsed_sections": [
        "f6913b83",
        "9c4c1f12",
        "a472e104",
        "21855c8f",
        "9bde084c",
        "a53aa5ef",
        "4fa64a74",
        "98f93492",
        "0LsCvdrkEYqT",
        "0b2F9rhBG6hi",
        "F_aDZFRJG_TL",
        "IzNxxQbBGAqS",
        "Mf21UnzGKvOY",
        "UyJOLThkLMBr",
        "o5WLmVgwLOrc",
        "z_1QkkyjMHw2",
        "fRFoHRrHMi1J"
      ]
    },
    "kernelspec": {
      "display_name": "Python 3 (ipykernel)",
      "language": "python",
      "name": "python3"
    },
    "language_info": {
      "codemirror_mode": {
        "name": "ipython",
        "version": 3
      },
      "file_extension": ".py",
      "mimetype": "text/x-python",
      "name": "python",
      "nbconvert_exporter": "python",
      "pygments_lexer": "ipython3",
      "version": "3.10.12"
    }
  },
  "nbformat": 4,
  "nbformat_minor": 5
}