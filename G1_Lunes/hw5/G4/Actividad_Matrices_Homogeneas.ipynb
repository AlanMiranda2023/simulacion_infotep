{
  "cells": [
    {
      "cell_type": "markdown",
      "id": "a7e43564",
      "metadata": {
        "id": "a7e43564"
      },
      "source": [
        "# **Matrices Homogeneas en un espacio tridimensional**"
      ]
    },
    {
      "cell_type": "markdown",
      "id": "30407b78",
      "metadata": {
        "id": "30407b78"
      },
      "source": [
        "**Docente:** PhD Jorge Rudas\n",
        "\n",
        "**Diseño de prototipos - 2025 I**\n",
        "\n",
        "**INFOTEP**"
      ]
    },
    {
      "cell_type": "code",
      "execution_count": null,
      "id": "558fe4b4",
      "metadata": {
        "id": "558fe4b4"
      },
      "outputs": [],
      "source": [
        "import numpy as np\n",
        "from sympy import*\n",
        "init_printing()"
      ]
    },
    {
      "cell_type": "markdown",
      "id": "7bb73297",
      "metadata": {
        "id": "7bb73297"
      },
      "source": [
        "### Declaración de variables simbolicas"
      ]
    },
    {
      "cell_type": "code",
      "execution_count": null,
      "id": "1e352206",
      "metadata": {
        "id": "1e352206"
      },
      "outputs": [],
      "source": [
        "## Variables Simbolicas\n",
        "theta = symbols(\"theta\",  real=True)\n",
        "phi = symbols(\"phi\",  real=True)\n",
        "psi = symbols(\"psi\",  real=True)"
      ]
    },
    {
      "cell_type": "markdown",
      "id": "f95c974c",
      "metadata": {
        "id": "f95c974c"
      },
      "source": [
        "### Rotacion eje x"
      ]
    },
    {
      "cell_type": "code",
      "execution_count": null,
      "id": "ff5b4884",
      "metadata": {
        "colab": {
          "base_uri": "https://localhost:8080/",
          "height": 98
        },
        "id": "ff5b4884",
        "outputId": "efb1c7f5-0b16-4463-c998-f421aaf96be1"
      },
      "outputs": [
        {
          "output_type": "execute_result",
          "data": {
            "text/plain": [
              "⎡1    0        0     0⎤\n",
              "⎢                     ⎥\n",
              "⎢0  cos(φ)  -sin(φ)  0⎥\n",
              "⎢                     ⎥\n",
              "⎢0  sin(φ)  cos(φ)   0⎥\n",
              "⎢                     ⎥\n",
              "⎣0    0        0     1⎦"
            ],
            "text/latex": "$\\displaystyle \\left[\\begin{matrix}1 & 0 & 0 & 0\\\\0 & \\cos{\\left(\\phi \\right)} & - \\sin{\\left(\\phi \\right)} & 0\\\\0 & \\sin{\\left(\\phi \\right)} & \\cos{\\left(\\phi \\right)} & 0\\\\0 & 0 & 0 & 1\\end{matrix}\\right]$"
          },
          "metadata": {},
          "execution_count": 3
        }
      ],
      "source": [
        "H_x = Matrix([[1, 0, 0, 0], [0, cos(phi), -sin(phi), 0], [0, sin(phi), cos(phi), 0], [0, 0, 0, 1]])\n",
        "H_x"
      ]
    },
    {
      "cell_type": "markdown",
      "id": "300908ee",
      "metadata": {
        "id": "300908ee"
      },
      "source": [
        "### Rotacion eje y"
      ]
    },
    {
      "cell_type": "code",
      "execution_count": null,
      "id": "3c9c6277",
      "metadata": {
        "colab": {
          "base_uri": "https://localhost:8080/",
          "height": 98
        },
        "id": "3c9c6277",
        "outputId": "8a57a05b-2f80-44de-f5d4-c933a741cf50"
      },
      "outputs": [
        {
          "output_type": "execute_result",
          "data": {
            "text/plain": [
              "⎡cos(θ)   0  sin(θ)  0⎤\n",
              "⎢                     ⎥\n",
              "⎢   0     1    0     0⎥\n",
              "⎢                     ⎥\n",
              "⎢-sin(θ)  0  cos(θ)  0⎥\n",
              "⎢                     ⎥\n",
              "⎣   0     0    0     1⎦"
            ],
            "text/latex": "$\\displaystyle \\left[\\begin{matrix}\\cos{\\left(\\theta \\right)} & 0 & \\sin{\\left(\\theta \\right)} & 0\\\\0 & 1 & 0 & 0\\\\- \\sin{\\left(\\theta \\right)} & 0 & \\cos{\\left(\\theta \\right)} & 0\\\\0 & 0 & 0 & 1\\end{matrix}\\right]$"
          },
          "metadata": {},
          "execution_count": 4
        }
      ],
      "source": [
        "H_y = Matrix([[cos(theta), 0, sin(theta), 0], [0, 1, 0, 0], [-sin(theta), 0, cos(theta), 0], [0, 0, 0, 1]])\n",
        "H_y\n"
      ]
    },
    {
      "cell_type": "markdown",
      "id": "5ed24efc",
      "metadata": {
        "id": "5ed24efc"
      },
      "source": [
        "### Rotacion eje z"
      ]
    },
    {
      "cell_type": "code",
      "execution_count": null,
      "id": "46751e12",
      "metadata": {
        "colab": {
          "base_uri": "https://localhost:8080/",
          "height": 98
        },
        "id": "46751e12",
        "outputId": "9338e13e-6b6d-4242-c5ed-33998427c5cc"
      },
      "outputs": [
        {
          "output_type": "execute_result",
          "data": {
            "text/plain": [
              "⎡cos(ψ)  -sin(ψ)  0  0⎤\n",
              "⎢                     ⎥\n",
              "⎢sin(ψ)  cos(ψ)   0  0⎥\n",
              "⎢                     ⎥\n",
              "⎢  0        0     1  0⎥\n",
              "⎢                     ⎥\n",
              "⎣  0        0     0  1⎦"
            ],
            "text/latex": "$\\displaystyle \\left[\\begin{matrix}\\cos{\\left(\\psi \\right)} & - \\sin{\\left(\\psi \\right)} & 0 & 0\\\\\\sin{\\left(\\psi \\right)} & \\cos{\\left(\\psi \\right)} & 0 & 0\\\\0 & 0 & 1 & 0\\\\0 & 0 & 0 & 1\\end{matrix}\\right]$"
          },
          "metadata": {},
          "execution_count": 5
        }
      ],
      "source": [
        "H_z = Matrix([[cos(psi), -sin(psi), 0, 0], [sin(psi), cos(psi), 0, 0], [0, 0, 1, 0], [0, 0, 0, 1]])\n",
        "H_z"
      ]
    },
    {
      "cell_type": "markdown",
      "id": "4280e6af",
      "metadata": {
        "id": "4280e6af"
      },
      "source": [
        "### Composicion de Matrices Homogeneas"
      ]
    },
    {
      "cell_type": "markdown",
      "id": "3c3fea59",
      "metadata": {
        "id": "3c3fea59"
      },
      "source": [
        "Probando la conmutatividad de las matrices homogeneas"
      ]
    },
    {
      "cell_type": "code",
      "execution_count": null,
      "id": "8cdcb123",
      "metadata": {
        "colab": {
          "base_uri": "https://localhost:8080/",
          "height": 98
        },
        "id": "8cdcb123",
        "outputId": "37cf638d-7d92-42e3-f7b6-eb6fdcfd95be"
      },
      "outputs": [
        {
          "output_type": "execute_result",
          "data": {
            "text/plain": [
              "⎡cos(ψ)⋅cos(θ)  sin(φ)⋅sin(θ)⋅cos(ψ) - sin(ψ)⋅cos(φ)  sin(φ)⋅sin(ψ) + sin(θ)⋅cos(φ)⋅cos(ψ)   0⎤\n",
              "⎢                                                                                             ⎥\n",
              "⎢sin(ψ)⋅cos(θ)  sin(φ)⋅sin(ψ)⋅sin(θ) + cos(φ)⋅cos(ψ)  -sin(φ)⋅cos(ψ) + sin(ψ)⋅sin(θ)⋅cos(φ)  0⎥\n",
              "⎢                                                                                             ⎥\n",
              "⎢   -sin(θ)                sin(φ)⋅cos(θ)                          cos(φ)⋅cos(θ)              0⎥\n",
              "⎢                                                                                             ⎥\n",
              "⎣      0                         0                                      0                    1⎦"
            ],
            "text/latex": "$\\displaystyle \\left[\\begin{matrix}\\cos{\\left(\\psi \\right)} \\cos{\\left(\\theta \\right)} & \\sin{\\left(\\phi \\right)} \\sin{\\left(\\theta \\right)} \\cos{\\left(\\psi \\right)} - \\sin{\\left(\\psi \\right)} \\cos{\\left(\\phi \\right)} & \\sin{\\left(\\phi \\right)} \\sin{\\left(\\psi \\right)} + \\sin{\\left(\\theta \\right)} \\cos{\\left(\\phi \\right)} \\cos{\\left(\\psi \\right)} & 0\\\\\\sin{\\left(\\psi \\right)} \\cos{\\left(\\theta \\right)} & \\sin{\\left(\\phi \\right)} \\sin{\\left(\\psi \\right)} \\sin{\\left(\\theta \\right)} + \\cos{\\left(\\phi \\right)} \\cos{\\left(\\psi \\right)} & - \\sin{\\left(\\phi \\right)} \\cos{\\left(\\psi \\right)} + \\sin{\\left(\\psi \\right)} \\sin{\\left(\\theta \\right)} \\cos{\\left(\\phi \\right)} & 0\\\\- \\sin{\\left(\\theta \\right)} & \\sin{\\left(\\phi \\right)} \\cos{\\left(\\theta \\right)} & \\cos{\\left(\\phi \\right)} \\cos{\\left(\\theta \\right)} & 0\\\\0 & 0 & 0 & 1\\end{matrix}\\right]$"
          },
          "metadata": {},
          "execution_count": 6
        }
      ],
      "source": [
        "H = H_z@H_y@H_x\n",
        "H"
      ]
    },
    {
      "cell_type": "code",
      "execution_count": null,
      "id": "663950aa",
      "metadata": {
        "colab": {
          "base_uri": "https://localhost:8080/",
          "height": 98
        },
        "id": "663950aa",
        "outputId": "74892b2f-8d02-49c2-c6b6-9f8bf6eaa318"
      },
      "outputs": [
        {
          "output_type": "execute_result",
          "data": {
            "text/plain": [
              "⎡           cos(ψ)⋅cos(θ)                         -sin(ψ)⋅cos(θ)                  sin(θ)      0⎤\n",
              "⎢                                                                                              ⎥\n",
              "⎢sin(φ)⋅sin(θ)⋅cos(ψ) + sin(ψ)⋅cos(φ)  -sin(φ)⋅sin(ψ)⋅sin(θ) + cos(φ)⋅cos(ψ)  -sin(φ)⋅cos(θ)  0⎥\n",
              "⎢                                                                                              ⎥\n",
              "⎢sin(φ)⋅sin(ψ) - sin(θ)⋅cos(φ)⋅cos(ψ)  sin(φ)⋅cos(ψ) + sin(ψ)⋅sin(θ)⋅cos(φ)   cos(φ)⋅cos(θ)   0⎥\n",
              "⎢                                                                                              ⎥\n",
              "⎣                 0                                      0                          0         1⎦"
            ],
            "text/latex": "$\\displaystyle \\left[\\begin{matrix}\\cos{\\left(\\psi \\right)} \\cos{\\left(\\theta \\right)} & - \\sin{\\left(\\psi \\right)} \\cos{\\left(\\theta \\right)} & \\sin{\\left(\\theta \\right)} & 0\\\\\\sin{\\left(\\phi \\right)} \\sin{\\left(\\theta \\right)} \\cos{\\left(\\psi \\right)} + \\sin{\\left(\\psi \\right)} \\cos{\\left(\\phi \\right)} & - \\sin{\\left(\\phi \\right)} \\sin{\\left(\\psi \\right)} \\sin{\\left(\\theta \\right)} + \\cos{\\left(\\phi \\right)} \\cos{\\left(\\psi \\right)} & - \\sin{\\left(\\phi \\right)} \\cos{\\left(\\theta \\right)} & 0\\\\\\sin{\\left(\\phi \\right)} \\sin{\\left(\\psi \\right)} - \\sin{\\left(\\theta \\right)} \\cos{\\left(\\phi \\right)} \\cos{\\left(\\psi \\right)} & \\sin{\\left(\\phi \\right)} \\cos{\\left(\\psi \\right)} + \\sin{\\left(\\psi \\right)} \\sin{\\left(\\theta \\right)} \\cos{\\left(\\phi \\right)} & \\cos{\\left(\\phi \\right)} \\cos{\\left(\\theta \\right)} & 0\\\\0 & 0 & 0 & 1\\end{matrix}\\right]$"
          },
          "metadata": {},
          "execution_count": 7
        }
      ],
      "source": [
        "H = H_x@H_y@H_z\n",
        "H"
      ]
    },
    {
      "cell_type": "markdown",
      "id": "49b4f754",
      "metadata": {
        "id": "49b4f754"
      },
      "source": [
        "# **Experimento 1**\n",
        "#### Comprobar que una secuencia de rotaciones produce el mismo resultado que una composición de matrices homogeneas"
      ]
    },
    {
      "cell_type": "code",
      "execution_count": null,
      "id": "a6d54389",
      "metadata": {
        "id": "a6d54389"
      },
      "outputs": [],
      "source": [
        "P0 = np.array([1, 1, 0])"
      ]
    },
    {
      "cell_type": "markdown",
      "id": "001bc638",
      "metadata": {
        "id": "001bc638"
      },
      "source": [
        "1. Probando solo con matrices de rotación en 3D"
      ]
    },
    {
      "cell_type": "code",
      "execution_count": null,
      "id": "2fef220f",
      "metadata": {
        "colab": {
          "base_uri": "https://localhost:8080/",
          "height": 78
        },
        "id": "2fef220f",
        "outputId": "61eabeb1-6f59-4ffb-ec8d-5ca4754ac371"
      },
      "outputs": [
        {
          "output_type": "execute_result",
          "data": {
            "text/plain": [
              "⎡1    0        0   ⎤\n",
              "⎢                  ⎥\n",
              "⎢0  cos(θ)  -sin(θ)⎥\n",
              "⎢                  ⎥\n",
              "⎣0  sin(θ)  cos(θ) ⎦"
            ],
            "text/latex": "$\\displaystyle \\left[\\begin{matrix}1 & 0 & 0\\\\0 & \\cos{\\left(\\theta \\right)} & - \\sin{\\left(\\theta \\right)}\\\\0 & \\sin{\\left(\\theta \\right)} & \\cos{\\left(\\theta \\right)}\\end{matrix}\\right]$"
          },
          "metadata": {},
          "execution_count": 9
        }
      ],
      "source": [
        "#Matriz de rotacion 3D sobre el eje x\n",
        "R_x = Matrix([[1, 0, 0], [0, cos(theta), -sin(theta)], [0, sin(theta), cos(theta)]])\n",
        "R_x"
      ]
    },
    {
      "cell_type": "code",
      "execution_count": null,
      "id": "0b784156",
      "metadata": {
        "colab": {
          "base_uri": "https://localhost:8080/",
          "height": 78
        },
        "id": "0b784156",
        "outputId": "a08ec7d7-9147-41a7-bfbe-99075e3d9468"
      },
      "outputs": [
        {
          "output_type": "execute_result",
          "data": {
            "text/plain": [
              "⎡cos(θ)   0  sin(θ)⎤\n",
              "⎢                  ⎥\n",
              "⎢   0     1    0   ⎥\n",
              "⎢                  ⎥\n",
              "⎣-sin(θ)  0  cos(θ)⎦"
            ],
            "text/latex": "$\\displaystyle \\left[\\begin{matrix}\\cos{\\left(\\theta \\right)} & 0 & \\sin{\\left(\\theta \\right)}\\\\0 & 1 & 0\\\\- \\sin{\\left(\\theta \\right)} & 0 & \\cos{\\left(\\theta \\right)}\\end{matrix}\\right]$"
          },
          "metadata": {},
          "execution_count": 10
        }
      ],
      "source": [
        "#Matriz de rotacion 3D sobre el eje y\n",
        "R_y = Matrix([[cos(theta), 0, sin(theta)], [0, 1, 0], [-sin(theta), 0, cos(theta)]])\n",
        "R_y"
      ]
    },
    {
      "cell_type": "code",
      "execution_count": null,
      "id": "dd57ffb9",
      "metadata": {
        "colab": {
          "base_uri": "https://localhost:8080/"
        },
        "id": "dd57ffb9",
        "outputId": "3d6655cd-cbf8-433f-fb6d-ca3ff327be17"
      },
      "outputs": [
        {
          "output_type": "stream",
          "name": "stdout",
          "text": [
            "[ 1.0566704   0.93969262 -0.02062634]\n"
          ]
        }
      ],
      "source": [
        "theta_val = np.pi/9 # 20 grados en radianes\n",
        "R_x_p0 = np.array(R_x.subs({theta: theta_val})).astype(np.float64) #Se convierte theta simbolico a un valor concreto Rx\n",
        "R_y_p0 = np.array(R_y.subs({theta: theta_val})).astype(np.float64) #Se convierte theta simbolico a un valor concreto Ry\n",
        "\n",
        "P0_rotado_x = np.dot(R_x_p0, P0) #Producto punto entre la matrix de rotación y el vector de posición del punto\n",
        "P0_rotado_y = np.dot(R_y_p0, P0_rotado_x) #Producto punto entre la matrix de rotación y el vector de posición del punto\n",
        "\n",
        "print(P0_rotado_y)"
      ]
    },
    {
      "cell_type": "markdown",
      "id": "8ed1acdf",
      "metadata": {
        "id": "8ed1acdf"
      },
      "source": [
        "2. Ahora probamos con la composición de matrices homogeneas"
      ]
    },
    {
      "cell_type": "code",
      "execution_count": null,
      "id": "54f56d28",
      "metadata": {
        "colab": {
          "base_uri": "https://localhost:8080/"
        },
        "id": "54f56d28",
        "outputId": "c9727cbe-4b3a-4cb4-a007-1daf05157464"
      },
      "outputs": [
        {
          "output_type": "stream",
          "name": "stdout",
          "text": [
            "[1 1 0]\n",
            "[[1]\n",
            " [1]\n",
            " [0]\n",
            " [1]]\n"
          ]
        }
      ],
      "source": [
        "#Se convierte el punto 3D a un punto de coordenadas homogeneas\n",
        "\n",
        "P0_homogeneo = np.append(P0, 1)\n",
        "P0_homogeneo = np.reshape(P0_homogeneo, (4, 1))\n",
        "print(P0)\n",
        "print(P0_homogeneo)"
      ]
    },
    {
      "cell_type": "code",
      "execution_count": null,
      "id": "bf656be2",
      "metadata": {
        "colab": {
          "base_uri": "https://localhost:8080/",
          "height": 98
        },
        "id": "bf656be2",
        "outputId": "30bf14eb-480d-407c-bd2d-00aca05bb869"
      },
      "outputs": [
        {
          "output_type": "execute_result",
          "data": {
            "text/plain": [
              "⎡cos(θ)   sin(φ)⋅sin(θ)  sin(θ)⋅cos(φ)  0⎤\n",
              "⎢                                        ⎥\n",
              "⎢   0        cos(φ)         -sin(φ)     0⎥\n",
              "⎢                                        ⎥\n",
              "⎢-sin(θ)  sin(φ)⋅cos(θ)  cos(φ)⋅cos(θ)  0⎥\n",
              "⎢                                        ⎥\n",
              "⎣   0           0              0        1⎦"
            ],
            "text/latex": "$\\displaystyle \\left[\\begin{matrix}\\cos{\\left(\\theta \\right)} & \\sin{\\left(\\phi \\right)} \\sin{\\left(\\theta \\right)} & \\sin{\\left(\\theta \\right)} \\cos{\\left(\\phi \\right)} & 0\\\\0 & \\cos{\\left(\\phi \\right)} & - \\sin{\\left(\\phi \\right)} & 0\\\\- \\sin{\\left(\\theta \\right)} & \\sin{\\left(\\phi \\right)} \\cos{\\left(\\theta \\right)} & \\cos{\\left(\\phi \\right)} \\cos{\\left(\\theta \\right)} & 0\\\\0 & 0 & 0 & 1\\end{matrix}\\right]$"
          },
          "metadata": {},
          "execution_count": 13
        }
      ],
      "source": [
        "#Se realiza la composición de las matrices homogeneas para x y y\n",
        "Hxy = H_y@H_x\n",
        "Hxy"
      ]
    },
    {
      "cell_type": "code",
      "execution_count": null,
      "id": "a6a89f36",
      "metadata": {
        "colab": {
          "base_uri": "https://localhost:8080/"
        },
        "id": "a6a89f36",
        "outputId": "824808c7-52de-4ec3-83bd-70ebbf04575b"
      },
      "outputs": [
        {
          "output_type": "execute_result",
          "data": {
            "text/plain": [
              "array([[ 0.93969262,  0.11697778,  0.3213938 ,  0.        ],\n",
              "       [ 0.        ,  0.93969262, -0.34202014,  0.        ],\n",
              "       [-0.34202014,  0.3213938 ,  0.88302222,  0.        ],\n",
              "       [ 0.        ,  0.        ,  0.        ,  1.        ]])"
            ]
          },
          "metadata": {},
          "execution_count": 14
        }
      ],
      "source": [
        "theta_val = np.pi/9 # 20 grados en radianes\n",
        "phi_val = np.pi/9 # 20 grados en radianes\n",
        "\n",
        "Hxy_p0 = np.array(Hxy.subs({phi: phi_val, theta: theta_val})).astype(np.float64) #Se convierte theta simbolico a un valor concreto Rx\n",
        "Hxy_p0"
      ]
    },
    {
      "cell_type": "code",
      "execution_count": null,
      "id": "dff1369b",
      "metadata": {
        "colab": {
          "base_uri": "https://localhost:8080/"
        },
        "id": "dff1369b",
        "outputId": "ea49e575-890e-4827-d0a8-3ed3298ac0ea"
      },
      "outputs": [
        {
          "output_type": "execute_result",
          "data": {
            "text/plain": [
              "array([[ 1.0566704 ],\n",
              "       [ 0.93969262],\n",
              "       [-0.02062634],\n",
              "       [ 1.        ]])"
            ]
          },
          "metadata": {},
          "execution_count": 15
        }
      ],
      "source": [
        "P0_rotado_Hxy = np.dot(Hxy_p0, P0_homogeneo)\n",
        "P0_rotado_Hxy"
      ]
    },
    {
      "cell_type": "markdown",
      "id": "f03001f3",
      "metadata": {
        "id": "f03001f3"
      },
      "source": [
        "# **Actividad**\n",
        "\n",
        "* Calcule las siguientes matrices homogeneas"
      ]
    },
    {
      "cell_type": "code",
      "execution_count": null,
      "id": "b1097fd7",
      "metadata": {
        "colab": {
          "resources": {
            "http://localhost:8080/1.png": {
              "data": "",
              "ok": false,
              "headers": [
                [
                  "content-length",
                  "0"
                ]
              ],
              "status": 404,
              "status_text": ""
            }
          },
          "base_uri": "https://localhost:8080/",
          "height": 38
        },
        "id": "b1097fd7",
        "outputId": "24d9f512-6edf-4273-cb86-0161dfcf7b14"
      },
      "outputs": [
        {
          "output_type": "execute_result",
          "data": {
            "text/html": [
              "<img src=\"1.png\"/>"
            ],
            "text/plain": [
              "<IPython.core.display.Image object>"
            ]
          },
          "metadata": {},
          "execution_count": 16
        }
      ],
      "source": [
        "from IPython.display import Image\n",
        "\n",
        "Image(url='1.png')"
      ]
    },
    {
      "cell_type": "markdown",
      "id": "6bd60533",
      "metadata": {
        "id": "6bd60533"
      },
      "source": [
        "## Donde:"
      ]
    },
    {
      "cell_type": "code",
      "execution_count": null,
      "id": "683b1094",
      "metadata": {
        "colab": {
          "resources": {
            "http://localhost:8080/2.png": {
              "data": "",
              "ok": false,
              "headers": [
                [
                  "content-length",
                  "0"
                ]
              ],
              "status": 404,
              "status_text": ""
            }
          },
          "base_uri": "https://localhost:8080/",
          "height": 38
        },
        "id": "683b1094",
        "outputId": "3b8dc9bb-5dac-4401-9460-d22a86c1aaa5"
      },
      "outputs": [
        {
          "output_type": "execute_result",
          "data": {
            "text/html": [
              "<img src=\"2.png\"/>"
            ],
            "text/plain": [
              "<IPython.core.display.Image object>"
            ]
          },
          "metadata": {},
          "execution_count": 17
        }
      ],
      "source": [
        "Image(url='2.png')"
      ]
    },
    {
      "cell_type": "markdown",
      "id": "419c1575",
      "metadata": {
        "id": "419c1575"
      },
      "source": [
        "# **Resultados aquí debajo**"
      ]
    },
    {
      "cell_type": "code",
      "execution_count": null,
      "id": "0cbf4a20",
      "metadata": {
        "colab": {
          "base_uri": "https://localhost:8080/"
        },
        "id": "0cbf4a20",
        "outputId": "3c9662cd-2b56-4ed1-c74f-96da036e8c7e"
      },
      "outputs": [
        {
          "output_type": "execute_result",
          "data": {
            "text/plain": [
              "array([[ 0.33653069, -0.78073669,  0.52649531,  0.        ],\n",
              "       [ 0.44659131,  0.62455533,  0.64069247,  0.        ],\n",
              "       [-0.82903757,  0.01951555,  0.55885226,  0.        ],\n",
              "       [ 0.        ,  0.        ,  0.        ,  1.        ]])"
            ]
          },
          "metadata": {},
          "execution_count": 18
        }
      ],
      "source": [
        "H = H_z@H_y@H_x\n",
        "theta_val = np.pi*56/180 # 20 grados en radianes\n",
        "phi_val = np.pi*2/180\n",
        "psi_val = np.pi*53/180\n",
        "\n",
        "Hzyx = np.array(H.subs({phi: phi_val, theta: theta_val, psi: psi_val})).astype(np.float64) #Se convierte theta simbolico a un valor concreto Rx\n",
        "\n",
        "Hzyx"
      ]
    },
    {
      "cell_type": "code",
      "execution_count": null,
      "id": "31eb6a91",
      "metadata": {
        "colab": {
          "base_uri": "https://localhost:8080/"
        },
        "id": "31eb6a91",
        "outputId": "6d45e906-b978-4229-e9da-0e03bf5b7a97"
      },
      "outputs": [
        {
          "output_type": "execute_result",
          "data": {
            "text/plain": [
              "array([[-0.444206  ],\n",
              "       [ 1.07114664],\n",
              "       [-0.80952202],\n",
              "       [ 1.        ]])"
            ]
          },
          "metadata": {},
          "execution_count": 19
        }
      ],
      "source": [
        "np.dot(Hzyx, P0_homogeneo)"
      ]
    },
    {
      "cell_type": "markdown",
      "id": "6267ac60",
      "metadata": {
        "id": "6267ac60"
      },
      "source": [
        "# Actividad 2"
      ]
    },
    {
      "cell_type": "code",
      "source": [
        "#variables simbolicas\n",
        "tx = symbols(\"tx\",  real=True)\n",
        "ty = symbols(\"ty\",  real=True)\n",
        "tz = symbols(\"tz\",  real=True)\n"
      ],
      "metadata": {
        "id": "5Du3qiTjhVzJ"
      },
      "id": "5Du3qiTjhVzJ",
      "execution_count": null,
      "outputs": []
    },
    {
      "cell_type": "markdown",
      "source": [
        "## Matriz de traslación y luego rotación en Y"
      ],
      "metadata": {
        "id": "Ra5Kr_w97Dau"
      },
      "id": "Ra5Kr_w97Dau"
    },
    {
      "cell_type": "code",
      "source": [
        "# Se añade la matriz de traslación y rotación sobre eje Y\n",
        "H_ty = Matrix([[cos(theta), 0, sin(theta), tx * cos(theta) + tz * sin(theta)],\n",
        "                [0, 1, 0, ty],\n",
        "                  [-sin(theta), 0, cos(theta), tz * cos(theta) - tx * sin(theta)],\n",
        "                   [0, 0, 0, 1]])\n",
        "H_ty"
      ],
      "metadata": {
        "colab": {
          "base_uri": "https://localhost:8080/",
          "height": 98
        },
        "id": "nAoeZI_-2u4g",
        "outputId": "68a9540f-997a-414e-b327-8155c2637a6f"
      },
      "id": "nAoeZI_-2u4g",
      "execution_count": null,
      "outputs": [
        {
          "output_type": "execute_result",
          "data": {
            "text/plain": [
              "⎡cos(θ)   0  sin(θ)  tx⋅cos(θ) + tz⋅sin(θ) ⎤\n",
              "⎢                                          ⎥\n",
              "⎢   0     1    0               ty          ⎥\n",
              "⎢                                          ⎥\n",
              "⎢-sin(θ)  0  cos(θ)  -tx⋅sin(θ) + tz⋅cos(θ)⎥\n",
              "⎢                                          ⎥\n",
              "⎣   0     0    0               1           ⎦"
            ],
            "text/latex": "$\\displaystyle \\left[\\begin{matrix}\\cos{\\left(\\theta \\right)} & 0 & \\sin{\\left(\\theta \\right)} & tx \\cos{\\left(\\theta \\right)} + tz \\sin{\\left(\\theta \\right)}\\\\0 & 1 & 0 & ty\\\\- \\sin{\\left(\\theta \\right)} & 0 & \\cos{\\left(\\theta \\right)} & - tx \\sin{\\left(\\theta \\right)} + tz \\cos{\\left(\\theta \\right)}\\\\0 & 0 & 0 & 1\\end{matrix}\\right]$"
          },
          "metadata": {},
          "execution_count": 67
        }
      ]
    },
    {
      "cell_type": "markdown",
      "source": [
        "## Calculo de grados en radianes y traslaciones"
      ],
      "metadata": {
        "id": "fyZAAaPm7JR8"
      },
      "id": "fyZAAaPm7JR8"
    },
    {
      "cell_type": "code",
      "source": [
        "#Conversiones a radianes\n",
        "phi_val = 2 * np.pi / 180\n",
        "theta1_rad = 6 * np.pi / 180\n",
        "theta2_rad = -6 * np.pi / 180\n",
        "\n",
        "# Traslaciones\n",
        "t1 = [3, 0, 0]\n",
        "t2 = [1, 1, 0]\n",
        "\n"
      ],
      "metadata": {
        "id": "L6Zzqx9O2w_Y"
      },
      "id": "L6Zzqx9O2w_Y",
      "execution_count": null,
      "outputs": []
    },
    {
      "cell_type": "markdown",
      "source": [
        "## Resultado matriz"
      ],
      "metadata": {
        "id": "2XEIjnE77OQk"
      },
      "id": "2XEIjnE77OQk"
    },
    {
      "cell_type": "code",
      "source": [
        "# Se calcula la matriz\n",
        "H_t1_y = H_ty.subs({theta: theta1_rad, tx: t1[0], ty: t1[1], tz: t1[2]})\n",
        "H_x_phi = H_x.subs({phi: phi_val})\n",
        "H_t2_y = H_ty.subs({theta: theta2_rad, tx: t2[0], ty: t2[1], tz: t2[2]})\n",
        "H_2 = simplify(H_t1_y @ H_x_phi @ H_t2_y)\n",
        "\n",
        "# Resultado\n",
        "H_2"
      ],
      "metadata": {
        "colab": {
          "base_uri": "https://localhost:8080/",
          "height": 98
        },
        "id": "f4fWvO3y5TvW",
        "outputId": "f7d07b05-f356-4825-c981-a3903f729591"
      },
      "id": "f4fWvO3y5TvW",
      "execution_count": null,
      "outputs": [
        {
          "output_type": "execute_result",
          "data": {
            "text/plain": [
              "⎡0.0109261996330972⋅cos(φ) + 0.989073800366903  0.104528463267653⋅sin(φ)   0.10395584540888⋅cos(φ) ↪\n",
              "⎢                                                                                                  ↪\n",
              "⎢          -0.104528463267653⋅sin(φ)                     cos(φ)                     -0.99452189536 ↪\n",
              "⎢                                                                                                  ↪\n",
              "⎢ 0.10395584540888⋅cos(φ) - 0.10395584540888    0.994521895368273⋅sin(φ)  0.989073800366903⋅cos(φ) ↪\n",
              "⎢                                                                                                  ↪\n",
              "⎣                      0                                   0                                    0  ↪\n",
              "\n",
              "↪  - 0.10395584540888    0.104528463267653⋅sin(φ) + 0.0109261996330972⋅cos(φ) + 3.97263948647172⎤\n",
              "↪                                                                                               ⎥\n",
              "↪ 8273⋅sin(φ)                              -0.104528463267653⋅sin(φ) + cos(φ)                   ⎥\n",
              "↪                                                                                               ⎥\n",
              "↪  + 0.0109261996330972   0.994521895368273⋅sin(φ) + 0.10395584540888⋅cos(φ) - 0.41754123521184 ⎥\n",
              "↪                                                                                               ⎥\n",
              "↪                                                           1                                   ⎦"
            ],
            "text/latex": "$\\displaystyle \\left[\\begin{matrix}0.0109261996330972 \\cos{\\left(\\phi \\right)} + 0.989073800366903 & 0.104528463267653 \\sin{\\left(\\phi \\right)} & 0.10395584540888 \\cos{\\left(\\phi \\right)} - 0.10395584540888 & 0.104528463267653 \\sin{\\left(\\phi \\right)} + 0.0109261996330972 \\cos{\\left(\\phi \\right)} + 3.97263948647172\\\\- 0.104528463267653 \\sin{\\left(\\phi \\right)} & \\cos{\\left(\\phi \\right)} & - 0.994521895368273 \\sin{\\left(\\phi \\right)} & - 0.104528463267653 \\sin{\\left(\\phi \\right)} + \\cos{\\left(\\phi \\right)}\\\\0.10395584540888 \\cos{\\left(\\phi \\right)} - 0.10395584540888 & 0.994521895368273 \\sin{\\left(\\phi \\right)} & 0.989073800366903 \\cos{\\left(\\phi \\right)} + 0.0109261996330972 & 0.994521895368273 \\sin{\\left(\\phi \\right)} + 0.10395584540888 \\cos{\\left(\\phi \\right)} - 0.41754123521184\\\\0 & 0 & 0 & 1\\end{matrix}\\right]$"
          },
          "metadata": {},
          "execution_count": 61
        }
      ]
    },
    {
      "cell_type": "markdown",
      "source": [
        "# Actividad 3"
      ],
      "metadata": {
        "id": "7gVCwNdR56ps"
      },
      "id": "7gVCwNdR56ps"
    },
    {
      "cell_type": "markdown",
      "source": [
        "## Matriz de traslación y rotación en Z"
      ],
      "metadata": {
        "id": "K1sgvNrS7VF0"
      },
      "id": "K1sgvNrS7VF0"
    },
    {
      "cell_type": "code",
      "source": [
        "# Matriz de traslación y rotación sobre Z\n",
        "H_tz = Matrix([[cos(psi), -sin(psi), 0, tx],\n",
        "               [sin(psi), cos(psi), 0, ty],\n",
        "               [0, 0, 1, tz],\n",
        "               [0, 0, 0, 1]])\n",
        "H_tz"
      ],
      "metadata": {
        "colab": {
          "base_uri": "https://localhost:8080/",
          "height": 98
        },
        "id": "DjyEA4FkxNM2",
        "outputId": "f27ded7e-e581-461d-be63-9295033c5753"
      },
      "id": "DjyEA4FkxNM2",
      "execution_count": null,
      "outputs": [
        {
          "output_type": "execute_result",
          "data": {
            "text/plain": [
              "⎡cos(ψ)  -sin(ψ)  0  tx⎤\n",
              "⎢                      ⎥\n",
              "⎢sin(ψ)  cos(ψ)   0  ty⎥\n",
              "⎢                      ⎥\n",
              "⎢  0        0     1  tz⎥\n",
              "⎢                      ⎥\n",
              "⎣  0        0     0  1 ⎦"
            ],
            "text/latex": "$\\displaystyle \\left[\\begin{matrix}\\cos{\\left(\\psi \\right)} & - \\sin{\\left(\\psi \\right)} & 0 & tx\\\\\\sin{\\left(\\psi \\right)} & \\cos{\\left(\\psi \\right)} & 0 & ty\\\\0 & 0 & 1 & tz\\\\0 & 0 & 0 & 1\\end{matrix}\\right]$"
          },
          "metadata": {},
          "execution_count": 64
        }
      ]
    },
    {
      "cell_type": "markdown",
      "source": [
        "## Resultado de la matriz"
      ],
      "metadata": {
        "id": "6OfilVQs7at7"
      },
      "id": "6OfilVQs7at7"
    },
    {
      "cell_type": "code",
      "source": [
        "# Se calcula la matriz\n",
        "H_zt1 = H_tz.subs({psi: psi_val, tx: t1[0], ty: t1[1], tz: t1[2]})\n",
        "H_y_theta = H_y.subs({theta: theta_val})\n",
        "H_t2_y = H_ty.subs({theta: 0, tx: t2[0], ty: t2[1], tz: t2[2]})\n",
        "H_z_psi = H_z.subs({psi: psi_val})\n",
        "H_3 = simplify(H_zt1 @ H_y_theta @ H_t2_y @ H_z_psi)\n",
        "\n",
        "# Resultado\n",
        "H_3"
      ],
      "metadata": {
        "colab": {
          "base_uri": "https://localhost:8080/",
          "height": 98
        },
        "id": "iZavMOsp5-T2",
        "outputId": "7ee16a5f-90a7-487f-efb4-866148ec6a1e"
      },
      "id": "iZavMOsp5-T2",
      "execution_count": null,
      "outputs": [
        {
          "output_type": "execute_result",
          "data": {
            "text/plain": [
              "⎡-0.277621422995073   -0.958628749863908  0.0629067995414709   2.79988270743898 ⎤\n",
              "⎢                                                                               ⎥\n",
              "⎢ 0.958628749863908   -0.272143318363347  0.0834801425762221   1.39607552431269 ⎥\n",
              "⎢                                                                               ⎥\n",
              "⎢-0.0629067995414709  0.0834801425762221  0.994521895368273   -0.104528463267653⎥\n",
              "⎢                                                                               ⎥\n",
              "⎣         0                   0                   0                   1         ⎦"
            ],
            "text/latex": "$\\displaystyle \\left[\\begin{matrix}-0.277621422995073 & -0.958628749863908 & 0.0629067995414709 & 2.79988270743898\\\\0.958628749863908 & -0.272143318363347 & 0.0834801425762221 & 1.39607552431269\\\\-0.0629067995414709 & 0.0834801425762221 & 0.994521895368273 & -0.104528463267653\\\\0 & 0 & 0 & 1\\end{matrix}\\right]$"
          },
          "metadata": {},
          "execution_count": 63
        }
      ]
    },
    {
      "cell_type": "markdown",
      "source": [
        "# Actividad 4"
      ],
      "metadata": {
        "id": "TPQN1NcC6DrV"
      },
      "id": "TPQN1NcC6DrV"
    },
    {
      "cell_type": "markdown",
      "source": [
        "## Calculo de grados en radianes"
      ],
      "metadata": {
        "id": "mQ7GQBx57dlz"
      },
      "id": "mQ7GQBx57dlz"
    },
    {
      "cell_type": "code",
      "source": [
        "# Conversión de grados a radianes\n",
        "psi1_rad = 11 * np.pi / 180\n",
        "psi2_rad = -3 * np.pi / 180\n",
        "psi3_rad = 278 * np.pi / 180"
      ],
      "metadata": {
        "id": "dbCqEb6L6Y5t"
      },
      "id": "dbCqEb6L6Y5t",
      "execution_count": null,
      "outputs": []
    },
    {
      "cell_type": "markdown",
      "source": [
        "## Resultado de la matriz"
      ],
      "metadata": {
        "id": "pPEG-Old7h-T"
      },
      "id": "pPEG-Old7h-T"
    },
    {
      "cell_type": "code",
      "source": [
        "# Se calcula la matriz\n",
        "H_y_theta = H_y.subs({theta: theta_val})\n",
        "H_tz1 = H_tz.subs({psi: psi1_rad, tx: t1[0], ty: t1[1], tz: t1[2]})\n",
        "H_z_psi2 = H_z.subs({psi: psi2_rad})\n",
        "H_x_phi = H_x.subs({phi: phi_val})\n",
        "H_z_psi3 = H_z.subs({psi: psi3_rad})\n",
        "H_4 = simplify(H_y_theta @ H_tz1 @ H_z_psi2 @ H_x_phi @ H_z_psi3)\n",
        "\n",
        "# Resultado\n",
        "H_4"
      ],
      "metadata": {
        "colab": {
          "base_uri": "https://localhost:8080/",
          "height": 98
        },
        "id": "q9a_Mdjk6DbN",
        "outputId": "d68ef371-2492-401f-e589-4f0dd7c537a0"
      },
      "id": "q9a_Mdjk6DbN",
      "execution_count": null,
      "outputs": [
        {
          "output_type": "execute_result",
          "data": {
            "text/plain": [
              "⎡ 0.270431401279295    0.956515240502744    0.109295250986011   2.98356568610482 ⎤\n",
              "⎢                                                                                ⎥\n",
              "⎢-0.960664322121495    0.275553400402153   -0.0345598571996384          0        ⎥\n",
              "⎢                                                                                ⎥\n",
              "⎢-0.0631737081780548  -0.0956499775890643   0.993408357314476   -0.31358538980296⎥\n",
              "⎢                                                                                ⎥\n",
              "⎣         0                    0                    0                   1        ⎦"
            ],
            "text/latex": "$\\displaystyle \\left[\\begin{matrix}0.270431401279295 & 0.956515240502744 & 0.109295250986011 & 2.98356568610482\\\\-0.960664322121495 & 0.275553400402153 & -0.0345598571996384 & 0\\\\-0.0631737081780548 & -0.0956499775890643 & 0.993408357314476 & -0.31358538980296\\\\0 & 0 & 0 & 1\\end{matrix}\\right]$"
          },
          "metadata": {},
          "execution_count": 71
        }
      ]
    }
  ],
  "metadata": {
    "kernelspec": {
      "display_name": "Python 3 (ipykernel)",
      "language": "python",
      "name": "python3"
    },
    "language_info": {
      "codemirror_mode": {
        "name": "ipython",
        "version": 3
      },
      "file_extension": ".py",
      "mimetype": "text/x-python",
      "name": "python",
      "nbconvert_exporter": "python",
      "pygments_lexer": "ipython3",
      "version": "3.10.12"
    },
    "colab": {
      "provenance": [],
      "collapsed_sections": [
        "6267ac60",
        "Ra5Kr_w97Dau",
        "fyZAAaPm7JR8",
        "2XEIjnE77OQk",
        "7gVCwNdR56ps",
        "K1sgvNrS7VF0",
        "6OfilVQs7at7",
        "TPQN1NcC6DrV",
        "mQ7GQBx57dlz",
        "pPEG-Old7h-T"
      ]
    }
  },
  "nbformat": 4,
  "nbformat_minor": 5
}