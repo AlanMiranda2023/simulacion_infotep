{
  "nbformat": 4,
  "nbformat_minor": 0,
  "metadata": {
    "colab": {
      "provenance": []
    },
    "kernelspec": {
      "name": "python3",
      "display_name": "Python 3"
    },
    "language_info": {
      "name": "python"
    }
  },
  "cells": [
    {
      "cell_type": "markdown",
      "source": [
        "# **Matrices de rotación simples en un espacio tridimensional**"
      ],
      "metadata": {
        "id": "OWPIUzR-Zdhn"
      }
    },
    {
      "cell_type": "code",
      "source": [
        "import numpy as np\n",
        "from sympy import*\n",
        "import numpy as np\n",
        "import matplotlib.pyplot as plt\n",
        "from mpl_toolkits.mplot3d import Axes3D\n",
        "init_printing()"
      ],
      "metadata": {
        "id": "4-5x1l3pZfbF"
      },
      "execution_count": 23,
      "outputs": []
    },
    {
      "cell_type": "markdown",
      "source": [
        "### **HWK4**"
      ],
      "metadata": {
        "id": "6EeDMGkq0skV"
      }
    },
    {
      "cell_type": "markdown",
      "source": [
        "## **Clase para realizar Rotaciones**"
      ],
      "metadata": {
        "id": "d8jIEzkc40PG"
      }
    },
    {
      "cell_type": "code",
      "source": [
        "class Rotaciones:\n",
        "\n",
        "\n",
        "    def rotation_x(theta):\n",
        "\n",
        "        return np.array([\n",
        "            [1, 0, 0],\n",
        "            [0, np.cos(theta), -np.sin(theta)],\n",
        "            [0, np.sin(theta), np.cos(theta)]\n",
        "        ])\n",
        "\n",
        "\n",
        "    def rotation_y(theta):\n",
        "\n",
        "        return np.array([\n",
        "            [np.cos(theta), 0, np.sin(theta)],\n",
        "            [0, 1, 0],\n",
        "            [-np.sin(theta), 0, np.cos(theta)]\n",
        "        ])\n",
        "\n",
        "\n",
        "    def rotation_z(theta):\n",
        "\n",
        "        return np.array([\n",
        "            [np.cos(theta), -np.sin(theta), 0],\n",
        "            [np.sin(theta), np.cos(theta), 0],\n",
        "            [0, 0, 1]\n",
        "        ])\n",
        "\n",
        "\n",
        "    def rotation_2d(theta):\n",
        "\n",
        "        return np.array([\n",
        "            [np.cos(theta), -np.sin(theta)],\n",
        "            [np.sin(theta), np.cos(theta)]\n",
        "        ])"
      ],
      "metadata": {
        "id": "GgfRvdj620rl"
      },
      "execution_count": 24,
      "outputs": []
    },
    {
      "cell_type": "markdown",
      "source": [
        "# **Aplica múltiples rotaciones secuencialmente a un punto**"
      ],
      "metadata": {
        "id": "3bkLX4XK5ttO"
      }
    },
    {
      "cell_type": "code",
      "source": [
        "    def rotacion_masiva(cls, vector_rotaciones, punto_inicial):\n",
        "\n",
        "        punto_actual = punto_inicial.copy()\n",
        "\n",
        "        for angulo, eje in vector_rotaciones:\n",
        "            # Convertir ángulo a radianes\n",
        "            theta = np.deg2rad(angulo)\n",
        "\n",
        "            # Seleccionar matriz de rotación según el eje\n",
        "            if eje.lower() == 'x':\n",
        "                rotacion = cls.rotation_x(theta)\n",
        "            elif eje.lower() == 'y':\n",
        "                rotacion = cls.rotation_y(theta)\n",
        "            elif eje.lower() == 'z':\n",
        "                rotacion = cls.rotation_z(theta)\n",
        "            else:\n",
        "                raise ValueError(f\"Eje de rotación no válido: {eje}\")\n",
        "\n",
        "            # Aplicar rotación\n",
        "            punto_actual = rotacion @ punto_actual\n",
        "\n",
        "        return punto_actual"
      ],
      "metadata": {
        "id": "_ruoIpeU5n3e"
      },
      "execution_count": 25,
      "outputs": []
    },
    {
      "cell_type": "markdown",
      "source": [
        "# **Aplica múltiples desplazamientos secuencialmente a un punto**"
      ],
      "metadata": {
        "id": "Iz2PeUbs6cXO"
      }
    },
    {
      "cell_type": "code",
      "source": [
        "    def desplazamiento_masivo(cls, vector_desplazamientos, punto_inicial):\n",
        "\n",
        "        punto_actual = punto_inicial.astype(np.float64).copy()\n",
        "\n",
        "        for desplazamiento in vector_desplazamientos:\n",
        "            punto_actual += np.array(desplazamiento)\n",
        "\n",
        "        return punto_actual"
      ],
      "metadata": {
        "id": "74eHkskK6aov"
      },
      "execution_count": 26,
      "outputs": []
    },
    {
      "cell_type": "markdown",
      "source": [
        "# **Combina rotaciones y desplazamientos secuencialmente**"
      ],
      "metadata": {
        "id": "rvEnlOVK6vYR"
      }
    },
    {
      "cell_type": "code",
      "source": [
        "    def transformaciones_masivas(cls, lista_operaciones, punto_inicial):\n",
        "\n",
        "        punto_actual = punto_inicial.copy()\n",
        "\n",
        "        for operacion in lista_operaciones:\n",
        "            if 'rotacion' in operacion[2].lower():\n",
        "                # Es una rotación\n",
        "                punto_actual = cls.rotacion_masiva([(operacion[0], operacion[1])], punto_actual)\n",
        "            elif 'desplazamiento' in operacion[2].lower():\n",
        "                # Es un desplazamiento\n",
        "                punto_actual = cls.desplazamiento_masivo([operacion[1]], punto_actual)\n",
        "            else:\n",
        "                raise ValueError(f\"Operación no reconocida: {operacion[2]}\")\n",
        "\n",
        "        return punto_actual"
      ],
      "metadata": {
        "id": "Y-bcPHa_63gm"
      },
      "execution_count": 27,
      "outputs": []
    },
    {
      "cell_type": "markdown",
      "source": [
        "# **Visualiza puntos en un espacio 3D**"
      ],
      "metadata": {
        "id": "kxEh5ocy64vt"
      }
    },
    {
      "cell_type": "code",
      "source": [
        "    def visualizar_puntos(puntos, etiquetas, titulo='Transformaciones'):\n",
        "\n",
        "        fig = plt.figure(figsize=(10, 8))\n",
        "        ax = fig.add_subplot(111, projection='3d')\n",
        "\n",
        "        colores = ['b', 'r', 'g', 'c', 'm', 'y', 'k']\n",
        "\n",
        "        for i, (punto, etiqueta) in enumerate(zip(puntos, etiquetas)):\n",
        "            color = colores[i % len(colores)]\n",
        "            ax.scatter(punto[0], punto[1], punto[2], color=color, label=etiqueta)\n",
        "            ax.quiver(0, 0, 0, punto[0], punto[1], punto[2], color=color, alpha=0.5)\n",
        "\n",
        "        ax.set_xlabel('X')\n",
        "        ax.set_ylabel('Y')\n",
        "        ax.set_zlabel('Z')\n",
        "        ax.set_title(titulo)\n",
        "        ax.legend()\n",
        "        plt.show()"
      ],
      "metadata": {
        "id": "e7cFDc0B65Hl"
      },
      "execution_count": 28,
      "outputs": []
    },
    {
      "cell_type": "markdown",
      "source": [
        "# **Experimentos**"
      ],
      "metadata": {
        "id": "ZSzguwvw7Y8V"
      }
    },
    {
      "cell_type": "code",
      "source": [
        "def experimento_1():\n",
        "    \"\"\"\n",
        "    Demostración de rotación masiva.\n",
        "    \"\"\"\n",
        "    print(\"Experimento 1: Rotación Masiva\")\n",
        "    punto_inicial = np.array([1, 1, 0])\n",
        "    rotaciones = [\n",
        "        (45, 'X'),\n",
        "        (30, 'Y'),\n",
        "        (60, 'Z')\n",
        "    ]\n",
        "\n",
        "    punto_final = TransformacionesRoboticas.rotacion_masiva(rotaciones, punto_inicial)\n",
        "\n",
        "    TransformacionesRoboticas.visualizar_puntos(\n",
        "        [punto_inicial, punto_final],\n",
        "        ['Punto Inicial', 'Punto Final de Rotaciones']\n",
        "    )\n",
        "    print(\"Punto Inicial:\", punto_inicial)\n",
        "    print(\"Punto Final:\", punto_final)\n",
        "\n",
        "def experimento_2():\n",
        "    \"\"\"\n",
        "    Demostración de desplazamiento masivo.\n",
        "    \"\"\"\n",
        "    print(\"Experimento 2: Desplazamiento Masivo\")\n",
        "    punto_inicial = np.array([1, 1, 0])\n",
        "    desplazamientos = [\n",
        "        np.array([0.5, -0.5, 1]),\n",
        "        np.array([-0.3, 0.2, 0.5])\n",
        "    ]\n",
        "\n",
        "    punto_final = TransformacionesRoboticas.desplazamiento_masivo(desplazamientos, punto_inicial)\n",
        "\n",
        "    TransformacionesRoboticas.visualizar_puntos(\n",
        "        [punto_inicial, punto_final],\n",
        "        ['Punto Inicial', 'Punto Final de Desplazamientos']\n",
        "    )\n",
        "    print(\"Punto Inicial:\", punto_inicial)\n",
        "    print(\"Punto Final:\", punto_final)\n",
        "\n",
        "def experimento_3_conmutatividad():\n",
        "    \"\"\"\n",
        "    Experimento para evaluar la conmutatividad de desplazamientos y rotaciones.\n",
        "    \"\"\"\n",
        "    print(\"Experimento 3: Conmutatividad de Transformaciones\")\n",
        "\n",
        "    punto_inicial = np.array([1, 1, 0])\n",
        "\n",
        "    # Desplazamientos\n",
        "    d1 = np.array([0.5, -0.5, 1])\n",
        "    d2 = np.array([-0.3, 0.2, 0.5])\n",
        "\n",
        "    # Rotaciones\n",
        "    r1 = (45, 'X')\n",
        "    r2 = (30, 'Y')\n",
        "\n",
        "    # Orden 1: d1 -> d2\n",
        "    punto_1 = punto_inicial + d1\n",
        "    punto_1 = punto_1 + d2\n",
        "\n",
        "    # Orden 2: d2 -> d1\n",
        "    punto_2 = punto_inicial + d2\n",
        "    punto_2 = punto_2 + d1\n",
        "\n",
        "    # Orden 1: r1 -> r2\n",
        "    punto_3 = TransformacionesRoboticas.rotacion_masiva([r1], punto_inicial)\n",
        "    punto_3 = TransformacionesRoboticas.rotacion_masiva([r2], punto_3)\n",
        "\n",
        "    # Orden 2: r2 -> r1\n",
        "    punto_4 = TransformacionesRoboticas.rotacion_masiva([r2], punto_inicial)\n",
        "    punto_4 = TransformacionesRoboticas.rotacion_masiva([r1], punto_4)\n",
        "\n",
        "    print(\"\\nConmutatividad de Desplazamientos:\")\n",
        "    print(\"Orden d1 -> d2:\", punto_1)\n",
        "    print(\"Orden d2 -> d1:\", punto_2)\n",
        "    print(\"¿Son iguales los desplazamientos?\", np.allclose(punto_1, punto_2))\n",
        "\n",
        "    print(\"\\nConmutatividad de Rotaciones:\")\n",
        "    print(\"Orden r1 -> r2:\", punto_3)\n",
        "    print(\"Orden r2 -> r1:\", punto_4)\n",
        "    print(\"¿Son iguales las rotaciones?\", np.allclose(punto_3, punto_4))"
      ],
      "metadata": {
        "id": "HrcZldFJ7bk-"
      },
      "execution_count": 29,
      "outputs": []
    },
    {
      "cell_type": "markdown",
      "source": [
        "# **Ejecutar experimentos**"
      ],
      "metadata": {
        "id": "TPYMMfok76MW"
      }
    },
    {
      "cell_type": "code",
      "source": [
        "if __name__ == \"__main__\":\n",
        "    print(\"Iniciando experimentos de Transformaciones \\n\")\n",
        "    experimento_1()\n",
        "    print(\"\\n\" + \"-\"*50 + \"\\n\")\n",
        "    experimento_2()\n",
        "    print(\"\\n\" + \"-\"*50 + \"\\n\")\n",
        "    experimento_3_conmutatividad()"
      ],
      "metadata": {
        "id": "rTwX4YMI78C9"
      },
      "execution_count": null,
      "outputs": []
    },
    {
      "cell_type": "markdown",
      "source": [
        "Conclusiones del Experimento de Conmutatividad:\n",
        "\n",
        "Desplazamientos: Los desplazamientos son conmutativos (d1 -> d2 = d2 -> d1)\n",
        "\n",
        "Rotaciones: Las rotaciones NO son conmutativas (r1 -> r2 ≠ r2 -> r1)\n",
        "\n",
        "Esto significa que:\n",
        "\n",
        "Cambiar el orden de desplazamientos no afecta el resultado final\n",
        "\n",
        "Cambiar el orden de rotaciones SÍ afecta significativamente el resultado final"
      ],
      "metadata": {
        "id": "T8dBWToq8jF1"
      }
    }
  ]
}