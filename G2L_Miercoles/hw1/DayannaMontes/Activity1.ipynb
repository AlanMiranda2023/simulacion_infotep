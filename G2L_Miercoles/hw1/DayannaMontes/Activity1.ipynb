{
 "cells": [
  {
   "cell_type": "markdown",
   "metadata": {},
   "source": [
    "Mi primera clase de Python utilizando Google Codelab"
   ]
  },
  {
   "cell_type": "code",
   "execution_count": null,
   "metadata": {
    "vscode": {
     "languageId": "plaintext"
    }
   },
   "outputs": [],
   "source": [
    "class Escena:\n",
    "  def __init__(circunferencia, tamano, color, velocidad, direccion):\n",
    "    self.circunferencia = circunferencia\n",
    "    self.tamano = tamano\n",
    "    self.color = color\n",
    "    self.velocidad = velocidad\n",
    "    self.direccion = direccion\n",
    "\n",
    "  def crear_escena(self):\n",
    "    print(\"Crear la escena\")\n",
    "\n",
    "  def cambiar_Escena(self):\n",
    "    print(\"Cambiar escena\")\n",
    "\n",
    "  def dibujar_escena(self):\n",
    "    print(\"Dibujar escena\")\n",
    "\n",
    "  def desplazar_puntos(self):\n",
    "    print(\"Desplazar puntos\")\n",
    "\n",
    "  def simular(self):\n",
    "    print(\"Simular\")"
   ]
  }
 ],
 "metadata": {
  "language_info": {
   "name": "python"
  }
 },
 "nbformat": 4,
 "nbformat_minor": 2
}
