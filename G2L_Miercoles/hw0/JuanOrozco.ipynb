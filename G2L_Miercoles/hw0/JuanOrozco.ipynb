{
  "nbformat": 4,
  "nbformat_minor": 0,
  "metadata": {
    "colab": {
      "provenance": []
    },
    "kernelspec": {
      "name": "python3",
      "display_name": "Python 3"
    },
    "language_info": {
      "name": "python"
    }
  },
  "cells": [
    {
      "cell_type": "markdown",
      "source": [
        "MI PRIMER EJERCICIO EN GOOGLE COLABORATY"
      ],
      "metadata": {
        "id": "DGJxtLnol9H8"
      }
    },
    {
      "cell_type": "code",
      "source": [
        "# prompt: PROTOTIPO DE UNA CLASE EN PYTHON\n",
        "\n",
        "class MiClase:\n",
        "  \"\"\"\n",
        "  Este es un prototipo de clase en Python.\n",
        "  \"\"\"\n",
        "\n",
        "  def __init__(self, parametro1, parametro2):\n",
        "    \"\"\"\n",
        "    Constructor de la clase.\n",
        "\n",
        "    Args:\n",
        "      parametro1: Descripción del primer parámetro.\n",
        "      parametro2: Descripción del segundo parámetro.\n",
        "    \"\"\"\n",
        "    self.atributo1 = parametro1\n",
        "    self.atributo2 = parametro2\n",
        "\n",
        "  def mi_metodo(self, parametro3):\n",
        "    \"\"\"\n",
        "    Este es un método de ejemplo.\n",
        "\n",
        "    Args:\n",
        "      parametro3: Descripción del parámetro del método.\n",
        "\n",
        "    Returns:\n",
        "      El resultado del método.\n",
        "    \"\"\"\n",
        "    resultado = self.atributo1 + self.atributo2 + parametro3\n",
        "    return resultado\n"
      ],
      "metadata": {
        "id": "0_e-r9f4lcCm"
      },
      "execution_count": null,
      "outputs": []
    }
  ]
}