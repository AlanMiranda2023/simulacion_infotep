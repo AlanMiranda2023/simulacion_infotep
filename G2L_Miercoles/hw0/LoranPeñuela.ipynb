{
 "cells": [
  {
   "cell_type": "code",
   "execution_count": null,
   "metadata": {
    "vscode": {
     "languageId": "plaintext"
    }
   },
   "outputs": [],
   "source": [
    "from textwrap import fill\n",
    "import matplotlib.pyplot as plt\n",
    "import numpy as np\n",
    "\n",
    "class Escena:\n",
    "    radio=1,\n",
    "    color='red',\n",
    "    x=0.0,\n",
    "    y=0.0\n",
    "    punto = np.array([0, 0])\n",
    "    punto_plot = None\n",
    "    def crear_escena(MiEscena):\n",
    "        MiEscena.fig, MiEscena.ax = plt.subplots()\n",
    "        MiEscena.ax.set_aspect('equal')\n",
    "        MiEscena.ax.set_xlim(-1.5, 1.5)\n",
    "        MiEscena.ax.set_ylim(-1.5, 1.5)\n",
    "\n",
    "    def dibujar(MiEscena, radio, color, x, y):\n",
    "        circ = plt.Circle((0, 0), radius=radio, color=color, fill=False)\n",
    "        MiEscena.ax.add_patch(circ)\n",
    "        MiEscena.ax.plot(x, y, 'mo')\n",
    "        plt.show()\n",
    "\n",
    "    def cambiar_escena(MiEscena, radio, color, x, y):\n",
    "        MiEscena.crear_escena()\n",
    "        MiEscena.dibujar(radio, color, x, y)\n",
    "\n",
    "    def desplazar_puntos(MiEscena, x, direccion, radio, color):\n",
    "        desplazamiento = np.array([0, 0])\n",
    "        if direccion == 'derecha':\n",
    "            desplazamiento = np.array([x, 0])\n",
    "        elif direccion == 'izquierda':\n",
    "            desplazamiento = np.array([-x, 0])\n",
    "        elif direccion == 'arriba':\n",
    "            desplazamiento = np.array([0, x])\n",
    "        elif direccion == 'abajo':\n",
    "            desplazamiento = np.array([0, -x])\n",
    "        MiEscena.punto += desplazamiento\n",
    "        MiEscena.punto_plot, = plt.plot(MiEscena.punto[0], MiEscena.punto[1], 'ro')\n",
    "        MiEscena.circulo = plt.Circle((0, 0), radius=radio, color=color,fill=False)\n",
    "        plt.gca().add_patch(MiEscena.circulo)\n",
    "\n",
    "        plt.draw()\n",
    "\n",
    "    def simular(MiEscena, velocidad, direccion, pasos, radio, color):\n",
    "        for _ in range(pasos):\n",
    "            MiEscena.desplazar_puntos(velocidad, direccion, radio, color)\n",
    "            plt.pause(0.1)\n",
    "\n",
    "escena = Escena()\n",
    "escena.crear_escena()\n",
    "escena.dibujar(radio=1, color='red', x=0.0, y=0.0)\n",
    "escena.cambiar_escena(radio=1.5, color='blue', x=0.5, y=0.5)\n",
    "escena.simular(velocidad=1, direccion='derecha', pasos=5, radio=5, color='blue')"
   ]
  }
 ],
 "metadata": {
  "language_info": {
   "name": "python"
  }
 },
 "nbformat": 4,
 "nbformat_minor": 2
}
