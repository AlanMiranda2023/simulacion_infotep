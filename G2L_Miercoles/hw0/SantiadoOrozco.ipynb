{
 "cells": [
  {
   "cell_type": "code",
   "execution_count": null,
   "metadata": {
    "vscode": {
     "languageId": "plaintext"
    }
   },
   "outputs": [],
   "source": [
    "class Escena:\n",
    "\n",
    "  def __init__(self, circuferencia, color, velocidad, direccion, puntos):\n",
    "        self.circuferencia = circuferencia\n",
    "        self.color = color\n",
    "        self.velocidad = velocidad\n",
    "        self.raza = direccion\n",
    "        self.puntos = puntos\n",
    "\n",
    "  def crear_escena(self):\n",
    "    print(\"Crear Escena\")\n",
    "\n",
    "  def cambiar_escena(self):\n",
    "    print(\"Cambiar Escena\")\n",
    "\n",
    "  def dibujar_escena(self):\n",
    "    print(\"Dibujar Escena\")\n",
    "\n",
    "  def desplazar_puntos(self):\n",
    "    print(\"Desplazar Puntos\")\n",
    "\n",
    "  def simular(self):\n",
    "    print(\"Simular\")"
   ]
  }
 ],
 "metadata": {
  "language_info": {
   "name": "python"
  }
 },
 "nbformat": 4,
 "nbformat_minor": 2
}
