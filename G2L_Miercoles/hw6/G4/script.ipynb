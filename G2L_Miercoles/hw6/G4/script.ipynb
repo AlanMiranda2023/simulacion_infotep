{
  "cells": [
    {
      "cell_type": "markdown",
      "id": "db34594a",
      "metadata": {
        "id": "db34594a"
      },
      "source": [
        "# **Manipulador robótico con 3 grados de libertad**"
      ]
    },
    {
      "cell_type": "markdown",
      "id": "5dc37067",
      "metadata": {
        "id": "5dc37067"
      },
      "source": [
        "**Docente:** PhD Jorge Rudas\n",
        "\n",
        "**Diseño de prototipos - 2025 I**\n",
        "\n",
        "**INFOTEP**"
      ]
    },
    {
      "cell_type": "code",
      "execution_count": 18,
      "id": "4abd0bcb",
      "metadata": {
        "id": "4abd0bcb"
      },
      "outputs": [],
      "source": [
        "import numpy as np\n",
        "from sympy import*\n",
        "from IPython.display import Image\n",
        "from math import radians\n",
        "\n",
        "init_printing()"
      ]
    },
    {
      "cell_type": "code",
      "execution_count": 2,
      "id": "a002bab8",
      "metadata": {
        "colab": {
          "resources": {
            "http://localhost:8080/Examples/3.png": {
              "data": "",
              "ok": false,
              "headers": [
                [
                  "content-length",
                  "0"
                ]
              ],
              "status": 404,
              "status_text": ""
            }
          },
          "base_uri": "https://localhost:8080/",
          "height": 37
        },
        "id": "a002bab8",
        "outputId": "e526b517-a6c7-4556-8c9e-1857f9d5b617"
      },
      "outputs": [
        {
          "output_type": "execute_result",
          "data": {
            "text/html": [
              "<img src=\"../Examples/3.png\"/>"
            ],
            "text/plain": [
              "<IPython.core.display.Image object>"
            ]
          },
          "metadata": {},
          "execution_count": 2
        }
      ],
      "source": [
        "Image(url='../Examples/3.png')"
      ]
    },
    {
      "cell_type": "code",
      "execution_count": 3,
      "id": "bd6b3775",
      "metadata": {
        "colab": {
          "resources": {
            "http://localhost:8080/Examples/4.png": {
              "data": "",
              "ok": false,
              "headers": [
                [
                  "content-length",
                  "0"
                ]
              ],
              "status": 404,
              "status_text": ""
            }
          },
          "base_uri": "https://localhost:8080/",
          "height": 37
        },
        "id": "bd6b3775",
        "outputId": "46f14704-72a8-4e01-f2d6-7930df63d0f0"
      },
      "outputs": [
        {
          "output_type": "execute_result",
          "data": {
            "text/html": [
              "<img src=\"../Examples/4.png\"/>"
            ],
            "text/plain": [
              "<IPython.core.display.Image object>"
            ]
          },
          "metadata": {},
          "execution_count": 3
        }
      ],
      "source": [
        "Image(url='../Examples/4.png')"
      ]
    },
    {
      "cell_type": "markdown",
      "id": "6d912065",
      "metadata": {
        "id": "6d912065"
      },
      "source": [
        "Vamos a descrbir el algebra simula la dinámica directa del anterior brazo robótico"
      ]
    },
    {
      "cell_type": "code",
      "execution_count": 4,
      "id": "9b2cc4fb",
      "metadata": {
        "id": "9b2cc4fb"
      },
      "outputs": [],
      "source": [
        "## Variables Simbolicas\n",
        "theta_1 = symbols(\"theta_1\",  real=True)\n",
        "theta_2 = symbols(\"theta_2\",  real=True)\n",
        "theta_3 = symbols(\"theta_3\",  real=True)\n",
        "alpha = symbols(\"alpha\",  real=True)\n",
        "\n",
        "l_1 = symbols(\"l_1\",  real=True)\n",
        "l_2 = symbols(\"l_2\",  real=True)\n",
        "l_3 = symbols(\"l_3\",  real=True)"
      ]
    },
    {
      "cell_type": "markdown",
      "id": "c7af93dd",
      "metadata": {
        "id": "c7af93dd"
      },
      "source": [
        "Rotación de la base (articulación 1) un angulo theta 1 zobre el eje z"
      ]
    },
    {
      "cell_type": "code",
      "execution_count": 5,
      "id": "f09d219a",
      "metadata": {
        "colab": {
          "base_uri": "https://localhost:8080/",
          "height": 98
        },
        "id": "f09d219a",
        "outputId": "1132528c-4580-43b6-a23e-9e562407a5df"
      },
      "outputs": [
        {
          "output_type": "execute_result",
          "data": {
            "text/plain": [
              "⎡cos(θ₁)  -sin(θ₁)  0  0⎤\n",
              "⎢                       ⎥\n",
              "⎢sin(θ₁)  cos(θ₁)   0  0⎥\n",
              "⎢                       ⎥\n",
              "⎢   0        0      1  0⎥\n",
              "⎢                       ⎥\n",
              "⎣   0        0      0  1⎦"
            ],
            "text/latex": "$\\displaystyle \\left[\\begin{matrix}\\cos{\\left(\\theta_{1} \\right)} & - \\sin{\\left(\\theta_{1} \\right)} & 0 & 0\\\\\\sin{\\left(\\theta_{1} \\right)} & \\cos{\\left(\\theta_{1} \\right)} & 0 & 0\\\\0 & 0 & 1 & 0\\\\0 & 0 & 0 & 1\\end{matrix}\\right]$"
          },
          "metadata": {},
          "execution_count": 5
        }
      ],
      "source": [
        "_0H1 = Matrix([[cos(theta_1), -sin(theta_1), 0, 0], [sin(theta_1), cos(theta_1), 0, 0], [0, 0, 1, 0], [0, 0, 0, 1]])\n",
        "_0H1\n"
      ]
    },
    {
      "cell_type": "markdown",
      "id": "b4a75136",
      "metadata": {
        "id": "b4a75136"
      },
      "source": [
        "Translación l_1 sobre el eje z desde la base hasta la articulación 2"
      ]
    },
    {
      "cell_type": "code",
      "execution_count": 6,
      "id": "d15e78ec",
      "metadata": {
        "colab": {
          "base_uri": "https://localhost:8080/",
          "height": 98
        },
        "id": "d15e78ec",
        "outputId": "6700e09f-02c2-4268-ff5a-594a9b01552f"
      },
      "outputs": [
        {
          "output_type": "execute_result",
          "data": {
            "text/plain": [
              "⎡1  0  0  0 ⎤\n",
              "⎢           ⎥\n",
              "⎢0  1  0  0 ⎥\n",
              "⎢           ⎥\n",
              "⎢0  0  1  l₁⎥\n",
              "⎢           ⎥\n",
              "⎣0  0  0  1 ⎦"
            ],
            "text/latex": "$\\displaystyle \\left[\\begin{matrix}1 & 0 & 0 & 0\\\\0 & 1 & 0 & 0\\\\0 & 0 & 1 & l_{1}\\\\0 & 0 & 0 & 1\\end{matrix}\\right]$"
          },
          "metadata": {},
          "execution_count": 6
        }
      ],
      "source": [
        "_1H2 = Matrix([[1, 0, 0, 0], [0, 1, 0, 0], [0, 0, 1, l_1], [0, 0, 0, 1]])\n",
        "_1H2\n"
      ]
    },
    {
      "cell_type": "markdown",
      "id": "f4a4b280",
      "metadata": {
        "id": "f4a4b280"
      },
      "source": [
        "Rotación del sistema de referencia (90 grados sobre el eje X)"
      ]
    },
    {
      "cell_type": "code",
      "execution_count": 7,
      "id": "da4ab434",
      "metadata": {
        "colab": {
          "base_uri": "https://localhost:8080/",
          "height": 98
        },
        "id": "da4ab434",
        "outputId": "9c8f1daf-159c-4cd1-eadf-b93f1dd0d119"
      },
      "outputs": [
        {
          "output_type": "execute_result",
          "data": {
            "text/plain": [
              "⎡1    0        0     0⎤\n",
              "⎢                     ⎥\n",
              "⎢0  cos(α)  -sin(α)  0⎥\n",
              "⎢                     ⎥\n",
              "⎢0  sin(α)  cos(α)   0⎥\n",
              "⎢                     ⎥\n",
              "⎣0    0        0     1⎦"
            ],
            "text/latex": "$\\displaystyle \\left[\\begin{matrix}1 & 0 & 0 & 0\\\\0 & \\cos{\\left(\\alpha \\right)} & - \\sin{\\left(\\alpha \\right)} & 0\\\\0 & \\sin{\\left(\\alpha \\right)} & \\cos{\\left(\\alpha \\right)} & 0\\\\0 & 0 & 0 & 1\\end{matrix}\\right]$"
          },
          "metadata": {},
          "execution_count": 7
        }
      ],
      "source": [
        "_2H3 = Matrix([[1, 0, 0, 0], [0, cos(alpha), -sin(alpha), 0], [0, sin(alpha), cos(alpha), 0], [0, 0, 0, 1]])\n",
        "_2H3"
      ]
    },
    {
      "cell_type": "code",
      "execution_count": 8,
      "id": "f71273a3",
      "metadata": {
        "colab": {
          "base_uri": "https://localhost:8080/",
          "height": 98
        },
        "id": "f71273a3",
        "outputId": "e028994b-c576-45a8-ff22-5bab7e22bc21"
      },
      "outputs": [
        {
          "output_type": "execute_result",
          "data": {
            "text/plain": [
              "⎡1  0  0   0⎤\n",
              "⎢           ⎥\n",
              "⎢0  0  -1  0⎥\n",
              "⎢           ⎥\n",
              "⎢0  1  0   0⎥\n",
              "⎢           ⎥\n",
              "⎣0  0  0   1⎦"
            ],
            "text/latex": "$\\displaystyle \\left[\\begin{matrix}1 & 0 & 0 & 0\\\\0 & 0 & -1 & 0\\\\0 & 1 & 0 & 0\\\\0 & 0 & 0 & 1\\end{matrix}\\right]$"
          },
          "metadata": {},
          "execution_count": 8
        }
      ],
      "source": [
        "_2H3 = _2H3.subs(alpha, pi/2)\n",
        "_2H3"
      ]
    },
    {
      "cell_type": "markdown",
      "id": "b1beaa10",
      "metadata": {
        "id": "b1beaa10"
      },
      "source": [
        "Rotación theta_2 sobre el nuevo eje Z en la articulación 2"
      ]
    },
    {
      "cell_type": "code",
      "execution_count": 9,
      "id": "48da4464",
      "metadata": {
        "colab": {
          "base_uri": "https://localhost:8080/",
          "height": 98
        },
        "id": "48da4464",
        "outputId": "9c2c9fc4-6036-4a45-9c24-341c0a709f8a"
      },
      "outputs": [
        {
          "output_type": "execute_result",
          "data": {
            "text/plain": [
              "⎡cos(θ₂)  -sin(θ₂)  0  0⎤\n",
              "⎢                       ⎥\n",
              "⎢sin(θ₂)  cos(θ₂)   0  0⎥\n",
              "⎢                       ⎥\n",
              "⎢   0        0      1  0⎥\n",
              "⎢                       ⎥\n",
              "⎣   0        0      0  1⎦"
            ],
            "text/latex": "$\\displaystyle \\left[\\begin{matrix}\\cos{\\left(\\theta_{2} \\right)} & - \\sin{\\left(\\theta_{2} \\right)} & 0 & 0\\\\\\sin{\\left(\\theta_{2} \\right)} & \\cos{\\left(\\theta_{2} \\right)} & 0 & 0\\\\0 & 0 & 1 & 0\\\\0 & 0 & 0 & 1\\end{matrix}\\right]$"
          },
          "metadata": {},
          "execution_count": 9
        }
      ],
      "source": [
        "_3H4 = Matrix([[cos(theta_2), -sin(theta_2), 0, 0], [sin(theta_2), cos(theta_2), 0, 0], [0, 0, 1, 0], [0, 0, 0, 1]])\n",
        "_3H4\n"
      ]
    },
    {
      "cell_type": "markdown",
      "id": "ab8392f6",
      "metadata": {
        "id": "ab8392f6"
      },
      "source": [
        "Translación l_2 sobre el nuevo eje X desde la articulación 2 hasta la articulación 3"
      ]
    },
    {
      "cell_type": "code",
      "execution_count": 10,
      "id": "b8142302",
      "metadata": {
        "colab": {
          "base_uri": "https://localhost:8080/",
          "height": 98
        },
        "id": "b8142302",
        "outputId": "fa2e0a04-75d1-49e1-dc47-d0675db7d0f8"
      },
      "outputs": [
        {
          "output_type": "execute_result",
          "data": {
            "text/plain": [
              "⎡1  0  0  l₂⎤\n",
              "⎢           ⎥\n",
              "⎢0  1  0  0 ⎥\n",
              "⎢           ⎥\n",
              "⎢0  0  1  0 ⎥\n",
              "⎢           ⎥\n",
              "⎣0  0  0  1 ⎦"
            ],
            "text/latex": "$\\displaystyle \\left[\\begin{matrix}1 & 0 & 0 & l_{2}\\\\0 & 1 & 0 & 0\\\\0 & 0 & 1 & 0\\\\0 & 0 & 0 & 1\\end{matrix}\\right]$"
          },
          "metadata": {},
          "execution_count": 10
        }
      ],
      "source": [
        "_4H5 = Matrix([[1, 0, 0, l_2], [0, 1, 0, 0], [0, 0, 1, 0], [0, 0, 0, 1]])\n",
        "_4H5\n"
      ]
    },
    {
      "cell_type": "markdown",
      "id": "ddeaca3d",
      "metadata": {
        "id": "ddeaca3d"
      },
      "source": [
        "Rotación theta_3 sobre el nuevo eje Z para la articulación 3"
      ]
    },
    {
      "cell_type": "code",
      "execution_count": 11,
      "id": "2509ec7e",
      "metadata": {
        "colab": {
          "base_uri": "https://localhost:8080/",
          "height": 98
        },
        "id": "2509ec7e",
        "outputId": "1f635ebf-bf62-4f16-9791-1760b065f095"
      },
      "outputs": [
        {
          "output_type": "execute_result",
          "data": {
            "text/plain": [
              "⎡cos(θ₃)  -sin(θ₃)  0  0⎤\n",
              "⎢                       ⎥\n",
              "⎢sin(θ₃)  cos(θ₃)   0  0⎥\n",
              "⎢                       ⎥\n",
              "⎢   0        0      1  0⎥\n",
              "⎢                       ⎥\n",
              "⎣   0        0      0  1⎦"
            ],
            "text/latex": "$\\displaystyle \\left[\\begin{matrix}\\cos{\\left(\\theta_{3} \\right)} & - \\sin{\\left(\\theta_{3} \\right)} & 0 & 0\\\\\\sin{\\left(\\theta_{3} \\right)} & \\cos{\\left(\\theta_{3} \\right)} & 0 & 0\\\\0 & 0 & 1 & 0\\\\0 & 0 & 0 & 1\\end{matrix}\\right]$"
          },
          "metadata": {},
          "execution_count": 11
        }
      ],
      "source": [
        "_5H6 = Matrix([[cos(theta_3), -sin(theta_3), 0, 0], [sin(theta_3), cos(theta_3), 0, 0], [0, 0, 1, 0], [0, 0, 0, 1]])\n",
        "_5H6\n"
      ]
    },
    {
      "cell_type": "markdown",
      "id": "3f690c6f",
      "metadata": {
        "id": "3f690c6f"
      },
      "source": [
        "Traslación l_3 desde la articulación 3 hasta el efector final (muñeca)"
      ]
    },
    {
      "cell_type": "code",
      "execution_count": 12,
      "id": "421b9c6e",
      "metadata": {
        "colab": {
          "base_uri": "https://localhost:8080/",
          "height": 98
        },
        "id": "421b9c6e",
        "outputId": "04185bd4-d39a-40f5-927d-c9831f5ef6b8"
      },
      "outputs": [
        {
          "output_type": "execute_result",
          "data": {
            "text/plain": [
              "⎡1  0  0  l₃⎤\n",
              "⎢           ⎥\n",
              "⎢0  1  0  0 ⎥\n",
              "⎢           ⎥\n",
              "⎢0  0  1  0 ⎥\n",
              "⎢           ⎥\n",
              "⎣0  0  0  1 ⎦"
            ],
            "text/latex": "$\\displaystyle \\left[\\begin{matrix}1 & 0 & 0 & l_{3}\\\\0 & 1 & 0 & 0\\\\0 & 0 & 1 & 0\\\\0 & 0 & 0 & 1\\end{matrix}\\right]$"
          },
          "metadata": {},
          "execution_count": 12
        }
      ],
      "source": [
        "_6H7 = Matrix([[1, 0, 0, l_3], [0, 1, 0, 0], [0, 0, 1, 0], [0, 0, 0, 1]])\n",
        "_6H7"
      ]
    },
    {
      "cell_type": "markdown",
      "id": "bd23ab63",
      "metadata": {
        "id": "bd23ab63"
      },
      "source": [
        "Para encontrar la posición y la orientación del sistema de referencia W3 respecto a W0 se puede realizar la composición de las transformaciones de cada estado, así:"
      ]
    },
    {
      "cell_type": "code",
      "execution_count": 13,
      "id": "5799522d",
      "metadata": {
        "colab": {
          "base_uri": "https://localhost:8080/",
          "height": 118
        },
        "id": "5799522d",
        "outputId": "3ecc80e1-85d4-47eb-c6c6-ed1bbae9921e"
      },
      "outputs": [
        {
          "output_type": "execute_result",
          "data": {
            "text/plain": [
              "⎡-sin(θ₂)⋅sin(θ₃)⋅cos(θ₁) + cos(θ₁)⋅cos(θ₂)⋅cos(θ₃)  -sin(θ₂)⋅cos(θ₁)⋅cos(θ₃)  ↪\n",
              "⎢                                                                              ↪\n",
              "⎢-sin(θ₁)⋅sin(θ₂)⋅sin(θ₃) + sin(θ₁)⋅cos(θ₂)⋅cos(θ₃)  -sin(θ₁)⋅sin(θ₂)⋅cos(θ₃)  ↪\n",
              "⎢                                                                              ↪\n",
              "⎢        sin(θ₂)⋅cos(θ₃) + sin(θ₃)⋅cos(θ₂)                   -sin(θ₂)⋅sin(θ₃)  ↪\n",
              "⎢                                                                              ↪\n",
              "⎣                        0                                                   0 ↪\n",
              "\n",
              "↪ - sin(θ₃)⋅cos(θ₁)⋅cos(θ₂)  sin(θ₁)   l₂⋅cos(θ₁)⋅cos(θ₂) + l₃⋅(-sin(θ₂)⋅sin(θ ↪\n",
              "↪                                                                              ↪\n",
              "↪ - sin(θ₁)⋅sin(θ₃)⋅cos(θ₂)  -cos(θ₁)  l₂⋅sin(θ₁)⋅cos(θ₂) + l₃⋅(-sin(θ₁)⋅sin(θ ↪\n",
              "↪                                                                              ↪\n",
              "↪ + cos(θ₂)⋅cos(θ₃)             0                l₁ + l₂⋅sin(θ₂) + l₃⋅(sin(θ₂) ↪\n",
              "↪                                                                              ↪\n",
              "↪                               0                                           1  ↪\n",
              "\n",
              "↪ ₃)⋅cos(θ₁) + cos(θ₁)⋅cos(θ₂)⋅cos(θ₃))⎤\n",
              "↪                                      ⎥\n",
              "↪ ₂)⋅sin(θ₃) + sin(θ₁)⋅cos(θ₂)⋅cos(θ₃))⎥\n",
              "↪                                      ⎥\n",
              "↪ ⋅cos(θ₃) + sin(θ₃)⋅cos(θ₂))          ⎥\n",
              "↪                                      ⎥\n",
              "↪                                      ⎦"
            ],
            "text/latex": "$\\displaystyle \\left[\\begin{matrix}- \\sin{\\left(\\theta_{2} \\right)} \\sin{\\left(\\theta_{3} \\right)} \\cos{\\left(\\theta_{1} \\right)} + \\cos{\\left(\\theta_{1} \\right)} \\cos{\\left(\\theta_{2} \\right)} \\cos{\\left(\\theta_{3} \\right)} & - \\sin{\\left(\\theta_{2} \\right)} \\cos{\\left(\\theta_{1} \\right)} \\cos{\\left(\\theta_{3} \\right)} - \\sin{\\left(\\theta_{3} \\right)} \\cos{\\left(\\theta_{1} \\right)} \\cos{\\left(\\theta_{2} \\right)} & \\sin{\\left(\\theta_{1} \\right)} & l_{2} \\cos{\\left(\\theta_{1} \\right)} \\cos{\\left(\\theta_{2} \\right)} + l_{3} \\left(- \\sin{\\left(\\theta_{2} \\right)} \\sin{\\left(\\theta_{3} \\right)} \\cos{\\left(\\theta_{1} \\right)} + \\cos{\\left(\\theta_{1} \\right)} \\cos{\\left(\\theta_{2} \\right)} \\cos{\\left(\\theta_{3} \\right)}\\right)\\\\- \\sin{\\left(\\theta_{1} \\right)} \\sin{\\left(\\theta_{2} \\right)} \\sin{\\left(\\theta_{3} \\right)} + \\sin{\\left(\\theta_{1} \\right)} \\cos{\\left(\\theta_{2} \\right)} \\cos{\\left(\\theta_{3} \\right)} & - \\sin{\\left(\\theta_{1} \\right)} \\sin{\\left(\\theta_{2} \\right)} \\cos{\\left(\\theta_{3} \\right)} - \\sin{\\left(\\theta_{1} \\right)} \\sin{\\left(\\theta_{3} \\right)} \\cos{\\left(\\theta_{2} \\right)} & - \\cos{\\left(\\theta_{1} \\right)} & l_{2} \\sin{\\left(\\theta_{1} \\right)} \\cos{\\left(\\theta_{2} \\right)} + l_{3} \\left(- \\sin{\\left(\\theta_{1} \\right)} \\sin{\\left(\\theta_{2} \\right)} \\sin{\\left(\\theta_{3} \\right)} + \\sin{\\left(\\theta_{1} \\right)} \\cos{\\left(\\theta_{2} \\right)} \\cos{\\left(\\theta_{3} \\right)}\\right)\\\\\\sin{\\left(\\theta_{2} \\right)} \\cos{\\left(\\theta_{3} \\right)} + \\sin{\\left(\\theta_{3} \\right)} \\cos{\\left(\\theta_{2} \\right)} & - \\sin{\\left(\\theta_{2} \\right)} \\sin{\\left(\\theta_{3} \\right)} + \\cos{\\left(\\theta_{2} \\right)} \\cos{\\left(\\theta_{3} \\right)} & 0 & l_{1} + l_{2} \\sin{\\left(\\theta_{2} \\right)} + l_{3} \\left(\\sin{\\left(\\theta_{2} \\right)} \\cos{\\left(\\theta_{3} \\right)} + \\sin{\\left(\\theta_{3} \\right)} \\cos{\\left(\\theta_{2} \\right)}\\right)\\\\0 & 0 & 0 & 1\\end{matrix}\\right]$"
          },
          "metadata": {},
          "execution_count": 13
        }
      ],
      "source": [
        "Hs =_0H1@_1H2@_2H3@_3H4@_4H5@_5H6@_6H7\n",
        "Hs"
      ]
    },
    {
      "cell_type": "code",
      "execution_count": 14,
      "id": "00f6459b",
      "metadata": {
        "colab": {
          "base_uri": "https://localhost:8080/",
          "height": 98
        },
        "id": "00f6459b",
        "outputId": "4334f1df-1d8e-44ad-daf8-582345bb2c9f"
      },
      "outputs": [
        {
          "output_type": "execute_result",
          "data": {
            "text/plain": [
              "⎡cos(θ₁)⋅cos(θ₂ + θ₃)  -sin(θ₂ + θ₃)⋅cos(θ₁)  sin(θ₁)   (l₂⋅cos(θ₂) + l₃⋅cos(θ ↪\n",
              "⎢                                                                              ↪\n",
              "⎢sin(θ₁)⋅cos(θ₂ + θ₃)  -sin(θ₁)⋅sin(θ₂ + θ₃)  -cos(θ₁)  (l₂⋅cos(θ₂) + l₃⋅cos(θ ↪\n",
              "⎢                                                                              ↪\n",
              "⎢    sin(θ₂ + θ₃)          cos(θ₂ + θ₃)          0        l₁ + l₂⋅sin(θ₂) + l₃ ↪\n",
              "⎢                                                                              ↪\n",
              "⎣         0                      0               0                        1    ↪\n",
              "\n",
              "↪ ₂ + θ₃))⋅cos(θ₁)⎤\n",
              "↪                 ⎥\n",
              "↪ ₂ + θ₃))⋅sin(θ₁)⎥\n",
              "↪                 ⎥\n",
              "↪ ⋅sin(θ₂ + θ₃)   ⎥\n",
              "↪                 ⎥\n",
              "↪                 ⎦"
            ],
            "text/latex": "$\\displaystyle \\left[\\begin{matrix}\\cos{\\left(\\theta_{1} \\right)} \\cos{\\left(\\theta_{2} + \\theta_{3} \\right)} & - \\sin{\\left(\\theta_{2} + \\theta_{3} \\right)} \\cos{\\left(\\theta_{1} \\right)} & \\sin{\\left(\\theta_{1} \\right)} & \\left(l_{2} \\cos{\\left(\\theta_{2} \\right)} + l_{3} \\cos{\\left(\\theta_{2} + \\theta_{3} \\right)}\\right) \\cos{\\left(\\theta_{1} \\right)}\\\\\\sin{\\left(\\theta_{1} \\right)} \\cos{\\left(\\theta_{2} + \\theta_{3} \\right)} & - \\sin{\\left(\\theta_{1} \\right)} \\sin{\\left(\\theta_{2} + \\theta_{3} \\right)} & - \\cos{\\left(\\theta_{1} \\right)} & \\left(l_{2} \\cos{\\left(\\theta_{2} \\right)} + l_{3} \\cos{\\left(\\theta_{2} + \\theta_{3} \\right)}\\right) \\sin{\\left(\\theta_{1} \\right)}\\\\\\sin{\\left(\\theta_{2} + \\theta_{3} \\right)} & \\cos{\\left(\\theta_{2} + \\theta_{3} \\right)} & 0 & l_{1} + l_{2} \\sin{\\left(\\theta_{2} \\right)} + l_{3} \\sin{\\left(\\theta_{2} + \\theta_{3} \\right)}\\\\0 & 0 & 0 & 1\\end{matrix}\\right]$"
          },
          "metadata": {},
          "execution_count": 14
        }
      ],
      "source": [
        "H = simplify(_0H1@_1H2@_2H3@_3H4@_4H5@_5H6@_6H7)\n",
        "H"
      ]
    },
    {
      "cell_type": "markdown",
      "id": "2df636c5",
      "metadata": {
        "id": "2df636c5"
      },
      "source": [
        "Esta será la posición final de la muñeca en función de theta1, theta2, theta3, l1, l2 y l3"
      ]
    },
    {
      "cell_type": "code",
      "execution_count": 15,
      "id": "4f198ace",
      "metadata": {
        "colab": {
          "base_uri": "https://localhost:8080/",
          "height": 78
        },
        "id": "4f198ace",
        "outputId": "680afa14-17c5-4d53-98db-0a39973ca8d6"
      },
      "outputs": [
        {
          "output_type": "execute_result",
          "data": {
            "text/plain": [
              "⎡(l₂⋅cos(θ₂) + l₃⋅cos(θ₂ + θ₃))⋅cos(θ₁)⎤\n",
              "⎢                                      ⎥\n",
              "⎢(l₂⋅cos(θ₂) + l₃⋅cos(θ₂ + θ₃))⋅sin(θ₁)⎥\n",
              "⎢                                      ⎥\n",
              "⎣  l₁ + l₂⋅sin(θ₂) + l₃⋅sin(θ₂ + θ₃)   ⎦"
            ],
            "text/latex": "$\\displaystyle \\left[\\begin{matrix}\\left(l_{2} \\cos{\\left(\\theta_{2} \\right)} + l_{3} \\cos{\\left(\\theta_{2} + \\theta_{3} \\right)}\\right) \\cos{\\left(\\theta_{1} \\right)}\\\\\\left(l_{2} \\cos{\\left(\\theta_{2} \\right)} + l_{3} \\cos{\\left(\\theta_{2} + \\theta_{3} \\right)}\\right) \\sin{\\left(\\theta_{1} \\right)}\\\\l_{1} + l_{2} \\sin{\\left(\\theta_{2} \\right)} + l_{3} \\sin{\\left(\\theta_{2} + \\theta_{3} \\right)}\\end{matrix}\\right]$"
          },
          "metadata": {},
          "execution_count": 15
        }
      ],
      "source": [
        "P = H[0:3, 3]\n",
        "P"
      ]
    },
    {
      "cell_type": "markdown",
      "id": "3b979bc4",
      "metadata": {
        "id": "3b979bc4"
      },
      "source": [
        "Y esta será la orientación final de la muñeca en función theta1, theta2, theta3, l1, l2 y l3"
      ]
    },
    {
      "cell_type": "code",
      "execution_count": 23,
      "id": "eb8451af",
      "metadata": {
        "colab": {
          "base_uri": "https://localhost:8080/",
          "height": 78
        },
        "id": "eb8451af",
        "outputId": "21ebdfbb-f5da-4ad1-943b-f4f50512d253"
      },
      "outputs": [
        {
          "output_type": "execute_result",
          "data": {
            "text/plain": [
              "⎡cos(θ₁)⋅cos(θ₂ + θ₃)  -sin(θ₂ + θ₃)⋅cos(θ₁)  sin(θ₁) ⎤\n",
              "⎢                                                     ⎥\n",
              "⎢sin(θ₁)⋅cos(θ₂ + θ₃)  -sin(θ₁)⋅sin(θ₂ + θ₃)  -cos(θ₁)⎥\n",
              "⎢                                                     ⎥\n",
              "⎣    sin(θ₂ + θ₃)          cos(θ₂ + θ₃)          0    ⎦"
            ],
            "text/latex": "$\\displaystyle \\left[\\begin{matrix}\\cos{\\left(\\theta_{1} \\right)} \\cos{\\left(\\theta_{2} + \\theta_{3} \\right)} & - \\sin{\\left(\\theta_{2} + \\theta_{3} \\right)} \\cos{\\left(\\theta_{1} \\right)} & \\sin{\\left(\\theta_{1} \\right)}\\\\\\sin{\\left(\\theta_{1} \\right)} \\cos{\\left(\\theta_{2} + \\theta_{3} \\right)} & - \\sin{\\left(\\theta_{1} \\right)} \\sin{\\left(\\theta_{2} + \\theta_{3} \\right)} & - \\cos{\\left(\\theta_{1} \\right)}\\\\\\sin{\\left(\\theta_{2} + \\theta_{3} \\right)} & \\cos{\\left(\\theta_{2} + \\theta_{3} \\right)} & 0\\end{matrix}\\right]$"
          },
          "metadata": {},
          "execution_count": 23
        }
      ],
      "source": [
        "R = H[0:3, 0:3]\n",
        "R"
      ]
    },
    {
      "cell_type": "markdown",
      "id": "88430ca1",
      "metadata": {
        "id": "88430ca1"
      },
      "source": [
        "## Taller\n",
        "\n",
        "Suponga un manipulador robotico con 3 grados de libertad. El brazo 1 mide 40cm, el brazo 2 mide 50 el brazo 3 mide 50cm. Los angulos de rotación no tienen restricciones. Suponga que la muñeca puede agarrar cualquier objeto que se encuentre a menos de 5cm de ella.\n",
        "\n",
        "* Determine al menos 2 configuraciones de theta1, theta2 y theta3 que permitan alcanzar un objeto en la posición x=45, y=36, z=22. Utilice fuerza bruta para ello o cualquier estrategia objetiva para conseguirlo.\n",
        "\n",
        "## Calificación\n",
        "\n",
        "Los tres grupos con el mejor avance antes de finalizar la clase tendrá puntos extras en la calificación del corte, así:\n",
        "\n",
        "* Mejor avance --> 0.3\n",
        "* Segundo mejor avance --> 0.2\n",
        "* Tercer mejor avance --> 0.1"
      ]
    },
    {
      "cell_type": "markdown",
      "id": "abeba4b9",
      "metadata": {
        "id": "abeba4b9"
      },
      "source": []
    },
    {
      "cell_type": "code",
      "source": [
        "#valores eslabones\n",
        "longitudes = {l_1: 40, l_2: 50, l_3: 50}\n",
        "\n",
        "# Objetivo\n",
        "objetivo = np.array([45, 36, 22])\n",
        "tolerancia = 5\n",
        "\n",
        "# Búsqueda por fuerza bruta\n",
        "resultados = []\n",
        "\n",
        "for t1_deg in range(0, 361, 10):\n",
        "    for t2_deg in range(-180, 181, 10):\n",
        "        for t3_deg in range(-180, 181, 10):\n",
        "            sustituciones = {\n",
        "                theta_1: radians(t1_deg),\n",
        "                theta_2: radians(t2_deg),\n",
        "                theta_3: radians(t3_deg),\n",
        "                **longitudes\n",
        "            }\n",
        "            pos = P.evalf(subs=sustituciones)\n",
        "            x, y, z = [N(v) for v in pos]\n",
        "            distancia = sqrt((x - objetivo[0])**2 + (y - objetivo[1])**2 + (z - objetivo[2])**2)\n",
        "            if distancia <= tolerancia:\n",
        "                resultados.append({\n",
        "                    \"theta_1\": t1_deg,\n",
        "                    \"theta_2\": t2_deg,\n",
        "                    \"theta_3\": t3_deg,\n",
        "                    \"posición\": (round(float(x), 2), round(float(y), 2), round(float(z), 2)),\n",
        "                    \"distancia\": round(float(distancia), 2)\n",
        "                })\n",
        "            if len(resultados) >= 2:\n",
        "                break\n",
        "        if len(resultados) >= 2:\n",
        "            break\n",
        "    if len(resultados) >= 2:\n",
        "        break\n",
        "\n",
        "print(resultados)\n",
        "# Mostrar resultados\n",
        "for i, res in enumerate(resultados, start=1):\n",
        "    print(f\"Configuración {i}:\")\n",
        "    print(f\"  θ₁ = {res['theta_1']}°, θ₂ = {res['theta_2']}°, θ₃ = {res['theta_3']}°\")\n",
        "    print(f\"  Posición alcanzada: {res['posición']} (Distancia: {res['distancia']} cm)\")\n",
        "    print()"
      ],
      "metadata": {
        "colab": {
          "base_uri": "https://localhost:8080/"
        },
        "id": "ZKslM7GFD4_G",
        "outputId": "4a0ddad1-7cc8-4595-9502-f1a0fa61d675"
      },
      "id": "ZKslM7GFD4_G",
      "execution_count": 24,
      "outputs": [
        {
          "output_type": "stream",
          "name": "stdout",
          "text": [
            "[{'theta_1': 40, 'theta_2': -70, 'theta_3': 110, 'posición': (42.44, 35.61, 25.15), 'distancia': 4.08}, {'theta_1': 40, 'theta_2': 40, 'theta_3': -110, 'posición': (42.44, 35.61, 25.15), 'distancia': 4.08}]\n",
            "Configuración 1:\n",
            "  θ₁ = 40°, θ₂ = -70°, θ₃ = 110°\n",
            "  Posición alcanzada: (42.44, 35.61, 25.15) (Distancia: 4.08 cm)\n",
            "\n",
            "Configuración 2:\n",
            "  θ₁ = 40°, θ₂ = 40°, θ₃ = -110°\n",
            "  Posición alcanzada: (42.44, 35.61, 25.15) (Distancia: 4.08 cm)\n",
            "\n"
          ]
        }
      ]
    }
  ],
  "metadata": {
    "kernelspec": {
      "display_name": "Python 3 (ipykernel)",
      "language": "python",
      "name": "python3"
    },
    "language_info": {
      "codemirror_mode": {
        "name": "ipython",
        "version": 3
      },
      "file_extension": ".py",
      "mimetype": "text/x-python",
      "name": "python",
      "nbconvert_exporter": "python",
      "pygments_lexer": "ipython3",
      "version": "3.10.12"
    },
    "colab": {
      "provenance": []
    }
  },
  "nbformat": 4,
  "nbformat_minor": 5
}