{
  "cells": [
    {
      "cell_type": "markdown",
      "id": "2f6be8c8",
      "metadata": {
        "id": "2f6be8c8"
      },
      "source": [
        "# **Cinemática de un robot planar**\n",
        "\n",
        "**Docente:** PhD Jorge Rudas\n",
        "\n",
        "**Diseño de prototipos - 2025 I**\n",
        "\n",
        "**INFOTEP**"
      ]
    },
    {
      "cell_type": "markdown",
      "id": "f6913b83",
      "metadata": {
        "id": "f6913b83"
      },
      "source": [
        "## Importar librerias"
      ]
    },
    {
      "cell_type": "code",
      "execution_count": 74,
      "id": "82ae37d8",
      "metadata": {
        "id": "82ae37d8"
      },
      "outputs": [],
      "source": [
        "import numpy as np\n",
        "from sympy import*\n",
        "init_printing()"
      ]
    },
    {
      "cell_type": "markdown",
      "id": "9c4c1f12",
      "metadata": {
        "id": "9c4c1f12"
      },
      "source": [
        "## Se crean variables simbólicas"
      ]
    },
    {
      "cell_type": "code",
      "execution_count": 75,
      "id": "0d328921",
      "metadata": {
        "id": "0d328921"
      },
      "outputs": [],
      "source": [
        "## Variables Simbolicas\n",
        "theta_1 = symbols(\"theta_1\",  real=True)\n",
        "theta_2 = symbols(\"theta_2\",  real=True)\n",
        "l_1 = symbols(\"l_1\",  real=True)\n",
        "l_2 = symbols(\"l_2\",  real=True)"
      ]
    },
    {
      "cell_type": "markdown",
      "id": "a472e104",
      "metadata": {
        "id": "a472e104"
      },
      "source": [
        "## Transformación desde el estado 0 al estado 1"
      ]
    },
    {
      "cell_type": "code",
      "execution_count": 76,
      "id": "2db33fec",
      "metadata": {
        "id": "2db33fec"
      },
      "outputs": [],
      "source": [
        "_0H1 = Matrix([[cos(theta_1), -sin(theta_1), 0, 0], [sin(theta_1), cos(theta_1), 0, 0], [0, 0, 1, 0], [0, 0, 0, 1]])"
      ]
    },
    {
      "cell_type": "code",
      "execution_count": 77,
      "id": "53b4ecc0",
      "metadata": {
        "colab": {
          "base_uri": "https://localhost:8080/",
          "height": 98
        },
        "id": "53b4ecc0",
        "outputId": "88d11489-62d8-41c7-fa1d-3bcb936caca8"
      },
      "outputs": [
        {
          "output_type": "execute_result",
          "data": {
            "text/plain": [
              "⎡cos(θ₁)  -sin(θ₁)  0  0⎤\n",
              "⎢                       ⎥\n",
              "⎢sin(θ₁)  cos(θ₁)   0  0⎥\n",
              "⎢                       ⎥\n",
              "⎢   0        0      1  0⎥\n",
              "⎢                       ⎥\n",
              "⎣   0        0      0  1⎦"
            ],
            "text/latex": "$\\displaystyle \\left[\\begin{matrix}\\cos{\\left(\\theta_{1} \\right)} & - \\sin{\\left(\\theta_{1} \\right)} & 0 & 0\\\\\\sin{\\left(\\theta_{1} \\right)} & \\cos{\\left(\\theta_{1} \\right)} & 0 & 0\\\\0 & 0 & 1 & 0\\\\0 & 0 & 0 & 1\\end{matrix}\\right]$"
          },
          "metadata": {},
          "execution_count": 77
        }
      ],
      "source": [
        "_0H1\n"
      ]
    },
    {
      "cell_type": "markdown",
      "id": "21855c8f",
      "metadata": {
        "id": "21855c8f"
      },
      "source": [
        "## Transformación desde el estado 1 al estado 2"
      ]
    },
    {
      "cell_type": "code",
      "execution_count": 78,
      "id": "d70da5f8",
      "metadata": {
        "id": "d70da5f8"
      },
      "outputs": [],
      "source": [
        "_1H2 = Matrix([[1, 0, 0, l_1], [0, 1, 0, 0], [0, 0, 1, 0], [0, 0, 0, 1]])"
      ]
    },
    {
      "cell_type": "code",
      "execution_count": 79,
      "id": "c1828bac",
      "metadata": {
        "colab": {
          "base_uri": "https://localhost:8080/",
          "height": 98
        },
        "id": "c1828bac",
        "outputId": "67027a94-1eaa-4f7a-bd18-ac94d9d5c84c"
      },
      "outputs": [
        {
          "output_type": "execute_result",
          "data": {
            "text/plain": [
              "⎡1  0  0  l₁⎤\n",
              "⎢           ⎥\n",
              "⎢0  1  0  0 ⎥\n",
              "⎢           ⎥\n",
              "⎢0  0  1  0 ⎥\n",
              "⎢           ⎥\n",
              "⎣0  0  0  1 ⎦"
            ],
            "text/latex": "$\\displaystyle \\left[\\begin{matrix}1 & 0 & 0 & l_{1}\\\\0 & 1 & 0 & 0\\\\0 & 0 & 1 & 0\\\\0 & 0 & 0 & 1\\end{matrix}\\right]$"
          },
          "metadata": {},
          "execution_count": 79
        }
      ],
      "source": [
        "_1H2"
      ]
    },
    {
      "cell_type": "markdown",
      "id": "9bde084c",
      "metadata": {
        "id": "9bde084c"
      },
      "source": [
        "## Transformación desde el estado 2 al estado 3"
      ]
    },
    {
      "cell_type": "code",
      "execution_count": 80,
      "id": "60197018",
      "metadata": {
        "id": "60197018"
      },
      "outputs": [],
      "source": [
        "_2H3 = Matrix([[cos(theta_2), -sin(theta_2), 0, 0], [sin(theta_2), cos(theta_2), 0, 0], [0, 0, 1, 0], [0, 0, 0, 1]])"
      ]
    },
    {
      "cell_type": "code",
      "execution_count": 81,
      "id": "0a4fb170",
      "metadata": {
        "colab": {
          "base_uri": "https://localhost:8080/",
          "height": 98
        },
        "id": "0a4fb170",
        "outputId": "2c08174b-63e5-425c-b605-19ddb345ae68"
      },
      "outputs": [
        {
          "output_type": "execute_result",
          "data": {
            "text/plain": [
              "⎡cos(θ₂)  -sin(θ₂)  0  0⎤\n",
              "⎢                       ⎥\n",
              "⎢sin(θ₂)  cos(θ₂)   0  0⎥\n",
              "⎢                       ⎥\n",
              "⎢   0        0      1  0⎥\n",
              "⎢                       ⎥\n",
              "⎣   0        0      0  1⎦"
            ],
            "text/latex": "$\\displaystyle \\left[\\begin{matrix}\\cos{\\left(\\theta_{2} \\right)} & - \\sin{\\left(\\theta_{2} \\right)} & 0 & 0\\\\\\sin{\\left(\\theta_{2} \\right)} & \\cos{\\left(\\theta_{2} \\right)} & 0 & 0\\\\0 & 0 & 1 & 0\\\\0 & 0 & 0 & 1\\end{matrix}\\right]$"
          },
          "metadata": {},
          "execution_count": 81
        }
      ],
      "source": [
        "_2H3"
      ]
    },
    {
      "cell_type": "markdown",
      "id": "a53aa5ef",
      "metadata": {
        "id": "a53aa5ef"
      },
      "source": [
        "## Transformación desde el estado 3 al estado 4"
      ]
    },
    {
      "cell_type": "code",
      "execution_count": 82,
      "id": "032e6c76",
      "metadata": {
        "id": "032e6c76"
      },
      "outputs": [],
      "source": [
        "_3H4 = Matrix([[1, 0, 0, l_2], [0, 1, 0, 0], [0, 0, 1, 0], [0, 0, 0, 1]])"
      ]
    },
    {
      "cell_type": "code",
      "execution_count": 83,
      "id": "fcee8c4f",
      "metadata": {
        "colab": {
          "base_uri": "https://localhost:8080/",
          "height": 98
        },
        "id": "fcee8c4f",
        "outputId": "a7211f5c-8452-4d80-ea09-2e9614bb517c"
      },
      "outputs": [
        {
          "output_type": "execute_result",
          "data": {
            "text/plain": [
              "⎡1  0  0  l₂⎤\n",
              "⎢           ⎥\n",
              "⎢0  1  0  0 ⎥\n",
              "⎢           ⎥\n",
              "⎢0  0  1  0 ⎥\n",
              "⎢           ⎥\n",
              "⎣0  0  0  1 ⎦"
            ],
            "text/latex": "$\\displaystyle \\left[\\begin{matrix}1 & 0 & 0 & l_{2}\\\\0 & 1 & 0 & 0\\\\0 & 0 & 1 & 0\\\\0 & 0 & 0 & 1\\end{matrix}\\right]$"
          },
          "metadata": {},
          "execution_count": 83
        }
      ],
      "source": [
        "_3H4\n"
      ]
    },
    {
      "cell_type": "markdown",
      "id": "4fa64a74",
      "metadata": {
        "id": "4fa64a74"
      },
      "source": [
        "## Composición de cada estado de la cinemática"
      ]
    },
    {
      "cell_type": "code",
      "execution_count": 84,
      "id": "15f37bda",
      "metadata": {
        "id": "15f37bda"
      },
      "outputs": [],
      "source": [
        "H = simplify(_0H1@_1H2@_2H3@_3H4)"
      ]
    },
    {
      "cell_type": "code",
      "execution_count": 85,
      "id": "6c2ed8ad",
      "metadata": {
        "colab": {
          "base_uri": "https://localhost:8080/",
          "height": 98
        },
        "id": "6c2ed8ad",
        "outputId": "a4105e3f-4236-45c7-d7b2-19b2c529d645"
      },
      "outputs": [
        {
          "output_type": "execute_result",
          "data": {
            "text/plain": [
              "⎡cos(θ₁ + θ₂)  -sin(θ₁ + θ₂)  0  l₁⋅cos(θ₁) + l₂⋅cos(θ₁ + θ₂)⎤\n",
              "⎢                                                            ⎥\n",
              "⎢sin(θ₁ + θ₂)  cos(θ₁ + θ₂)   0  l₁⋅sin(θ₁) + l₂⋅sin(θ₁ + θ₂)⎥\n",
              "⎢                                                            ⎥\n",
              "⎢     0              0        1               0              ⎥\n",
              "⎢                                                            ⎥\n",
              "⎣     0              0        0               1              ⎦"
            ],
            "text/latex": "$\\displaystyle \\left[\\begin{matrix}\\cos{\\left(\\theta_{1} + \\theta_{2} \\right)} & - \\sin{\\left(\\theta_{1} + \\theta_{2} \\right)} & 0 & l_{1} \\cos{\\left(\\theta_{1} \\right)} + l_{2} \\cos{\\left(\\theta_{1} + \\theta_{2} \\right)}\\\\\\sin{\\left(\\theta_{1} + \\theta_{2} \\right)} & \\cos{\\left(\\theta_{1} + \\theta_{2} \\right)} & 0 & l_{1} \\sin{\\left(\\theta_{1} \\right)} + l_{2} \\sin{\\left(\\theta_{1} + \\theta_{2} \\right)}\\\\0 & 0 & 1 & 0\\\\0 & 0 & 0 & 1\\end{matrix}\\right]$"
          },
          "metadata": {},
          "execution_count": 85
        }
      ],
      "source": [
        "H"
      ]
    },
    {
      "cell_type": "markdown",
      "id": "98f93492",
      "metadata": {
        "id": "98f93492"
      },
      "source": [
        "## Posición del efector final"
      ]
    },
    {
      "cell_type": "code",
      "execution_count": 86,
      "id": "f8de3b60",
      "metadata": {
        "id": "f8de3b60"
      },
      "outputs": [],
      "source": [
        "P = H[0:2, 3]"
      ]
    },
    {
      "cell_type": "code",
      "execution_count": 87,
      "id": "c9f85211",
      "metadata": {
        "colab": {
          "base_uri": "https://localhost:8080/",
          "height": 58
        },
        "id": "c9f85211",
        "outputId": "239156f8-1112-4d81-8c4a-1a4109701f55"
      },
      "outputs": [
        {
          "output_type": "execute_result",
          "data": {
            "text/plain": [
              "⎡l₁⋅cos(θ₁) + l₂⋅cos(θ₁ + θ₂)⎤\n",
              "⎢                            ⎥\n",
              "⎣l₁⋅sin(θ₁) + l₂⋅sin(θ₁ + θ₂)⎦"
            ],
            "text/latex": "$\\displaystyle \\left[\\begin{matrix}l_{1} \\cos{\\left(\\theta_{1} \\right)} + l_{2} \\cos{\\left(\\theta_{1} + \\theta_{2} \\right)}\\\\l_{1} \\sin{\\left(\\theta_{1} \\right)} + l_{2} \\sin{\\left(\\theta_{1} + \\theta_{2} \\right)}\\end{matrix}\\right]$"
          },
          "metadata": {},
          "execution_count": 87
        }
      ],
      "source": [
        "P"
      ]
    },
    {
      "cell_type": "code",
      "source": [
        "import matplotlib.pyplot as plt\n",
        "import numpy as np\n",
        "\n",
        "def dibujar_brazo_mecanico(theta1, theta2, l1, l2):\n",
        "  \"\"\"Función para dibujar un brazo mecanico con 2 grados de libertad.\n",
        "\n",
        "  Parametros:\n",
        "    theta1: Angulo de la primera articulacion en radianes.\n",
        "    theta2: Angulo de la segunda articulacion en radianes.\n",
        "    l1: Longitud del primer extremo\n",
        "    l2: Longitud del segundo extremo\n",
        "  \"\"\"\n",
        "\n",
        " # Calculamos la posición del efector final\n",
        "  x1 = l1 * np.cos(theta1)\n",
        "  y1 = l1 * np.sin(theta1)\n",
        "  x2 = x1 + l2 * np.cos(theta1 + theta2)\n",
        "  y2 = y1 + l2 * np.sin(theta1 + theta2)\n",
        "\n",
        "# Dibujando el brazo con lineas y puntos\n",
        "  plt.figure(figsize=(6, 6))\n",
        "  plt.plot([0, x1], [0, y1], 'b-', linewidth=5)  # First link\n",
        "  plt.plot([x1, x2], [y1, y2], 'b-', linewidth=5)  # Second link\n",
        "  plt.plot(0, 0, 'ro', markersize=10)  # Base\n",
        "  plt.plot(x2, y2, 'go', markersize=10)  # End-effector\n",
        "\n",
        "  plt.plot(-1, 1, 'mo', markersize=10)  # Punto que queremos alcanzar\n",
        "\n",
        "  # Se dibujan los límites y los labels\n",
        "  plt.xlim([-l1 - l2, l1 + l2])\n",
        "  plt.ylim([-l1 - l2, l1 + l2])\n",
        "  plt.xlabel('X')\n",
        "  plt.ylabel('Y')\n",
        "  plt.title('Brazo robótico')\n",
        "  plt.grid(True)\n",
        "  plt.show()"
      ],
      "metadata": {
        "id": "GNXclDgo83lm"
      },
      "id": "GNXclDgo83lm",
      "execution_count": 88,
      "outputs": []
    },
    {
      "cell_type": "markdown",
      "source": [
        "## Ejemplo de manipulación del brazo robotico en su estado final"
      ],
      "metadata": {
        "id": "0LsCvdrkEYqT"
      },
      "id": "0LsCvdrkEYqT"
    },
    {
      "cell_type": "code",
      "source": [
        "theta1 = np.deg2rad(60)\n",
        "theta2 = np.deg2rad(-30)\n",
        "l1 = 2\n",
        "l2 = 2\n",
        "dibujar_brazo_mecanico(theta1, theta2, l1, l2)"
      ],
      "metadata": {
        "colab": {
          "base_uri": "https://localhost:8080/",
          "height": 564
        },
        "id": "yHJG-FLr9DV2",
        "outputId": "d6dee7f0-651a-44b3-ae3b-c48dbe4d2250"
      },
      "id": "yHJG-FLr9DV2",
      "execution_count": 97,
      "outputs": [
        {
          "output_type": "display_data",
          "data": {
            "text/plain": [
              "<Figure size 600x600 with 1 Axes>"
            ],
            "image/png": "[encoded data removed]"
          },
          "metadata": {}
        }
      ]
    },
    {
      "cell_type": "markdown",
      "source": [
        "## **Taller**\n",
        "\n",
        "*  Dibujar cada estado del anterior brazo robótico\n",
        "*  Imagine un brazo robótico cuyas extremidades miden 2 unidades cada una. Podría este brazo alcanzar cualquier objeto dentro de la cuadricula de 2 x 2? Explique detalladamente su razonamiento"
      ],
      "metadata": {
        "id": "PXKx1zldEyCV"
      },
      "id": "PXKx1zldEyCV"
    },
    {
      "cell_type": "markdown",
      "source": [
        "**Primer estado**"
      ],
      "metadata": {
        "id": "4AeXADWMyg94"
      },
      "id": "4AeXADWMyg94"
    },
    {
      "cell_type": "code",
      "source": [
        "def dibujar_brazo_mecanico1(theta1, l1, l2):\n",
        "  \"\"\"Función para dibujar un brazo mecanico con 2 grados de libertad.\n",
        "\n",
        "  Parametros:\n",
        "    theta1: Angulo de la primera articulacion en radianes.\n",
        "    l1: Longitud del primer extremo\n",
        "    l2: Longitud del segundo extremo\n",
        "  \"\"\"\n",
        "\n",
        "  #Codigo por mi\n",
        "  x1 = l1 * np.cos(theta1)\n",
        "  y1 = l1 * np.sin(theta1)\n",
        "  x2 = x1 + l2 * np.cos(theta1)\n",
        "  y2 = y1 * np.sin(theta1)\n",
        "\n",
        "  plt.figure(figsize=(6, 6))\n",
        "  plt.plot([0, x1], [0, y1], 'b-', linewidth=5)  # First link\n",
        "  plt.plot([x1, x2], [y1, y2], 'b-', linewidth=5)  # Second link\n",
        "  plt.plot(0, 0, 'ro', markersize=10)  # Base\n",
        "  plt.plot(x2, y2, 'go', markersize=10)  # End-effector\n",
        "\n",
        "  # Se dibujan los límites y los labels\n",
        "  plt.xlim([-l1 - l2, l1 + l2])\n",
        "  plt.ylim([-l1 - l2, l1 + l2])\n",
        "  plt.xlabel('X')\n",
        "  plt.ylabel('Y')\n",
        "  plt.title('Brazo robótico')\n",
        "  plt.grid(True)\n",
        "  plt.show()"
      ],
      "metadata": {
        "id": "FTzoaSykTwNk"
      },
      "id": "FTzoaSykTwNk",
      "execution_count": 90,
      "outputs": []
    },
    {
      "cell_type": "markdown",
      "source": [
        "# *Primer estado, solo movimiento del brazo.*"
      ],
      "metadata": {
        "id": "X_skZiZaUTbE"
      },
      "id": "X_skZiZaUTbE"
    },
    {
      "cell_type": "code",
      "source": [
        "\"\"\"\n",
        "Se definen parámetros:\n",
        "    theta1: Ángulo de la primera articulación en 15° (convertido a radianes)\n",
        "    l1: Longitud del primer brazo (2 unidades)\n",
        "    l2: Longitud del segundo brazo (2 unidades)\n",
        "\"\"\"\n",
        "theta1 = np.deg2rad(15)  # 45 grados\n",
        "#theta2 = np.deg2rad(0)  # 0 grados\n",
        "l1 = 2\n",
        "l2 = 2\n",
        "dibujar_brazo_mecanico1(theta1, l1, l2)"
      ],
      "metadata": {
        "colab": {
          "base_uri": "https://localhost:8080/",
          "height": 564
        },
        "id": "Kp9u06qwsk-g",
        "outputId": "db23830d-c860-4c80-cdd7-e325f545ff5e"
      },
      "id": "Kp9u06qwsk-g",
      "execution_count": 91,
      "outputs": [
        {
          "output_type": "display_data",
          "data": {
            "text/plain": [
              "<Figure size 600x600 with 1 Axes>"
            ],
            "image/png": "[encoded data removed]"
          },
          "metadata": {}
        }
      ]
    },
    {
      "cell_type": "markdown",
      "source": [
        "# *Segundo estado, movimiento del antebrazo y brazo.*"
      ],
      "metadata": {
        "id": "wMuMG3AY0lCE"
      },
      "id": "wMuMG3AY0lCE"
    },
    {
      "cell_type": "code",
      "source": [
        "\"\"\"\n",
        "Se definen parámetros:\n",
        "    theta1: Ángulo de la primera articulación en 45° (convertido a radianes)\n",
        "    theta2: Ángulo de la segunda articulación en -30° (convertido a radianes)\n",
        "    l1: Longitud del primer brazo (2 unidades)\n",
        "    l2: Longitud del segundo brazo (2 unidades)\n",
        "\"\"\"\n",
        "theta1 = np.deg2rad(45)\n",
        "theta2 = np.deg2rad(-30)\n",
        "l1 = 2\n",
        "l2 = 2\n",
        "dibujar_brazo_mecanico(theta1, theta2, l1, l2)"
      ],
      "metadata": {
        "colab": {
          "base_uri": "https://localhost:8080/",
          "height": 564
        },
        "id": "5-rx2b-95L3w",
        "outputId": "3e6d287a-6dce-40cf-b677-c05818e7860c"
      },
      "id": "5-rx2b-95L3w",
      "execution_count": 92,
      "outputs": [
        {
          "output_type": "display_data",
          "data": {
            "text/plain": [
              "<Figure size 600x600 with 1 Axes>"
            ],
            "image/png": "[encoded data removed]"
          },
          "metadata": {}
        }
      ]
    },
    {
      "cell_type": "markdown",
      "source": [
        "# **Se realizaron diferentes pruebas del alcance dentro de su largo total en diferentes puntos. El punto Morado representa el punto que queremos alcanzar**"
      ],
      "metadata": {
        "id": "LbqUYFNt1_GV"
      },
      "id": "LbqUYFNt1_GV"
    },
    {
      "cell_type": "code",
      "source": [
        "\"\"\"\n",
        "Se definen parámetros estado Inicial:\n",
        "    theta1: Ángulo de la primera articulación en 0° (convertido a radianes)\n",
        "    theta2: Ángulo de la segunda articulación en 0° (convertido a radianes)\n",
        "    l1: Longitud del primer brazo (2 unidades)\n",
        "    l2: Longitud del segundo brazo (2 unidades)\n",
        "\"\"\"\n",
        "#Antes de alanzar el punto.\n",
        "theta1 = np.deg2rad(0)\n",
        "theta2 = np.deg2rad(0)\n",
        "l1 = 2\n",
        "l2 = 2\n",
        "dibujar_brazo_mecanico(theta1, theta2, l1, l2)"
      ],
      "metadata": {
        "colab": {
          "base_uri": "https://localhost:8080/",
          "height": 564
        },
        "id": "nea8ze9b0feD",
        "outputId": "93b9b174-0870-4204-94e9-3192c0e12ae4"
      },
      "id": "nea8ze9b0feD",
      "execution_count": 93,
      "outputs": [
        {
          "output_type": "display_data",
          "data": {
            "text/plain": [
              "<Figure size 600x600 with 1 Axes>"
            ],
            "image/png": "[encoded data removed]"
          },
          "metadata": {}
        }
      ]
    },
    {
      "cell_type": "markdown",
      "source": [
        "**Alcance del punto morado en ubicacion (-1, 1)**"
      ],
      "metadata": {
        "id": "NR1OqU470qvq"
      },
      "id": "NR1OqU470qvq"
    },
    {
      "cell_type": "code",
      "source": [
        "\"\"\"\n",
        "Se definen parámetros:\n",
        "    theta1: Ángulo de la primera articulación en 205° (convertido a radianes)\n",
        "    theta2: Ángulo de la segunda articulación en -140° (convertido a radianes)\n",
        "    l1: Longitud del primer brazo (2 unidades)\n",
        "    l2: Longitud del segundo brazo (2 unidades)\n",
        "\"\"\"\n",
        "theta1 = np.deg2rad(205)\n",
        "theta2 = np.deg2rad(-140)\n",
        "l1 = 2\n",
        "l2 = 2\n",
        "dibujar_brazo_mecanico(theta1, theta2, l1, l2)"
      ],
      "metadata": {
        "colab": {
          "base_uri": "https://localhost:8080/",
          "height": 564
        },
        "id": "LGfHIeJAs2dC",
        "outputId": "1a1b425f-3be7-44f5-cdb5-4a89b0bae5a4"
      },
      "id": "LGfHIeJAs2dC",
      "execution_count": 94,
      "outputs": [
        {
          "output_type": "display_data",
          "data": {
            "text/plain": [
              "<Figure size 600x600 with 1 Axes>"
            ],
            "image/png": "[encoded data removed]"
          },
          "metadata": {}
        }
      ]
    },
    {
      "cell_type": "markdown",
      "source": [
        "Segun investigaciones que realizamos, el alcance máximo de un robot planar esta dada por la suma de las longitudes de sus brazos, en este caso 2 + 2 = 4 unidades.\n",
        "\n",
        "La cuadricula que nos piden alcanzar los puntos es de 2x2 por logica es evidente que puede alcancar cada punto, pero matematicamente se puede comprobar sacando la diagonal del plano, quedaria √(2² + 2²) = √8 = 2.83 unidades, que es menor que 4, por ende si alcaza todos los puntos del plano 2 x 2 ya que el radio del robot es de 4.\n",
        "\n"
      ],
      "metadata": {
        "id": "PoVzHuEA1IAS"
      },
      "id": "PoVzHuEA1IAS"
    },
    {
      "cell_type": "code",
      "source": [
        "def alcance():\n",
        "  \"\"\"\n",
        "  Función para dibujar el alcance del robot.\n",
        "    circle = Representa el radio del circulo o el area que puede alcanzar el robot con l1 = 2 y L2 = 2\n",
        "    plt.plot([-2, 2, 2, -2, -2], [-2, -2, 2, 2, -2], 'k--') = Representa el plano 2x2 que se encuentra dentro de los parametros del radio de los brazos del robot\n",
        "\n",
        "  \"\"\"\n",
        "  plt.figure(figsize=(6, 6))\n",
        "  #Representa el radio del circulo o el area que puede alcanzar el robot con l1 = 2 y L2 = 2\n",
        "  circle = plt.Circle((0, 0), 4, color='g', fill=False, linestyle='--')\n",
        "  plt.gca().add_patch(circle)\n",
        "  #Representa el plano 2x2 que se encuentra dentro de los parametros del radio de los brazos del robot\n",
        "  plt.plot([-2, 2, 2, -2, -2], [-2, -2, 2, 2, -2], 'k--')\n",
        "  plt.grid(True)\n",
        "alcance()"
      ],
      "metadata": {
        "colab": {
          "base_uri": "https://localhost:8080/",
          "height": 522
        },
        "id": "WNzudRXK1EDr",
        "outputId": "493ae7bb-beea-4c71-cc50-5d14cfd52798"
      },
      "id": "WNzudRXK1EDr",
      "execution_count": 96,
      "outputs": [
        {
          "output_type": "display_data",
          "data": {
            "text/plain": [
              "<Figure size 600x600 with 1 Axes>"
            ],
            "image/png": "[encoded data removed]"
          },
          "metadata": {}
        }
      ]
    }
  ],
  "metadata": {
    "kernelspec": {
      "display_name": "Python 3 (ipykernel)",
      "language": "python",
      "name": "python3"
    },
    "language_info": {
      "codemirror_mode": {
        "name": "ipython",
        "version": 3
      },
      "file_extension": ".py",
      "mimetype": "text/x-python",
      "name": "python",
      "nbconvert_exporter": "python",
      "pygments_lexer": "ipython3",
      "version": "3.10.12"
    },
    "colab": {
      "provenance": []
    }
  },
  "nbformat": 4,
  "nbformat_minor": 5
}