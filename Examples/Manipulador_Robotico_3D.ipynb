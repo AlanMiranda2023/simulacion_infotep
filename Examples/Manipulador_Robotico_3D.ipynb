{
 "cells": [
  {
   "cell_type": "markdown",
   "id": "db34594a",
   "metadata": {},
   "source": [
    "# **Manipulador robótico con 3 grados de libertad**"
   ]
  },
  {
   "cell_type": "markdown",
   "id": "5dc37067",
   "metadata": {},
   "source": [
    "**Docente:** PhD Jorge Rudas\n",
    "\n",
    "**Diseño de prototipos - 2025 I**\n",
    "\n",
    "**INFOTEP**"
   ]
  },
  {
   "cell_type": "code",
   "execution_count": 2,
   "id": "4abd0bcb",
   "metadata": {},
   "outputs": [],
   "source": [
    "import numpy as np\n",
    "from sympy import*\n",
    "from IPython.display import Image\n",
    "\n",
    "init_printing()"
   ]
  },
  {
   "cell_type": "code",
   "execution_count": 3,
   "id": "a002bab8",
   "metadata": {},
   "outputs": [
    {
     "data": {
      "text/html": [
       "<img src=\"../Examples/3.png\"/>"
      ],
      "text/plain": [
       "<IPython.core.display.Image object>"
      ]
     },
     "execution_count": 3,
     "metadata": {},
     "output_type": "execute_result"
    }
   ],
   "source": [
    "Image(url='../Examples/3.png')"
   ]
  },
  {
   "cell_type": "code",
   "execution_count": 4,
   "id": "bd6b3775",
   "metadata": {},
   "outputs": [
    {
     "data": {
      "text/html": [
       "<img src=\"../Examples/4.png\"/>"
      ],
      "text/plain": [
       "<IPython.core.display.Image object>"
      ]
     },
     "execution_count": 4,
     "metadata": {},
     "output_type": "execute_result"
    }
   ],
   "source": [
    "Image(url='../Examples/4.png')"
   ]
  },
  {
   "cell_type": "markdown",
   "id": "6d912065",
   "metadata": {},
   "source": [
    "Vamos a descrbir el algebra simula la dinámica directa del anterior brazo robótico"
   ]
  },
  {
   "cell_type": "code",
   "execution_count": 5,
   "id": "9b2cc4fb",
   "metadata": {},
   "outputs": [],
   "source": [
    "## Variables Simbolicas\n",
    "theta_1 = symbols(\"theta_1\",  real=True)\n",
    "theta_2 = symbols(\"theta_2\",  real=True)\n",
    "theta_3 = symbols(\"theta_3\",  real=True)\n",
    "alpha = symbols(\"alpha\",  real=True)\n",
    "\n",
    "l_1 = symbols(\"l_1\",  real=True)\n",
    "l_2 = symbols(\"l_2\",  real=True)\n",
    "l_3 = symbols(\"l_3\",  real=True)"
   ]
  },
  {
   "cell_type": "markdown",
   "id": "c7af93dd",
   "metadata": {},
   "source": [
    "Rotación de la base (articulación 1) un angulo theta 1 zobre el eje z"
   ]
  },
  {
   "cell_type": "code",
   "execution_count": 6,
   "id": "f09d219a",
   "metadata": {},
   "outputs": [
    {
     "data": {
      "image/png": "[encoded data removed]",
      "text/latex": [
       "$\\displaystyle \\left[\\begin{matrix}\\cos{\\left(\\theta_{1} \\right)} & - \\sin{\\left(\\theta_{1} \\right)} & 0 & 0\\\\\\sin{\\left(\\theta_{1} \\right)} & \\cos{\\left(\\theta_{1} \\right)} & 0 & 0\\\\0 & 0 & 1 & 0\\\\0 & 0 & 0 & 1\\end{matrix}\\right]$"
      ],
      "text/plain": [
       "⎡cos(θ₁)  -sin(θ₁)  0  0⎤\n",
       "⎢                       ⎥\n",
       "⎢sin(θ₁)  cos(θ₁)   0  0⎥\n",
       "⎢                       ⎥\n",
       "⎢   0        0      1  0⎥\n",
       "⎢                       ⎥\n",
       "⎣   0        0      0  1⎦"
      ]
     },
     "execution_count": 6,
     "metadata": {},
     "output_type": "execute_result"
    }
   ],
   "source": [
    "_0H1 = Matrix([[cos(theta_1), -sin(theta_1), 0, 0], [sin(theta_1), cos(theta_1), 0, 0], [0, 0, 1, 0], [0, 0, 0, 1]])\n",
    "_0H1\n"
   ]
  },
  {
   "cell_type": "markdown",
   "id": "b4a75136",
   "metadata": {},
   "source": [
    "Translación l_1 sobre el eje z desde la base hasta la articulación 2"
   ]
  },
  {
   "cell_type": "code",
   "execution_count": 7,
   "id": "d15e78ec",
   "metadata": {},
   "outputs": [
    {
     "data": {
      "image/png": "[encoded data removed]",
      "text/latex": [
       "$\\displaystyle \\left[\\begin{matrix}1 & 0 & 0 & 0\\\\0 & 1 & 0 & 0\\\\0 & 0 & 1 & l_{1}\\\\0 & 0 & 0 & 1\\end{matrix}\\right]$"
      ],
      "text/plain": [
       "⎡1  0  0  0 ⎤\n",
       "⎢           ⎥\n",
       "⎢0  1  0  0 ⎥\n",
       "⎢           ⎥\n",
       "⎢0  0  1  l₁⎥\n",
       "⎢           ⎥\n",
       "⎣0  0  0  1 ⎦"
      ]
     },
     "execution_count": 7,
     "metadata": {},
     "output_type": "execute_result"
    }
   ],
   "source": [
    "_1H2 = Matrix([[1, 0, 0, 0], [0, 1, 0, 0], [0, 0, 1, l_1], [0, 0, 0, 1]])\n",
    "_1H2\n"
   ]
  },
  {
   "cell_type": "markdown",
   "id": "f4a4b280",
   "metadata": {},
   "source": [
    "Rotación del sistema de referencia (90 grados sobre el eje X)"
   ]
  },
  {
   "cell_type": "code",
   "execution_count": 8,
   "id": "da4ab434",
   "metadata": {},
   "outputs": [
    {
     "data": {
      "image/png": "[encoded data removed]",
      "text/latex": [
       "$\\displaystyle \\left[\\begin{matrix}1 & 0 & 0 & 0\\\\0 & \\cos{\\left(\\alpha \\right)} & - \\sin{\\left(\\alpha \\right)} & 0\\\\0 & \\sin{\\left(\\alpha \\right)} & \\cos{\\left(\\alpha \\right)} & 0\\\\0 & 0 & 0 & 1\\end{matrix}\\right]$"
      ],
      "text/plain": [
       "⎡1    0        0     0⎤\n",
       "⎢                     ⎥\n",
       "⎢0  cos(α)  -sin(α)  0⎥\n",
       "⎢                     ⎥\n",
       "⎢0  sin(α)  cos(α)   0⎥\n",
       "⎢                     ⎥\n",
       "⎣0    0        0     1⎦"
      ]
     },
     "execution_count": 8,
     "metadata": {},
     "output_type": "execute_result"
    }
   ],
   "source": [
    "_2H3 = Matrix([[1, 0, 0, 0], [0, cos(alpha), -sin(alpha), 0], [0, sin(alpha), cos(alpha), 0], [0, 0, 0, 1]])\n",
    "_2H3"
   ]
  },
  {
   "cell_type": "code",
   "execution_count": 9,
   "id": "f71273a3",
   "metadata": {},
   "outputs": [
    {
     "data": {
      "image/png": "[encoded data removed]",
      "text/latex": [
       "$\\displaystyle \\left[\\begin{matrix}1 & 0 & 0 & 0\\\\0 & 0 & -1 & 0\\\\0 & 1 & 0 & 0\\\\0 & 0 & 0 & 1\\end{matrix}\\right]$"
      ],
      "text/plain": [
       "⎡1  0  0   0⎤\n",
       "⎢           ⎥\n",
       "⎢0  0  -1  0⎥\n",
       "⎢           ⎥\n",
       "⎢0  1  0   0⎥\n",
       "⎢           ⎥\n",
       "⎣0  0  0   1⎦"
      ]
     },
     "execution_count": 9,
     "metadata": {},
     "output_type": "execute_result"
    }
   ],
   "source": [
    "_2H3 = _2H3.subs(alpha, pi/2)\n",
    "_2H3"
   ]
  },
  {
   "cell_type": "markdown",
   "id": "b1beaa10",
   "metadata": {},
   "source": [
    "Rotación theta_2 sobre el nuevo eje Z en la articulación 2"
   ]
  },
  {
   "cell_type": "code",
   "execution_count": 10,
   "id": "48da4464",
   "metadata": {},
   "outputs": [
    {
     "data": {
      "image/png": "[encoded data removed]",
      "text/latex": [
       "$\\displaystyle \\left[\\begin{matrix}\\cos{\\left(\\theta_{2} \\right)} & - \\sin{\\left(\\theta_{2} \\right)} & 0 & 0\\\\\\sin{\\left(\\theta_{2} \\right)} & \\cos{\\left(\\theta_{2} \\right)} & 0 & 0\\\\0 & 0 & 1 & 0\\\\0 & 0 & 0 & 1\\end{matrix}\\right]$"
      ],
      "text/plain": [
       "⎡cos(θ₂)  -sin(θ₂)  0  0⎤\n",
       "⎢                       ⎥\n",
       "⎢sin(θ₂)  cos(θ₂)   0  0⎥\n",
       "⎢                       ⎥\n",
       "⎢   0        0      1  0⎥\n",
       "⎢                       ⎥\n",
       "⎣   0        0      0  1⎦"
      ]
     },
     "execution_count": 10,
     "metadata": {},
     "output_type": "execute_result"
    }
   ],
   "source": [
    "_3H4 = Matrix([[cos(theta_2), -sin(theta_2), 0, 0], [sin(theta_2), cos(theta_2), 0, 0], [0, 0, 1, 0], [0, 0, 0, 1]])\n",
    "_3H4\n"
   ]
  },
  {
   "cell_type": "markdown",
   "id": "ab8392f6",
   "metadata": {},
   "source": [
    "Translación l_2 sobre el nuevo eje X desde la articulación 2 hasta la articulación 3"
   ]
  },
  {
   "cell_type": "code",
   "execution_count": 11,
   "id": "b8142302",
   "metadata": {},
   "outputs": [
    {
     "data": {
      "image/png": "[encoded data removed]",
      "text/latex": [
       "$\\displaystyle \\left[\\begin{matrix}1 & 0 & 0 & l_{2}\\\\0 & 1 & 0 & 0\\\\0 & 0 & 1 & 0\\\\0 & 0 & 0 & 1\\end{matrix}\\right]$"
      ],
      "text/plain": [
       "⎡1  0  0  l₂⎤\n",
       "⎢           ⎥\n",
       "⎢0  1  0  0 ⎥\n",
       "⎢           ⎥\n",
       "⎢0  0  1  0 ⎥\n",
       "⎢           ⎥\n",
       "⎣0  0  0  1 ⎦"
      ]
     },
     "execution_count": 11,
     "metadata": {},
     "output_type": "execute_result"
    }
   ],
   "source": [
    "_4H5 = Matrix([[1, 0, 0, l_2], [0, 1, 0, 0], [0, 0, 1, 0], [0, 0, 0, 1]])\n",
    "_4H5\n"
   ]
  },
  {
   "cell_type": "markdown",
   "id": "ddeaca3d",
   "metadata": {},
   "source": [
    "Rotación theta_3 sobre el nuevo eje Z para la articulación 3"
   ]
  },
  {
   "cell_type": "code",
   "execution_count": 12,
   "id": "2509ec7e",
   "metadata": {},
   "outputs": [
    {
     "data": {
      "image/png": "[encoded data removed]",
      "text/latex": [
       "$\\displaystyle \\left[\\begin{matrix}\\cos{\\left(\\theta_{3} \\right)} & - \\sin{\\left(\\theta_{3} \\right)} & 0 & 0\\\\\\sin{\\left(\\theta_{3} \\right)} & \\cos{\\left(\\theta_{3} \\right)} & 0 & 0\\\\0 & 0 & 1 & 0\\\\0 & 0 & 0 & 1\\end{matrix}\\right]$"
      ],
      "text/plain": [
       "⎡cos(θ₃)  -sin(θ₃)  0  0⎤\n",
       "⎢                       ⎥\n",
       "⎢sin(θ₃)  cos(θ₃)   0  0⎥\n",
       "⎢                       ⎥\n",
       "⎢   0        0      1  0⎥\n",
       "⎢                       ⎥\n",
       "⎣   0        0      0  1⎦"
      ]
     },
     "execution_count": 12,
     "metadata": {},
     "output_type": "execute_result"
    }
   ],
   "source": [
    "_5H6 = Matrix([[cos(theta_3), -sin(theta_3), 0, 0], [sin(theta_3), cos(theta_3), 0, 0], [0, 0, 1, 0], [0, 0, 0, 1]])\n",
    "_5H6\n"
   ]
  },
  {
   "cell_type": "markdown",
   "id": "3f690c6f",
   "metadata": {},
   "source": [
    "Traslación l_3 desde la articulación 3 hasta el efector final (muñeca)"
   ]
  },
  {
   "cell_type": "code",
   "execution_count": 13,
   "id": "421b9c6e",
   "metadata": {},
   "outputs": [
    {
     "data": {
      "image/png": "[encoded data removed]",
      "text/latex": [
       "$\\displaystyle \\left[\\begin{matrix}1 & 0 & 0 & l_{3}\\\\0 & 1 & 0 & 0\\\\0 & 0 & 1 & 0\\\\0 & 0 & 0 & 1\\end{matrix}\\right]$"
      ],
      "text/plain": [
       "⎡1  0  0  l₃⎤\n",
       "⎢           ⎥\n",
       "⎢0  1  0  0 ⎥\n",
       "⎢           ⎥\n",
       "⎢0  0  1  0 ⎥\n",
       "⎢           ⎥\n",
       "⎣0  0  0  1 ⎦"
      ]
     },
     "execution_count": 13,
     "metadata": {},
     "output_type": "execute_result"
    }
   ],
   "source": [
    "_6H7 = Matrix([[1, 0, 0, l_3], [0, 1, 0, 0], [0, 0, 1, 0], [0, 0, 0, 1]])\n",
    "_6H7"
   ]
  },
  {
   "cell_type": "markdown",
   "id": "bd23ab63",
   "metadata": {},
   "source": [
    "Para encontrar la posición y la orientación del sistema de referencia W3 respecto a W0 se puede realizar la composición de las transformaciones de cada estado, así:"
   ]
  },
  {
   "cell_type": "code",
   "execution_count": 14,
   "id": "5799522d",
   "metadata": {},
   "outputs": [
    {
     "data": {
      "image/png": "[encoded data removed]",
      "text/latex": [
       "$\\displaystyle \\left[\\begin{matrix}- \\sin{\\left(\\theta_{2} \\right)} \\sin{\\left(\\theta_{3} \\right)} \\cos{\\left(\\theta_{1} \\right)} + \\cos{\\left(\\theta_{1} \\right)} \\cos{\\left(\\theta_{2} \\right)} \\cos{\\left(\\theta_{3} \\right)} & - \\sin{\\left(\\theta_{2} \\right)} \\cos{\\left(\\theta_{1} \\right)} \\cos{\\left(\\theta_{3} \\right)} - \\sin{\\left(\\theta_{3} \\right)} \\cos{\\left(\\theta_{1} \\right)} \\cos{\\left(\\theta_{2} \\right)} & \\sin{\\left(\\theta_{1} \\right)} & l_{2} \\cos{\\left(\\theta_{1} \\right)} \\cos{\\left(\\theta_{2} \\right)} + l_{3} \\left(- \\sin{\\left(\\theta_{2} \\right)} \\sin{\\left(\\theta_{3} \\right)} \\cos{\\left(\\theta_{1} \\right)} + \\cos{\\left(\\theta_{1} \\right)} \\cos{\\left(\\theta_{2} \\right)} \\cos{\\left(\\theta_{3} \\right)}\\right)\\\\- \\sin{\\left(\\theta_{1} \\right)} \\sin{\\left(\\theta_{2} \\right)} \\sin{\\left(\\theta_{3} \\right)} + \\sin{\\left(\\theta_{1} \\right)} \\cos{\\left(\\theta_{2} \\right)} \\cos{\\left(\\theta_{3} \\right)} & - \\sin{\\left(\\theta_{1} \\right)} \\sin{\\left(\\theta_{2} \\right)} \\cos{\\left(\\theta_{3} \\right)} - \\sin{\\left(\\theta_{1} \\right)} \\sin{\\left(\\theta_{3} \\right)} \\cos{\\left(\\theta_{2} \\right)} & - \\cos{\\left(\\theta_{1} \\right)} & l_{2} \\sin{\\left(\\theta_{1} \\right)} \\cos{\\left(\\theta_{2} \\right)} + l_{3} \\left(- \\sin{\\left(\\theta_{1} \\right)} \\sin{\\left(\\theta_{2} \\right)} \\sin{\\left(\\theta_{3} \\right)} + \\sin{\\left(\\theta_{1} \\right)} \\cos{\\left(\\theta_{2} \\right)} \\cos{\\left(\\theta_{3} \\right)}\\right)\\\\\\sin{\\left(\\theta_{2} \\right)} \\cos{\\left(\\theta_{3} \\right)} + \\sin{\\left(\\theta_{3} \\right)} \\cos{\\left(\\theta_{2} \\right)} & - \\sin{\\left(\\theta_{2} \\right)} \\sin{\\left(\\theta_{3} \\right)} + \\cos{\\left(\\theta_{2} \\right)} \\cos{\\left(\\theta_{3} \\right)} & 0 & l_{1} + l_{2} \\sin{\\left(\\theta_{2} \\right)} + l_{3} \\left(\\sin{\\left(\\theta_{2} \\right)} \\cos{\\left(\\theta_{3} \\right)} + \\sin{\\left(\\theta_{3} \\right)} \\cos{\\left(\\theta_{2} \\right)}\\right)\\\\0 & 0 & 0 & 1\\end{matrix}\\right]$"
      ],
      "text/plain": [
       "⎡-sin(θ₂)⋅sin(θ₃)⋅cos(θ₁) + cos(θ₁)⋅cos(θ₂)⋅cos(θ₃)  -sin(θ₂)⋅cos(θ₁)⋅cos(θ₃) \n",
       "⎢                                                                             \n",
       "⎢-sin(θ₁)⋅sin(θ₂)⋅sin(θ₃) + sin(θ₁)⋅cos(θ₂)⋅cos(θ₃)  -sin(θ₁)⋅sin(θ₂)⋅cos(θ₃) \n",
       "⎢                                                                             \n",
       "⎢        sin(θ₂)⋅cos(θ₃) + sin(θ₃)⋅cos(θ₂)                   -sin(θ₂)⋅sin(θ₃) \n",
       "⎢                                                                             \n",
       "⎣                        0                                                   0\n",
       "\n",
       "- sin(θ₃)⋅cos(θ₁)⋅cos(θ₂)  sin(θ₁)   l₂⋅cos(θ₁)⋅cos(θ₂) + l₃⋅(-sin(θ₂)⋅sin(θ₃)\n",
       "                                                                              \n",
       "- sin(θ₁)⋅sin(θ₃)⋅cos(θ₂)  -cos(θ₁)  l₂⋅sin(θ₁)⋅cos(θ₂) + l₃⋅(-sin(θ₁)⋅sin(θ₂)\n",
       "                                                                              \n",
       "+ cos(θ₂)⋅cos(θ₃)             0                l₁ + l₂⋅sin(θ₂) + l₃⋅(sin(θ₂)⋅c\n",
       "                                                                              \n",
       "                              0                                           1   \n",
       "\n",
       "⋅cos(θ₁) + cos(θ₁)⋅cos(θ₂)⋅cos(θ₃))⎤\n",
       "                                   ⎥\n",
       "⋅sin(θ₃) + sin(θ₁)⋅cos(θ₂)⋅cos(θ₃))⎥\n",
       "                                   ⎥\n",
       "os(θ₃) + sin(θ₃)⋅cos(θ₂))          ⎥\n",
       "                                   ⎥\n",
       "                                   ⎦"
      ]
     },
     "execution_count": 14,
     "metadata": {},
     "output_type": "execute_result"
    }
   ],
   "source": [
    "Hs =_0H1@_1H2@_2H3@_3H4@_4H5@_5H6@_6H7\n",
    "Hs"
   ]
  },
  {
   "cell_type": "code",
   "execution_count": 15,
   "id": "00f6459b",
   "metadata": {},
   "outputs": [
    {
     "data": {
      "image/png": "[encoded data removed]",
      "text/latex": [
       "$\\displaystyle \\left[\\begin{matrix}\\cos{\\left(\\theta_{1} \\right)} \\cos{\\left(\\theta_{2} + \\theta_{3} \\right)} & - \\sin{\\left(\\theta_{2} + \\theta_{3} \\right)} \\cos{\\left(\\theta_{1} \\right)} & \\sin{\\left(\\theta_{1} \\right)} & \\left(l_{2} \\cos{\\left(\\theta_{2} \\right)} + l_{3} \\cos{\\left(\\theta_{2} + \\theta_{3} \\right)}\\right) \\cos{\\left(\\theta_{1} \\right)}\\\\\\sin{\\left(\\theta_{1} \\right)} \\cos{\\left(\\theta_{2} + \\theta_{3} \\right)} & - \\sin{\\left(\\theta_{1} \\right)} \\sin{\\left(\\theta_{2} + \\theta_{3} \\right)} & - \\cos{\\left(\\theta_{1} \\right)} & \\left(l_{2} \\cos{\\left(\\theta_{2} \\right)} + l_{3} \\cos{\\left(\\theta_{2} + \\theta_{3} \\right)}\\right) \\sin{\\left(\\theta_{1} \\right)}\\\\\\sin{\\left(\\theta_{2} + \\theta_{3} \\right)} & \\cos{\\left(\\theta_{2} + \\theta_{3} \\right)} & 0 & l_{1} + l_{2} \\sin{\\left(\\theta_{2} \\right)} + l_{3} \\sin{\\left(\\theta_{2} + \\theta_{3} \\right)}\\\\0 & 0 & 0 & 1\\end{matrix}\\right]$"
      ],
      "text/plain": [
       "⎡cos(θ₁)⋅cos(θ₂ + θ₃)  -sin(θ₂ + θ₃)⋅cos(θ₁)  sin(θ₁)   (l₂⋅cos(θ₂) + l₃⋅cos(θ\n",
       "⎢                                                                             \n",
       "⎢sin(θ₁)⋅cos(θ₂ + θ₃)  -sin(θ₁)⋅sin(θ₂ + θ₃)  -cos(θ₁)  (l₂⋅cos(θ₂) + l₃⋅cos(θ\n",
       "⎢                                                                             \n",
       "⎢    sin(θ₂ + θ₃)          cos(θ₂ + θ₃)          0        l₁ + l₂⋅sin(θ₂) + l₃\n",
       "⎢                                                                             \n",
       "⎣         0                      0               0                        1   \n",
       "\n",
       "₂ + θ₃))⋅cos(θ₁)⎤\n",
       "                ⎥\n",
       "₂ + θ₃))⋅sin(θ₁)⎥\n",
       "                ⎥\n",
       "⋅sin(θ₂ + θ₃)   ⎥\n",
       "                ⎥\n",
       "                ⎦"
      ]
     },
     "execution_count": 15,
     "metadata": {},
     "output_type": "execute_result"
    }
   ],
   "source": [
    "H = simplify(_0H1@_1H2@_2H3@_3H4@_4H5@_5H6@_6H7)\n",
    "H"
   ]
  },
  {
   "cell_type": "markdown",
   "id": "2df636c5",
   "metadata": {},
   "source": [
    "Esta será la posición final de la muñeca en función de theta1, theta2, theta3, l1, l2 y l3"
   ]
  },
  {
   "cell_type": "code",
   "execution_count": 16,
   "id": "4f198ace",
   "metadata": {},
   "outputs": [
    {
     "data": {
      "image/png": "[encoded data removed]",
      "text/latex": [
       "$\\displaystyle \\left[\\begin{matrix}\\left(l_{2} \\cos{\\left(\\theta_{2} \\right)} + l_{3} \\cos{\\left(\\theta_{2} + \\theta_{3} \\right)}\\right) \\cos{\\left(\\theta_{1} \\right)}\\\\\\left(l_{2} \\cos{\\left(\\theta_{2} \\right)} + l_{3} \\cos{\\left(\\theta_{2} + \\theta_{3} \\right)}\\right) \\sin{\\left(\\theta_{1} \\right)}\\\\l_{1} + l_{2} \\sin{\\left(\\theta_{2} \\right)} + l_{3} \\sin{\\left(\\theta_{2} + \\theta_{3} \\right)}\\end{matrix}\\right]$"
      ],
      "text/plain": [
       "⎡(l₂⋅cos(θ₂) + l₃⋅cos(θ₂ + θ₃))⋅cos(θ₁)⎤\n",
       "⎢                                      ⎥\n",
       "⎢(l₂⋅cos(θ₂) + l₃⋅cos(θ₂ + θ₃))⋅sin(θ₁)⎥\n",
       "⎢                                      ⎥\n",
       "⎣  l₁ + l₂⋅sin(θ₂) + l₃⋅sin(θ₂ + θ₃)   ⎦"
      ]
     },
     "execution_count": 16,
     "metadata": {},
     "output_type": "execute_result"
    }
   ],
   "source": [
    "P = H[0:3, 3]\n",
    "P"
   ]
  },
  {
   "cell_type": "markdown",
   "id": "3b979bc4",
   "metadata": {},
   "source": [
    "Y esta será la orientación final de la muñeca en función theta1, theta2, theta3, l1, l2 y l3"
   ]
  },
  {
   "cell_type": "code",
   "execution_count": 17,
   "id": "eb8451af",
   "metadata": {},
   "outputs": [
    {
     "data": {
      "image/png": "[encoded data removed]",
      "text/latex": [
       "$\\displaystyle \\left[\\begin{matrix}\\cos{\\left(\\theta_{1} \\right)} \\cos{\\left(\\theta_{2} + \\theta_{3} \\right)} & - \\sin{\\left(\\theta_{2} + \\theta_{3} \\right)} \\cos{\\left(\\theta_{1} \\right)} & \\sin{\\left(\\theta_{1} \\right)}\\\\\\sin{\\left(\\theta_{1} \\right)} \\cos{\\left(\\theta_{2} + \\theta_{3} \\right)} & - \\sin{\\left(\\theta_{1} \\right)} \\sin{\\left(\\theta_{2} + \\theta_{3} \\right)} & - \\cos{\\left(\\theta_{1} \\right)}\\\\\\sin{\\left(\\theta_{2} + \\theta_{3} \\right)} & \\cos{\\left(\\theta_{2} + \\theta_{3} \\right)} & 0\\end{matrix}\\right]$"
      ],
      "text/plain": [
       "⎡cos(θ₁)⋅cos(θ₂ + θ₃)  -sin(θ₂ + θ₃)⋅cos(θ₁)  sin(θ₁) ⎤\n",
       "⎢                                                     ⎥\n",
       "⎢sin(θ₁)⋅cos(θ₂ + θ₃)  -sin(θ₁)⋅sin(θ₂ + θ₃)  -cos(θ₁)⎥\n",
       "⎢                                                     ⎥\n",
       "⎣    sin(θ₂ + θ₃)          cos(θ₂ + θ₃)          0    ⎦"
      ]
     },
     "execution_count": 17,
     "metadata": {},
     "output_type": "execute_result"
    }
   ],
   "source": [
    "R = H[0:3, 0:3]\n",
    "R"
   ]
  },
  {
   "cell_type": "markdown",
   "id": "88430ca1",
   "metadata": {},
   "source": [
    "## Taller\n",
    "\n",
    "Suponga un manipulador robotico con 3 grados de libertad. El brazo mide 40cm y el ante brazo mide 50cm. Los angulos de rotación no tienen restricciones. Suponga que la muñeca puede agarrar cualquier objeto que se encuentre a menos de 5cm de ella.\n",
    "\n",
    "* Determine al menos 2 configuraciones de theta1, theta2 y theta3 que permitan alcanzar un objeto en la posición x=45, y=36, z=22. Utilice fuerza bruta para ello o cualquier estrategia objetiva para conseguirlo.\n",
    "\n",
    "## Calificación\n",
    "\n",
    "Los tres grupos con el mejor avance antes de finalizar la clase tendrá puntos extras en la calificación del corte, así:\n",
    "\n",
    "* Mejor avance --> 0.3\n",
    "* Segundo mejor avance --> 0.2\n",
    "* Tercer mejor avance --> 0.1"
   ]
  },
  {
   "cell_type": "markdown",
   "id": "abeba4b9",
   "metadata": {},
   "source": []
  }
 ],
 "metadata": {
  "kernelspec": {
   "display_name": "Python 3 (ipykernel)",
   "language": "python",
   "name": "python3"
  },
  "language_info": {
   "codemirror_mode": {
    "name": "ipython",
    "version": 3
   },
   "file_extension": ".py",
   "mimetype": "text/x-python",
   "name": "python",
   "nbconvert_exporter": "python",
   "pygments_lexer": "ipython3",
   "version": "3.10.12"
  }
 },
 "nbformat": 4,
 "nbformat_minor": 5
}
